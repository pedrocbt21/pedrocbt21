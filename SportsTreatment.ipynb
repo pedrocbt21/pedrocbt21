{
  "cells": [
    {
      "cell_type": "markdown",
      "metadata": {
        "id": "view-in-github",
        "colab_type": "text"
      },
      "source": [
        "<a href=\"https://colab.research.google.com/github/pedrocbt21/pedrocbt21/blob/main/SportsTreatment.ipynb\" target=\"_parent\"><img src=\"https://colab.research.google.com/assets/colab-badge.svg\" alt=\"Open In Colab\"/></a>"
      ]
    },
    {
      "cell_type": "markdown",
      "metadata": {
        "id": "ZgtrmtCE7wF8"
      },
      "source": [
        "# Initial Functions\n",
        "\n",
        "1. Connect to API-SPORTS\n",
        "2. Get API_KEY from a secret file\n",
        "3. Create Folder If Not Exists *Function*\n",
        "4. Json to CSV *Function*\n",
        "5. CSV to Panda DataFrame *Function*"
      ]
    },
    {
      "cell_type": "markdown",
      "metadata": {
        "id": "uZvbgyskcqUU"
      },
      "source": [
        "## Ligação inicial à Api-Sports\n",
        "\n",
        "**Documentação**: https://www.api-football.com/documentation-v3"
      ]
    },
    {
      "cell_type": "code",
      "execution_count": null,
      "metadata": {
        "id": "rJ0Kcryw76SL"
      },
      "outputs": [],
      "source": [
        "#Importar as bibliotecas necessárias\n",
        "import http.client\n",
        "import json\n",
        "import pandas as pd\n",
        "import time\n",
        "from datetime import date\n",
        "from datetime import datetime\n",
        "from dateutil import parser\n",
        "\n",
        "timeToSleep = 0"
      ]
    },
    {
      "cell_type": "code",
      "execution_count": null,
      "metadata": {
        "id": "Rm_uqC1mInX6"
      },
      "outputs": [],
      "source": [
        "#Criação e inicialização de variáveis\n",
        "filePath = \"/content/drive/MyDrive/B2F_PC/PEDRO/Mestrado/Tese/Project/Files\""
      ]
    },
    {
      "cell_type": "code",
      "execution_count": null,
      "metadata": {
        "id": "ZabMQZ8hCQ1B"
      },
      "outputs": [],
      "source": [
        "# Ir buscar a api key ao ficheiro privado\n",
        "def get_keys(path):\n",
        "    with open(path) as f:\n",
        "        return json.load(f)\n",
        "\n",
        "keys = get_keys(\"/content/drive/MyDrive/B2F_PC/PEDRO/Mestrado/Tese/Project/Files/.secret/api_football.json\")\n",
        "api_key = keys['api_key']"
      ]
    },
    {
      "cell_type": "code",
      "execution_count": null,
      "metadata": {
        "id": "Z4WM7kQJDsmp"
      },
      "outputs": [],
      "source": [
        "url = \"v3.football.api-sports.io\"\n",
        "\n",
        "headers = {\n",
        "    'x-rapidapi-host': url,\n",
        "    'x-rapidapi-key': api_key\n",
        "    }"
      ]
    },
    {
      "cell_type": "markdown",
      "metadata": {
        "id": "2nHB0Gj1YNOs"
      },
      "source": [
        "## GET API SPORTS"
      ]
    },
    {
      "cell_type": "code",
      "execution_count": null,
      "metadata": {
        "id": "yN7PwFZ2YSGD"
      },
      "outputs": [],
      "source": [
        "def getApiSports(endPoint):\n",
        "  conn = http.client.HTTPSConnection(url)\n",
        "  #print(endPoint)\n",
        "  conn.request(\"GET\", \"/\" + endPoint, headers=headers)\n",
        "  res = conn.getresponse()\n",
        "  data = res.read()\n",
        "  string_response = data.decode(\"utf-8\")\n",
        "  #print(string_response)\n",
        "  json_obj = json.loads(string_response)\n",
        "  time.sleep(timeToSleep) # time sleep colocado para não ultrapassar os limites por minuto da API em questão caso necessário (450 por minuto no momento)\n",
        "  return json_obj"
      ]
    },
    {
      "cell_type": "markdown",
      "metadata": {
        "id": "sYJMx3JvaT3u"
      },
      "source": [
        "## Create Folder If Not Exists"
      ]
    },
    {
      "cell_type": "code",
      "execution_count": null,
      "metadata": {
        "id": "tU96QV8LaYk5"
      },
      "outputs": [],
      "source": [
        "import os\n",
        "\n",
        "def createFolder(finalPath):\n",
        "\n",
        "  path = filePath + \"/\" + finalPath\n",
        "\n",
        "  # Check whether the specified path exists or not\n",
        "  isExist = os.path.exists(path)\n",
        "\n",
        "  if not isExist:\n",
        "  \n",
        "    # Create a new directory because it does not exist \n",
        "    os.makedirs(path)\n",
        "    #print(\"The new directory is created!\")"
      ]
    },
    {
      "cell_type": "markdown",
      "metadata": {
        "id": "sVJoiYe9Y4sH"
      },
      "source": [
        "## JSON to CSV"
      ]
    },
    {
      "cell_type": "code",
      "execution_count": null,
      "metadata": {
        "id": "KtEG0uxOY_oW"
      },
      "outputs": [],
      "source": [
        "def jsonToCsv(jsonKey, finalPath, filename, jsonObj):\n",
        "  # Create dictionary of results for 'response' key ... /timezone\n",
        "  json_dict = jsonObj[jsonKey]\n",
        "  \n",
        "  json_df = pd.DataFrame.from_dict(json_dict)\n",
        "  # display(timezone_df) # caso seja para mostrar a informação é só descomentar esta linha\n",
        "\n",
        "  #criação do caminho onde o csv file vai ser guardado\n",
        "  jsoncsvfile = filePath + \"/\" + finalPath + \"/\" + filename + \".csv\"\n",
        "\n",
        "  #create folder if not exists \n",
        "  createFolder(finalPath)\n",
        "\n",
        "  #save into csv file\n",
        "  json_df.to_csv(jsoncsvfile, index=False)\n",
        "\n",
        "  return finalPath"
      ]
    },
    {
      "cell_type": "markdown",
      "metadata": {
        "id": "TUAVBimn4Hxr"
      },
      "source": [
        "## Save Json"
      ]
    },
    {
      "cell_type": "code",
      "execution_count": null,
      "metadata": {
        "id": "2rFwSMKi3_EI"
      },
      "outputs": [],
      "source": [
        "def saveJson(finalPath, filename, jsonObj):\n",
        "  #criação do caminho onde o csv file vai ser guardado\n",
        "  jsonfile = filePath + \"/\" + finalPath + \"/\" + filename + \".json\"\n",
        "\n",
        "  #create folder if not exists \n",
        "  createFolder(finalPath)\n",
        "\n",
        "  out_file = open(jsonfile, \"w\") \n",
        "    \n",
        "  json.dump(jsonObj, out_file, indent = 6) \n",
        "    \n",
        "  out_file.close() \n",
        "\n",
        "  return finalPath"
      ]
    },
    {
      "cell_type": "markdown",
      "metadata": {
        "id": "sd4K6Ri7JZNi"
      },
      "source": [
        "## CSV --> Panda DataFrame"
      ]
    },
    {
      "cell_type": "code",
      "execution_count": null,
      "metadata": {
        "id": "G7KsArP6HkaS"
      },
      "outputs": [],
      "source": [
        "def csvToDataFrame(fullPathFilename):\n",
        "  df = pd.read_csv(fullPathFilename)\n",
        "  return df\n",
        "  # display(timezone_df)"
      ]
    },
    {
      "cell_type": "markdown",
      "metadata": {
        "id": "VvaDxRhMrNRn"
      },
      "source": [
        "## Import Json"
      ]
    },
    {
      "cell_type": "code",
      "execution_count": null,
      "metadata": {
        "id": "Y284wexhrRe5"
      },
      "outputs": [],
      "source": [
        "def importJson(fullPath):\n",
        "  with open(f\"{filePath}/{fullPath}\") as f:\n",
        "    data = json.load(f)\n",
        "  return data"
      ]
    },
    {
      "cell_type": "markdown",
      "metadata": {
        "id": "PTPiR_pMXwpP"
      },
      "source": [
        "## TRY PARSE"
      ]
    },
    {
      "cell_type": "markdown",
      "metadata": {
        "id": "jEpqAvjuXzov"
      },
      "source": [
        "### DATE"
      ]
    },
    {
      "cell_type": "code",
      "execution_count": null,
      "metadata": {
        "id": "Vs473FWnX1rg"
      },
      "outputs": [],
      "source": [
        "def try_parse_date(dateFixture):\n",
        "    try:\n",
        "        return parser.parse(dateFixture).date()\n",
        "    except:\n",
        "        return print(date.today()+datetime.timedelta(days = 1)) "
      ]
    },
    {
      "cell_type": "markdown",
      "metadata": {
        "id": "oXnUsLj-H9SQ"
      },
      "source": [
        "# Timezone\n",
        "https://www.api-football.com/documentation-v3#tag/Timezone/operation/get-timezone"
      ]
    },
    {
      "cell_type": "code",
      "execution_count": null,
      "metadata": {
        "id": "Uw9XBQwM9RIv"
      },
      "outputs": [],
      "source": [
        "def getTimezonesToFile():\n",
        "  jsonTimezone = getApiSports(\"timezone\")\n",
        "  #jsonToCsv(\"response\", \"timezone\", \"timezone\", jsonTimezone)\n",
        "  saveJson(\"timezone\", \"timezone\", jsonTimezone)\n",
        "  return jsonTimezone"
      ]
    },
    {
      "cell_type": "markdown",
      "metadata": {
        "id": "TyT0U3ChV7h-"
      },
      "source": [
        "# Countries\n",
        "\n",
        "https://www.api-football.com/documentation-v3#tag/Countries"
      ]
    },
    {
      "cell_type": "code",
      "execution_count": null,
      "metadata": {
        "id": "4jXg9ixQWCLG"
      },
      "outputs": [],
      "source": [
        "def getCountriesToFile():\n",
        "  jsonCountries = getApiSports(\"countries\")\n",
        "  #jsonToCsv(\"response\", \"countries\", \"countries\", jsonCountries)\n",
        "  saveJson(\"countries\", \"countries\", jsonCountries)\n",
        "  return jsonCountries"
      ]
    },
    {
      "cell_type": "markdown",
      "metadata": {
        "id": "9x5hoIAEXxem"
      },
      "source": [
        "# Leagues\n",
        "\n",
        "https://www.api-football.com/documentation-v3#tag/Leagues/operation/get-leagues\n",
        "\n",
        "https://www.api-football.com/documentation-v3#tag/Leagues/operation/get-seasons"
      ]
    },
    {
      "cell_type": "code",
      "execution_count": null,
      "metadata": {
        "id": "101Hp-rxX87K"
      },
      "outputs": [],
      "source": [
        "def getLeaguesToFile():\n",
        "  jsonLeagues = getApiSports(\"leagues\")\n",
        "  #jsonToCsv(\"response\", \"leagues\", \"leagues\", jsonLeagues)\n",
        "  saveJson(\"leagues\", \"leagues\", jsonLeagues)\n",
        "  return jsonLeagues"
      ]
    },
    {
      "cell_type": "markdown",
      "metadata": {
        "id": "MGJzhwH5dXU_"
      },
      "source": [
        "## SEASON\n"
      ]
    },
    {
      "cell_type": "code",
      "execution_count": null,
      "metadata": {
        "id": "wedQsTvia7al"
      },
      "outputs": [],
      "source": [
        "def getSeasonsToFile():\n",
        "  jsonSeasons = getApiSports(\"leagues/seasons\")\n",
        "  #jsonToCsv(\"response\", \"leagues/seasons\", \"seasons\", jsonSeasons)\n",
        "  saveJson(\"leagues/seasons\", \"seasons\", jsonSeasons)\n",
        "  return jsonSeasons"
      ]
    },
    {
      "cell_type": "markdown",
      "metadata": {
        "id": "0aIQ3WfJDVxa"
      },
      "source": [
        "# Venue\n",
        "\n",
        "https://www.api-football.com/documentation-v3#tag/Venues/operation/get-venues\n",
        "\n",
        "Necessita do id do venue para os dados serem obtidos na API... Dados não relevantes para o nosso modelo.\n",
        "\n",
        "O id do venue pode ser encontrado na API team Information"
      ]
    },
    {
      "cell_type": "markdown",
      "metadata": {
        "id": "EPbSszqcsaz0"
      },
      "source": [
        "# Inicializar as Timezones/Countries/Leagues/Seasons\n",
        "\n",
        "**Deve ser atualizado uma vez por dia**"
      ]
    },
    {
      "cell_type": "code",
      "execution_count": null,
      "metadata": {
        "id": "QtOv6LMbOk92"
      },
      "outputs": [],
      "source": [
        "# É necessário 1 vez por dia\n",
        "#jsonTimezones = getTimezonesToFile()\n",
        "#jsonCountries = getCountriesToFile()\n",
        "#jsonLeagues = getLeaguesToFile()\n",
        "#jsonSeasons = getSeasonsToFile()\n",
        "\n",
        "jsonTimezones = importJson(\"timezone/timezone.json\")\n",
        "jsonCountries = importJson(\"countries/countries.json\")\n",
        "jsonLeagues = importJson(\"leagues/leagues.json\")\n",
        "jsonSeasons = importJson(\"leagues/seasons/seasons.json\")"
      ]
    },
    {
      "cell_type": "markdown",
      "metadata": {
        "id": "I9HyduXcdejb"
      },
      "source": [
        "# TEAMS\n",
        "\n",
        "**Deve ser atualizado uma vez por dia na season atual**\n",
        "\n",
        "https://www.api-football.com/documentation-v3#tag/Teams/operation/get-teams\n",
        "\n",
        "https://www.api-football.com/documentation-v3#tag/Teams/operation/get-teams-statistics\n",
        "\n",
        "https://www.api-football.com/documentation-v3#tag/Teams/operation/get-teams-seasons\n",
        "\n",
        "https://www.api-football.com/documentation-v3#tag/Teams/operation/get-teams-countries"
      ]
    },
    {
      "cell_type": "code",
      "execution_count": null,
      "metadata": {
        "id": "fK7CxhdBd7Ob"
      },
      "outputs": [],
      "source": [
        "def getTeamsInformation(season, leagueId):\n",
        "  teamsInformationUrl = \"teams?league=\" + str(leagueId) + \"&season=\" + str(season)\n",
        "  jsonLeagueSeason = getApiSports(teamsInformationUrl)\n",
        "  path = \"teams/league/\" + str(leagueId) + \"/\" + str(season)\n",
        "  filename = str(leagueId) + \"_\" + str(season) + \"_teams_information\"\n",
        "  #jsonToCsv(\"response\", path, filename, jsonLeagueSeason)\n",
        "  saveJson(path, filename, jsonLeagueSeason)\n",
        "  return jsonLeagueSeason"
      ]
    },
    {
      "cell_type": "code",
      "execution_count": null,
      "metadata": {
        "id": "Fc1MpYadHwD9"
      },
      "outputs": [],
      "source": [
        "def getAllSeasonLeagueInformation(jsonLeagues):\n",
        "  # Escolher as ligas a serem estudadas\n",
        "  leagueSeasons = jsonLeagues[\"response\"]\n",
        "  leaguesToSearch = [39,78,140,94,88,2,203,848,3,135,61]\n",
        "  # 61 --> Ligue 1 --> France\n",
        "  # 39 --> Premier League --> England\n",
        "  # 78 --> Bundesliga --> Germany\n",
        "  # 135 --> Serie A --> Italy\n",
        "  # 88 --> Eredivisie --> Netherlands\n",
        "  # 94 --> Primeira Liga --> Portugal\n",
        "  # 140 --> La Liga --> Spain\n",
        "  # 2 --> UEFA Champions League --> World\n",
        "  # 203 --> Süper Lig --> Turkey\n",
        "  # 3 --> UEFA Europa League --> World\n",
        "  # 848 --> UEFA Europa Conference League --> World\n",
        "\n",
        "  listOfSeasonLeague = []\n",
        "\n",
        "  for x in leagueSeasons:\n",
        "    if x[\"league\"][\"id\"] in leaguesToSearch:\n",
        "      for y in x[\"seasons\"]:\n",
        "        jsonLeagueSeason = \"{\\\"league\\\":\" + str(x[\"league\"][\"id\"]) + \" ,\\\"season\\\": \" + str(y[\"year\"]) + \"}\"\n",
        "        listOfSeasonLeague.append(jsonLeagueSeason)\n",
        "  \n",
        "  return listOfSeasonLeague"
      ]
    },
    {
      "cell_type": "code",
      "execution_count": null,
      "metadata": {
        "id": "XwQ9KqDzNVA6"
      },
      "outputs": [],
      "source": [
        "def getAllSeasonLeagueTeam(jsonLeagues):\n",
        "  allSeasonLeagueInformation = getAllSeasonLeagueInformation(jsonLeagues)\n",
        "  listOfSeasonLeagueTeams = []\n",
        "\n",
        "  for x in allSeasonLeagueInformation:\n",
        "    teamSeasonJson = json.loads(x)\n",
        "    jsonLeagueSeasonTeamResp = getTeamsInformation(teamSeasonJson[\"season\"],teamSeasonJson[\"league\"])\n",
        "    for team in jsonLeagueSeasonTeamResp[\"response\"]:\n",
        "      jsonLeagueSeasonTeam = \"{\\\"league\\\":\" + str(teamSeasonJson[\"league\"]) + \" ,\\\"season\\\": \" + str(teamSeasonJson[\"season\"]) + \" ,\\\"team\\\": \" + str(team[\"team\"][\"id\"]) + \"}\"\n",
        "      listOfSeasonLeagueTeams.append(str(jsonLeagueSeasonTeam))\n",
        "  saveJson(\"teams\", \"allSeasonLeagueTeam\", listOfSeasonLeagueTeams)\n",
        "  return listOfSeasonLeagueTeams"
      ]
    },
    {
      "cell_type": "code",
      "execution_count": null,
      "metadata": {
        "id": "KopphVI5tfY9"
      },
      "outputs": [],
      "source": [
        "def getTeamsStatistics(season, leagueId, teamId):\n",
        "  teamsStatisticsUrl = \"teams/statistics?season=\" + str(season) + \"&team=\" + str(teamId) + \"&league=\" + str(leagueId)\n",
        "  jsonLeagueSeasonTeamStatistics = getApiSports(teamsStatisticsUrl)\n",
        "  path = \"teams/league/\" + str(leagueId) + \"/\" + str(season)\n",
        "  filename = str(leagueId) + \"_\" + str(season) + \"_\" + str(teamId) + \"_team_statistics\"\n",
        "  saveJson(path, filename, jsonLeagueSeasonTeamStatistics)\n",
        "  return jsonLeagueSeasonTeamStatistics"
      ]
    },
    {
      "cell_type": "code",
      "execution_count": null,
      "metadata": {
        "id": "TPZVj2xmyqoC"
      },
      "outputs": [],
      "source": [
        "def getAllSeasonLeagueTeamStatistics(listOfSeasonLeagueTeams):\n",
        "  listOfSeasonLeagueTeamsStatistics = []\n",
        "  \n",
        "  for x in listOfSeasonLeagueTeams:\n",
        "    teamSeasonLeagueJson = json.loads(x)\n",
        "    jsonLeagueSeasonTeamStatisticsResp = getTeamsStatistics(teamSeasonLeagueJson[\"season\"],teamSeasonLeagueJson[\"league\"],teamSeasonLeagueJson[\"team\"])\n",
        "    listOfSeasonLeagueTeamsStatistics.append(str(jsonLeagueSeasonTeamStatisticsResp[\"response\"]))\n",
        "\n",
        "  return listOfSeasonLeagueTeamsStatistics"
      ]
    },
    {
      "cell_type": "code",
      "execution_count": null,
      "metadata": {
        "id": "ciG3NYnQzXg3"
      },
      "outputs": [],
      "source": [
        "#listOfSeasonLeagueTeams = getAllSeasonLeagueTeam(jsonLeagues)\n",
        "#listOfSeasonLeagueTeamsStatistics = getAllSeasonLeagueTeamStatistics(listOfSeasonLeagueTeams)\n",
        "listOfSeasonLeagueTeams = importJson(\"teams/allSeasonLeagueTeam.json\")"
      ]
    },
    {
      "cell_type": "markdown",
      "metadata": {
        "id": "dRCDRbhwYPfd"
      },
      "source": [
        "## Team Squad Players"
      ]
    },
    {
      "cell_type": "code",
      "execution_count": null,
      "metadata": {
        "id": "YfpGIc3LYD9w"
      },
      "outputs": [],
      "source": [
        "def getTeamSquad(season, leagueId, teamId):\n",
        "  teamSquadUrl = \"players/squads?team=\" + str(teamId)\n",
        "  jsonLeagueSeasonTeamSquad = getApiSports(teamSquadUrl)\n",
        "  path = \"teams/league/\" + str(leagueId) + \"/\" + str(season)\n",
        "  filename = str(leagueId) + \"_\" + str(season) + \"_\" + str(teamId) + \"_team_squad\"\n",
        "  saveJson(path, filename, jsonLeagueSeasonTeamSquad)\n",
        "  return jsonLeagueSeasonTeamSquad"
      ]
    },
    {
      "cell_type": "code",
      "execution_count": null,
      "metadata": {
        "id": "LtoUfOCXYEEx"
      },
      "outputs": [],
      "source": [
        "def getAllLeagueTeamsSquad(listOfSeasonLeagueTeams):\n",
        "  listOfSeasonLeagueTeamsSquad = []\n",
        "  \n",
        "  for x in listOfSeasonLeagueTeams:\n",
        "    teamSeasonLeagueJson = json.loads(x)\n",
        "    jsonLeagueSeasonTeamSquadResp = getTeamSquad(teamSeasonLeagueJson[\"season\"],teamSeasonLeagueJson[\"league\"],teamSeasonLeagueJson[\"team\"])\n",
        "    listOfSeasonLeagueTeamsSquad.append(str(jsonLeagueSeasonTeamSquadResp[\"response\"]))\n",
        "\n",
        "  return listOfSeasonLeagueTeamsSquad"
      ]
    },
    {
      "cell_type": "code",
      "execution_count": null,
      "metadata": {
        "id": "HC3oZ18dYHI9"
      },
      "outputs": [],
      "source": [
        "#listOfSeasonLeagueTeams = importJson(\"teams/allSeasonLeagueTeam.json\")\n",
        "#currentlySeason = 2022\n",
        "#listOfSeasonLeagueTeamsFiltered = [x for x in listOfSeasonLeagueTeams if json.loads(x)[\"season\"] == currentlySeason]\n",
        "#listOfSeasonLeagueTeamsSquad = getAllLeagueTeamsSquad(listOfSeasonLeagueTeamsFiltered)"
      ]
    },
    {
      "cell_type": "markdown",
      "metadata": {
        "id": "-oKqMKUtEMhL"
      },
      "source": [
        "# Standings\n",
        "\n",
        "**Deve ser atualizado uma vez por dia na season atual**\n",
        "\n",
        "https://www.api-football.com/documentation-v3#tag/Standings"
      ]
    },
    {
      "cell_type": "code",
      "execution_count": null,
      "metadata": {
        "id": "93CcgNq8EXDz"
      },
      "outputs": [],
      "source": [
        "def getSeasonStandings(season, leagueId):\n",
        "  seasonStandingsUrl = \"standings?season=\" + str(season) + \"&league=\" + str(leagueId)\n",
        "  jsonLeagueSeasonStandings = getApiSports(seasonStandingsUrl)\n",
        "  path = \"standing/league/\" + str(leagueId) + \"/\" + str(season)\n",
        "  filename = str(leagueId) + \"_\" + str(season) + \"_season_standings\"\n",
        "  saveJson(path, filename, jsonLeagueSeasonStandings)\n",
        "  return jsonLeagueSeasonStandings"
      ]
    },
    {
      "cell_type": "code",
      "execution_count": null,
      "metadata": {
        "id": "l4GDqVk-FoTY"
      },
      "outputs": [],
      "source": [
        "def getAllSeasonStandings(listOfSeasonLeague):\n",
        "  listOfSeasonLeagueStandings = []\n",
        "\n",
        "  for x in listOfSeasonLeague:\n",
        "    teamSeasonLeagueJson = json.loads(x)\n",
        "    jsonLeagueSeasonStandingsResp = getSeasonStandings(teamSeasonLeagueJson[\"season\"],teamSeasonLeagueJson[\"league\"])\n",
        "    \n",
        "    listOfSeasonLeagueStandings.append(str(jsonLeagueSeasonStandingsResp[\"response\"]))\n",
        "  saveJson(\"standing\", \"allSeasonLeagueStanding\", listOfSeasonLeagueStandings)\n",
        "  return listOfSeasonLeagueStandings"
      ]
    },
    {
      "cell_type": "code",
      "execution_count": null,
      "metadata": {
        "id": "mjySVA5hGJk3"
      },
      "outputs": [],
      "source": [
        "#listOfSeasonLeague = getAllSeasonLeagueInformation(jsonLeagues)\n",
        "#listOfSeasonLeagueStandings = getAllSeasonStandings(listOfSeasonLeague)\n",
        "listOfSeasonLeagueStandings = importJson(\"standing/allSeasonLeagueStanding.json\")"
      ]
    },
    {
      "cell_type": "markdown",
      "metadata": {
        "id": "Vjf9RjzmKmgv"
      },
      "source": [
        "# Fixtures\n",
        "\n",
        "**Update Frequency** : This endpoint is updated every 15 seconds.\n",
        "\n",
        "**Recommended Calls** : 1 call per minute for the leagues, teams, fixtures who have at least one fixture in progress otherwise 1 call per day.\n",
        "\n",
        "https://www.api-football.com/documentation-v3#tag/Fixtures"
      ]
    },
    {
      "cell_type": "code",
      "execution_count": null,
      "metadata": {
        "id": "xJvxnA_JUNtF"
      },
      "outputs": [],
      "source": [
        "def getFixturesLive(leagueId):\n",
        "  fixturesRoundsLiveUrl = f\"fixtures?live=all&league={str(leagueId)}\"\n",
        "  jsonFixturesLive = getApiSports(fixturesRoundsLiveUrl)\n",
        "  return jsonFixturesLive"
      ]
    },
    {
      "cell_type": "code",
      "execution_count": null,
      "metadata": {
        "id": "ler2OwApKr5B"
      },
      "outputs": [],
      "source": [
        "def getFixtures(season, leagueId):\n",
        "  fixturesRoundsUrl = f\"fixtures?season={str(season)}&league={str(leagueId)}\"\n",
        "  jsonFixtures = getApiSports(fixturesRoundsUrl)\n",
        "  path = f\"fixtures/league/{str(leagueId)}/{str(season)}\"\n",
        "  filename = f\"{str(leagueId)}_{str(season)}_fixtures\"\n",
        "  saveJson(path, filename, jsonFixtures)\n",
        "  return jsonFixtures"
      ]
    },
    {
      "cell_type": "code",
      "execution_count": null,
      "metadata": {
        "id": "iMWF9_snMpDP"
      },
      "outputs": [],
      "source": [
        "def getAllFixtures(listOfSeasonLeague):\n",
        "  listOfSeasonLeagueFixtures = []\n",
        "\n",
        "  for x in listOfSeasonLeague:\n",
        "    fixtureSeasonLeagueJson = json.loads(x)\n",
        "    jsonSeasonLeagueFixturesResp = getFixtures(fixtureSeasonLeagueJson[\"season\"],fixtureSeasonLeagueJson[\"league\"])\n",
        "    for y in jsonSeasonLeagueFixturesResp[\"response\"]:\n",
        "      jsonSeasonLeagueFixtures = \"{\\\"fixture\\\":\" + str(y[\"fixture\"][\"id\"]) + \" ,\\\"league\\\": \" + str(y[\"league\"][\"id\"]) + \" ,\\\"season\\\": \" + str(y[\"league\"][\"season\"]) + \" ,\\\"team1\\\": \" + str(y[\"teams\"][\"home\"][\"id\"]) + \" ,\\\"team2\\\": \" + str(y[\"teams\"][\"away\"][\"id\"]) + \" ,\\\"date\\\": \\\"\" + str(y[\"fixture\"][\"date\"][:len(y[\"fixture\"][\"date\"])-15]) + \"\\\"}\"\n",
        "      listOfSeasonLeagueFixtures.append(str(jsonSeasonLeagueFixtures))\n",
        "  \n",
        "  saveJson(\"fixtures\", \"allSeasonLeagueFixtures\", listOfSeasonLeagueFixtures)\n",
        "  return listOfSeasonLeagueFixtures"
      ]
    },
    {
      "cell_type": "code",
      "execution_count": null,
      "metadata": {
        "id": "vbjKorzOPJOQ"
      },
      "outputs": [],
      "source": [
        "#listOfSeasonLeagueFixtures = getAllFixtures(listOfSeasonLeague)\n",
        "listOfSeasonLeague = getAllSeasonLeagueInformation(jsonLeagues)\n",
        "listOfSeasonLeagueFixtures = importJson(\"fixtures/allSeasonLeagueFixtures.json\")"
      ]
    },
    {
      "cell_type": "code",
      "execution_count": null,
      "metadata": {
        "id": "KYLIbMoEUkWK"
      },
      "outputs": [],
      "source": [
        "#jsonFixturesLive = getFixturesLive(169) #liga chinesa teste"
      ]
    },
    {
      "cell_type": "markdown",
      "metadata": {
        "id": "qcRbr-6jT-N1"
      },
      "source": [
        "## Fixtures H2H\n",
        "Podemos ir buscar o historico (mas esta api será mais usada no momento do confronto entre equipas do dia seguinte por exemplo)\n",
        "\n",
        "**Update Frequency** : This endpoint is updated every 15 seconds.\n",
        "\n",
        "**Recommended Calls** : 1 call per minute for the leagues, teams, fixtures who have at least one fixture in progress otherwise 1 call per day.\n",
        "\n",
        "https://www.api-football.com/documentation-v3#tag/Fixtures/operation/get-fixtures-headtohead"
      ]
    },
    {
      "cell_type": "code",
      "execution_count": null,
      "metadata": {
        "id": "_9HbsZCFUEw-"
      },
      "outputs": [],
      "source": [
        "def getFixturesH2H(teamId1, teamId2, fromDate, toDate):\n",
        "  fixtureH2HUrl = \"fixtures/headtohead?h2h=\" + str(teamId1) + \"-\" + str(teamId2) + \"&from=\" + fromDate + \"&to=\" + toDate\n",
        "  jsonFixturesH2H = getApiSports(fixtureH2HUrl)\n",
        "  return jsonFixturesH2H\n",
        "\n",
        "def getFixturesH2HSaveJson(fixtureId, leagueId, season, teamId1, teamId2, fromDate, toDate):\n",
        "  jsonFixturesH2HAux = getFixturesH2H(teamId1, teamId2, fromDate, toDate)\n",
        "  path = \"fixtures/league/\" + str(leagueId) + \"/\" + str(season) + \"/\" + str(fixtureId)\n",
        "  filename = str(leagueId) + \"_\" + str(season) + \"_\" + str(fixtureId) + \"_fixtures_h2h\"\n",
        "  saveJson(path, filename, jsonFixturesH2HAux)\n",
        "  return jsonFixturesH2HAux"
      ]
    },
    {
      "cell_type": "code",
      "execution_count": null,
      "metadata": {
        "id": "VvFpZPuUnAq4"
      },
      "outputs": [],
      "source": [
        "def getAllFixturesH2H(listOfSeasonLeagueFixtures, fromDate):\n",
        "  listOfSeasonLeagueFixturesH2H = []\n",
        "  for x in listOfSeasonLeagueFixtures:\n",
        "    fixtureSeasonLeagueJson = json.loads(x) \n",
        "    if parser.parse(fixtureSeasonLeagueJson[\"date\"]).date() <= date.today():\n",
        "      jsonSeasonLeagueFixturesH2HResp = getFixturesH2HSaveJson(fixtureSeasonLeagueJson[\"fixture\"],fixtureSeasonLeagueJson[\"league\"],fixtureSeasonLeagueJson[\"season\"],fixtureSeasonLeagueJson[\"team1\"],fixtureSeasonLeagueJson[\"team2\"], fromDate, fixtureSeasonLeagueJson[\"date\"])\n",
        "      #listOfSeasonLeagueFixturesH2H.append(jsonSeasonLeagueFixturesH2HResp) #demasiadas fixtures para ficarem guardadas numa variável\n",
        "  return listOfSeasonLeagueFixtures"
      ]
    },
    {
      "cell_type": "code",
      "execution_count": null,
      "metadata": {
        "id": "d9gtlG1Pjppl"
      },
      "outputs": [],
      "source": [
        "#getFixturesH2H(417,194,\"2011-12-11\",\"2011-12-11\") #as datas from e to são inclusives\n",
        "#getAllFixturesH2H(listOfSeasonLeagueFixtures,\"2000-01-01\")"
      ]
    },
    {
      "cell_type": "markdown",
      "metadata": {
        "id": "9683CLqoVriu"
      },
      "source": [
        "## Fixtures Statistics\n",
        "\n",
        "**Update Frequency** : This endpoint is updated every minute.\n",
        "\n",
        "**Recommended Calls** : 1 call every minute for the teams or fixtures who have at least one fixture in progress otherwise 1 call per day.\n",
        "\n",
        "https://www.api-football.com/documentation-v3#tag/Fixtures/operation/get-fixtures-statistics"
      ]
    },
    {
      "cell_type": "code",
      "execution_count": null,
      "metadata": {
        "id": "s722sGbuVzw4"
      },
      "outputs": [],
      "source": [
        "def getFixturesStatistics(fixtureId):\n",
        "  fixtureRoundsStatisticsUrl = \"fixtures/statistics?fixture=\" + str(fixtureId)\n",
        "  jsonFixturesStatistics = getApiSports(fixtureRoundsStatisticsUrl)\n",
        "  return jsonFixturesStatistics\n",
        "\n",
        "def getFixturesStatisticsSaveJson(fixtureId, leagueId, season):\n",
        "  jsonFixturesStatisticsAux = getFixturesStatistics(fixtureId)\n",
        "  path = \"fixtures/league/\" + str(leagueId) + \"/\" + str(season) + \"/\" + str(fixtureId)\n",
        "  filename = str(leagueId) + \"_\" + str(season) + \"_\" + str(fixtureId) + \"_fixtures_statistics\"\n",
        "  saveJson(path, filename, jsonFixturesStatisticsAux)\n",
        "  return jsonFixturesStatisticsAux"
      ]
    },
    {
      "cell_type": "code",
      "execution_count": null,
      "metadata": {
        "id": "AzrwCOZPBjC6"
      },
      "outputs": [],
      "source": [
        "def getAllFixturesStatistics(listOfSeasonLeagueFixtures):\n",
        "  listOfSeasonLeagueFixturesStatistics = []\n",
        "  for x in listOfSeasonLeagueFixtures:\n",
        "    fixtureSeasonLeagueJson = json.loads(x) \n",
        "    if parser.parse(fixtureSeasonLeagueJson[\"date\"]).date() <= date.today():\n",
        "      jsonSeasonLeagueFixturesStatisticsResp = getFixturesStatisticsSaveJson(fixtureSeasonLeagueJson[\"fixture\"],fixtureSeasonLeagueJson[\"league\"],fixtureSeasonLeagueJson[\"season\"])\n",
        "      #listOfSeasonLeagueFixturesStatistics.append(jsonSeasonLeagueFixturesStatisticsResp) #demasiadas fixtures para ficarem guardadas numa variável\n",
        "  return listOfSeasonLeagueFixturesStatistics"
      ]
    },
    {
      "cell_type": "code",
      "execution_count": null,
      "metadata": {
        "id": "lvRPhOwvHI21"
      },
      "outputs": [],
      "source": [
        "#lstLeagues = [2,3]\n",
        "#lstSeasons = [2021,2022] \n",
        "#lstSeasons = [2010,2011,2012,2013,2014,2015,2016,2017,2018,2019,2020,2021,2022]\n",
        "#listOfSeasonLeagueFixturesFiltered = [x for x in listOfSeasonLeagueFixtures if json.loads(x)[\"league\"] in lstLeagues and json.loads(x)[\"season\"] in lstSeasons]\n",
        "#getAllFixturesStatistics(listOfSeasonLeagueFixturesFiltered)"
      ]
    },
    {
      "cell_type": "markdown",
      "metadata": {
        "id": "Y_6ic73TE44S"
      },
      "source": [
        "## Fixtures Events\n",
        "\n",
        "VAR events are available from the 2020-2021 season.\n",
        "\n",
        "**Update Frequency** : This endpoint is updated every 15 seconds.\n",
        "\n",
        "**Recommended Calls** : 1 call per minute for the fixtures in progress otherwise 1 call per day.\n",
        "\n",
        "https://www.api-football.com/documentation-v3#tag/Fixtures/operation/get-fixtures-events"
      ]
    },
    {
      "cell_type": "code",
      "execution_count": null,
      "metadata": {
        "id": "2B4i5n9OE44S"
      },
      "outputs": [],
      "source": [
        "def getFixturesEvents(fixtureId):\n",
        "  fixtureRoundsEventsUrl = \"fixtures/events?fixture=\" + str(fixtureId)\n",
        "  jsonFixturesEvents = getApiSports(fixtureRoundsEventsUrl)\n",
        "  return jsonFixturesEvents\n",
        "\n",
        "def getFixturesEventsSaveJson(fixtureId, leagueId, season):\n",
        "  jsonFixturesEventsAux = getFixturesEvents(fixtureId)\n",
        "  path = \"fixtures/league/\" + str(leagueId) + \"/\" + str(season) + \"/\" + str(fixtureId)\n",
        "  filename = str(leagueId) + \"_\" + str(season) + \"_\" + str(fixtureId) + \"_fixtures_events\"\n",
        "  saveJson(path, filename, jsonFixturesEventsAux)\n",
        "  return jsonFixturesEventsAux"
      ]
    },
    {
      "cell_type": "code",
      "execution_count": null,
      "metadata": {
        "id": "KpfydXuwE44S"
      },
      "outputs": [],
      "source": [
        "def getAllFixturesEvents(listOfSeasonLeagueFixtures):\n",
        "  listOfSeasonLeagueFixturesEvents = []\n",
        "  for x in listOfSeasonLeagueFixtures:\n",
        "    fixtureSeasonLeagueJson = json.loads(x) \n",
        "    if parser.parse(fixtureSeasonLeagueJson[\"date\"]).date() <= date.today():\n",
        "      jsonSeasonLeagueFixturesEventsResp = getFixturesEventsSaveJson(fixtureSeasonLeagueJson[\"fixture\"],fixtureSeasonLeagueJson[\"league\"],fixtureSeasonLeagueJson[\"season\"])\n",
        "      #listOfSeasonLeagueFixturesEvents.append(jsonSeasonLeagueFixturesEventsResp) #demasiadas fixtures para ficarem guardadas numa variável\n",
        "  return listOfSeasonLeagueFixturesEvents"
      ]
    },
    {
      "cell_type": "code",
      "execution_count": null,
      "metadata": {
        "id": "RDN_bSqxHL9X"
      },
      "outputs": [],
      "source": [
        "#lstLeagues = [78,203,848]\n",
        "#lstSeasons = [2016,2017,2018,2019,2020,2021,2022] \n",
        "#lstSeasons = [2010,2011,2012,2013,2014,2015,2016,2017,2018,2019,2020,2021,2022]\n",
        "#listOfSeasonLeagueFixturesFiltered = [x for x in listOfSeasonLeagueFixtures if json.loads(x)[\"league\"] in lstLeagues and json.loads(x)[\"season\"] in lstSeasons]\n",
        "#getAllFixturesEvents(listOfSeasonLeagueFixturesFiltered)"
      ]
    },
    {
      "cell_type": "markdown",
      "metadata": {
        "id": "3iSYsa4pFqk7"
      },
      "source": [
        "## Fixtures Lineups\n",
        "\n",
        "**Update Frequency** : This endpoint is updated every 15 minutes.\n",
        "\n",
        "**Recommended Calls** : 1 call every 15 minutes for the fixtures in progress otherwise 1 call per day.\n",
        "\n",
        "https://www.api-football.com/documentation-v3#tag/Fixtures/operation/get-fixtures-lineups"
      ]
    },
    {
      "cell_type": "code",
      "execution_count": null,
      "metadata": {
        "id": "7YUzxZ9tFqlC"
      },
      "outputs": [],
      "source": [
        "def getFixturesLineups(fixtureId):\n",
        "  fixtureRoundsLineupsUrl = \"fixtures/lineups?fixture=\" + str(fixtureId)\n",
        "  jsonFixturesLineups = getApiSports(fixtureRoundsLineupsUrl)\n",
        "  return jsonFixturesLineups\n",
        "\n",
        "def getFixturesLineupsSaveJson(fixtureId, leagueId, season):\n",
        "  jsonFixturesLineupsAux = getFixturesLineups(fixtureId)\n",
        "  path = \"fixtures/league/\" + str(leagueId) + \"/\" + str(season) + \"/\" + str(fixtureId)\n",
        "  filename = str(leagueId) + \"_\" + str(season) + \"_\" + str(fixtureId) + \"_fixtures_lineups\"\n",
        "  saveJson(path, filename, jsonFixturesLineupsAux)\n",
        "  return jsonFixturesLineupsAux"
      ]
    },
    {
      "cell_type": "code",
      "execution_count": null,
      "metadata": {
        "id": "3HQGqjzBFqlC"
      },
      "outputs": [],
      "source": [
        "def getAllFixturesLineups(listOfSeasonLeagueFixtures):\n",
        "  listOfSeasonLeagueFixturesLineups = []\n",
        "  for x in listOfSeasonLeagueFixtures:\n",
        "    fixtureSeasonLeagueJson = json.loads(x) \n",
        "    if parser.parse(fixtureSeasonLeagueJson[\"date\"]).date() <= date.today():\n",
        "      jsonSeasonLeagueFixturesLineupsResp = getFixturesLineupsSaveJson(fixtureSeasonLeagueJson[\"fixture\"],fixtureSeasonLeagueJson[\"league\"],fixtureSeasonLeagueJson[\"season\"])\n",
        "      #listOfSeasonLeagueFixturesLineups.append(jsonSeasonLeagueFixturesLineupsResp) #demasiadas fixtures para ficarem guardadas numa variável\n",
        "  return listOfSeasonLeagueFixturesLineups"
      ]
    },
    {
      "cell_type": "code",
      "execution_count": null,
      "metadata": {
        "id": "UTtF2OmpHOkz"
      },
      "outputs": [],
      "source": [
        "#lstLeagues = [135,88]\n",
        "#lstSeasons = [2016,2017,2018,2019,2020,2021,2022] \n",
        "#lstSeasons = [2010,2011,2012,2013,2014,2015,2016,2017,2018,2019,2020,2021,2022]\n",
        "#listOfSeasonLeagueFixturesFiltered = [x for x in listOfSeasonLeagueFixtures if json.loads(x)[\"league\"] in lstLeagues and json.loads(x)[\"season\"] in lstSeasons]\n",
        "#getAllFixturesLineups(listOfSeasonLeagueFixturesFiltered)"
      ]
    },
    {
      "cell_type": "markdown",
      "metadata": {
        "id": "ks9mjtXiHRMD"
      },
      "source": [
        "## Fixtures Players Statistics\n",
        "\n",
        "Get the players statistics from one fixture.\n",
        "\n",
        "**Update Frequency** : This endpoint is updated every minute.\n",
        "\n",
        "**Recommended Calls** : 1 call every minute for the fixtures in progress otherwise 1 call per day.\n",
        "\n",
        "https://www.api-football.com/documentation-v3#tag/Fixtures/operation/get-fixtures-players"
      ]
    },
    {
      "cell_type": "code",
      "execution_count": null,
      "metadata": {
        "id": "1Z3HYYTAHRMD"
      },
      "outputs": [],
      "source": [
        "def getFixturesPlayersStatistics(fixtureId):\n",
        "  fixtureRoundsPlayersStatisticsUrl = \"fixtures/players?fixture=\" + str(fixtureId)\n",
        "  jsonFixturesPlayersStatistics = getApiSports(fixtureRoundsPlayersStatisticsUrl)\n",
        "  return jsonFixturesPlayersStatistics\n",
        "\n",
        "def getFixturesPlayersStatisticsSaveJson(fixtureId, leagueId, season):\n",
        "  jsonFixturesPlayersStatisticsAux = getFixturesPlayersStatistics(fixtureId)\n",
        "  path = \"fixtures/league/\" + str(leagueId) + \"/\" + str(season) + \"/\" + str(fixtureId)\n",
        "  filename = str(leagueId) + \"_\" + str(season) + \"_\" + str(fixtureId) + \"_fixtures_players_statistics\"\n",
        "  saveJson(path, filename, jsonFixturesPlayersStatisticsAux)\n",
        "  return jsonFixturesPlayersStatisticsAux"
      ]
    },
    {
      "cell_type": "code",
      "execution_count": null,
      "metadata": {
        "id": "F5_c-ZgxHRMD"
      },
      "outputs": [],
      "source": [
        "def getAllFixturesPlayersStatistics(listOfSeasonLeagueFixtures):\n",
        "  listOfSeasonLeagueFixturesPlayersStatistics = []\n",
        "  for x in listOfSeasonLeagueFixtures:\n",
        "    fixtureSeasonLeagueJson = json.loads(x) \n",
        "    if parser.parse(fixtureSeasonLeagueJson[\"date\"]).date() <= date.today():\n",
        "      jsonSeasonLeagueFixturesPlayersStatisticsResp = getFixturesPlayersStatisticsSaveJson(fixtureSeasonLeagueJson[\"fixture\"],fixtureSeasonLeagueJson[\"league\"],fixtureSeasonLeagueJson[\"season\"])\n",
        "      #listOfSeasonLeagueFixturesPlayersStatistics.append(jsonSeasonLeagueFixturesPlayersStatisticsResp) #demasiadas fixtures para ficarem guardadas numa variável\n",
        "  return listOfSeasonLeagueFixturesPlayersStatistics"
      ]
    },
    {
      "cell_type": "code",
      "execution_count": null,
      "metadata": {
        "id": "xqpX2_UBHRME"
      },
      "outputs": [],
      "source": [
        "#timeToSleep = 0 #esta api demora algum tempo a guardar o json logo não é necessário colocar um tempo de espera\n",
        "#lstLeagues = [88]\n",
        "#lstSeasons = [2019,2020,2021,2022] \n",
        "#lstSeasons = [2010,2011,2012,2013,2014,2015,2016,2017,2018,2019,2020,2021,2022]\n",
        "#listOfSeasonLeagueFixturesFiltered = [x for x in listOfSeasonLeagueFixtures if json.loads(x)[\"league\"] in lstLeagues and json.loads(x)[\"season\"] in lstSeasons]\n",
        "#getAllFixturesPlayersStatistics(listOfSeasonLeagueFixturesFiltered)"
      ]
    },
    {
      "cell_type": "markdown",
      "metadata": {
        "id": "hHIEfrGdN_I6"
      },
      "source": [
        "## Fixtures Predictions\n",
        "\n",
        "**Update Frequency** : This endpoint is updated every hour.\n",
        "\n",
        "**Recommended Calls** : 1 call per hour for the fixtures in progress otherwise 1 call per day.\n",
        "\n",
        "https://www.api-football.com/documentation-v3#tag/Predictions/operation/get-predictions"
      ]
    },
    {
      "cell_type": "code",
      "execution_count": null,
      "metadata": {
        "id": "V0qUQkWZN_JN"
      },
      "outputs": [],
      "source": [
        "def getFixturesPredictions(fixtureId):\n",
        "  fixtureRoundsPredictionsUrl = \"predictions?fixture=\" + str(fixtureId)\n",
        "  jsonFixturesPredictions = getApiSports(fixtureRoundsPredictionsUrl)\n",
        "  return jsonFixturesPredictions\n",
        "\n",
        "def getFixturesPredictionsSaveJson(fixtureId, leagueId, season):\n",
        "  jsonFixturesPredictionsAux = getFixturesPredictions(fixtureId)\n",
        "  path = \"fixtures/league/\" + str(leagueId) + \"/\" + str(season) + \"/\" + str(fixtureId)\n",
        "  filename = str(leagueId) + \"_\" + str(season) + \"_\" + str(fixtureId) + \"_fixtures_predictions\"\n",
        "  saveJson(path, filename, jsonFixturesPredictionsAux)\n",
        "  return jsonFixturesPredictionsAux"
      ]
    },
    {
      "cell_type": "code",
      "execution_count": null,
      "metadata": {
        "id": "qLCSiRU0N_JN"
      },
      "outputs": [],
      "source": [
        "def getAllFixturesPredictions(listOfSeasonLeagueFixtures):\n",
        "  listOfSeasonLeagueFixturesPredictions = []\n",
        "  for x in listOfSeasonLeagueFixtures:\n",
        "    fixtureSeasonLeagueJson = json.loads(x) \n",
        "    if parser.parse(fixtureSeasonLeagueJson[\"date\"]).date() <= date.today():\n",
        "      jsonSeasonLeagueFixturesPredictionsResp = getFixturesPredictionsSaveJson(fixtureSeasonLeagueJson[\"fixture\"],fixtureSeasonLeagueJson[\"league\"],fixtureSeasonLeagueJson[\"season\"])\n",
        "      #listOfSeasonLeagueFixturesPredictions.append(jsonSeasonLeagueFixturesPredictionsResp) #demasiadas fixtures para ficarem guardadas numa variável\n",
        "  return listOfSeasonLeagueFixturesPredictions"
      ]
    },
    {
      "cell_type": "code",
      "execution_count": null,
      "metadata": {
        "id": "CF_966EDN_JO"
      },
      "outputs": [],
      "source": [
        "#timeToSleep = 0.02 #esta api demora algum tempo a guardar o json logo não é necessário colocar um tempo de espera\n",
        "#lstLeagues = [39,135,88,94]\n",
        "#lstSeasons = [2019,2020,2021,2022] \n",
        "#lstSeasons = [2010,2011,2012,2013,2014,2015,2016,2017,2018,2019,2020,2021,2022]\n",
        "#listOfSeasonLeagueFixturesFiltered = [x for x in listOfSeasonLeagueFixtures if json.loads(x)[\"league\"] in lstLeagues and json.loads(x)[\"season\"] in lstSeasons]\n",
        "#getAllFixturesPredictions(listOfSeasonLeagueFixturesFiltered)"
      ]
    },
    {
      "cell_type": "markdown",
      "metadata": {
        "id": "yiKFBJHw_73C"
      },
      "source": [
        "## Fixtures Injuries\n",
        "\n",
        "**This endpoint requires at least one parameter.**\n",
        "\n",
        "**Update Frequency** : This endpoint is updated every 4 hours.\n",
        "\n",
        "**Recommended Calls** : 1 call per day.\n",
        "\n",
        "https://www.api-football.com/documentation-v3#tag/Injuries/operation/get-injuries"
      ]
    },
    {
      "cell_type": "code",
      "execution_count": null,
      "metadata": {
        "id": "Vjky_LaW_73I"
      },
      "outputs": [],
      "source": [
        "def getFixturesInjuries(fixtureId):\n",
        "  fixtureRoundsInjuriesUrl = \"injuries?fixture=\" + str(fixtureId)\n",
        "  jsonFixturesInjuries = getApiSports(fixtureRoundsInjuriesUrl)\n",
        "  return jsonFixturesInjuries\n",
        "\n",
        "def getFixturesInjuriesSaveJson(fixtureId, leagueId, season):\n",
        "  jsonFixturesInjuriesAux = getFixturesInjuries(fixtureId)\n",
        "  path = \"fixtures/league/\" + str(leagueId) + \"/\" + str(season) + \"/\" + str(fixtureId)\n",
        "  filename = str(leagueId) + \"_\" + str(season) + \"_\" + str(fixtureId) + \"_fixtures_injuries\"\n",
        "  saveJson(path, filename, jsonFixturesInjuriesAux)\n",
        "  return jsonFixturesInjuriesAux"
      ]
    },
    {
      "cell_type": "code",
      "execution_count": null,
      "metadata": {
        "id": "g-4XVeBq_73I"
      },
      "outputs": [],
      "source": [
        "def getAllFixturesInjuries(listOfSeasonLeagueFixtures):\n",
        "  listOfSeasonLeagueFixturesInjuries = []\n",
        "  for x in listOfSeasonLeagueFixtures:\n",
        "    fixtureSeasonLeagueJson = json.loads(x) \n",
        "    if parser.parse(fixtureSeasonLeagueJson[\"date\"]).date() <= date.today():\n",
        "      jsonSeasonLeagueFixturesInjuriesResp = getFixturesInjuriesSaveJson(fixtureSeasonLeagueJson[\"fixture\"],fixtureSeasonLeagueJson[\"league\"],fixtureSeasonLeagueJson[\"season\"])\n",
        "      #listOfSeasonLeagueFixturesInjuries.append(jsonSeasonLeagueFixturesInjuriesResp) #demasiadas fixtures para ficarem guardadas numa variável\n",
        "  return listOfSeasonLeagueFixturesInjuries"
      ]
    },
    {
      "cell_type": "code",
      "execution_count": null,
      "metadata": {
        "id": "zIQATOj-_73I"
      },
      "outputs": [],
      "source": [
        "#timeToSleep = 0.04 #esta api demora algum tempo a guardar o json logo não é necessário colocar um tempo de espera\n",
        "#lstLeagues = [61,39,135,88,94]\n",
        "#lstSeasons = [2019,2020,2021,2022] \n",
        "#lstSeasons = [2010,2011,2012,2013,2014,2015,2016,2017,2018,2019,2020,2021,2022]\n",
        "#listOfSeasonLeagueFixturesFiltered = [x for x in listOfSeasonLeagueFixtures if json.loads(x)[\"league\"] in lstLeagues and json.loads(x)[\"season\"] in lstSeasons]\n",
        "#getAllFixturesInjuries(listOfSeasonLeagueFixturesFiltered)"
      ]
    },
    {
      "cell_type": "markdown",
      "metadata": {
        "id": "QWqaO290WTxB"
      },
      "source": [
        "# Coach\n",
        "\n",
        "**Update Frequency** : This endpoint is updated every day.\n",
        "\n",
        "**Recommended Calls** : 1 call per day.\n",
        "\n",
        "https://www.api-football.com/documentation-v3#tag/Coachs"
      ]
    },
    {
      "cell_type": "code",
      "execution_count": null,
      "metadata": {
        "id": "3wfMpXzPWXfq"
      },
      "outputs": [],
      "source": [
        "def getCoachsToFile(leagueId,season,team):\n",
        "  coachTeamUrl = f\"coachs?team={str(team)}\"\n",
        "  jsonCoachs = getApiSports(coachTeamUrl)\n",
        "  path = f\"coachs/league/{str(leagueId)}/{str(season)}/{str(team)}\"\n",
        "  filename = f\"{str(leagueId)}_{str(season)}_{str(team)}_coachs\"\n",
        "  #jsonToCsv(\"response\", \"coachs\", \"coachs\", jsonCoachs)\n",
        "  saveJson(path, filename, jsonCoachs)\n",
        "  return jsonCoachs"
      ]
    },
    {
      "cell_type": "code",
      "execution_count": null,
      "metadata": {
        "id": "ePClh4KSWuAm"
      },
      "outputs": [],
      "source": [
        "def getAllSeasonLeagueCoachs(listOfSeasonLeagueTeams):\n",
        "  listOfSeasonLeagueCoachs = []\n",
        "  for x in listOfSeasonLeagueTeams:\n",
        "    teamSeasonJson = json.loads(x)\n",
        "    jsonLeagueSeasonCoachResp = getCoachsToFile(teamSeasonJson[\"league\"],teamSeasonJson[\"season\"],teamSeasonJson[\"team\"])\n",
        "    for y in jsonLeagueSeasonCoachResp[\"response\"]:\n",
        "      jsonLeagueSeasonCoach = \"{\\\"coach\\\":\" + str(y[\"id\"]) + \" ,\\\"league\\\": \" + str(teamSeasonJson[\"league\"]) + \" ,\\\"season\\\": \" + str(teamSeasonJson[\"season\"]) + \" ,\\\"team\\\": \" + str(teamSeasonJson[\"team\"]) + \"}\"\n",
        "      listOfSeasonLeagueCoachs.append(str(jsonLeagueSeasonCoach))\n",
        "  saveJson(\"coachs\", \"allSeasonLeagueCoachs\", listOfSeasonLeagueCoachs)\n",
        "  return listOfSeasonLeagueCoachs"
      ]
    },
    {
      "cell_type": "code",
      "execution_count": null,
      "metadata": {
        "id": "thDy5VdPfUps"
      },
      "outputs": [],
      "source": [
        "#jsonSeasonLeagueCoachs = getAllSeasonLeagueCoachs(listOfSeasonLeagueTeams)\n",
        "jsonSeasonLeagueCoachs = importJson(\"coachs/allSeasonLeagueCoachs.json\")"
      ]
    },
    {
      "cell_type": "code",
      "execution_count": null,
      "metadata": {
        "id": "kn4kJ7nf3UUf"
      },
      "outputs": [],
      "source": [
        "listCoachsIdUnique = set()\n",
        "for x in jsonSeasonLeagueCoachs:\n",
        "  seasonLeagueCoachJson = json.loads(x)\n",
        "  listCoachsIdUnique.add(str(seasonLeagueCoachJson[\"coach\"]))\n",
        "#print(len(listCoachsIdUnique))\n",
        "listCoachsIdUnique = list(listCoachsIdUnique)"
      ]
    },
    {
      "cell_type": "markdown",
      "metadata": {
        "id": "yC_9MPOWfdiB"
      },
      "source": [
        "## Coach Sidelined\n",
        "\n",
        "**Update Frequency** : This endpoint is updated several times a week.\n",
        "\n",
        "**Recommended Calls** : 1 call per day.\n",
        "\n",
        "https://www.api-football.com/documentation-v3#tag/Sidelined/operation/get-sidelined"
      ]
    },
    {
      "cell_type": "code",
      "execution_count": null,
      "metadata": {
        "id": "_2m1aNRcfjLh"
      },
      "outputs": [],
      "source": [
        "def getCoachSidelined(coach):\n",
        "  coachSidelinedUrl = f\"sidelined?coach={str(coach)}\"\n",
        "  jsonCoachs = getApiSports(coachSidelinedUrl)\n",
        "  return jsonCoachs"
      ]
    },
    {
      "cell_type": "code",
      "execution_count": null,
      "metadata": {
        "id": "QGuQI6uo6mK1"
      },
      "outputs": [],
      "source": [
        "def saveAllSeasonLeagueCoachSidelined(jsonCoachs,jsonSeasonLeagueCoachs, coachId):\n",
        "  jsonSeasonLeagueCoachsFiltered = [x for x in jsonSeasonLeagueCoachs if json.loads(x)[\"coach\"] == int(coachId)]\n",
        "  for x in jsonSeasonLeagueCoachsFiltered:\n",
        "    teamSeasonJson = json.loads(x)\n",
        "    leagueId = teamSeasonJson[\"league\"]\n",
        "    season = teamSeasonJson[\"season\"]\n",
        "    team = teamSeasonJson[\"team\"]\n",
        "    path = f\"coachs/league/{str(leagueId)}/{str(season)}/{str(team)}\"\n",
        "    filename = f\"{str(leagueId)}_{str(season)}_{str(team)}_coachs_sidelined\"\n",
        "    saveJson(path, filename, jsonCoachs)"
      ]
    },
    {
      "cell_type": "code",
      "execution_count": null,
      "metadata": {
        "id": "fotQ7PZSfjaJ"
      },
      "outputs": [],
      "source": [
        "def getAllSeasonLeagueCoachsSidelined(listCoachsIdUnique,jsonSeasonLeagueCoachs):\n",
        "  for x in listCoachsIdUnique:\n",
        "    jsonCoachSidelined = getCoachSidelined(x)\n",
        "    saveAllSeasonLeagueCoachSidelined(jsonCoachSidelined,jsonSeasonLeagueCoachs, x)"
      ]
    },
    {
      "cell_type": "code",
      "execution_count": null,
      "metadata": {
        "id": "ljMeoVM8fjk7"
      },
      "outputs": [],
      "source": [
        "#getAllSeasonLeagueCoachsSidelined(listCoachsIdUnique,jsonSeasonLeagueCoachs)"
      ]
    },
    {
      "cell_type": "markdown",
      "metadata": {
        "id": "Gd-wLkqDArfy"
      },
      "source": [
        "## Coach Trophies\n",
        "\n",
        "**Update Frequency** : This endpoint is updated several times a week.\n",
        "\n",
        "**Recommended Calls** : 1 call per day.\n",
        "\n",
        "https://www.api-football.com/documentation-v3#tag/Trophies/operation/get-trophies"
      ]
    },
    {
      "cell_type": "code",
      "execution_count": null,
      "metadata": {
        "id": "rW7MDp0FArfy"
      },
      "outputs": [],
      "source": [
        "def getCoachTrophies(coach):\n",
        "  coachTrophiesUrl = f\"trophies?coach={str(coach)}\"\n",
        "  jsonCoachs = getApiSports(coachTrophiesUrl)\n",
        "  return jsonCoachs"
      ]
    },
    {
      "cell_type": "code",
      "execution_count": null,
      "metadata": {
        "id": "ymLna2SGArfy"
      },
      "outputs": [],
      "source": [
        "def saveAllSeasonLeagueCoachTrophies(jsonCoachs,jsonSeasonLeagueCoachs, coachId):\n",
        "  jsonSeasonLeagueCoachsFiltered = [x for x in jsonSeasonLeagueCoachs if json.loads(x)[\"coach\"] == int(coachId)]\n",
        "  for x in jsonSeasonLeagueCoachsFiltered:\n",
        "    teamSeasonJson = json.loads(x)\n",
        "    leagueId = teamSeasonJson[\"league\"]\n",
        "    season = teamSeasonJson[\"season\"]\n",
        "    team = teamSeasonJson[\"team\"]\n",
        "    path = f\"coachs/league/{str(leagueId)}/{str(season)}/{str(team)}\"\n",
        "    filename = f\"{str(leagueId)}_{str(season)}_{str(team)}_coachs_trophies\"\n",
        "    saveJson(path, filename, jsonCoachs)"
      ]
    },
    {
      "cell_type": "code",
      "execution_count": null,
      "metadata": {
        "id": "aZtES2bFArfz"
      },
      "outputs": [],
      "source": [
        "def getAllSeasonLeagueCoachsTrophies(listCoachsIdUnique,jsonSeasonLeagueCoachs):\n",
        "  for x in listCoachsIdUnique:\n",
        "    jsonCoachTrophies = getCoachTrophies(x)\n",
        "    saveAllSeasonLeagueCoachTrophies(jsonCoachTrophies,jsonSeasonLeagueCoachs, x)"
      ]
    },
    {
      "cell_type": "code",
      "execution_count": null,
      "metadata": {
        "id": "nnZa1nqHArfz"
      },
      "outputs": [],
      "source": [
        "#getAllSeasonLeagueCoachsTrophies(listCoachsIdUnique,jsonSeasonLeagueCoachs)"
      ]
    },
    {
      "cell_type": "markdown",
      "metadata": {
        "id": "uuz9a-P0kYC4"
      },
      "source": [
        "## Coach Transfers\n",
        "\n",
        "**Update Frequency** : This endpoint is updated several times a week.\n",
        "\n",
        "**Recommended Calls** : 1 call per day.\n",
        "\n",
        "https://www.api-football.com/documentation-v3#tag/Transfers/operation/get-transfers"
      ]
    },
    {
      "cell_type": "code",
      "execution_count": null,
      "metadata": {
        "id": "AExRkqyUkYC4"
      },
      "outputs": [],
      "source": [
        "def getCoachTransfers(coach):\n",
        "  coachTransfersUrl = f\"transfers?coach={str(coach)}\"\n",
        "  jsonCoachs = getApiSports(coachTransfersUrl)\n",
        "  return jsonCoachs"
      ]
    },
    {
      "cell_type": "code",
      "execution_count": null,
      "metadata": {
        "id": "tpNuEWNFkYC4"
      },
      "outputs": [],
      "source": [
        "def saveAllSeasonLeagueCoachTransfers(jsonCoachs,jsonSeasonLeagueCoachs, coachId):\n",
        "  jsonSeasonLeagueCoachsFiltered = [x for x in jsonSeasonLeagueCoachs if json.loads(x)[\"coach\"] == int(coachId)]\n",
        "  for x in jsonSeasonLeagueCoachsFiltered:\n",
        "    teamSeasonJson = json.loads(x)\n",
        "    leagueId = teamSeasonJson[\"league\"]\n",
        "    season = teamSeasonJson[\"season\"]\n",
        "    team = teamSeasonJson[\"team\"]\n",
        "    path = f\"coachs/league/{str(leagueId)}/{str(season)}/{str(team)}\"\n",
        "    filename = f\"{str(leagueId)}_{str(season)}_{str(team)}_coachs_transfers\"\n",
        "    saveJson(path, filename, jsonCoachs)"
      ]
    },
    {
      "cell_type": "code",
      "execution_count": null,
      "metadata": {
        "id": "VAMzL8ufkYC5"
      },
      "outputs": [],
      "source": [
        "def getAllSeasonLeagueCoachsTransfers(listCoachsIdUnique,jsonSeasonLeagueCoachs):\n",
        "  for x in listCoachsIdUnique:\n",
        "    jsonCoachTransfers = getCoachTransfers(x)\n",
        "    saveAllSeasonLeagueCoachTransfers(jsonCoachTransfers,jsonSeasonLeagueCoachs, x)"
      ]
    },
    {
      "cell_type": "code",
      "execution_count": null,
      "metadata": {
        "id": "TghVuxpzkYC5"
      },
      "outputs": [],
      "source": [
        "#getAllSeasonLeagueCoachsTrophies(listCoachsIdUnique,jsonSeasonLeagueCoachs)"
      ]
    },
    {
      "cell_type": "markdown",
      "metadata": {
        "id": "f9643-Pao3NJ"
      },
      "source": [
        "# Player\n",
        "https://www.api-football.com/documentation-v3#tag/Players"
      ]
    },
    {
      "cell_type": "markdown",
      "metadata": {
        "id": "mJ2uz1SMo9su"
      },
      "source": [
        "## Player Season ( not implemented )\n",
        "\n",
        "**Update Frequency** : This endpoint is updated every day.\n",
        "\n",
        "**Recommended Calls** : 1 call per day.\n",
        "\n",
        "https://www.api-football.com/documentation-v3#tag/Players/operation/get-players-seasons"
      ]
    },
    {
      "cell_type": "code",
      "execution_count": null,
      "metadata": {
        "id": "2LB-CHSso3NQ"
      },
      "outputs": [],
      "source": [
        "def getSeasonPlayersToFile():\n",
        "  playerSeasonUrl = \"players/seasons\"\n",
        "  jsonPlayers = getApiSports(playerSeasonUrl)\n",
        "  path = \"players\"\n",
        "  filename = \"allSeasonPlayers\"\n",
        "  saveJson(path, filename, jsonPlayers)\n",
        "  return jsonPlayers"
      ]
    },
    {
      "cell_type": "code",
      "execution_count": null,
      "metadata": {
        "id": "CIG7kjEro3NQ"
      },
      "outputs": [],
      "source": [
        "#jsonSeasonLeagueCoachs = getSeasonPlayersToFile()\n",
        "#jsonSeasonLeagueCoachs = importJson(\"coachs/allSeasonPlayers.json\")"
      ]
    },
    {
      "cell_type": "markdown",
      "metadata": {
        "id": "csXt1Lvzqdko"
      },
      "source": [
        "## Player Statistics\n",
        "\n",
        "**Update Frequency** : This endpoint is updated several times a week.\n",
        "\n",
        "**Recommended Calls** : 1 call per day.\n",
        "\n",
        "https://www.api-football.com/documentation-v3#tag/Coachs"
      ]
    },
    {
      "cell_type": "code",
      "execution_count": null,
      "metadata": {
        "id": "3fSELG2Rqdku"
      },
      "outputs": [],
      "source": [
        "def getPlayersByTeamLeagueSeasonToFile(leagueId,season,team):\n",
        "  page = 1 #first page\n",
        "  totalPages = 1 #by default\n",
        "  listJsonPlayers = []\n",
        "  while page <= totalPages:\n",
        "    playersByTeamLeagueSeasonUrl = f\"players?team={str(team)}&season={str(season)}&league={str(leagueId)}&page={page}\"\n",
        "    jsonPlayers = getApiSports(playersByTeamLeagueSeasonUrl)\n",
        "    path = f\"players/league/{str(leagueId)}/{str(season)}/{str(team)}\"\n",
        "    filename = f\"{str(leagueId)}_{str(season)}_{str(team)}_players_{str(page)}\"\n",
        "    saveJson(path, filename, jsonPlayers)\n",
        "    listJsonPlayers.append(jsonPlayers)\n",
        "    page += 1\n",
        "    totalPages = jsonPlayers[\"paging\"][\"total\"]\n",
        "  return listJsonPlayers"
      ]
    },
    {
      "cell_type": "code",
      "execution_count": null,
      "metadata": {
        "id": "bT8vABchqdku"
      },
      "outputs": [],
      "source": [
        "def getAllPlayersByTeamLeagueSeason(listOfSeasonLeagueTeams):\n",
        "  listOfSeasonLeaguePlayers = []\n",
        "  for x in listOfSeasonLeagueTeams:\n",
        "    teamSeasonJson = json.loads(x)\n",
        "    jsonLeagueSeasonPlayerResp = getPlayersByTeamLeagueSeasonToFile(teamSeasonJson[\"league\"],teamSeasonJson[\"season\"],teamSeasonJson[\"team\"])\n",
        "    for z in jsonLeagueSeasonPlayerResp:\n",
        "      for y in z[\"response\"]:\n",
        "        jsonLeagueSeasonPlayer = \"{\\\"player\\\":\" + str(y[\"player\"][\"id\"]) + \" ,\\\"league\\\": \" + str(teamSeasonJson[\"league\"]) + \" ,\\\"season\\\": \" + str(teamSeasonJson[\"season\"]) + \" ,\\\"team\\\": \" + str(teamSeasonJson[\"team\"]) + \"}\"\n",
        "        listOfSeasonLeaguePlayers.append(str(jsonLeagueSeasonPlayer))\n",
        "  saveJson(\"players\", \"allSeasonLeaguePlayers\", listOfSeasonLeaguePlayers)\n",
        "  return listOfSeasonLeaguePlayers"
      ]
    },
    {
      "cell_type": "code",
      "execution_count": null,
      "metadata": {
        "id": "Q6bPqkVtqdku"
      },
      "outputs": [],
      "source": [
        "#lstLeagues = [39]\n",
        "#lstSeasons = [2020] \n",
        "#listOfSeasonLeagueTeamsFiltered = [x for x in listOfSeasonLeagueTeams if json.loads(x)[\"league\"] in lstLeagues and json.loads(x)[\"season\"] in lstSeasons]\n",
        "#jsonSeasonLeaguePlayers = getAllPlayersByTeamLeagueSeason(listOfSeasonLeagueTeams)\n",
        "jsonSeasonLeaguePlayers = importJson(\"players/allSeasonLeaguePlayers.json\")"
      ]
    },
    {
      "cell_type": "code",
      "execution_count": null,
      "metadata": {
        "id": "zwzrSAIs3N3y"
      },
      "outputs": [],
      "source": [
        "listPlayersIdUnique = set()\n",
        "for x in jsonSeasonLeaguePlayers:\n",
        "  seasonLeaguePlayerJson = json.loads(x)\n",
        "  listPlayersIdUnique.add(str(seasonLeaguePlayerJson[\"player\"]))\n",
        "#print(len(listPlayersIdUnique))\n",
        "listPlayersIdUnique = list(listPlayersIdUnique)"
      ]
    },
    {
      "cell_type": "markdown",
      "metadata": {
        "id": "lcyZqc9y3Fw4"
      },
      "source": [
        "## Player Top Assists\n",
        "\n",
        "**Update Frequency** : This endpoint is updated several times a week.\n",
        "\n",
        "**Recommended Calls** : 1 call per day.\n",
        "\n",
        "https://www.api-football.com/documentation-v3#tag/Players/operation/get-players-topassists"
      ]
    },
    {
      "cell_type": "code",
      "execution_count": null,
      "metadata": {
        "id": "78RLsq443Fw-"
      },
      "outputs": [],
      "source": [
        "def getPlayersTopAssistsToFile(leagueId,season):\n",
        "  playersTopAssistsUrl = f\"players/topassists?season={str(season)}&league={str(leagueId)}\"\n",
        "  jsonPlayers = getApiSports(playersTopAssistsUrl)\n",
        "  path = f\"players/league/{str(leagueId)}/{str(season)}\"\n",
        "  filename = f\"{str(leagueId)}_{str(season)}_players_top_assists\"\n",
        "  saveJson(path, filename, jsonPlayers)\n",
        "  return jsonPlayers"
      ]
    },
    {
      "cell_type": "code",
      "execution_count": null,
      "metadata": {
        "id": "r_PsmEro3Fw-"
      },
      "outputs": [],
      "source": [
        "def getAllPlayersTopAssists(listOfSeasonLeague):\n",
        "  listOfSeasonLeaguePlayers = []\n",
        "  for x in listOfSeasonLeague:\n",
        "    teamSeasonJson = json.loads(x)\n",
        "    jsonLeagueSeasonPlayerResp = getPlayersTopAssistsToFile(teamSeasonJson[\"league\"],teamSeasonJson[\"season\"])\n",
        "    for y in jsonLeagueSeasonPlayerResp[\"response\"]:\n",
        "      jsonLeagueSeasonPlayer = \"{\\\"player\\\":\" + str(y[\"player\"][\"id\"]) + \" ,\\\"league\\\": \" + str(teamSeasonJson[\"league\"]) + \" ,\\\"season\\\": \" + str(teamSeasonJson[\"season\"]) + \"}\"\n",
        "      listOfSeasonLeaguePlayers.append(str(jsonLeagueSeasonPlayer))\n",
        "  saveJson(\"players\", \"allSeasonLeaguePlayersTopAssists\", listOfSeasonLeaguePlayers)\n",
        "  return listOfSeasonLeaguePlayers"
      ]
    },
    {
      "cell_type": "code",
      "execution_count": null,
      "metadata": {
        "id": "orEOmK-v3Fw-"
      },
      "outputs": [],
      "source": [
        "#jsonPlayersTopAssists = getAllPlayersTopAssists(listOfSeasonLeague)\n",
        "jsonPlayersTopAssists = importJson(\"players/allSeasonLeaguePlayersTopAssists.json\")"
      ]
    },
    {
      "cell_type": "markdown",
      "metadata": {
        "id": "hfdsh4P_MHaJ"
      },
      "source": [
        "## Player Top Scorers\n",
        "\n",
        "**Update Frequency** : This endpoint is updated several times a week.\n",
        "\n",
        "**Recommended Calls** : 1 call per day.\n",
        "\n",
        "https://www.api-football.com/documentation-v3#tag/Players/operation/get-players-topscorers"
      ]
    },
    {
      "cell_type": "code",
      "execution_count": null,
      "metadata": {
        "id": "HQg-fiZVMHaP"
      },
      "outputs": [],
      "source": [
        "def getPlayersTopScoresToFile(leagueId,season):\n",
        "  playersTopScoresUrl = f\"players/topscorers?season={str(season)}&league={str(leagueId)}\"\n",
        "  jsonPlayers = getApiSports(playersTopScoresUrl)\n",
        "  path = f\"players/league/{str(leagueId)}/{str(season)}\"\n",
        "  filename = f\"{str(leagueId)}_{str(season)}_players_top_scores\"\n",
        "  saveJson(path, filename, jsonPlayers)\n",
        "  return jsonPlayers"
      ]
    },
    {
      "cell_type": "code",
      "execution_count": null,
      "metadata": {
        "id": "mV8qGn5sMHaQ"
      },
      "outputs": [],
      "source": [
        "def getAllPlayersTopScores(listOfSeasonLeague):\n",
        "  listOfSeasonLeaguePlayers = []\n",
        "  for x in listOfSeasonLeague:\n",
        "    teamSeasonJson = json.loads(x)\n",
        "    jsonLeagueSeasonPlayerResp = getPlayersTopScoresToFile(teamSeasonJson[\"league\"],teamSeasonJson[\"season\"])\n",
        "    for y in jsonLeagueSeasonPlayerResp[\"response\"]:\n",
        "      jsonLeagueSeasonPlayer = \"{\\\"player\\\":\" + str(y[\"player\"][\"id\"]) + \" ,\\\"league\\\": \" + str(teamSeasonJson[\"league\"]) + \" ,\\\"season\\\": \" + str(teamSeasonJson[\"season\"]) + \"}\"\n",
        "      listOfSeasonLeaguePlayers.append(str(jsonLeagueSeasonPlayer))\n",
        "  saveJson(\"players\", \"allSeasonLeaguePlayersTopScores\", listOfSeasonLeaguePlayers)\n",
        "  return listOfSeasonLeaguePlayers"
      ]
    },
    {
      "cell_type": "code",
      "execution_count": null,
      "metadata": {
        "id": "El5sGsbtMHaQ"
      },
      "outputs": [],
      "source": [
        "#jsonPlayersTopScores = getAllPlayersTopScores(listOfSeasonLeague)\n",
        "jsonPlayersTopScores = importJson(\"players/allSeasonLeaguePlayersTopScores.json\")"
      ]
    },
    {
      "cell_type": "markdown",
      "metadata": {
        "id": "6w39H8m-MubZ"
      },
      "source": [
        "## Player Top Yellow Cards\n",
        "\n",
        "**Update Frequency** : This endpoint is updated several times a week.\n",
        "\n",
        "**Recommended Calls** : 1 call per day.\n",
        "\n",
        "https://www.api-football.com/documentation-v3#tag/Players/operation/get-players-topyellowcards"
      ]
    },
    {
      "cell_type": "code",
      "execution_count": null,
      "metadata": {
        "id": "LVu5Qe5pMuba"
      },
      "outputs": [],
      "source": [
        "def getPlayersTopYellowCardsToFile(leagueId,season):\n",
        "  playersTopYellowCardsUrl = f\"players/topyellowcards?season={str(season)}&league={str(leagueId)}\"\n",
        "  jsonPlayers = getApiSports(playersTopYellowCardsUrl)\n",
        "  path = f\"players/league/{str(leagueId)}/{str(season)}\"\n",
        "  filename = f\"{str(leagueId)}_{str(season)}_players_top_yellow_cards\"\n",
        "  saveJson(path, filename, jsonPlayers)\n",
        "  return jsonPlayers"
      ]
    },
    {
      "cell_type": "code",
      "execution_count": null,
      "metadata": {
        "id": "PQcnHiqvMuba"
      },
      "outputs": [],
      "source": [
        "def getAllPlayersTopYellowCards(listOfSeasonLeague):\n",
        "  listOfSeasonLeaguePlayers = []\n",
        "  for x in listOfSeasonLeague:\n",
        "    teamSeasonJson = json.loads(x)\n",
        "    jsonLeagueSeasonPlayerResp = getPlayersTopYellowCardsToFile(teamSeasonJson[\"league\"],teamSeasonJson[\"season\"])\n",
        "    for y in jsonLeagueSeasonPlayerResp[\"response\"]:\n",
        "      jsonLeagueSeasonPlayer = \"{\\\"player\\\":\" + str(y[\"player\"][\"id\"]) + \" ,\\\"league\\\": \" + str(teamSeasonJson[\"league\"]) + \" ,\\\"season\\\": \" + str(teamSeasonJson[\"season\"]) + \"}\"\n",
        "      listOfSeasonLeaguePlayers.append(str(jsonLeagueSeasonPlayer))\n",
        "  saveJson(\"players\", \"allSeasonLeaguePlayersTopYellowCards\", listOfSeasonLeaguePlayers)\n",
        "  return listOfSeasonLeaguePlayers"
      ]
    },
    {
      "cell_type": "code",
      "execution_count": null,
      "metadata": {
        "id": "_E4jOnb0Muba"
      },
      "outputs": [],
      "source": [
        "#jsonPlayersTopYellowCards = getAllPlayersTopYellowCards(listOfSeasonLeague)\n",
        "jsonPlayersTopYellowCards = importJson(\"players/allSeasonLeaguePlayersTopYellowCards.json\")"
      ]
    },
    {
      "cell_type": "markdown",
      "metadata": {
        "id": "flHrV7HCNFr6"
      },
      "source": [
        "## Player Top Ref Cards\n",
        "\n",
        "**Update Frequency** : This endpoint is updated several times a week.\n",
        "\n",
        "**Recommended Calls** : 1 call per day.\n",
        "\n",
        "https://www.api-football.com/documentation-v3#tag/Players/operation/get-players-topredcards"
      ]
    },
    {
      "cell_type": "code",
      "execution_count": null,
      "metadata": {
        "id": "4f7nMS9lNFsA"
      },
      "outputs": [],
      "source": [
        "def getPlayersTopRedCardsToFile(leagueId,season):\n",
        "  playersTopRedCardsUrl = f\"players/topredcards?season={str(season)}&league={str(leagueId)}\"\n",
        "  jsonPlayers = getApiSports(playersTopRedCardsUrl)\n",
        "  path = f\"players/league/{str(leagueId)}/{str(season)}\"\n",
        "  filename = f\"{str(leagueId)}_{str(season)}_players_top_red_cards\"\n",
        "  saveJson(path, filename, jsonPlayers)\n",
        "  return jsonPlayers"
      ]
    },
    {
      "cell_type": "code",
      "execution_count": null,
      "metadata": {
        "id": "fZl54v9RNFsA"
      },
      "outputs": [],
      "source": [
        "def getAllPlayersTopRedCards(listOfSeasonLeague):\n",
        "  listOfSeasonLeaguePlayers = []\n",
        "  for x in listOfSeasonLeague:\n",
        "    teamSeasonJson = json.loads(x)\n",
        "    jsonLeagueSeasonPlayerResp = getPlayersTopRedCardsToFile(teamSeasonJson[\"league\"],teamSeasonJson[\"season\"])\n",
        "    for y in jsonLeagueSeasonPlayerResp[\"response\"]:\n",
        "      jsonLeagueSeasonPlayer = \"{\\\"player\\\":\" + str(y[\"player\"][\"id\"]) + \" ,\\\"league\\\": \" + str(teamSeasonJson[\"league\"]) + \" ,\\\"season\\\": \" + str(teamSeasonJson[\"season\"]) + \"}\"\n",
        "      listOfSeasonLeaguePlayers.append(str(jsonLeagueSeasonPlayer))\n",
        "  saveJson(\"players\", \"allSeasonLeaguePlayersTopRedCards\", listOfSeasonLeaguePlayers)\n",
        "  return listOfSeasonLeaguePlayers"
      ]
    },
    {
      "cell_type": "code",
      "execution_count": null,
      "metadata": {
        "id": "TsDxwb2DNFsB"
      },
      "outputs": [],
      "source": [
        "#jsonPlayersTopRedCards = getAllPlayersTopRedCards(listOfSeasonLeague)\n",
        "jsonPlayersTopRedCards = importJson(\"players/allSeasonLeaguePlayersTopRedCards.json\")"
      ]
    },
    {
      "cell_type": "markdown",
      "metadata": {
        "id": "MRjjjCL9gy8T"
      },
      "source": [
        "## Player Sidelined\n",
        "\n",
        "**Update Frequency** : This endpoint is updated several times a week.\n",
        "\n",
        "**Recommended Calls** : 1 call per day.\n",
        "\n",
        "https://www.api-football.com/documentation-v3#tag/Sidelined/operation/get-sidelined"
      ]
    },
    {
      "cell_type": "code",
      "execution_count": null,
      "metadata": {
        "id": "UC39clt5gy8Z"
      },
      "outputs": [],
      "source": [
        "def getPlayerSidelined(player):\n",
        "  playerSidelinedUrl = f\"sidelined?player={str(player)}\"\n",
        "  jsonPlayerSidelined = getApiSports(playerSidelinedUrl)\n",
        "  return jsonPlayerSidelined"
      ]
    },
    {
      "cell_type": "code",
      "execution_count": null,
      "metadata": {
        "id": "oiDRI98h_YPz"
      },
      "outputs": [],
      "source": [
        "def saveAllSeasonLeaguePlayerSidelined(jsonPlayers,jsonSeasonLeaguePlayers, playerId):\n",
        "  jsonSeasonLeaguePlayersFiltered = [x for x in jsonSeasonLeaguePlayers if json.loads(x)[\"player\"] == int(playerId)]\n",
        "  for x in jsonSeasonLeaguePlayersFiltered:\n",
        "    teamSeasonJson = json.loads(x)\n",
        "    leagueId = teamSeasonJson[\"league\"]\n",
        "    season = teamSeasonJson[\"season\"]\n",
        "    team = teamSeasonJson[\"team\"]\n",
        "    path = f\"players/league/{str(leagueId)}/{str(season)}/{str(team)}\"\n",
        "    filename = f\"{str(leagueId)}_{str(season)}_{str(team)}_{str(playerId)}_players_sidelined\"\n",
        "    saveJson(path, filename, jsonPlayers)"
      ]
    },
    {
      "cell_type": "code",
      "execution_count": null,
      "metadata": {
        "id": "JL2yDlgMgy8Z"
      },
      "outputs": [],
      "source": [
        "def getAllSeasonLeaguePlayersSidelined(listPlayersIdUnique,jsonSeasonLeaguePlayers):\n",
        "  listPlayersIdUniqueFiltered = [x for x in listPlayersIdUnique if json.loads(x)[\"season\"] == 2022]\n",
        "  for x in listPlayersIdUniqueFiltered:\n",
        "    jsonPlayerSidelined = getPlayerSidelined(x)\n",
        "    saveAllSeasonLeaguePlayerSidelined(jsonPlayerSidelined,jsonSeasonLeaguePlayers, x)"
      ]
    },
    {
      "cell_type": "code",
      "execution_count": null,
      "metadata": {
        "id": "_rZjG_dYgy8a"
      },
      "outputs": [],
      "source": [
        "#getAllSeasonLeaguePlayersSidelined(listPlayersIdUnique,jsonSeasonLeaguePlayers)"
      ]
    },
    {
      "cell_type": "markdown",
      "metadata": {
        "id": "_zSTPn6fA_Se"
      },
      "source": [
        "## Player Trophies\n",
        "\n",
        "**Update Frequency** : This endpoint is updated several times a week.\n",
        "\n",
        "**Recommended Calls** : 1 call per day.\n",
        "\n",
        "https://www.api-football.com/documentation-v3#tag/Sidelined/operation/get-sidelined"
      ]
    },
    {
      "cell_type": "code",
      "execution_count": null,
      "metadata": {
        "id": "a5M59dtDA_Se"
      },
      "outputs": [],
      "source": [
        "def getPlayerTrophies(player):\n",
        "  playerTrophiesUrl = f\"trophies?player={str(player)}\"\n",
        "  jsonPlayerTrophies = getApiSports(playerTrophiesUrl)\n",
        "  return jsonPlayerTrophies"
      ]
    },
    {
      "cell_type": "code",
      "execution_count": null,
      "metadata": {
        "id": "9zzYpUJkA_Se"
      },
      "outputs": [],
      "source": [
        "def saveAllSeasonLeaguePlayerTrophies(jsonPlayers,jsonSeasonLeaguePlayers, playerId):\n",
        "  jsonSeasonLeaguePlayersFiltered = [x for x in jsonSeasonLeaguePlayers if json.loads(x)[\"player\"] == int(playerId)]\n",
        "  for x in jsonSeasonLeaguePlayersFiltered:\n",
        "    teamSeasonJson = json.loads(x)\n",
        "    leagueId = teamSeasonJson[\"league\"]\n",
        "    season = teamSeasonJson[\"season\"]\n",
        "    team = teamSeasonJson[\"team\"]\n",
        "    path = f\"players/league/{str(leagueId)}/{str(season)}/{str(team)}\"\n",
        "    filename = f\"{str(leagueId)}_{str(season)}_{str(team)}_{str(playerId)}_players_trophies\"\n",
        "    saveJson(path, filename, jsonPlayers)"
      ]
    },
    {
      "cell_type": "code",
      "execution_count": null,
      "metadata": {
        "id": "wnr2qG_UA_Sf"
      },
      "outputs": [],
      "source": [
        "def getAllSeasonLeaguePlayersTrophies(listPlayersIdUnique,jsonSeasonLeaguePlayers):\n",
        "  for x in listPlayersIdUnique:\n",
        "    jsonPlayerTrophies = getPlayerTrophies(x)\n",
        "    saveAllSeasonLeaguePlayerTrophies(jsonPlayerTrophies,jsonSeasonLeaguePlayers, x)"
      ]
    },
    {
      "cell_type": "code",
      "execution_count": null,
      "metadata": {
        "id": "ZThPeZRUA_Sf"
      },
      "outputs": [],
      "source": [
        "#getAllSeasonLeaguePlayersTrophies(listPlayersIdUnique,jsonSeasonLeaguePlayers)\n",
        "#for x in jsonSeasonLeaguePlayers:\n",
        "#  teamSeasonJson = json.loads(x)\n",
        "#  leagueId = teamSeasonJson[\"league\"]\n",
        "#  season = teamSeasonJson[\"season\"]\n",
        "#  team = teamSeasonJson[\"team\"]\n",
        "#  player = teamSeasonJson[\"player\"]\n",
        "#  path = f\"players/league/{str(leagueId)}/{str(season)}/{str(team)}\"\n",
        "#  filename = f\"{str(leagueId)}_{str(season)}_{str(team)}_{str(player)}_players_trophies.json\"\n",
        "#  fullPath = f\"{filePath}/{path}/{filename}\"\n",
        "#  if season == 2022:\n",
        "#  #if os.path.exists(fullPath) == False:\n",
        "#    print(player)\n",
        "#    listPlayersIdUniqueAux = [x for x in listPlayersIdUnique if x == str(player)]\n",
        "#    getAllSeasonLeaguePlayersTrophies(listPlayersIdUniqueAux,jsonSeasonLeaguePlayers)"
      ]
    },
    {
      "cell_type": "markdown",
      "metadata": {
        "id": "BZxz7sCakvIz"
      },
      "source": [
        "## Player Transfers\n",
        "\n",
        "**Update Frequency** : This endpoint is updated several times a week.\n",
        "\n",
        "**Recommended Calls** : 1 call per day.\n",
        "\n",
        "https://www.api-football.com/documentation-v3#tag/Transfers/operation/get-transfers"
      ]
    },
    {
      "cell_type": "code",
      "execution_count": null,
      "metadata": {
        "id": "XfsTzvE8kvI6"
      },
      "outputs": [],
      "source": [
        "def getPlayerTransfers(player):\n",
        "  playerTransfersUrl = f\"transfers?player={str(player)}\"\n",
        "  jsonPlayers = getApiSports(playerTransfersUrl)\n",
        "  return jsonPlayers"
      ]
    },
    {
      "cell_type": "code",
      "execution_count": null,
      "metadata": {
        "id": "gK2wX-6HkvI6"
      },
      "outputs": [],
      "source": [
        "def saveAllSeasonLeaguePlayerTransfers(jsonPlayers,jsonSeasonLeaguePlayers, player):\n",
        "  jsonSeasonLeaguePlayersFiltered = [x for x in jsonSeasonLeaguePlayers if json.loads(x)[\"player\"] == int(player)]\n",
        "  for x in jsonSeasonLeaguePlayersFiltered:\n",
        "    teamSeasonJson = json.loads(x)\n",
        "    leagueId = teamSeasonJson[\"league\"]\n",
        "    season = teamSeasonJson[\"season\"]\n",
        "    team = teamSeasonJson[\"team\"]\n",
        "    path = f\"players/league/{str(leagueId)}/{str(season)}/{str(team)}\"\n",
        "    filename = f\"{str(leagueId)}_{str(season)}_{str(team)}_{str(player)}_players_transfers\"\n",
        "    saveJson(path, filename, jsonPlayers)"
      ]
    },
    {
      "cell_type": "code",
      "execution_count": null,
      "metadata": {
        "id": "43IUPg2JkvI6"
      },
      "outputs": [],
      "source": [
        "def getAllSeasonLeaguePlayersTransfers(listPlayersIdUnique,jsonSeasonLeaguePlayers):\n",
        "  for x in listPlayersIdUnique:\n",
        "    jsonPlayerTransfers = getPlayerTransfers(x)\n",
        "    saveAllSeasonLeaguePlayerTransfers(jsonPlayerTransfers,jsonSeasonLeaguePlayers, x)"
      ]
    },
    {
      "cell_type": "code",
      "execution_count": null,
      "metadata": {
        "id": "fdePDrNhl_fw"
      },
      "outputs": [],
      "source": [
        "#getAllSeasonLeaguePlayersTransfers(listPlayersIdUnique,jsonSeasonLeaguePlayers)\n",
        "#for x in jsonSeasonLeaguePlayers:\n",
        "#  teamSeasonJson = json.loads(x)\n",
        "#  leagueId = teamSeasonJson[\"league\"]\n",
        "#  season = teamSeasonJson[\"season\"]\n",
        "#  team = teamSeasonJson[\"team\"]\n",
        "#  player = teamSeasonJson[\"player\"]\n",
        "#  path = f\"players/league/{str(leagueId)}/{str(season)}/{str(team)}\"\n",
        "#  filename = f\"{str(leagueId)}_{str(season)}_{str(team)}_{str(player)}_players_transfers.json\"\n",
        "#  fullPath = f\"{filePath}/{path}/{filename}\"\n",
        "#  if season == 2022:\n",
        "#  #if os.path.exists(fullPath) == False:\n",
        "#    print(player)\n",
        "#    listPlayersIdUniqueAux = [x for x in listPlayersIdUnique if x == str(player)]\n",
        "#    getAllSeasonLeaguePlayersTransfers(listPlayersIdUniqueAux,jsonSeasonLeaguePlayers)"
      ]
    },
    {
      "cell_type": "markdown",
      "metadata": {
        "id": "3CU9MXoWIiaq"
      },
      "source": [
        "# Tratamento dos dados"
      ]
    },
    {
      "cell_type": "markdown",
      "metadata": {
        "id": "LQ2hDYMOImEs"
      },
      "source": [
        "## Equipas"
      ]
    },
    {
      "cell_type": "code",
      "execution_count": null,
      "metadata": {
        "id": "Npcdh0ilIljD"
      },
      "outputs": [],
      "source": [
        "leagueidfilter = 203\n",
        "filename = f\"{filePath}/fixtures/league/203/2011/509613/203_2011_509613_fixtures_predictions.json\"\n",
        "\n",
        "#f\"{filePath}/fixtures/league/848/2021/714875/848_2021_714875_fixtures_predictions.json\"\n",
        "#f\"{filePath}/fixtures/league/39/2011/193817/39_2011_193817_fixtures_predictions.json\"\n",
        "#f\"{filePath}/fixtures/league/203/2011/509613/203_2011_509613_fixtures_predictions.json\"\n",
        "# Opening JSON file\n",
        "f = open(filename)\n",
        "\n",
        "# returns JSON object as \n",
        "# a dictionary\n",
        "data = json.load(f)\n",
        "\n",
        "#df = pd.read_json(filename)\n",
        "#listOfSeasonLeagueFixtures"
      ]
    },
    {
      "cell_type": "code",
      "execution_count": null,
      "metadata": {
        "id": "DCIz7Hb2KX9c"
      },
      "outputs": [],
      "source": [
        "#data[\"response\"][0]"
      ]
    },
    {
      "cell_type": "code",
      "execution_count": null,
      "metadata": {
        "id": "SMh5eKciLNgx"
      },
      "outputs": [],
      "source": [
        "fixturePrediction = pd.json_normalize(data[\"response\"],max_level=6)\n",
        "fixtureId = data[\"parameters\"][\"fixture\"]\n",
        "fixturePrediction[\"fixtureId\"] = fixtureId\n",
        "#fixturePrediction"
      ]
    },
    {
      "cell_type": "code",
      "execution_count": null,
      "metadata": {
        "id": "jeX_0JC8NJxk"
      },
      "outputs": [],
      "source": [
        "fixtureClean = fixturePrediction[['fixtureId', 'league.id', 'league.name', 'teams.home.id', 'teams.home.name','teams.away.id', 'teams.away.name','predictions.winner.id', 'predictions.win_or_draw', 'predictions.under_over',\n",
        " 'predictions.goals.home', 'predictions.goals.away', 'predictions.percent.home', 'predictions.percent.draw', 'predictions.percent.away', 'predictions.advice',\n",
        " 'teams.home.last_5.form', 'teams.home.last_5.att', 'teams.home.last_5.def', 'teams.home.last_5.goals.for.average', 'teams.home.last_5.goals.against.average',\n",
        " 'teams.away.last_5.form', 'teams.away.last_5.att', 'teams.away.last_5.def', 'teams.away.last_5.goals.for.average', 'teams.away.last_5.goals.against.average',\n",
        " 'teams.home.league.form', 'teams.home.league.fixtures.wins.home', 'teams.home.league.fixtures.wins.away', \n",
        " 'teams.home.league.fixtures.draws.home', 'teams.home.league.fixtures.draws.away','teams.home.league.fixtures.loses.home', 'teams.home.league.fixtures.loses.away',\n",
        " 'teams.home.league.goals.for.average.home', 'teams.home.league.goals.for.average.away',\n",
        " 'teams.away.league.form', 'teams.away.league.fixtures.wins.home', 'teams.away.league.fixtures.wins.away', \n",
        " 'teams.away.league.fixtures.draws.home', 'teams.away.league.fixtures.draws.away','teams.away.league.fixtures.loses.home', 'teams.away.league.fixtures.loses.away',\n",
        " 'teams.away.league.goals.for.average.home', 'teams.away.league.goals.for.average.away'\n",
        " ]]"
      ]
    },
    {
      "cell_type": "markdown",
      "metadata": {
        "id": "HLvGi6MOQIPO"
      },
      "source": []
    },
    {
      "cell_type": "code",
      "execution_count": null,
      "metadata": {
        "id": "LnXwJbshO0XN"
      },
      "outputs": [],
      "source": [
        "#fixtureClean"
      ]
    },
    {
      "cell_type": "code",
      "execution_count": null,
      "metadata": {
        "id": "9oMr80L7Sv8O"
      },
      "outputs": [],
      "source": [
        "def importPredictionsDataFromJsonFiles(league,season,fixture,df_fixturePredictions):\n",
        "  filename = f\"{filePath}/fixtures/league/{str(league)}/{str(season)}/{str(fixture)}/{str(league)}_{str(season)}_{str(fixture)}_fixtures_predictions.json\"\n",
        "\n",
        "  # Opening JSON file\n",
        "  f = open(filename)\n",
        "\n",
        "  # returns JSON object as a dictionary\n",
        "  data = json.load(f)\n",
        "  fixturePrediction = pd.json_normalize(data[\"response\"],max_level=6)\n",
        "  fixturePrediction[\"fixtureId\"] = data[\"parameters\"][\"fixture\"]\n",
        "  fixtureClean = fixturePrediction[['fixtureId', 'league.id', 'league.name','league.season', 'teams.home.id', 'teams.home.name','teams.away.id', 'teams.away.name','predictions.winner.id', 'predictions.win_or_draw', 'predictions.under_over',\n",
        "      'predictions.goals.home', 'predictions.goals.away', 'predictions.percent.home', 'predictions.percent.draw', 'predictions.percent.away', 'predictions.advice',\n",
        "      'teams.home.last_5.form', 'teams.home.last_5.att', 'teams.home.last_5.def', 'teams.home.last_5.goals.for.average', 'teams.home.last_5.goals.against.average',\n",
        "      'teams.away.last_5.form', 'teams.away.last_5.att', 'teams.away.last_5.def', 'teams.away.last_5.goals.for.average', 'teams.away.last_5.goals.against.average',\n",
        "      'teams.home.league.form', 'teams.home.league.fixtures.wins.home', 'teams.home.league.fixtures.wins.away', \n",
        "      'teams.home.league.fixtures.draws.home', 'teams.home.league.fixtures.draws.away','teams.home.league.fixtures.loses.home', 'teams.home.league.fixtures.loses.away',\n",
        "      'teams.home.league.goals.for.average.home', 'teams.home.league.goals.for.average.away',\n",
        "      'teams.away.league.form', 'teams.away.league.fixtures.wins.home', 'teams.away.league.fixtures.wins.away', \n",
        "      'teams.away.league.fixtures.draws.home', 'teams.away.league.fixtures.draws.away','teams.away.league.fixtures.loses.home', 'teams.away.league.fixtures.loses.away',\n",
        "      'teams.away.league.goals.for.average.home', 'teams.away.league.goals.for.average.away'\n",
        "      ]]\n",
        "  df_fixturePredictions = df_fixturePredictions.append(fixtureClean, ignore_index=True)\n",
        "  return df_fixturePredictions"
      ]
    },
    {
      "cell_type": "code",
      "execution_count": null,
      "metadata": {
        "id": "LQEshCXEUpya"
      },
      "outputs": [],
      "source": [
        "df_fixturePredictions = pd.DataFrame(fixtureClean)\n",
        "listOfSeasonLeagueFixturesLeague2 = [x for x in listOfSeasonLeagueFixtures if json.loads(x)[\"league\"] == int(leagueidfilter) and json.loads(x)[\"season\"] < 2022]\n",
        "for x in listOfSeasonLeagueFixturesLeague2:\n",
        "  jsonLoad = json.loads(x)\n",
        "  df_fixturePredictions = importPredictionsDataFromJsonFiles(str(jsonLoad[\"league\"]),str(jsonLoad[\"season\"]),str(jsonLoad[\"fixture\"]),df_fixturePredictions)\n",
        "df_fixturePredictions = df_fixturePredictions.drop(0)"
      ]
    },
    {
      "cell_type": "code",
      "execution_count": null,
      "metadata": {
        "id": "iGLrZE14b_Fq"
      },
      "outputs": [],
      "source": [
        "def importFixtureH2HDataFromJsonFiles(league,season,fixture,df_fixtureh2h,x):\n",
        "  filename = f\"{filePath}/fixtures/league/{str(league)}/{str(season)}/{str(fixture)}/{str(league)}_{str(season)}_{str(fixture)}_fixtures_h2h.json\"\n",
        "\n",
        "  # Opening JSON file\n",
        "  f = open(filename)\n",
        "\n",
        "  # returns JSON object as a dictionary\n",
        "  data = json.load(f)\n",
        "  fixtureh2h = pd.json_normalize(data[\"response\"],max_level=6)\n",
        "  fixtureClean = fixtureh2h[['fixture.id','fixture.date', 'score.halftime.home', 'score.halftime.away',\n",
        "                             'score.fulltime.home', 'score.fulltime.away',\n",
        "                             'score.extratime.home', 'score.extratime.away',\n",
        "                             'score.penalty.home', 'score.penalty.away'\n",
        "      ]]\n",
        "  fixtureCleanFiltered = fixtureClean.loc[fixtureClean['fixture.id'] == int(fixture)]\n",
        "  df_fixtureh2h['score.halftime.home'][x+1] = fixtureCleanFiltered['score.halftime.home'].values[0]\n",
        "  df_fixtureh2h['score.halftime.away'][x+1] = fixtureCleanFiltered['score.halftime.away'].values[0]\n",
        "  df_fixtureh2h['score.fulltime.home'][x+1] = fixtureCleanFiltered['score.fulltime.home'].values[0]\n",
        "  df_fixtureh2h['score.fulltime.away'][x+1] = fixtureCleanFiltered['score.fulltime.away'].values[0]\n",
        "  df_fixtureh2h['score.extratime.home'][x+1] = fixtureCleanFiltered['score.extratime.home'].values[0]\n",
        "  df_fixtureh2h['score.extratime.away'][x+1] = fixtureCleanFiltered['score.extratime.away'].values[0]\n",
        "  df_fixtureh2h['score.penalty.home'][x+1] = fixtureCleanFiltered['score.penalty.home'].values[0]\n",
        "  df_fixtureh2h['score.penalty.away'][x+1] = fixtureCleanFiltered['score.penalty.away'].values[0]\n",
        "  df_fixtureh2h['fixture.date'][x+1] = fixtureCleanFiltered['fixture.date'].values[0][0:10]\n",
        "  return df_fixtureh2h"
      ]
    },
    {
      "cell_type": "code",
      "execution_count": null,
      "metadata": {
        "id": "IX9EVvhMhohl"
      },
      "outputs": [],
      "source": [
        "l = [None] * len(df_fixturePredictions)\n",
        "df_fixturePredictions[\"score.halftime.home\"] = l\n",
        "df_fixturePredictions[\"score.halftime.away\"] = l\n",
        "df_fixturePredictions[\"score.fulltime.home\"] = l\n",
        "df_fixturePredictions[\"score.fulltime.away\"] = l\n",
        "df_fixturePredictions[\"score.extratime.home\"] = l\n",
        "df_fixturePredictions[\"score.extratime.away\"] = l\n",
        "df_fixturePredictions[\"score.penalty.home\"] = l\n",
        "df_fixturePredictions[\"score.penalty.away\"] = l\n",
        "df_fixturePredictions[\"fixture.date\"] = l"
      ]
    },
    {
      "cell_type": "code",
      "execution_count": null,
      "metadata": {
        "id": "thDUcp64kxz-"
      },
      "outputs": [],
      "source": [
        "df_fixturePredictionsh2h = df_fixturePredictions\n",
        "for x in range(0, len(df_fixturePredictions)):\n",
        "#  #print(df_fixturePredictions[\"league.id\"].values[x])\n",
        "  df_fixturePredictionsh2h = importFixtureH2HDataFromJsonFiles(df_fixturePredictions[\"league.id\"].values[x], int(df_fixturePredictions[\"league.season\"].values[x]), df_fixturePredictions[\"fixtureId\"].values[x],df_fixturePredictionsh2h,x)"
      ]
    },
    {
      "cell_type": "code",
      "execution_count": null,
      "metadata": {
        "id": "apLZ1a4czUvE"
      },
      "outputs": [],
      "source": [
        "df_fixturePredictionsh2h['predictions.percent.home'] = df_fixturePredictionsh2h['predictions.percent.home'].str.rstrip(\"%\").astype(float)/100\n",
        "df_fixturePredictionsh2h['predictions.percent.draw'] = df_fixturePredictionsh2h['predictions.percent.draw'].str.rstrip(\"%\").astype(float)/100\n",
        "df_fixturePredictionsh2h['predictions.percent.away'] = df_fixturePredictionsh2h['predictions.percent.away'].str.rstrip(\"%\").astype(float)/100\n",
        "df_fixturePredictionsh2h['teams.home.last_5.form'] = df_fixturePredictionsh2h['teams.home.last_5.form'].str.rstrip(\"%\").astype(float)/100\n",
        "df_fixturePredictionsh2h['teams.home.last_5.att'] = df_fixturePredictionsh2h['teams.home.last_5.att'].str.rstrip(\"%\").astype(float)/100\n",
        "df_fixturePredictionsh2h['teams.home.last_5.def'] = df_fixturePredictionsh2h['teams.home.last_5.def'].str.rstrip(\"%\").astype(float)/100\n",
        "df_fixturePredictionsh2h['teams.away.last_5.form'] = df_fixturePredictionsh2h['teams.away.last_5.form'].str.rstrip(\"%\").astype(float)/100\n",
        "df_fixturePredictionsh2h['teams.away.last_5.att'] = df_fixturePredictionsh2h['teams.away.last_5.att'].str.rstrip(\"%\").astype(float)/100\n",
        "df_fixturePredictionsh2h['teams.away.last_5.def'] = df_fixturePredictionsh2h['teams.away.last_5.def'].str.rstrip(\"%\").astype(float)/100"
      ]
    },
    {
      "cell_type": "code",
      "execution_count": null,
      "metadata": {
        "id": "w-Y5-rBdzpJg"
      },
      "outputs": [],
      "source": [
        "df_fixturePredictionsh2h = df_fixturePredictionsh2h.astype({\"league.season\": int})"
      ]
    },
    {
      "cell_type": "code",
      "execution_count": null,
      "metadata": {
        "id": "341pBPDlxEsk"
      },
      "outputs": [],
      "source": [
        "import numpy as np\n",
        "df_fixturePredictionsh2h['predictions.win_or_draw'] = np.where(df_fixturePredictionsh2h['predictions.win_or_draw'] == \"False\", 0, np.where(df_fixturePredictionsh2h['predictions.win_or_draw'] == \"True\", 1, df_fixturePredictionsh2h['predictions.win_or_draw']))\n",
        "df_fixturePredictionsh2h['result'] = np.where(df_fixturePredictionsh2h['score.fulltime.home'] == df_fixturePredictionsh2h['score.fulltime.away'], 0, np.where(df_fixturePredictionsh2h['score.fulltime.home'] < df_fixturePredictionsh2h['score.fulltime.away'], 0, np.where(df_fixturePredictionsh2h['score.fulltime.home'] > df_fixturePredictionsh2h['score.fulltime.away'], 1, df_fixturePredictionsh2h['score.fulltime.home'])))\n",
        "#df_fixturePredictionsh2h['result'] = np.where(df_fixturePredictionsh2h['score.fulltime.home'] == df_fixturePredictionsh2h['score.fulltime.away'], 0, np.where(df_fixturePredictionsh2h['score.fulltime.home'] < df_fixturePredictionsh2h['score.fulltime.away'], 2, np.where(df_fixturePredictionsh2h['score.fulltime.home'] > df_fixturePredictionsh2h['score.fulltime.away'], 1, df_fixturePredictionsh2h['score.fulltime.home'])))"
      ]
    },
    {
      "cell_type": "code",
      "execution_count": null,
      "metadata": {
        "id": "ZcXui7vsyBPL"
      },
      "outputs": [],
      "source": [
        "df_fixtureCleanData =  df_fixturePredictionsh2h[['fixtureId', 'league.season', 'teams.home.id','teams.away.id', \n",
        "                                          #'predictions.winner.id', 'predictions.win_or_draw',\n",
        "      #'predictions.percent.home', 'predictions.percent.draw', 'predictions.percent.away', \n",
        "      'teams.home.last_5.form', 'teams.home.last_5.att', 'teams.home.last_5.def', 'teams.home.last_5.goals.for.average', 'teams.home.last_5.goals.against.average',\n",
        "      'teams.away.last_5.form', 'teams.away.last_5.att', 'teams.away.last_5.def', 'teams.away.last_5.goals.for.average', 'teams.away.last_5.goals.against.average',\n",
        "      'teams.home.league.fixtures.wins.home', 'teams.home.league.fixtures.wins.away', \n",
        "      'teams.home.league.fixtures.draws.home', 'teams.home.league.fixtures.draws.away','teams.home.league.fixtures.loses.home', 'teams.home.league.fixtures.loses.away',\n",
        "      'teams.home.league.goals.for.average.home', 'teams.home.league.goals.for.average.away',\n",
        "      'teams.away.league.fixtures.wins.home', 'teams.away.league.fixtures.wins.away', \n",
        "      'teams.away.league.fixtures.draws.home', 'teams.away.league.fixtures.draws.away','teams.away.league.fixtures.loses.home', 'teams.away.league.fixtures.loses.away',\n",
        "      'teams.away.league.goals.for.average.home', 'teams.away.league.goals.for.average.away',\n",
        "      #, 'score.halftime.home', 'score.halftime.away',\n",
        "      #  'score.fulltime.home', 'score.fulltime.away'\n",
        "      'result'\n",
        "      ]]"
      ]
    },
    {
      "cell_type": "code",
      "execution_count": null,
      "metadata": {
        "id": "z9en6HJb9nv7",
        "colab": {
          "base_uri": "https://localhost:8080/",
          "height": 323
        },
        "outputId": "3cdd90eb-0542-4d45-bf0f-660442abbe99"
      },
      "outputs": [
        {
          "output_type": "error",
          "ename": "KeyError",
          "evalue": "ignored",
          "traceback": [
            "\u001b[0;31m---------------------------------------------------------------------------\u001b[0m",
            "\u001b[0;31mKeyError\u001b[0m                                  Traceback (most recent call last)",
            "\u001b[0;32m<ipython-input-115-f8223c69c96b>\u001b[0m in \u001b[0;36m<module>\u001b[0;34m\u001b[0m\n\u001b[0;32m----> 1\u001b[0;31m \u001b[0mdf_fixtureCleanDataWithoutNan\u001b[0m \u001b[0;34m=\u001b[0m \u001b[0mdf_fixtureCleanData\u001b[0m\u001b[0;34m.\u001b[0m\u001b[0mdropna\u001b[0m\u001b[0;34m(\u001b[0m\u001b[0msubset\u001b[0m\u001b[0;34m=\u001b[0m\u001b[0;34m[\u001b[0m\u001b[0;34m'score.halftime.away'\u001b[0m\u001b[0;34m,\u001b[0m \u001b[0;34m'score.halftime.home'\u001b[0m\u001b[0;34m,\u001b[0m\u001b[0;34m'score.fulltime.away'\u001b[0m\u001b[0;34m,\u001b[0m \u001b[0;34m'score.fulltime.home'\u001b[0m\u001b[0;34m]\u001b[0m\u001b[0;34m)\u001b[0m\u001b[0;34m\u001b[0m\u001b[0;34m\u001b[0m\u001b[0m\n\u001b[0m",
            "\u001b[0;32m/usr/local/lib/python3.7/dist-packages/pandas/util/_decorators.py\u001b[0m in \u001b[0;36mwrapper\u001b[0;34m(*args, **kwargs)\u001b[0m\n\u001b[1;32m    309\u001b[0m                     \u001b[0mstacklevel\u001b[0m\u001b[0;34m=\u001b[0m\u001b[0mstacklevel\u001b[0m\u001b[0;34m,\u001b[0m\u001b[0;34m\u001b[0m\u001b[0;34m\u001b[0m\u001b[0m\n\u001b[1;32m    310\u001b[0m                 )\n\u001b[0;32m--> 311\u001b[0;31m             \u001b[0;32mreturn\u001b[0m \u001b[0mfunc\u001b[0m\u001b[0;34m(\u001b[0m\u001b[0;34m*\u001b[0m\u001b[0margs\u001b[0m\u001b[0;34m,\u001b[0m \u001b[0;34m**\u001b[0m\u001b[0mkwargs\u001b[0m\u001b[0;34m)\u001b[0m\u001b[0;34m\u001b[0m\u001b[0;34m\u001b[0m\u001b[0m\n\u001b[0m\u001b[1;32m    312\u001b[0m \u001b[0;34m\u001b[0m\u001b[0m\n\u001b[1;32m    313\u001b[0m         \u001b[0;32mreturn\u001b[0m \u001b[0mwrapper\u001b[0m\u001b[0;34m\u001b[0m\u001b[0;34m\u001b[0m\u001b[0m\n",
            "\u001b[0;32m/usr/local/lib/python3.7/dist-packages/pandas/core/frame.py\u001b[0m in \u001b[0;36mdropna\u001b[0;34m(self, axis, how, thresh, subset, inplace)\u001b[0m\n\u001b[1;32m   5951\u001b[0m             \u001b[0mcheck\u001b[0m \u001b[0;34m=\u001b[0m \u001b[0mindices\u001b[0m \u001b[0;34m==\u001b[0m \u001b[0;34m-\u001b[0m\u001b[0;36m1\u001b[0m\u001b[0;34m\u001b[0m\u001b[0;34m\u001b[0m\u001b[0m\n\u001b[1;32m   5952\u001b[0m             \u001b[0;32mif\u001b[0m \u001b[0mcheck\u001b[0m\u001b[0;34m.\u001b[0m\u001b[0many\u001b[0m\u001b[0;34m(\u001b[0m\u001b[0;34m)\u001b[0m\u001b[0;34m:\u001b[0m\u001b[0;34m\u001b[0m\u001b[0;34m\u001b[0m\u001b[0m\n\u001b[0;32m-> 5953\u001b[0;31m                 \u001b[0;32mraise\u001b[0m \u001b[0mKeyError\u001b[0m\u001b[0;34m(\u001b[0m\u001b[0mlist\u001b[0m\u001b[0;34m(\u001b[0m\u001b[0mnp\u001b[0m\u001b[0;34m.\u001b[0m\u001b[0mcompress\u001b[0m\u001b[0;34m(\u001b[0m\u001b[0mcheck\u001b[0m\u001b[0;34m,\u001b[0m \u001b[0msubset\u001b[0m\u001b[0;34m)\u001b[0m\u001b[0;34m)\u001b[0m\u001b[0;34m)\u001b[0m\u001b[0;34m\u001b[0m\u001b[0;34m\u001b[0m\u001b[0m\n\u001b[0m\u001b[1;32m   5954\u001b[0m             \u001b[0magg_obj\u001b[0m \u001b[0;34m=\u001b[0m \u001b[0mself\u001b[0m\u001b[0;34m.\u001b[0m\u001b[0mtake\u001b[0m\u001b[0;34m(\u001b[0m\u001b[0mindices\u001b[0m\u001b[0;34m,\u001b[0m \u001b[0maxis\u001b[0m\u001b[0;34m=\u001b[0m\u001b[0magg_axis\u001b[0m\u001b[0;34m)\u001b[0m\u001b[0;34m\u001b[0m\u001b[0;34m\u001b[0m\u001b[0m\n\u001b[1;32m   5955\u001b[0m \u001b[0;34m\u001b[0m\u001b[0m\n",
            "\u001b[0;31mKeyError\u001b[0m: ['score.halftime.away', 'score.halftime.home', 'score.fulltime.away', 'score.fulltime.home']"
          ]
        }
      ],
      "source": [
        "df_fixtureCleanDataWithoutNan = df_fixtureCleanData.dropna(subset=['score.halftime.away', 'score.halftime.home','score.fulltime.away', 'score.fulltime.home'])"
      ]
    },
    {
      "cell_type": "code",
      "execution_count": null,
      "metadata": {
        "id": "z-uj8GI68FIt"
      },
      "outputs": [],
      "source": [
        "df_fixtureCleanData = df_fixtureCleanData.astype({\"fixtureId\": int,\n",
        "                                                            \"teams.home.last_5.goals.for.average\": float,\n",
        "                                                            \"teams.home.last_5.goals.against.average\": float,\n",
        "                                                            \"teams.away.last_5.goals.for.average\": float,\n",
        "                                                            \"teams.away.last_5.goals.against.average\": float\n",
        "                                                            #\"teams.home.league.goals.for.average.home\": float,\n",
        "                                                            #\"teams.home.league.goals.for.average.away\": float,\n",
        "                                                            #\"teams.away.league.goals.for.average.home\": float,\n",
        "                                                            #\"teams.away.league.goals.for.average.away\": float,\n",
        "                                                            #\"score.halftime.home\": int,\n",
        "                                                            #\"score.halftime.away\": int,\n",
        "                                                            #\"score.fulltime.home\": int,\n",
        "                                                            #\"score.fulltime.away\": int,\n",
        "                                                            #\"result\": int\n",
        "                                                            })"
      ]
    },
    {
      "cell_type": "code",
      "execution_count": null,
      "metadata": {
        "id": "q2s2yA7Fy7gJ"
      },
      "outputs": [],
      "source": [
        "matches = df_fixtureCleanData\n",
        "matches = matches.reset_index()"
      ]
    },
    {
      "cell_type": "code",
      "execution_count": null,
      "metadata": {
        "id": "rxa0n0kb35TI"
      },
      "outputs": [],
      "source": [
        "matches"
      ]
    },
    {
      "cell_type": "code",
      "execution_count": null,
      "metadata": {
        "id": "zti83Huc215N"
      },
      "outputs": [],
      "source": [
        "from sklearn.ensemble import RandomForestClassifier\n",
        "rf = RandomForestClassifier(n_estimators=50, min_samples_split=50, random_state=1)"
      ]
    },
    {
      "cell_type": "code",
      "execution_count": null,
      "metadata": {
        "id": "yNtFiGVP3b2r"
      },
      "outputs": [],
      "source": [
        "train = matches[matches[\"league.season\"] < 2021]"
      ]
    },
    {
      "cell_type": "code",
      "execution_count": null,
      "metadata": {
        "id": "qjNR1Gac3coe"
      },
      "outputs": [],
      "source": [
        "test = matches[matches[\"league.season\"] >= 2021]"
      ]
    },
    {
      "cell_type": "code",
      "execution_count": null,
      "metadata": {
        "id": "quI55G425w9U"
      },
      "outputs": [],
      "source": [
        "predictors = [\"teams.home.id\", \"teams.away.id\"]"
      ]
    },
    {
      "cell_type": "code",
      "execution_count": null,
      "metadata": {
        "id": "kQmXYqGl91TO"
      },
      "outputs": [],
      "source": [
        "rf.fit(train[predictors], train[\"result\"])"
      ]
    },
    {
      "cell_type": "code",
      "execution_count": null,
      "metadata": {
        "id": "VkgCYioL9_LQ"
      },
      "outputs": [],
      "source": [
        "preds = rf.predict(test[predictors])"
      ]
    },
    {
      "cell_type": "code",
      "execution_count": null,
      "metadata": {
        "id": "rWatwKfQ-AQ9"
      },
      "outputs": [],
      "source": [
        "from sklearn.metrics import accuracy_score"
      ]
    },
    {
      "cell_type": "code",
      "execution_count": null,
      "metadata": {
        "id": "23UI4RFd-Bpa"
      },
      "outputs": [],
      "source": [
        "error = accuracy_score(test[\"result\"], preds)"
      ]
    },
    {
      "cell_type": "code",
      "execution_count": null,
      "metadata": {
        "id": "Bzf3M5Xd-FX3"
      },
      "outputs": [],
      "source": [
        "error"
      ]
    },
    {
      "cell_type": "code",
      "execution_count": null,
      "metadata": {
        "id": "vS8ESiyA-HGq"
      },
      "outputs": [],
      "source": [
        "combined = pd.DataFrame(dict(actual=test[\"result\"], predicted=preds))"
      ]
    },
    {
      "cell_type": "code",
      "execution_count": null,
      "metadata": {
        "id": "fyUIMZQJ-Iva"
      },
      "outputs": [],
      "source": [
        "pd.crosstab(index=combined[\"actual\"], columns=combined[\"predicted\"])"
      ]
    },
    {
      "cell_type": "code",
      "execution_count": null,
      "metadata": {
        "id": "IxiUBX3Q-QmP"
      },
      "outputs": [],
      "source": [
        "from sklearn.metrics import precision_score\n",
        "\n",
        "precision_score(test[\"result\"], preds)"
      ]
    }
  ],
  "metadata": {
    "colab": {
      "collapsed_sections": [
        "ZgtrmtCE7wF8",
        "uZvbgyskcqUU",
        "2nHB0Gj1YNOs",
        "sYJMx3JvaT3u",
        "sVJoiYe9Y4sH",
        "TUAVBimn4Hxr",
        "sd4K6Ri7JZNi",
        "VvaDxRhMrNRn",
        "PTPiR_pMXwpP",
        "oXnUsLj-H9SQ",
        "TyT0U3ChV7h-",
        "9x5hoIAEXxem",
        "MGJzhwH5dXU_",
        "EPbSszqcsaz0",
        "I9HyduXcdejb",
        "dRCDRbhwYPfd",
        "-oKqMKUtEMhL",
        "Vjf9RjzmKmgv",
        "qcRbr-6jT-N1",
        "Y_6ic73TE44S",
        "3iSYsa4pFqk7",
        "ks9mjtXiHRMD",
        "hHIEfrGdN_I6",
        "yiKFBJHw_73C",
        "Gd-wLkqDArfy",
        "uuz9a-P0kYC4",
        "mJ2uz1SMo9su",
        "csXt1Lvzqdko",
        "6w39H8m-MubZ",
        "flHrV7HCNFr6",
        "_zSTPn6fA_Se",
        "BZxz7sCakvIz"
      ],
      "provenance": [],
      "toc_visible": true,
      "mount_file_id": "1kj5KtMWBlX_WSSnt06mkUVR7mp-xbMSz",
      "authorship_tag": "ABX9TyPPL3NO2oTIgW5MjuVSeHxA",
      "include_colab_link": true
    },
    "kernelspec": {
      "display_name": "Python 3",
      "name": "python3"
    },
    "language_info": {
      "name": "python"
    }
  },
  "nbformat": 4,
  "nbformat_minor": 0
}
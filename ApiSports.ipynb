{
  "nbformat": 4,
  "nbformat_minor": 0,
  "metadata": {
    "colab": {
      "provenance": [],
      "collapsed_sections": [
        "ZgtrmtCE7wF8",
        "2nHB0Gj1YNOs",
        "sYJMx3JvaT3u",
        "sVJoiYe9Y4sH",
        "TUAVBimn4Hxr",
        "sd4K6Ri7JZNi",
        "VvaDxRhMrNRn",
        "PTPiR_pMXwpP",
        "oXnUsLj-H9SQ",
        "TyT0U3ChV7h-",
        "9x5hoIAEXxem",
        "MGJzhwH5dXU_",
        "EPbSszqcsaz0",
        "dRCDRbhwYPfd",
        "-oKqMKUtEMhL"
      ],
      "toc_visible": true,
      "mount_file_id": "1Dom4KXHDOQnwCWKVyK45YVMFEuT-loYl",
      "authorship_tag": "ABX9TyPUIVQlK4QhRtXzg3HcacHG",
      "include_colab_link": true
    },
    "kernelspec": {
      "name": "python3",
      "display_name": "Python 3"
    },
    "language_info": {
      "name": "python"
    }
  },
  "cells": [
    {
      "cell_type": "markdown",
      "metadata": {
        "id": "view-in-github",
        "colab_type": "text"
      },
      "source": [
        "<a href=\"https://colab.research.google.com/github/pedrocbt21/pedrocbt21/blob/main/ApiSports.ipynb\" target=\"_parent\"><img src=\"https://colab.research.google.com/assets/colab-badge.svg\" alt=\"Open In Colab\"/></a>"
      ]
    },
    {
      "cell_type": "markdown",
      "source": [
        "# Initial Functions\n",
        "\n",
        "1. Connect to API-SPORTS\n",
        "2. Get API_KEY from a secret file\n",
        "3. Create Folder If Not Exists *Function*\n",
        "4. Json to CSV *Function*\n",
        "5. CSV to Panda DataFrame *Function*"
      ],
      "metadata": {
        "id": "ZgtrmtCE7wF8"
      }
    },
    {
      "cell_type": "markdown",
      "source": [
        "## Ligação inicial à Api-Sports\n",
        "\n",
        "**Documentação**: https://www.api-football.com/documentation-v3"
      ],
      "metadata": {
        "id": "uZvbgyskcqUU"
      }
    },
    {
      "cell_type": "code",
      "source": [
        "#Importar as bibliotecas necessárias\n",
        "import http.client\n",
        "import json\n",
        "import pandas as pd\n",
        "import time\n",
        "from datetime import date\n",
        "from datetime import datetime\n",
        "from dateutil import parser\n",
        "\n",
        "timeToSleep = 0"
      ],
      "metadata": {
        "id": "rJ0Kcryw76SL"
      },
      "execution_count": null,
      "outputs": []
    },
    {
      "cell_type": "code",
      "source": [
        "#Criação e inicialização de variáveis\n",
        "filePath = \"/content/drive/MyDrive/B2F_PC/PEDRO/Mestrado/Tese/Project/Files\""
      ],
      "metadata": {
        "id": "Rm_uqC1mInX6"
      },
      "execution_count": null,
      "outputs": []
    },
    {
      "cell_type": "code",
      "source": [
        "# Ir buscar a api key ao ficheiro privado\n",
        "def get_keys(path):\n",
        "    with open(path) as f:\n",
        "        return json.load(f)\n",
        "\n",
        "keys = get_keys(\"/content/drive/MyDrive/B2F_PC/PEDRO/Mestrado/Tese/Project/Files/.secret/api_football.json\")\n",
        "api_key = keys['api_key']"
      ],
      "metadata": {
        "id": "ZabMQZ8hCQ1B"
      },
      "execution_count": null,
      "outputs": []
    },
    {
      "cell_type": "code",
      "source": [
        "url = \"v3.football.api-sports.io\"\n",
        "\n",
        "headers = {\n",
        "    'x-rapidapi-host': url,\n",
        "    'x-rapidapi-key': api_key\n",
        "    }"
      ],
      "metadata": {
        "id": "Z4WM7kQJDsmp"
      },
      "execution_count": null,
      "outputs": []
    },
    {
      "cell_type": "markdown",
      "source": [
        "## GET API SPORTS"
      ],
      "metadata": {
        "id": "2nHB0Gj1YNOs"
      }
    },
    {
      "cell_type": "code",
      "source": [
        "def getApiSports(endPoint):\n",
        "  conn = http.client.HTTPSConnection(url)\n",
        "  #print(endPoint)\n",
        "  conn.request(\"GET\", \"/\" + endPoint, headers=headers)\n",
        "  res = conn.getresponse()\n",
        "  data = res.read()\n",
        "  string_response = data.decode(\"utf-8\")\n",
        "  #print(string_response)\n",
        "  json_obj = json.loads(string_response)\n",
        "  time.sleep(timeToSleep) # time sleep colocado para não ultrapassar os limites por minuto da API em questão caso necessário (450 por minuto no momento)\n",
        "  return json_obj"
      ],
      "metadata": {
        "id": "yN7PwFZ2YSGD"
      },
      "execution_count": null,
      "outputs": []
    },
    {
      "cell_type": "markdown",
      "source": [
        "## Create Folder If Not Exists"
      ],
      "metadata": {
        "id": "sYJMx3JvaT3u"
      }
    },
    {
      "cell_type": "code",
      "source": [
        "import os\n",
        "\n",
        "def createFolder(finalPath):\n",
        "\n",
        "  path = filePath + \"/\" + finalPath\n",
        "\n",
        "  # Check whether the specified path exists or not\n",
        "  isExist = os.path.exists(path)\n",
        "\n",
        "  if not isExist:\n",
        "  \n",
        "    # Create a new directory because it does not exist \n",
        "    os.makedirs(path)\n",
        "    #print(\"The new directory is created!\")"
      ],
      "metadata": {
        "id": "tU96QV8LaYk5"
      },
      "execution_count": null,
      "outputs": []
    },
    {
      "cell_type": "markdown",
      "source": [
        "## JSON to CSV"
      ],
      "metadata": {
        "id": "sVJoiYe9Y4sH"
      }
    },
    {
      "cell_type": "code",
      "source": [
        "def jsonToCsv(jsonKey, finalPath, filename, jsonObj):\n",
        "  # Create dictionary of results for 'response' key ... /timezone\n",
        "  json_dict = jsonObj[jsonKey]\n",
        "  \n",
        "  json_df = pd.DataFrame.from_dict(json_dict)\n",
        "  # display(timezone_df) # caso seja para mostrar a informação é só descomentar esta linha\n",
        "\n",
        "  #criação do caminho onde o csv file vai ser guardado\n",
        "  jsoncsvfile = filePath + \"/\" + finalPath + \"/\" + filename + \".csv\"\n",
        "\n",
        "  #create folder if not exists \n",
        "  createFolder(finalPath)\n",
        "\n",
        "  #save into csv file\n",
        "  json_df.to_csv(jsoncsvfile, index=False)\n",
        "\n",
        "  return finalPath"
      ],
      "metadata": {
        "id": "KtEG0uxOY_oW"
      },
      "execution_count": null,
      "outputs": []
    },
    {
      "cell_type": "markdown",
      "source": [
        "## Save Json"
      ],
      "metadata": {
        "id": "TUAVBimn4Hxr"
      }
    },
    {
      "cell_type": "code",
      "source": [
        "def saveJson(finalPath, filename, jsonObj):\n",
        "  #criação do caminho onde o csv file vai ser guardado\n",
        "  jsonfile = filePath + \"/\" + finalPath + \"/\" + filename + \".json\"\n",
        "\n",
        "  #create folder if not exists \n",
        "  createFolder(finalPath)\n",
        "\n",
        "  out_file = open(jsonfile, \"w\") \n",
        "    \n",
        "  json.dump(jsonObj, out_file, indent = 6) \n",
        "    \n",
        "  out_file.close() \n",
        "\n",
        "  return finalPath"
      ],
      "metadata": {
        "id": "2rFwSMKi3_EI"
      },
      "execution_count": null,
      "outputs": []
    },
    {
      "cell_type": "markdown",
      "source": [
        "## CSV --> Panda DataFrame"
      ],
      "metadata": {
        "id": "sd4K6Ri7JZNi"
      }
    },
    {
      "cell_type": "code",
      "source": [
        "def csvToDataFrame(fullPathFilename):\n",
        "  df = pd.read_csv(fullPathFilename)\n",
        "  return df\n",
        "  # display(timezone_df)"
      ],
      "metadata": {
        "id": "G7KsArP6HkaS"
      },
      "execution_count": null,
      "outputs": []
    },
    {
      "cell_type": "markdown",
      "source": [
        "## Import Json"
      ],
      "metadata": {
        "id": "VvaDxRhMrNRn"
      }
    },
    {
      "cell_type": "code",
      "source": [
        "def importJson(fullPath):\n",
        "  with open(f\"{filePath}/{fullPath}\") as f:\n",
        "    data = json.load(f)\n",
        "  return data"
      ],
      "metadata": {
        "id": "Y284wexhrRe5"
      },
      "execution_count": null,
      "outputs": []
    },
    {
      "cell_type": "markdown",
      "source": [
        "## TRY PARSE"
      ],
      "metadata": {
        "id": "PTPiR_pMXwpP"
      }
    },
    {
      "cell_type": "markdown",
      "source": [
        "### DATE"
      ],
      "metadata": {
        "id": "jEpqAvjuXzov"
      }
    },
    {
      "cell_type": "code",
      "source": [
        "def try_parse_date(dateFixture):\n",
        "    try:\n",
        "        return parser.parse(dateFixture).date()\n",
        "    except:\n",
        "        return print(date.today()+datetime.timedelta(days = 1)) "
      ],
      "metadata": {
        "id": "Vs473FWnX1rg"
      },
      "execution_count": null,
      "outputs": []
    },
    {
      "cell_type": "markdown",
      "source": [
        "# Timezone\n",
        "https://www.api-football.com/documentation-v3#tag/Timezone/operation/get-timezone"
      ],
      "metadata": {
        "id": "oXnUsLj-H9SQ"
      }
    },
    {
      "cell_type": "code",
      "source": [
        "def getTimezonesToFile():\n",
        "  jsonTimezone = getApiSports(\"timezone\")\n",
        "  #jsonToCsv(\"response\", \"timezone\", \"timezone\", jsonTimezone)\n",
        "  saveJson(\"timezone\", \"timezone\", jsonTimezone)\n",
        "  return jsonTimezone"
      ],
      "metadata": {
        "id": "Uw9XBQwM9RIv"
      },
      "execution_count": null,
      "outputs": []
    },
    {
      "cell_type": "markdown",
      "source": [
        "# Countries\n",
        "\n",
        "https://www.api-football.com/documentation-v3#tag/Countries"
      ],
      "metadata": {
        "id": "TyT0U3ChV7h-"
      }
    },
    {
      "cell_type": "code",
      "source": [
        "def getCountriesToFile():\n",
        "  jsonCountries = getApiSports(\"countries\")\n",
        "  #jsonToCsv(\"response\", \"countries\", \"countries\", jsonCountries)\n",
        "  saveJson(\"countries\", \"countries\", jsonCountries)\n",
        "  return jsonCountries"
      ],
      "metadata": {
        "id": "4jXg9ixQWCLG"
      },
      "execution_count": null,
      "outputs": []
    },
    {
      "cell_type": "markdown",
      "source": [
        "# Leagues\n",
        "\n",
        "https://www.api-football.com/documentation-v3#tag/Leagues/operation/get-leagues\n",
        "\n",
        "https://www.api-football.com/documentation-v3#tag/Leagues/operation/get-seasons"
      ],
      "metadata": {
        "id": "9x5hoIAEXxem"
      }
    },
    {
      "cell_type": "code",
      "source": [
        "def getLeaguesToFile():\n",
        "  jsonLeagues = getApiSports(\"leagues\")\n",
        "  #jsonToCsv(\"response\", \"leagues\", \"leagues\", jsonLeagues)\n",
        "  saveJson(\"leagues\", \"leagues\", jsonLeagues)\n",
        "  return jsonLeagues"
      ],
      "metadata": {
        "id": "101Hp-rxX87K"
      },
      "execution_count": null,
      "outputs": []
    },
    {
      "cell_type": "markdown",
      "source": [
        "## SEASON\n"
      ],
      "metadata": {
        "id": "MGJzhwH5dXU_"
      }
    },
    {
      "cell_type": "code",
      "source": [
        "def getSeasonsToFile():\n",
        "  jsonSeasons = getApiSports(\"leagues/seasons\")\n",
        "  #jsonToCsv(\"response\", \"leagues/seasons\", \"seasons\", jsonSeasons)\n",
        "  saveJson(\"leagues/seasons\", \"seasons\", jsonSeasons)\n",
        "  return jsonSeasons"
      ],
      "metadata": {
        "id": "wedQsTvia7al"
      },
      "execution_count": null,
      "outputs": []
    },
    {
      "cell_type": "markdown",
      "source": [
        "# Venue\n",
        "\n",
        "https://www.api-football.com/documentation-v3#tag/Venues/operation/get-venues\n",
        "\n",
        "Necessita do id do venue para os dados serem obtidos na API... Dados não relevantes para o nosso modelo.\n",
        "\n",
        "O id do venue pode ser encontrado na API team Information"
      ],
      "metadata": {
        "id": "0aIQ3WfJDVxa"
      }
    },
    {
      "cell_type": "markdown",
      "source": [
        "# Inicializar as Timezones/Countries/Leagues/Seasons\n",
        "\n",
        "**Deve ser atualizado uma vez por dia**"
      ],
      "metadata": {
        "id": "EPbSszqcsaz0"
      }
    },
    {
      "cell_type": "code",
      "source": [
        "# É necessário 1 vez por dia\n",
        "#jsonTimezones = getTimezonesToFile()\n",
        "#jsonCountries = getCountriesToFile()\n",
        "#jsonLeagues = getLeaguesToFile()\n",
        "#jsonSeasons = getSeasonsToFile()\n",
        "\n",
        "jsonTimezones = importJson(\"timezone/timezone.json\")\n",
        "jsonCountries = importJson(\"countries/countries.json\")\n",
        "jsonLeagues = importJson(\"leagues/leagues.json\")\n",
        "jsonSeasons = importJson(\"leagues/seasons/seasons.json\")"
      ],
      "metadata": {
        "id": "QtOv6LMbOk92"
      },
      "execution_count": null,
      "outputs": []
    },
    {
      "cell_type": "markdown",
      "source": [
        "# TEAMS\n",
        "\n",
        "**Deve ser atualizado uma vez por dia na season atual**\n",
        "\n",
        "https://www.api-football.com/documentation-v3#tag/Teams/operation/get-teams\n",
        "\n",
        "https://www.api-football.com/documentation-v3#tag/Teams/operation/get-teams-statistics\n",
        "\n",
        "https://www.api-football.com/documentation-v3#tag/Teams/operation/get-teams-seasons\n",
        "\n",
        "https://www.api-football.com/documentation-v3#tag/Teams/operation/get-teams-countries"
      ],
      "metadata": {
        "id": "I9HyduXcdejb"
      }
    },
    {
      "cell_type": "code",
      "source": [
        "def getTeamsInformation(season, leagueId):\n",
        "  teamsInformationUrl = \"teams?league=\" + str(leagueId) + \"&season=\" + str(season)\n",
        "  jsonLeagueSeason = getApiSports(teamsInformationUrl)\n",
        "  path = \"teams/league/\" + str(leagueId) + \"/\" + str(season)\n",
        "  filename = str(leagueId) + \"_\" + str(season) + \"_teams_information\"\n",
        "  #jsonToCsv(\"response\", path, filename, jsonLeagueSeason)\n",
        "  saveJson(path, filename, jsonLeagueSeason)\n",
        "  return jsonLeagueSeason"
      ],
      "metadata": {
        "id": "fK7CxhdBd7Ob"
      },
      "execution_count": null,
      "outputs": []
    },
    {
      "cell_type": "code",
      "source": [
        "def getAllSeasonLeagueInformation(jsonLeagues):\n",
        "  # Escolher as ligas a serem estudadas\n",
        "  leagueSeasons = jsonLeagues[\"response\"]\n",
        "  leaguesToSearch = [39,78,140,94,88,2,203,848,3,135,61]\n",
        "  # 61 --> Ligue 1 --> France\n",
        "  # 39 --> Premier League --> England\n",
        "  # 78 --> Bundesliga --> Germany\n",
        "  # 135 --> Serie A --> Italy\n",
        "  # 88 --> Eredivisie --> Netherlands\n",
        "  # 94 --> Primeira Liga --> Portugal\n",
        "  # 140 --> La Liga --> Spain\n",
        "  # 2 --> UEFA Champions League --> World\n",
        "  # 203 --> Süper Lig --> Turkey\n",
        "  # 3 --> UEFA Europa League --> World\n",
        "  # 848 --> UEFA Europa Conference League --> World\n",
        "\n",
        "  listOfSeasonLeague = []\n",
        "\n",
        "  for x in leagueSeasons:\n",
        "    if x[\"league\"][\"id\"] in leaguesToSearch:\n",
        "      for y in x[\"seasons\"]:\n",
        "        jsonLeagueSeason = \"{\\\"league\\\":\" + str(x[\"league\"][\"id\"]) + \" ,\\\"season\\\": \" + str(y[\"year\"]) + \"}\"\n",
        "        listOfSeasonLeague.append(jsonLeagueSeason)\n",
        "  \n",
        "  return listOfSeasonLeague"
      ],
      "metadata": {
        "id": "Fc1MpYadHwD9"
      },
      "execution_count": null,
      "outputs": []
    },
    {
      "cell_type": "code",
      "source": [
        "def getAllSeasonLeagueTeam(jsonLeagues):\n",
        "  allSeasonLeagueInformation = getAllSeasonLeagueInformation(jsonLeagues)\n",
        "  listOfSeasonLeagueTeams = []\n",
        "\n",
        "  for x in allSeasonLeagueInformation:\n",
        "    teamSeasonJson = json.loads(x)\n",
        "    jsonLeagueSeasonTeamResp = getTeamsInformation(teamSeasonJson[\"season\"],teamSeasonJson[\"league\"])\n",
        "    for team in jsonLeagueSeasonTeamResp[\"response\"]:\n",
        "      jsonLeagueSeasonTeam = \"{\\\"league\\\":\" + str(teamSeasonJson[\"league\"]) + \" ,\\\"season\\\": \" + str(teamSeasonJson[\"season\"]) + \" ,\\\"team\\\": \" + str(team[\"team\"][\"id\"]) + \"}\"\n",
        "      listOfSeasonLeagueTeams.append(str(jsonLeagueSeasonTeam))\n",
        "  saveJson(\"teams\", \"allSeasonLeagueTeam\", listOfSeasonLeagueTeams)\n",
        "  return listOfSeasonLeagueTeams"
      ],
      "metadata": {
        "id": "XwQ9KqDzNVA6"
      },
      "execution_count": null,
      "outputs": []
    },
    {
      "cell_type": "code",
      "source": [
        "def getTeamsStatistics(season, leagueId, teamId):\n",
        "  teamsStatisticsUrl = \"teams/statistics?season=\" + str(season) + \"&team=\" + str(teamId) + \"&league=\" + str(leagueId)\n",
        "  jsonLeagueSeasonTeamStatistics = getApiSports(teamsStatisticsUrl)\n",
        "  path = \"teams/league/\" + str(leagueId) + \"/\" + str(season)\n",
        "  filename = str(leagueId) + \"_\" + str(season) + \"_\" + str(teamId) + \"_team_statistics\"\n",
        "  saveJson(path, filename, jsonLeagueSeasonTeamStatistics)\n",
        "  return jsonLeagueSeasonTeamStatistics"
      ],
      "metadata": {
        "id": "KopphVI5tfY9"
      },
      "execution_count": null,
      "outputs": []
    },
    {
      "cell_type": "code",
      "source": [
        "def getAllSeasonLeagueTeamStatistics(listOfSeasonLeagueTeams):\n",
        "  listOfSeasonLeagueTeamsStatistics = []\n",
        "  \n",
        "  for x in listOfSeasonLeagueTeams:\n",
        "    teamSeasonLeagueJson = json.loads(x)\n",
        "    jsonLeagueSeasonTeamStatisticsResp = getTeamsStatistics(teamSeasonLeagueJson[\"season\"],teamSeasonLeagueJson[\"league\"],teamSeasonLeagueJson[\"team\"])\n",
        "    listOfSeasonLeagueTeamsStatistics.append(str(jsonLeagueSeasonTeamStatisticsResp[\"response\"]))\n",
        "\n",
        "  return listOfSeasonLeagueTeamsStatistics"
      ],
      "metadata": {
        "id": "TPZVj2xmyqoC"
      },
      "execution_count": null,
      "outputs": []
    },
    {
      "cell_type": "code",
      "source": [
        "#listOfSeasonLeagueTeams = getAllSeasonLeagueTeam(jsonLeagues)\n",
        "#listOfSeasonLeagueTeamsStatistics = getAllSeasonLeagueTeamStatistics(listOfSeasonLeagueTeams)\n",
        "listOfSeasonLeagueTeams = importJson(\"teams/allSeasonLeagueTeam.json\")"
      ],
      "metadata": {
        "id": "ciG3NYnQzXg3"
      },
      "execution_count": null,
      "outputs": []
    },
    {
      "cell_type": "markdown",
      "source": [
        "## Team Squad Players"
      ],
      "metadata": {
        "id": "dRCDRbhwYPfd"
      }
    },
    {
      "cell_type": "code",
      "source": [
        "def getTeamSquad(season, leagueId, teamId):\n",
        "  teamSquadUrl = \"players/squads?team=\" + str(teamId)\n",
        "  jsonLeagueSeasonTeamSquad = getApiSports(teamSquadUrl)\n",
        "  path = \"teams/league/\" + str(leagueId) + \"/\" + str(season)\n",
        "  filename = str(leagueId) + \"_\" + str(season) + \"_\" + str(teamId) + \"_team_squad\"\n",
        "  saveJson(path, filename, jsonLeagueSeasonTeamSquad)\n",
        "  return jsonLeagueSeasonTeamSquad"
      ],
      "metadata": {
        "id": "YfpGIc3LYD9w"
      },
      "execution_count": null,
      "outputs": []
    },
    {
      "cell_type": "code",
      "source": [
        "def getAllLeagueTeamsSquad(listOfSeasonLeagueTeams):\n",
        "  listOfSeasonLeagueTeamsSquad = []\n",
        "  \n",
        "  for x in listOfSeasonLeagueTeams:\n",
        "    teamSeasonLeagueJson = json.loads(x)\n",
        "    jsonLeagueSeasonTeamSquadResp = getTeamSquad(teamSeasonLeagueJson[\"season\"],teamSeasonLeagueJson[\"league\"],teamSeasonLeagueJson[\"team\"])\n",
        "    listOfSeasonLeagueTeamsSquad.append(str(jsonLeagueSeasonTeamSquadResp[\"response\"]))\n",
        "\n",
        "  return listOfSeasonLeagueTeamsSquad"
      ],
      "metadata": {
        "id": "LtoUfOCXYEEx"
      },
      "execution_count": null,
      "outputs": []
    },
    {
      "cell_type": "code",
      "source": [
        "#listOfSeasonLeagueTeams = importJson(\"teams/allSeasonLeagueTeam.json\")\n",
        "#currentlySeason = 2022\n",
        "#listOfSeasonLeagueTeamsFiltered = [x for x in listOfSeasonLeagueTeams if json.loads(x)[\"season\"] == currentlySeason]\n",
        "#listOfSeasonLeagueTeamsSquad = getAllLeagueTeamsSquad(listOfSeasonLeagueTeamsFiltered)"
      ],
      "metadata": {
        "id": "HC3oZ18dYHI9"
      },
      "execution_count": null,
      "outputs": []
    },
    {
      "cell_type": "markdown",
      "source": [
        "# Standings\n",
        "\n",
        "**Deve ser atualizado uma vez por dia na season atual**\n",
        "\n",
        "https://www.api-football.com/documentation-v3#tag/Standings"
      ],
      "metadata": {
        "id": "-oKqMKUtEMhL"
      }
    },
    {
      "cell_type": "code",
      "source": [
        "def getSeasonStandings(season, leagueId):\n",
        "  seasonStandingsUrl = \"standings?season=\" + str(season) + \"&league=\" + str(leagueId)\n",
        "  jsonLeagueSeasonStandings = getApiSports(seasonStandingsUrl)\n",
        "  path = \"standing/league/\" + str(leagueId) + \"/\" + str(season)\n",
        "  filename = str(leagueId) + \"_\" + str(season) + \"_season_standings\"\n",
        "  saveJson(path, filename, jsonLeagueSeasonStandings)\n",
        "  return jsonLeagueSeasonStandings"
      ],
      "metadata": {
        "id": "93CcgNq8EXDz"
      },
      "execution_count": null,
      "outputs": []
    },
    {
      "cell_type": "code",
      "source": [
        "def getAllSeasonStandings(listOfSeasonLeague):\n",
        "  listOfSeasonLeagueStandings = []\n",
        "\n",
        "  for x in listOfSeasonLeague:\n",
        "    teamSeasonLeagueJson = json.loads(x)\n",
        "    jsonLeagueSeasonStandingsResp = getSeasonStandings(teamSeasonLeagueJson[\"season\"],teamSeasonLeagueJson[\"league\"])\n",
        "    \n",
        "    listOfSeasonLeagueStandings.append(str(jsonLeagueSeasonStandingsResp[\"response\"]))\n",
        "  saveJson(\"standing\", \"allSeasonLeagueStanding\", listOfSeasonLeagueStandings)\n",
        "  return listOfSeasonLeagueStandings"
      ],
      "metadata": {
        "id": "l4GDqVk-FoTY"
      },
      "execution_count": null,
      "outputs": []
    },
    {
      "cell_type": "code",
      "source": [
        "#listOfSeasonLeague = getAllSeasonLeagueInformation(jsonLeagues)\n",
        "#listOfSeasonLeagueStandings = getAllSeasonStandings(listOfSeasonLeague)\n",
        "listOfSeasonLeagueStandings = importJson(\"standing/allSeasonLeagueStanding.json\")"
      ],
      "metadata": {
        "id": "mjySVA5hGJk3"
      },
      "execution_count": null,
      "outputs": []
    },
    {
      "cell_type": "markdown",
      "source": [
        "# Fixtures\n",
        "\n",
        "**Update Frequency** : This endpoint is updated every 15 seconds.\n",
        "\n",
        "**Recommended Calls** : 1 call per minute for the leagues, teams, fixtures who have at least one fixture in progress otherwise 1 call per day.\n",
        "\n",
        "https://www.api-football.com/documentation-v3#tag/Fixtures"
      ],
      "metadata": {
        "id": "Vjf9RjzmKmgv"
      }
    },
    {
      "cell_type": "code",
      "source": [
        "def getFixturesLive(leagueId):\n",
        "  fixturesRoundsLiveUrl = f\"fixtures?live=all&league={str(leagueId)}\"\n",
        "  jsonFixturesLive = getApiSports(fixturesRoundsLiveUrl)\n",
        "  return jsonFixturesLive"
      ],
      "metadata": {
        "id": "xJvxnA_JUNtF"
      },
      "execution_count": null,
      "outputs": []
    },
    {
      "cell_type": "code",
      "source": [
        "def getFixtures(season, leagueId):\n",
        "  fixturesRoundsUrl = f\"fixtures?season={str(season)}&league={str(leagueId)}\"\n",
        "  jsonFixtures = getApiSports(fixturesRoundsUrl)\n",
        "  path = f\"fixtures/league/{str(leagueId)}/{str(season)}\"\n",
        "  filename = f\"{str(leagueId)}_{str(season)}_fixtures\"\n",
        "  saveJson(path, filename, jsonFixtures)\n",
        "  return jsonFixtures"
      ],
      "metadata": {
        "id": "ler2OwApKr5B"
      },
      "execution_count": null,
      "outputs": []
    },
    {
      "cell_type": "code",
      "source": [
        "def getAllFixtures(listOfSeasonLeague):\n",
        "  listOfSeasonLeagueFixtures = []\n",
        "\n",
        "  for x in listOfSeasonLeague:\n",
        "    fixtureSeasonLeagueJson = json.loads(x)\n",
        "    jsonSeasonLeagueFixturesResp = getFixtures(fixtureSeasonLeagueJson[\"season\"],fixtureSeasonLeagueJson[\"league\"])\n",
        "    for y in jsonSeasonLeagueFixturesResp[\"response\"]:\n",
        "      jsonSeasonLeagueFixtures = \"{\\\"fixture\\\":\" + str(y[\"fixture\"][\"id\"]) + \" ,\\\"league\\\": \" + str(y[\"league\"][\"id\"]) + \" ,\\\"season\\\": \" + str(y[\"league\"][\"season\"]) + \" ,\\\"team1\\\": \" + str(y[\"teams\"][\"home\"][\"id\"]) + \" ,\\\"team2\\\": \" + str(y[\"teams\"][\"away\"][\"id\"]) + \" ,\\\"date\\\": \\\"\" + str(y[\"fixture\"][\"date\"][:len(y[\"fixture\"][\"date\"])-15]) + \"\\\"}\"\n",
        "      listOfSeasonLeagueFixtures.append(str(jsonSeasonLeagueFixtures))\n",
        "  \n",
        "  saveJson(\"fixtures\", \"allSeasonLeagueFixtures\", listOfSeasonLeagueFixtures)\n",
        "  return listOfSeasonLeagueFixtures"
      ],
      "metadata": {
        "id": "iMWF9_snMpDP"
      },
      "execution_count": null,
      "outputs": []
    },
    {
      "cell_type": "code",
      "source": [
        "#listOfSeasonLeagueFixtures = getAllFixtures(listOfSeasonLeague)\n",
        "listOfSeasonLeague = getAllSeasonLeagueInformation(jsonLeagues)\n",
        "listOfSeasonLeagueFixtures = importJson(\"fixtures/allSeasonLeagueFixtures.json\")"
      ],
      "metadata": {
        "id": "vbjKorzOPJOQ"
      },
      "execution_count": null,
      "outputs": []
    },
    {
      "cell_type": "code",
      "source": [
        "#jsonFixturesLive = getFixturesLive(169) #liga chinesa teste"
      ],
      "metadata": {
        "id": "KYLIbMoEUkWK"
      },
      "execution_count": null,
      "outputs": []
    },
    {
      "cell_type": "markdown",
      "source": [
        "## Fixtures H2H\n",
        "Podemos ir buscar o historico (mas esta api será mais usada no momento do confronto entre equipas do dia seguinte por exemplo)\n",
        "\n",
        "**Update Frequency** : This endpoint is updated every 15 seconds.\n",
        "\n",
        "**Recommended Calls** : 1 call per minute for the leagues, teams, fixtures who have at least one fixture in progress otherwise 1 call per day.\n",
        "\n",
        "https://www.api-football.com/documentation-v3#tag/Fixtures/operation/get-fixtures-headtohead"
      ],
      "metadata": {
        "id": "qcRbr-6jT-N1"
      }
    },
    {
      "cell_type": "code",
      "source": [
        "def getFixturesH2H(teamId1, teamId2, fromDate, toDate):\n",
        "  fixtureH2HUrl = \"fixtures/headtohead?h2h=\" + str(teamId1) + \"-\" + str(teamId2) + \"&from=\" + fromDate + \"&to=\" + toDate\n",
        "  jsonFixturesH2H = getApiSports(fixtureH2HUrl)\n",
        "  return jsonFixturesH2H\n",
        "\n",
        "def getFixturesH2HSaveJson(fixtureId, leagueId, season, teamId1, teamId2, fromDate, toDate):\n",
        "  jsonFixturesH2HAux = getFixturesH2H(teamId1, teamId2, fromDate, toDate)\n",
        "  path = \"fixtures/league/\" + str(leagueId) + \"/\" + str(season) + \"/\" + str(fixtureId)\n",
        "  filename = str(leagueId) + \"_\" + str(season) + \"_\" + str(fixtureId) + \"_fixtures_h2h\"\n",
        "  saveJson(path, filename, jsonFixturesH2HAux)\n",
        "  return jsonFixturesH2HAux"
      ],
      "metadata": {
        "id": "_9HbsZCFUEw-"
      },
      "execution_count": null,
      "outputs": []
    },
    {
      "cell_type": "code",
      "source": [
        "def getAllFixturesH2H(listOfSeasonLeagueFixtures, fromDate):\n",
        "  listOfSeasonLeagueFixturesH2H = []\n",
        "  for x in listOfSeasonLeagueFixtures:\n",
        "    fixtureSeasonLeagueJson = json.loads(x) \n",
        "    if parser.parse(fixtureSeasonLeagueJson[\"date\"]).date() <= date.today():\n",
        "      jsonSeasonLeagueFixturesH2HResp = getFixturesH2HSaveJson(fixtureSeasonLeagueJson[\"fixture\"],fixtureSeasonLeagueJson[\"league\"],fixtureSeasonLeagueJson[\"season\"],fixtureSeasonLeagueJson[\"team1\"],fixtureSeasonLeagueJson[\"team2\"], fromDate, fixtureSeasonLeagueJson[\"date\"])\n",
        "      #listOfSeasonLeagueFixturesH2H.append(jsonSeasonLeagueFixturesH2HResp) #demasiadas fixtures para ficarem guardadas numa variável\n",
        "  return listOfSeasonLeagueFixtures"
      ],
      "metadata": {
        "id": "VvFpZPuUnAq4"
      },
      "execution_count": null,
      "outputs": []
    },
    {
      "cell_type": "code",
      "source": [
        "#getFixturesH2H(417,194,\"2011-12-11\",\"2011-12-11\") #as datas from e to são inclusives\n",
        "#getAllFixturesH2H(listOfSeasonLeagueFixtures,\"2000-01-01\")\n",
        "\n",
        "#lstLeagues = [2,3]\n",
        "lstSeasons = [2022] \n",
        "#lstSeasons = [2010,2011,2012,2013,2014,2015,2016,2017,2018,2019,2020,2021,2022]\n",
        "listOfSeasonLeagueFixturesFiltered = [x for x in listOfSeasonLeagueFixtures if json.loads(x)[\"season\"] in lstSeasons]\n",
        "getAllFixturesH2H(listOfSeasonLeagueFixturesFiltered,\"2000-01-01\")"
      ],
      "metadata": {
        "id": "d9gtlG1Pjppl",
        "colab": {
          "base_uri": "https://localhost:8080/"
        },
        "outputId": "87ab8ef9-44c2-49bd-80c7-f806d5674174"
      },
      "execution_count": null,
      "outputs": [
        {
          "output_type": "execute_result",
          "data": {
            "text/plain": [
              "['{\"fixture\":871470 ,\"league\": 61 ,\"season\": 2022 ,\"team1\": 95 ,\"team2\": 91 ,\"date\": \"2022-08-06\"}',\n",
              " '{\"fixture\":871471 ,\"league\": 61 ,\"season\": 2022 ,\"team1\": 94 ,\"team2\": 97 ,\"date\": \"2022-08-07\"}',\n",
              " '{\"fixture\":871472 ,\"league\": 61 ,\"season\": 2022 ,\"team1\": 99 ,\"team2\": 85 ,\"date\": \"2022-08-06\"}',\n",
              " '{\"fixture\":871473 ,\"league\": 61 ,\"season\": 2022 ,\"team1\": 96 ,\"team2\": 84 ,\"date\": \"2022-08-07\"}',\n",
              " '{\"fixture\":871474 ,\"league\": 61 ,\"season\": 2022 ,\"team1\": 80 ,\"team2\": 98 ,\"date\": \"2022-08-05\"}',\n",
              " '{\"fixture\":871475 ,\"league\": 61 ,\"season\": 2022 ,\"team1\": 79 ,\"team2\": 108 ,\"date\": \"2022-08-07\"}',\n",
              " '{\"fixture\":871476 ,\"league\": 61 ,\"season\": 2022 ,\"team1\": 77 ,\"team2\": 83 ,\"date\": \"2022-08-07\"}',\n",
              " '{\"fixture\":871477 ,\"league\": 61 ,\"season\": 2022 ,\"team1\": 82 ,\"team2\": 110 ,\"date\": \"2022-08-07\"}',\n",
              " '{\"fixture\":871478 ,\"league\": 61 ,\"season\": 2022 ,\"team1\": 81 ,\"team2\": 93 ,\"date\": \"2022-08-07\"}',\n",
              " '{\"fixture\":871479 ,\"league\": 61 ,\"season\": 2022 ,\"team1\": 116 ,\"team2\": 106 ,\"date\": \"2022-08-07\"}',\n",
              " '{\"fixture\":871480 ,\"league\": 61 ,\"season\": 2022 ,\"team1\": 98 ,\"team2\": 116 ,\"date\": \"2022-08-14\"}',\n",
              " '{\"fixture\":871481 ,\"league\": 61 ,\"season\": 2022 ,\"team1\": 108 ,\"team2\": 77 ,\"date\": \"2022-08-14\"}',\n",
              " '{\"fixture\":871482 ,\"league\": 61 ,\"season\": 2022 ,\"team1\": 91 ,\"team2\": 94 ,\"date\": \"2022-08-13\"}',\n",
              " '{\"fixture\":871483 ,\"league\": 61 ,\"season\": 2022 ,\"team1\": 97 ,\"team2\": 80 ,\"date\": \"2022-09-07\"}',\n",
              " '{\"fixture\":871484 ,\"league\": 61 ,\"season\": 2022 ,\"team1\": 83 ,\"team2\": 79 ,\"date\": \"2022-08-12\"}',\n",
              " '{\"fixture\":871485 ,\"league\": 61 ,\"season\": 2022 ,\"team1\": 84 ,\"team2\": 95 ,\"date\": \"2022-08-14\"}',\n",
              " '{\"fixture\":871486 ,\"league\": 61 ,\"season\": 2022 ,\"team1\": 85 ,\"team2\": 82 ,\"date\": \"2022-08-13\"}',\n",
              " '{\"fixture\":871487 ,\"league\": 61 ,\"season\": 2022 ,\"team1\": 106 ,\"team2\": 81 ,\"date\": \"2022-08-14\"}',\n",
              " '{\"fixture\":871488 ,\"league\": 61 ,\"season\": 2022 ,\"team1\": 93 ,\"team2\": 99 ,\"date\": \"2022-08-14\"}',\n",
              " '{\"fixture\":871489 ,\"league\": 61 ,\"season\": 2022 ,\"team1\": 110 ,\"team2\": 96 ,\"date\": \"2022-08-14\"}',\n",
              " '{\"fixture\":871490 ,\"league\": 61 ,\"season\": 2022 ,\"team1\": 91 ,\"team2\": 116 ,\"date\": \"2022-08-20\"}',\n",
              " '{\"fixture\":871491 ,\"league\": 61 ,\"season\": 2022 ,\"team1\": 77 ,\"team2\": 106 ,\"date\": \"2022-08-21\"}',\n",
              " '{\"fixture\":871492 ,\"league\": 61 ,\"season\": 2022 ,\"team1\": 99 ,\"team2\": 84 ,\"date\": \"2022-08-21\"}',\n",
              " '{\"fixture\":871493 ,\"league\": 61 ,\"season\": 2022 ,\"team1\": 79 ,\"team2\": 85 ,\"date\": \"2022-08-21\"}',\n",
              " '{\"fixture\":871494 ,\"league\": 61 ,\"season\": 2022 ,\"team1\": 82 ,\"team2\": 108 ,\"date\": \"2022-08-21\"}',\n",
              " '{\"fixture\":871495 ,\"league\": 61 ,\"season\": 2022 ,\"team1\": 80 ,\"team2\": 110 ,\"date\": \"2022-08-19\"}',\n",
              " '{\"fixture\":871496 ,\"league\": 61 ,\"season\": 2022 ,\"team1\": 81 ,\"team2\": 83 ,\"date\": \"2022-08-20\"}',\n",
              " '{\"fixture\":871497 ,\"league\": 61 ,\"season\": 2022 ,\"team1\": 95 ,\"team2\": 93 ,\"date\": \"2022-08-21\"}',\n",
              " '{\"fixture\":871498 ,\"league\": 61 ,\"season\": 2022 ,\"team1\": 94 ,\"team2\": 98 ,\"date\": \"2022-08-21\"}',\n",
              " '{\"fixture\":871499 ,\"league\": 61 ,\"season\": 2022 ,\"team1\": 96 ,\"team2\": 97 ,\"date\": \"2022-08-21\"}',\n",
              " '{\"fixture\":871500 ,\"league\": 61 ,\"season\": 2022 ,\"team1\": 98 ,\"team2\": 79 ,\"date\": \"2022-08-26\"}',\n",
              " '{\"fixture\":871501 ,\"league\": 61 ,\"season\": 2022 ,\"team1\": 108 ,\"team2\": 95 ,\"date\": \"2022-08-27\"}',\n",
              " '{\"fixture\":871502 ,\"league\": 61 ,\"season\": 2022 ,\"team1\": 97 ,\"team2\": 99 ,\"date\": \"2022-08-28\"}',\n",
              " '{\"fixture\":871503 ,\"league\": 61 ,\"season\": 2022 ,\"team1\": 83 ,\"team2\": 96 ,\"date\": \"2022-08-28\"}',\n",
              " '{\"fixture\":871504 ,\"league\": 61 ,\"season\": 2022 ,\"team1\": 84 ,\"team2\": 81 ,\"date\": \"2022-08-28\"}',\n",
              " '{\"fixture\":871505 ,\"league\": 61 ,\"season\": 2022 ,\"team1\": 85 ,\"team2\": 91 ,\"date\": \"2022-08-28\"}',\n",
              " '{\"fixture\":871506 ,\"league\": 61 ,\"season\": 2022 ,\"team1\": 116 ,\"team2\": 94 ,\"date\": \"2022-08-27\"}',\n",
              " '{\"fixture\":871507 ,\"league\": 61 ,\"season\": 2022 ,\"team1\": 106 ,\"team2\": 82 ,\"date\": \"2022-08-28\"}',\n",
              " '{\"fixture\":871508 ,\"league\": 61 ,\"season\": 2022 ,\"team1\": 93 ,\"team2\": 80 ,\"date\": \"2022-08-28\"}',\n",
              " '{\"fixture\":871509 ,\"league\": 61 ,\"season\": 2022 ,\"team1\": 110 ,\"team2\": 77 ,\"date\": \"2022-08-28\"}',\n",
              " '{\"fixture\":871510 ,\"league\": 61 ,\"season\": 2022 ,\"team1\": 91 ,\"team2\": 110 ,\"date\": \"2022-08-31\"}',\n",
              " '{\"fixture\":871511 ,\"league\": 61 ,\"season\": 2022 ,\"team1\": 77 ,\"team2\": 93 ,\"date\": \"2022-08-31\"}',\n",
              " '{\"fixture\":871512 ,\"league\": 61 ,\"season\": 2022 ,\"team1\": 79 ,\"team2\": 84 ,\"date\": \"2022-08-31\"}',\n",
              " '{\"fixture\":871513 ,\"league\": 61 ,\"season\": 2022 ,\"team1\": 82 ,\"team2\": 98 ,\"date\": \"2022-08-31\"}',\n",
              " '{\"fixture\":871514 ,\"league\": 61 ,\"season\": 2022 ,\"team1\": 80 ,\"team2\": 108 ,\"date\": \"2022-08-31\"}',\n",
              " '{\"fixture\":871515 ,\"league\": 61 ,\"season\": 2022 ,\"team1\": 81 ,\"team2\": 99 ,\"date\": \"2022-08-31\"}',\n",
              " '{\"fixture\":871516 ,\"league\": 61 ,\"season\": 2022 ,\"team1\": 116 ,\"team2\": 97 ,\"date\": \"2022-08-31\"}',\n",
              " '{\"fixture\":871517 ,\"league\": 61 ,\"season\": 2022 ,\"team1\": 95 ,\"team2\": 83 ,\"date\": \"2022-08-31\"}',\n",
              " '{\"fixture\":871518 ,\"league\": 61 ,\"season\": 2022 ,\"team1\": 94 ,\"team2\": 106 ,\"date\": \"2022-08-31\"}',\n",
              " '{\"fixture\":871519 ,\"league\": 61 ,\"season\": 2022 ,\"team1\": 96 ,\"team2\": 85 ,\"date\": \"2022-08-31\"}',\n",
              " '{\"fixture\":871520 ,\"league\": 61 ,\"season\": 2022 ,\"team1\": 98 ,\"team2\": 97 ,\"date\": \"2022-09-04\"}',\n",
              " '{\"fixture\":871521 ,\"league\": 61 ,\"season\": 2022 ,\"team1\": 108 ,\"team2\": 81 ,\"date\": \"2022-09-03\"}',\n",
              " '{\"fixture\":871522 ,\"league\": 61 ,\"season\": 2022 ,\"team1\": 99 ,\"team2\": 96 ,\"date\": \"2022-09-04\"}',\n",
              " '{\"fixture\":871523 ,\"league\": 61 ,\"season\": 2022 ,\"team1\": 83 ,\"team2\": 85 ,\"date\": \"2022-09-03\"}',\n",
              " '{\"fixture\":871524 ,\"league\": 61 ,\"season\": 2022 ,\"team1\": 82 ,\"team2\": 79 ,\"date\": \"2022-09-04\"}',\n",
              " '{\"fixture\":871525 ,\"league\": 61 ,\"season\": 2022 ,\"team1\": 84 ,\"team2\": 91 ,\"date\": \"2022-09-04\"}',\n",
              " '{\"fixture\":871526 ,\"league\": 61 ,\"season\": 2022 ,\"team1\": 80 ,\"team2\": 77 ,\"date\": \"2022-09-03\"}',\n",
              " '{\"fixture\":871527 ,\"league\": 61 ,\"season\": 2022 ,\"team1\": 106 ,\"team2\": 95 ,\"date\": \"2022-09-04\"}',\n",
              " '{\"fixture\":871528 ,\"league\": 61 ,\"season\": 2022 ,\"team1\": 93 ,\"team2\": 116 ,\"date\": \"2022-09-04\"}',\n",
              " '{\"fixture\":871529 ,\"league\": 61 ,\"season\": 2022 ,\"team1\": 110 ,\"team2\": 94 ,\"date\": \"2022-09-04\"}',\n",
              " '{\"fixture\":871530 ,\"league\": 61 ,\"season\": 2022 ,\"team1\": 98 ,\"team2\": 84 ,\"date\": \"2022-09-11\"}',\n",
              " '{\"fixture\":871531 ,\"league\": 61 ,\"season\": 2022 ,\"team1\": 91 ,\"team2\": 80 ,\"date\": \"2022-09-11\"}',\n",
              " '{\"fixture\":871532 ,\"league\": 61 ,\"season\": 2022 ,\"team1\": 77 ,\"team2\": 82 ,\"date\": \"2022-09-11\"}',\n",
              " '{\"fixture\":871533 ,\"league\": 61 ,\"season\": 2022 ,\"team1\": 97 ,\"team2\": 83 ,\"date\": \"2022-09-11\"}',\n",
              " '{\"fixture\":871534 ,\"league\": 61 ,\"season\": 2022 ,\"team1\": 81 ,\"team2\": 79 ,\"date\": \"2022-09-11\"}',\n",
              " '{\"fixture\":871535 ,\"league\": 61 ,\"season\": 2022 ,\"team1\": 85 ,\"team2\": 106 ,\"date\": \"2022-09-11\"}',\n",
              " '{\"fixture\":871536 ,\"league\": 61 ,\"season\": 2022 ,\"team1\": 116 ,\"team2\": 110 ,\"date\": \"2022-09-11\"}',\n",
              " '{\"fixture\":871537 ,\"league\": 61 ,\"season\": 2022 ,\"team1\": 95 ,\"team2\": 99 ,\"date\": \"2022-09-11\"}',\n",
              " '{\"fixture\":871538 ,\"league\": 61 ,\"season\": 2022 ,\"team1\": 94 ,\"team2\": 108 ,\"date\": \"2022-09-11\"}',\n",
              " '{\"fixture\":871539 ,\"league\": 61 ,\"season\": 2022 ,\"team1\": 96 ,\"team2\": 93 ,\"date\": \"2022-09-11\"}',\n",
              " '{\"fixture\":871540 ,\"league\": 61 ,\"season\": 2022 ,\"team1\": 108 ,\"team2\": 97 ,\"date\": \"2022-09-18\"}',\n",
              " '{\"fixture\":871541 ,\"league\": 61 ,\"season\": 2022 ,\"team1\": 99 ,\"team2\": 110 ,\"date\": \"2022-09-18\"}',\n",
              " '{\"fixture\":871542 ,\"league\": 61 ,\"season\": 2022 ,\"team1\": 83 ,\"team2\": 116 ,\"date\": \"2022-09-18\"}',\n",
              " '{\"fixture\":871543 ,\"league\": 61 ,\"season\": 2022 ,\"team1\": 79 ,\"team2\": 96 ,\"date\": \"2022-09-18\"}',\n",
              " '{\"fixture\":871544 ,\"league\": 61 ,\"season\": 2022 ,\"team1\": 82 ,\"team2\": 95 ,\"date\": \"2022-09-18\"}',\n",
              " '{\"fixture\":871545 ,\"league\": 61 ,\"season\": 2022 ,\"team1\": 84 ,\"team2\": 77 ,\"date\": \"2022-09-18\"}',\n",
              " '{\"fixture\":871546 ,\"league\": 61 ,\"season\": 2022 ,\"team1\": 80 ,\"team2\": 85 ,\"date\": \"2022-09-18\"}',\n",
              " '{\"fixture\":871547 ,\"league\": 61 ,\"season\": 2022 ,\"team1\": 81 ,\"team2\": 94 ,\"date\": \"2022-09-18\"}',\n",
              " '{\"fixture\":871548 ,\"league\": 61 ,\"season\": 2022 ,\"team1\": 106 ,\"team2\": 98 ,\"date\": \"2022-09-18\"}',\n",
              " '{\"fixture\":871549 ,\"league\": 61 ,\"season\": 2022 ,\"team1\": 93 ,\"team2\": 91 ,\"date\": \"2022-09-18\"}',\n",
              " '{\"fixture\":871550 ,\"league\": 61 ,\"season\": 2022 ,\"team1\": 98 ,\"team2\": 99 ,\"date\": \"2022-10-02\"}',\n",
              " '{\"fixture\":871551 ,\"league\": 61 ,\"season\": 2022 ,\"team1\": 108 ,\"team2\": 106 ,\"date\": \"2022-10-02\"}',\n",
              " '{\"fixture\":871552 ,\"league\": 61 ,\"season\": 2022 ,\"team1\": 91 ,\"team2\": 83 ,\"date\": \"2022-10-02\"}',\n",
              " '{\"fixture\":871553 ,\"league\": 61 ,\"season\": 2022 ,\"team1\": 77 ,\"team2\": 81 ,\"date\": \"2022-10-02\"}',\n",
              " '{\"fixture\":871554 ,\"league\": 61 ,\"season\": 2022 ,\"team1\": 97 ,\"team2\": 79 ,\"date\": \"2022-10-02\"}',\n",
              " '{\"fixture\":871555 ,\"league\": 61 ,\"season\": 2022 ,\"team1\": 85 ,\"team2\": 84 ,\"date\": \"2022-10-02\"}',\n",
              " '{\"fixture\":871556 ,\"league\": 61 ,\"season\": 2022 ,\"team1\": 116 ,\"team2\": 80 ,\"date\": \"2022-10-02\"}',\n",
              " '{\"fixture\":871557 ,\"league\": 61 ,\"season\": 2022 ,\"team1\": 95 ,\"team2\": 94 ,\"date\": \"2022-10-02\"}',\n",
              " '{\"fixture\":871558 ,\"league\": 61 ,\"season\": 2022 ,\"team1\": 96 ,\"team2\": 82 ,\"date\": \"2022-10-02\"}',\n",
              " '{\"fixture\":871559 ,\"league\": 61 ,\"season\": 2022 ,\"team1\": 110 ,\"team2\": 93 ,\"date\": \"2022-10-02\"}',\n",
              " '{\"fixture\":871560 ,\"league\": 61 ,\"season\": 2022 ,\"team1\": 77 ,\"team2\": 95 ,\"date\": \"2022-10-09\"}',\n",
              " '{\"fixture\":871561 ,\"league\": 61 ,\"season\": 2022 ,\"team1\": 99 ,\"team2\": 108 ,\"date\": \"2022-10-09\"}',\n",
              " '{\"fixture\":871562 ,\"league\": 61 ,\"season\": 2022 ,\"team1\": 79 ,\"team2\": 116 ,\"date\": \"2022-10-09\"}',\n",
              " '{\"fixture\":871563 ,\"league\": 61 ,\"season\": 2022 ,\"team1\": 82 ,\"team2\": 91 ,\"date\": \"2022-10-09\"}',\n",
              " '{\"fixture\":871564 ,\"league\": 61 ,\"season\": 2022 ,\"team1\": 84 ,\"team2\": 110 ,\"date\": \"2022-10-09\"}',\n",
              " '{\"fixture\":871565 ,\"league\": 61 ,\"season\": 2022 ,\"team1\": 80 ,\"team2\": 96 ,\"date\": \"2022-10-09\"}',\n",
              " '{\"fixture\":871566 ,\"league\": 61 ,\"season\": 2022 ,\"team1\": 81 ,\"team2\": 98 ,\"date\": \"2022-10-09\"}',\n",
              " '{\"fixture\":871567 ,\"league\": 61 ,\"season\": 2022 ,\"team1\": 106 ,\"team2\": 97 ,\"date\": \"2022-10-09\"}',\n",
              " '{\"fixture\":871568 ,\"league\": 61 ,\"season\": 2022 ,\"team1\": 94 ,\"team2\": 83 ,\"date\": \"2022-10-09\"}',\n",
              " '{\"fixture\":871569 ,\"league\": 61 ,\"season\": 2022 ,\"team1\": 93 ,\"team2\": 85 ,\"date\": \"2022-10-09\"}',\n",
              " '{\"fixture\":871570 ,\"league\": 61 ,\"season\": 2022 ,\"team1\": 108 ,\"team2\": 84 ,\"date\": \"2022-10-16\"}',\n",
              " '{\"fixture\":871571 ,\"league\": 61 ,\"season\": 2022 ,\"team1\": 91 ,\"team2\": 99 ,\"date\": \"2022-10-16\"}',\n",
              " '{\"fixture\":871572 ,\"league\": 61 ,\"season\": 2022 ,\"team1\": 97 ,\"team2\": 93 ,\"date\": \"2022-10-16\"}',\n",
              " '{\"fixture\":871573 ,\"league\": 61 ,\"season\": 2022 ,\"team1\": 83 ,\"team2\": 106 ,\"date\": \"2022-10-16\"}',\n",
              " '{\"fixture\":871574 ,\"league\": 61 ,\"season\": 2022 ,\"team1\": 85 ,\"team2\": 81 ,\"date\": \"2022-10-16\"}',\n",
              " '{\"fixture\":871575 ,\"league\": 61 ,\"season\": 2022 ,\"team1\": 116 ,\"team2\": 82 ,\"date\": \"2022-10-16\"}',\n",
              " '{\"fixture\":871576 ,\"league\": 61 ,\"season\": 2022 ,\"team1\": 95 ,\"team2\": 79 ,\"date\": \"2022-10-16\"}',\n",
              " '{\"fixture\":871577 ,\"league\": 61 ,\"season\": 2022 ,\"team1\": 94 ,\"team2\": 80 ,\"date\": \"2022-10-16\"}',\n",
              " '{\"fixture\":871578 ,\"league\": 61 ,\"season\": 2022 ,\"team1\": 96 ,\"team2\": 77 ,\"date\": \"2022-10-16\"}',\n",
              " '{\"fixture\":871579 ,\"league\": 61 ,\"season\": 2022 ,\"team1\": 110 ,\"team2\": 98 ,\"date\": \"2022-10-16\"}',\n",
              " '{\"fixture\":871580 ,\"league\": 61 ,\"season\": 2022 ,\"team1\": 98 ,\"team2\": 85 ,\"date\": \"2022-10-23\"}',\n",
              " '{\"fixture\":871581 ,\"league\": 61 ,\"season\": 2022 ,\"team1\": 77 ,\"team2\": 94 ,\"date\": \"2022-10-23\"}',\n",
              " '{\"fixture\":871582 ,\"league\": 61 ,\"season\": 2022 ,\"team1\": 99 ,\"team2\": 106 ,\"date\": \"2022-10-23\"}',\n",
              " '{\"fixture\":871583 ,\"league\": 61 ,\"season\": 2022 ,\"team1\": 79 ,\"team2\": 91 ,\"date\": \"2022-10-23\"}',\n",
              " '{\"fixture\":871584 ,\"league\": 61 ,\"season\": 2022 ,\"team1\": 82 ,\"team2\": 80 ,\"date\": \"2022-10-23\"}',\n",
              " '{\"fixture\":871585 ,\"league\": 61 ,\"season\": 2022 ,\"team1\": 84 ,\"team2\": 83 ,\"date\": \"2022-10-23\"}',\n",
              " '{\"fixture\":871586 ,\"league\": 61 ,\"season\": 2022 ,\"team1\": 81 ,\"team2\": 116 ,\"date\": \"2022-10-23\"}',\n",
              " '{\"fixture\":871587 ,\"league\": 61 ,\"season\": 2022 ,\"team1\": 93 ,\"team2\": 108 ,\"date\": \"2022-10-23\"}',\n",
              " '{\"fixture\":871588 ,\"league\": 61 ,\"season\": 2022 ,\"team1\": 96 ,\"team2\": 95 ,\"date\": \"2022-10-23\"}',\n",
              " '{\"fixture\":871589 ,\"league\": 61 ,\"season\": 2022 ,\"team1\": 110 ,\"team2\": 97 ,\"date\": \"2022-10-23\"}',\n",
              " '{\"fixture\":871590 ,\"league\": 61 ,\"season\": 2022 ,\"team1\": 108 ,\"team2\": 98 ,\"date\": \"2022-10-30\"}',\n",
              " '{\"fixture\":871591 ,\"league\": 61 ,\"season\": 2022 ,\"team1\": 91 ,\"team2\": 77 ,\"date\": \"2022-10-30\"}',\n",
              " '{\"fixture\":871592 ,\"league\": 61 ,\"season\": 2022 ,\"team1\": 97 ,\"team2\": 84 ,\"date\": \"2022-10-30\"}',\n",
              " '{\"fixture\":871593 ,\"league\": 61 ,\"season\": 2022 ,\"team1\": 83 ,\"team2\": 99 ,\"date\": \"2022-10-30\"}',\n",
              " '{\"fixture\":871594 ,\"league\": 61 ,\"season\": 2022 ,\"team1\": 80 ,\"team2\": 79 ,\"date\": \"2022-10-30\"}',\n",
              " '{\"fixture\":871595 ,\"league\": 61 ,\"season\": 2022 ,\"team1\": 85 ,\"team2\": 110 ,\"date\": \"2022-10-30\"}',\n",
              " '{\"fixture\":871596 ,\"league\": 61 ,\"season\": 2022 ,\"team1\": 116 ,\"team2\": 96 ,\"date\": \"2022-10-30\"}',\n",
              " '{\"fixture\":871597 ,\"league\": 61 ,\"season\": 2022 ,\"team1\": 95 ,\"team2\": 81 ,\"date\": \"2022-10-30\"}',\n",
              " '{\"fixture\":871598 ,\"league\": 61 ,\"season\": 2022 ,\"team1\": 106 ,\"team2\": 93 ,\"date\": \"2022-10-30\"}',\n",
              " '{\"fixture\":871599 ,\"league\": 61 ,\"season\": 2022 ,\"team1\": 94 ,\"team2\": 82 ,\"date\": \"2022-10-30\"}',\n",
              " '{\"fixture\":871600 ,\"league\": 61 ,\"season\": 2022 ,\"team1\": 98 ,\"team2\": 95 ,\"date\": \"2022-11-06\"}',\n",
              " '{\"fixture\":871601 ,\"league\": 61 ,\"season\": 2022 ,\"team1\": 77 ,\"team2\": 116 ,\"date\": \"2022-11-06\"}',\n",
              " '{\"fixture\":871602 ,\"league\": 61 ,\"season\": 2022 ,\"team1\": 99 ,\"team2\": 82 ,\"date\": \"2022-11-06\"}',\n",
              " '{\"fixture\":871603 ,\"league\": 61 ,\"season\": 2022 ,\"team1\": 97 ,\"team2\": 85 ,\"date\": \"2022-11-06\"}',\n",
              " '{\"fixture\":871604 ,\"league\": 61 ,\"season\": 2022 ,\"team1\": 79 ,\"team2\": 94 ,\"date\": \"2022-11-06\"}',\n",
              " '{\"fixture\":871605 ,\"league\": 61 ,\"season\": 2022 ,\"team1\": 84 ,\"team2\": 106 ,\"date\": \"2022-11-06\"}',\n",
              " '{\"fixture\":871606 ,\"league\": 61 ,\"season\": 2022 ,\"team1\": 81 ,\"team2\": 80 ,\"date\": \"2022-11-06\"}',\n",
              " '{\"fixture\":871607 ,\"league\": 61 ,\"season\": 2022 ,\"team1\": 93 ,\"team2\": 83 ,\"date\": \"2022-11-06\"}',\n",
              " '{\"fixture\":871608 ,\"league\": 61 ,\"season\": 2022 ,\"team1\": 96 ,\"team2\": 91 ,\"date\": \"2022-11-06\"}',\n",
              " '{\"fixture\":871609 ,\"league\": 61 ,\"season\": 2022 ,\"team1\": 110 ,\"team2\": 108 ,\"date\": \"2022-11-06\"}',\n",
              " '{\"fixture\":871610 ,\"league\": 61 ,\"season\": 2022 ,\"team1\": 91 ,\"team2\": 81 ,\"date\": \"2022-11-13\"}',\n",
              " '{\"fixture\":871611 ,\"league\": 61 ,\"season\": 2022 ,\"team1\": 83 ,\"team2\": 98 ,\"date\": \"2022-11-13\"}',\n",
              " '{\"fixture\":871612 ,\"league\": 61 ,\"season\": 2022 ,\"team1\": 79 ,\"team2\": 77 ,\"date\": \"2022-11-13\"}',\n",
              " '{\"fixture\":871613 ,\"league\": 61 ,\"season\": 2022 ,\"team1\": 82 ,\"team2\": 93 ,\"date\": \"2022-11-13\"}',\n",
              " '{\"fixture\":871614 ,\"league\": 61 ,\"season\": 2022 ,\"team1\": 80 ,\"team2\": 84 ,\"date\": \"2022-11-13\"}',\n",
              " '{\"fixture\":871615 ,\"league\": 61 ,\"season\": 2022 ,\"team1\": 85 ,\"team2\": 108 ,\"date\": \"2022-11-13\"}',\n",
              " '{\"fixture\":871616 ,\"league\": 61 ,\"season\": 2022 ,\"team1\": 116 ,\"team2\": 99 ,\"date\": \"2022-11-13\"}',\n",
              " '{\"fixture\":871617 ,\"league\": 61 ,\"season\": 2022 ,\"team1\": 95 ,\"team2\": 97 ,\"date\": \"2022-11-13\"}',\n",
              " '{\"fixture\":871618 ,\"league\": 61 ,\"season\": 2022 ,\"team1\": 106 ,\"team2\": 110 ,\"date\": \"2022-11-13\"}',\n",
              " '{\"fixture\":871619 ,\"league\": 61 ,\"season\": 2022 ,\"team1\": 94 ,\"team2\": 96 ,\"date\": \"2022-11-13\"}',\n",
              " '{\"fixture\":871620 ,\"league\": 61 ,\"season\": 2022 ,\"team1\": 98 ,\"team2\": 77 ,\"date\": \"2022-12-28\"}',\n",
              " '{\"fixture\":871621 ,\"league\": 61 ,\"season\": 2022 ,\"team1\": 108 ,\"team2\": 91 ,\"date\": \"2022-12-28\"}',\n",
              " '{\"fixture\":871622 ,\"league\": 61 ,\"season\": 2022 ,\"team1\": 99 ,\"team2\": 79 ,\"date\": \"2022-12-28\"}',\n",
              " '{\"fixture\":871623 ,\"league\": 61 ,\"season\": 2022 ,\"team1\": 97 ,\"team2\": 82 ,\"date\": \"2022-12-28\"}',\n",
              " '{\"fixture\":871624 ,\"league\": 61 ,\"season\": 2022 ,\"team1\": 84 ,\"team2\": 116 ,\"date\": \"2022-12-28\"}',\n",
              " '{\"fixture\":871625 ,\"league\": 61 ,\"season\": 2022 ,\"team1\": 81 ,\"team2\": 96 ,\"date\": \"2022-12-28\"}',\n",
              " '{\"fixture\":871626 ,\"league\": 61 ,\"season\": 2022 ,\"team1\": 85 ,\"team2\": 95 ,\"date\": \"2022-12-28\"}',\n",
              " '{\"fixture\":871627 ,\"league\": 61 ,\"season\": 2022 ,\"team1\": 106 ,\"team2\": 80 ,\"date\": \"2022-12-28\"}',\n",
              " '{\"fixture\":871628 ,\"league\": 61 ,\"season\": 2022 ,\"team1\": 93 ,\"team2\": 94 ,\"date\": \"2022-12-28\"}',\n",
              " '{\"fixture\":871629 ,\"league\": 61 ,\"season\": 2022 ,\"team1\": 110 ,\"team2\": 83 ,\"date\": \"2022-12-28\"}',\n",
              " '{\"fixture\":871630 ,\"league\": 61 ,\"season\": 2022 ,\"team1\": 91 ,\"team2\": 106 ,\"date\": \"2023-01-01\"}',\n",
              " '{\"fixture\":871631 ,\"league\": 61 ,\"season\": 2022 ,\"team1\": 83 ,\"team2\": 108 ,\"date\": \"2023-01-01\"}',\n",
              " '{\"fixture\":871632 ,\"league\": 61 ,\"season\": 2022 ,\"team1\": 79 ,\"team2\": 93 ,\"date\": \"2023-01-01\"}',\n",
              " '{\"fixture\":871633 ,\"league\": 61 ,\"season\": 2022 ,\"team1\": 80 ,\"team2\": 99 ,\"date\": \"2023-01-01\"}',\n",
              " '{\"fixture\":871634 ,\"league\": 61 ,\"season\": 2022 ,\"team1\": 116 ,\"team2\": 85 ,\"date\": \"2023-01-01\"}',\n",
              " '{\"fixture\":871635 ,\"league\": 61 ,\"season\": 2022 ,\"team1\": 94 ,\"team2\": 84 ,\"date\": \"2023-01-01\"}',\n",
              " '{\"fixture\":871636 ,\"league\": 61 ,\"season\": 2022 ,\"team1\": 96 ,\"team2\": 98 ,\"date\": \"2023-01-01\"}',\n",
              " '{\"fixture\":871637 ,\"league\": 61 ,\"season\": 2022 ,\"team1\": 77 ,\"team2\": 97 ,\"date\": \"2023-01-01\"}',\n",
              " '{\"fixture\":871638 ,\"league\": 61 ,\"season\": 2022 ,\"team1\": 82 ,\"team2\": 81 ,\"date\": \"2023-01-01\"}',\n",
              " '{\"fixture\":871639 ,\"league\": 61 ,\"season\": 2022 ,\"team1\": 95 ,\"team2\": 110 ,\"date\": \"2023-01-01\"}',\n",
              " '{\"fixture\":871640 ,\"league\": 61 ,\"season\": 2022 ,\"team1\": 98 ,\"team2\": 93 ,\"date\": \"2023-01-11\"}',\n",
              " '{\"fixture\":871641 ,\"league\": 61 ,\"season\": 2022 ,\"team1\": 108 ,\"team2\": 96 ,\"date\": \"2023-01-11\"}',\n",
              " '{\"fixture\":871642 ,\"league\": 61 ,\"season\": 2022 ,\"team1\": 99 ,\"team2\": 94 ,\"date\": \"2023-01-11\"}',\n",
              " '{\"fixture\":871643 ,\"league\": 61 ,\"season\": 2022 ,\"team1\": 97 ,\"team2\": 91 ,\"date\": \"2023-01-11\"}',\n",
              " '{\"fixture\":871644 ,\"league\": 61 ,\"season\": 2022 ,\"team1\": 83 ,\"team2\": 80 ,\"date\": \"2023-01-11\"}',\n",
              " '{\"fixture\":871645 ,\"league\": 61 ,\"season\": 2022 ,\"team1\": 84 ,\"team2\": 82 ,\"date\": \"2023-01-11\"}',\n",
              " '{\"fixture\":871646 ,\"league\": 61 ,\"season\": 2022 ,\"team1\": 85 ,\"team2\": 77 ,\"date\": \"2023-01-11\"}',\n",
              " '{\"fixture\":871647 ,\"league\": 61 ,\"season\": 2022 ,\"team1\": 95 ,\"team2\": 116 ,\"date\": \"2023-01-11\"}',\n",
              " '{\"fixture\":871648 ,\"league\": 61 ,\"season\": 2022 ,\"team1\": 106 ,\"team2\": 79 ,\"date\": \"2023-01-11\"}',\n",
              " '{\"fixture\":871649 ,\"league\": 61 ,\"season\": 2022 ,\"team1\": 110 ,\"team2\": 81 ,\"date\": \"2023-01-11\"}',\n",
              " '{\"fixture\":871650 ,\"league\": 61 ,\"season\": 2022 ,\"team1\": 91 ,\"team2\": 98 ,\"date\": \"2023-01-15\"}',\n",
              " '{\"fixture\":871651 ,\"league\": 61 ,\"season\": 2022 ,\"team1\": 77 ,\"team2\": 99 ,\"date\": \"2023-01-15\"}',\n",
              " '{\"fixture\":871652 ,\"league\": 61 ,\"season\": 2022 ,\"team1\": 79 ,\"team2\": 110 ,\"date\": \"2023-01-15\"}',\n",
              " '{\"fixture\":871653 ,\"league\": 61 ,\"season\": 2022 ,\"team1\": 82 ,\"team2\": 83 ,\"date\": \"2023-01-15\"}',\n",
              " '{\"fixture\":871654 ,\"league\": 61 ,\"season\": 2022 ,\"team1\": 80 ,\"team2\": 95 ,\"date\": \"2023-01-15\"}',\n",
              " '{\"fixture\":871655 ,\"league\": 61 ,\"season\": 2022 ,\"team1\": 81 ,\"team2\": 97 ,\"date\": \"2023-01-15\"}',\n",
              " '{\"fixture\":871656 ,\"league\": 61 ,\"season\": 2022 ,\"team1\": 116 ,\"team2\": 108 ,\"date\": \"2023-01-15\"}',\n",
              " '{\"fixture\":871657 ,\"league\": 61 ,\"season\": 2022 ,\"team1\": 94 ,\"team2\": 85 ,\"date\": \"2023-01-15\"}',\n",
              " '{\"fixture\":871658 ,\"league\": 61 ,\"season\": 2022 ,\"team1\": 93 ,\"team2\": 84 ,\"date\": \"2023-01-15\"}',\n",
              " '{\"fixture\":871659 ,\"league\": 61 ,\"season\": 2022 ,\"team1\": 96 ,\"team2\": 106 ,\"date\": \"2023-01-15\"}',\n",
              " '{\"fixture\":871660 ,\"league\": 61 ,\"season\": 2022 ,\"team1\": 98 ,\"team2\": 80 ,\"date\": \"2023-01-29\"}',\n",
              " '{\"fixture\":871661 ,\"league\": 61 ,\"season\": 2022 ,\"team1\": 108 ,\"team2\": 82 ,\"date\": \"2023-01-29\"}',\n",
              " '{\"fixture\":871662 ,\"league\": 61 ,\"season\": 2022 ,\"team1\": 99 ,\"team2\": 83 ,\"date\": \"2023-01-29\"}',\n",
              " '{\"fixture\":871663 ,\"league\": 61 ,\"season\": 2022 ,\"team1\": 97 ,\"team2\": 94 ,\"date\": \"2023-01-29\"}',\n",
              " '{\"fixture\":871664 ,\"league\": 61 ,\"season\": 2022 ,\"team1\": 84 ,\"team2\": 79 ,\"date\": \"2023-01-29\"}',\n",
              " '{\"fixture\":871665 ,\"league\": 61 ,\"season\": 2022 ,\"team1\": 81 ,\"team2\": 91 ,\"date\": \"2023-01-29\"}',\n",
              " '{\"fixture\":871666 ,\"league\": 61 ,\"season\": 2022 ,\"team1\": 85 ,\"team2\": 93 ,\"date\": \"2023-01-29\"}',\n",
              " '{\"fixture\":871667 ,\"league\": 61 ,\"season\": 2022 ,\"team1\": 95 ,\"team2\": 96 ,\"date\": \"2023-01-29\"}',\n",
              " '{\"fixture\":871668 ,\"league\": 61 ,\"season\": 2022 ,\"team1\": 106 ,\"team2\": 77 ,\"date\": \"2023-01-29\"}',\n",
              " '{\"fixture\":871669 ,\"league\": 61 ,\"season\": 2022 ,\"team1\": 110 ,\"team2\": 116 ,\"date\": \"2023-01-29\"}',\n",
              " '{\"fixture\":871670 ,\"league\": 61 ,\"season\": 2022 ,\"team1\": 83 ,\"team2\": 81 ,\"date\": \"2023-02-01\"}',\n",
              " '{\"fixture\":871671 ,\"league\": 61 ,\"season\": 2022 ,\"team1\": 80 ,\"team2\": 106 ,\"date\": \"2023-02-01\"}',\n",
              " '{\"fixture\":871672 ,\"league\": 61 ,\"season\": 2022 ,\"team1\": 93 ,\"team2\": 97 ,\"date\": \"2023-02-01\"}',\n",
              " '{\"fixture\":871673 ,\"league\": 61 ,\"season\": 2022 ,\"team1\": 91 ,\"team2\": 108 ,\"date\": \"2023-02-01\"}',\n",
              " '{\"fixture\":871674 ,\"league\": 61 ,\"season\": 2022 ,\"team1\": 77 ,\"team2\": 98 ,\"date\": \"2023-02-01\"}',\n",
              " '{\"fixture\":871675 ,\"league\": 61 ,\"season\": 2022 ,\"team1\": 79 ,\"team2\": 99 ,\"date\": \"2023-02-01\"}',\n",
              " '{\"fixture\":871676 ,\"league\": 61 ,\"season\": 2022 ,\"team1\": 82 ,\"team2\": 85 ,\"date\": \"2023-02-01\"}',\n",
              " '{\"fixture\":871677 ,\"league\": 61 ,\"season\": 2022 ,\"team1\": 116 ,\"team2\": 84 ,\"date\": \"2023-02-01\"}',\n",
              " '{\"fixture\":871678 ,\"league\": 61 ,\"season\": 2022 ,\"team1\": 94 ,\"team2\": 95 ,\"date\": \"2023-02-01\"}',\n",
              " '{\"fixture\":871679 ,\"league\": 61 ,\"season\": 2022 ,\"team1\": 96 ,\"team2\": 110 ,\"date\": \"2023-02-01\"}',\n",
              " '{\"fixture\":871680 ,\"league\": 61 ,\"season\": 2022 ,\"team1\": 98 ,\"team2\": 83 ,\"date\": \"2023-02-05\"}',\n",
              " '{\"fixture\":871681 ,\"league\": 61 ,\"season\": 2022 ,\"team1\": 108 ,\"team2\": 93 ,\"date\": \"2023-02-05\"}',\n",
              " '{\"fixture\":871682 ,\"league\": 61 ,\"season\": 2022 ,\"team1\": 99 ,\"team2\": 91 ,\"date\": \"2023-02-05\"}',\n",
              " '{\"fixture\":871683 ,\"league\": 61 ,\"season\": 2022 ,\"team1\": 97 ,\"team2\": 77 ,\"date\": \"2023-02-05\"}',\n",
              " '{\"fixture\":871684 ,\"league\": 61 ,\"season\": 2022 ,\"team1\": 81 ,\"team2\": 84 ,\"date\": \"2023-02-05\"}',\n",
              " '{\"fixture\":871685 ,\"league\": 61 ,\"season\": 2022 ,\"team1\": 85 ,\"team2\": 96 ,\"date\": \"2023-02-05\"}',\n",
              " '{\"fixture\":871686 ,\"league\": 61 ,\"season\": 2022 ,\"team1\": 95 ,\"team2\": 82 ,\"date\": \"2023-02-05\"}',\n",
              " '{\"fixture\":871687 ,\"league\": 61 ,\"season\": 2022 ,\"team1\": 106 ,\"team2\": 116 ,\"date\": \"2023-02-05\"}',\n",
              " '{\"fixture\":871688 ,\"league\": 61 ,\"season\": 2022 ,\"team1\": 94 ,\"team2\": 79 ,\"date\": \"2023-02-05\"}',\n",
              " '{\"fixture\":871689 ,\"league\": 61 ,\"season\": 2022 ,\"team1\": 110 ,\"team2\": 80 ,\"date\": \"2023-02-05\"}',\n",
              " '{\"fixture\":871690 ,\"league\": 61 ,\"season\": 2022 ,\"team1\": 91 ,\"team2\": 85 ,\"date\": \"2023-02-12\"}',\n",
              " '{\"fixture\":871691 ,\"league\": 61 ,\"season\": 2022 ,\"team1\": 77 ,\"team2\": 108 ,\"date\": \"2023-02-12\"}',\n",
              " '{\"fixture\":871692 ,\"league\": 61 ,\"season\": 2022 ,\"team1\": 99 ,\"team2\": 81 ,\"date\": \"2023-02-12\"}',\n",
              " '{\"fixture\":871693 ,\"league\": 61 ,\"season\": 2022 ,\"team1\": 83 ,\"team2\": 97 ,\"date\": \"2023-02-12\"}',\n",
              " '{\"fixture\":871694 ,\"league\": 61 ,\"season\": 2022 ,\"team1\": 79 ,\"team2\": 95 ,\"date\": \"2023-02-12\"}',\n",
              " '{\"fixture\":871695 ,\"league\": 61 ,\"season\": 2022 ,\"team1\": 82 ,\"team2\": 106 ,\"date\": \"2023-02-12\"}',\n",
              " '{\"fixture\":871696 ,\"league\": 61 ,\"season\": 2022 ,\"team1\": 84 ,\"team2\": 98 ,\"date\": \"2023-02-12\"}',\n",
              " '{\"fixture\":871697 ,\"league\": 61 ,\"season\": 2022 ,\"team1\": 80 ,\"team2\": 116 ,\"date\": \"2023-02-12\"}',\n",
              " '{\"fixture\":871698 ,\"league\": 61 ,\"season\": 2022 ,\"team1\": 93 ,\"team2\": 110 ,\"date\": \"2023-02-12\"}',\n",
              " '{\"fixture\":871699 ,\"league\": 61 ,\"season\": 2022 ,\"team1\": 96 ,\"team2\": 94 ,\"date\": \"2023-02-12\"}',\n",
              " '{\"fixture\":871700 ,\"league\": 61 ,\"season\": 2022 ,\"team1\": 108 ,\"team2\": 80 ,\"date\": \"2023-02-19\"}',\n",
              " '{\"fixture\":871701 ,\"league\": 61 ,\"season\": 2022 ,\"team1\": 97 ,\"team2\": 98 ,\"date\": \"2023-02-19\"}',\n",
              " '{\"fixture\":871702 ,\"league\": 61 ,\"season\": 2022 ,\"team1\": 84 ,\"team2\": 93 ,\"date\": \"2023-02-19\"}',\n",
              " '{\"fixture\":871703 ,\"league\": 61 ,\"season\": 2022 ,\"team1\": 85 ,\"team2\": 79 ,\"date\": \"2023-02-19\"}',\n",
              " '{\"fixture\":871704 ,\"league\": 61 ,\"season\": 2022 ,\"team1\": 116 ,\"team2\": 83 ,\"date\": \"2023-02-19\"}',\n",
              " '{\"fixture\":871705 ,\"league\": 61 ,\"season\": 2022 ,\"team1\": 95 ,\"team2\": 77 ,\"date\": \"2023-02-19\"}',\n",
              " '{\"fixture\":871706 ,\"league\": 61 ,\"season\": 2022 ,\"team1\": 106 ,\"team2\": 91 ,\"date\": \"2023-02-19\"}',\n",
              " '{\"fixture\":871707 ,\"league\": 61 ,\"season\": 2022 ,\"team1\": 94 ,\"team2\": 99 ,\"date\": \"2023-02-19\"}',\n",
              " '{\"fixture\":871708 ,\"league\": 61 ,\"season\": 2022 ,\"team1\": 96 ,\"team2\": 81 ,\"date\": \"2023-02-19\"}',\n",
              " '{\"fixture\":871709 ,\"league\": 61 ,\"season\": 2022 ,\"team1\": 110 ,\"team2\": 82 ,\"date\": \"2023-02-19\"}',\n",
              " '{\"fixture\":871710 ,\"league\": 61 ,\"season\": 2022 ,\"team1\": 98 ,\"team2\": 110 ,\"date\": \"2023-02-26\"}',\n",
              " '{\"fixture\":871711 ,\"league\": 61 ,\"season\": 2022 ,\"team1\": 91 ,\"team2\": 84 ,\"date\": \"2023-02-26\"}',\n",
              " '{\"fixture\":871712 ,\"league\": 61 ,\"season\": 2022 ,\"team1\": 77 ,\"team2\": 80 ,\"date\": \"2023-02-26\"}',\n",
              " '{\"fixture\":871713 ,\"league\": 61 ,\"season\": 2022 ,\"team1\": 99 ,\"team2\": 95 ,\"date\": \"2023-02-26\"}',\n",
              " '{\"fixture\":871714 ,\"league\": 61 ,\"season\": 2022 ,\"team1\": 97 ,\"team2\": 108 ,\"date\": \"2023-02-26\"}',\n",
              " '{\"fixture\":871715 ,\"league\": 61 ,\"season\": 2022 ,\"team1\": 83 ,\"team2\": 94 ,\"date\": \"2023-02-26\"}',\n",
              " '{\"fixture\":871716 ,\"league\": 61 ,\"season\": 2022 ,\"team1\": 79 ,\"team2\": 106 ,\"date\": \"2023-02-26\"}',\n",
              " '{\"fixture\":871717 ,\"league\": 61 ,\"season\": 2022 ,\"team1\": 82 ,\"team2\": 116 ,\"date\": \"2023-02-26\"}',\n",
              " '{\"fixture\":871718 ,\"league\": 61 ,\"season\": 2022 ,\"team1\": 81 ,\"team2\": 85 ,\"date\": \"2023-02-26\"}',\n",
              " '{\"fixture\":871719 ,\"league\": 61 ,\"season\": 2022 ,\"team1\": 93 ,\"team2\": 96 ,\"date\": \"2023-02-26\"}',\n",
              " '{\"fixture\":871720 ,\"league\": 61 ,\"season\": 2022 ,\"team1\": 82 ,\"team2\": 77 ,\"date\": \"2023-03-05\"}',\n",
              " '{\"fixture\":871721 ,\"league\": 61 ,\"season\": 2022 ,\"team1\": 84 ,\"team2\": 108 ,\"date\": \"2023-03-05\"}',\n",
              " '{\"fixture\":871722 ,\"league\": 61 ,\"season\": 2022 ,\"team1\": 80 ,\"team2\": 97 ,\"date\": \"2023-03-05\"}',\n",
              " '{\"fixture\":871723 ,\"league\": 61 ,\"season\": 2022 ,\"team1\": 85 ,\"team2\": 83 ,\"date\": \"2023-03-05\"}',\n",
              " '{\"fixture\":871724 ,\"league\": 61 ,\"season\": 2022 ,\"team1\": 116 ,\"team2\": 79 ,\"date\": \"2023-03-05\"}',\n",
              " '{\"fixture\":871725 ,\"league\": 61 ,\"season\": 2022 ,\"team1\": 95 ,\"team2\": 106 ,\"date\": \"2023-03-05\"}',\n",
              " '{\"fixture\":871726 ,\"league\": 61 ,\"season\": 2022 ,\"team1\": 94 ,\"team2\": 81 ,\"date\": \"2023-03-05\"}',\n",
              " '{\"fixture\":871727 ,\"league\": 61 ,\"season\": 2022 ,\"team1\": 93 ,\"team2\": 98 ,\"date\": \"2023-03-05\"}',\n",
              " '{\"fixture\":871728 ,\"league\": 61 ,\"season\": 2022 ,\"team1\": 96 ,\"team2\": 99 ,\"date\": \"2023-03-05\"}',\n",
              " '{\"fixture\":871729 ,\"league\": 61 ,\"season\": 2022 ,\"team1\": 110 ,\"team2\": 91 ,\"date\": \"2023-03-05\"}',\n",
              " '{\"fixture\":871730 ,\"league\": 61 ,\"season\": 2022 ,\"team1\": 98 ,\"team2\": 82 ,\"date\": \"2023-03-12\"}',\n",
              " '{\"fixture\":871731 ,\"league\": 61 ,\"season\": 2022 ,\"team1\": 108 ,\"team2\": 94 ,\"date\": \"2023-03-12\"}',\n",
              " '{\"fixture\":871732 ,\"league\": 61 ,\"season\": 2022 ,\"team1\": 91 ,\"team2\": 93 ,\"date\": \"2023-03-12\"}',\n",
              " '{\"fixture\":871733 ,\"league\": 61 ,\"season\": 2022 ,\"team1\": 77 ,\"team2\": 96 ,\"date\": \"2023-03-12\"}',\n",
              " '{\"fixture\":871734 ,\"league\": 61 ,\"season\": 2022 ,\"team1\": 99 ,\"team2\": 116 ,\"date\": \"2023-03-12\"}',\n",
              " '{\"fixture\":871735 ,\"league\": 61 ,\"season\": 2022 ,\"team1\": 97 ,\"team2\": 110 ,\"date\": \"2023-03-12\"}',\n",
              " '{\"fixture\":871736 ,\"league\": 61 ,\"season\": 2022 ,\"team1\": 83 ,\"team2\": 84 ,\"date\": \"2023-03-12\"}',\n",
              " '{\"fixture\":871737 ,\"league\": 61 ,\"season\": 2022 ,\"team1\": 79 ,\"team2\": 80 ,\"date\": \"2023-03-12\"}',\n",
              " '{\"fixture\":871738 ,\"league\": 61 ,\"season\": 2022 ,\"team1\": 81 ,\"team2\": 95 ,\"date\": \"2023-03-12\"}',\n",
              " '{\"fixture\":871739 ,\"league\": 61 ,\"season\": 2022 ,\"team1\": 106 ,\"team2\": 85 ,\"date\": \"2023-03-12\"}',\n",
              " '{\"fixture\":871740 ,\"league\": 61 ,\"season\": 2022 ,\"team1\": 98 ,\"team2\": 91 ,\"date\": \"2023-03-19\"}',\n",
              " '{\"fixture\":871741 ,\"league\": 61 ,\"season\": 2022 ,\"team1\": 82 ,\"team2\": 99 ,\"date\": \"2023-03-19\"}',\n",
              " '{\"fixture\":871742 ,\"league\": 61 ,\"season\": 2022 ,\"team1\": 84 ,\"team2\": 97 ,\"date\": \"2023-03-19\"}',\n",
              " '{\"fixture\":871743 ,\"league\": 61 ,\"season\": 2022 ,\"team1\": 80 ,\"team2\": 83 ,\"date\": \"2023-03-19\"}',\n",
              " '{\"fixture\":871744 ,\"league\": 61 ,\"season\": 2022 ,\"team1\": 85 ,\"team2\": 94 ,\"date\": \"2023-03-19\"}',\n",
              " '{\"fixture\":871745 ,\"league\": 61 ,\"season\": 2022 ,\"team1\": 116 ,\"team2\": 77 ,\"date\": \"2023-03-19\"}',\n",
              " '{\"fixture\":871746 ,\"league\": 61 ,\"season\": 2022 ,\"team1\": 95 ,\"team2\": 108 ,\"date\": \"2023-03-19\"}',\n",
              " '{\"fixture\":871747 ,\"league\": 61 ,\"season\": 2022 ,\"team1\": 93 ,\"team2\": 81 ,\"date\": \"2023-03-19\"}',\n",
              " '{\"fixture\":871748 ,\"league\": 61 ,\"season\": 2022 ,\"team1\": 96 ,\"team2\": 79 ,\"date\": \"2023-03-19\"}',\n",
              " '{\"fixture\":871749 ,\"league\": 61 ,\"season\": 2022 ,\"team1\": 110 ,\"team2\": 106 ,\"date\": \"2023-03-19\"}',\n",
              " '{\"fixture\":871750 ,\"league\": 61 ,\"season\": 2022 ,\"team1\": 108 ,\"team2\": 110 ,\"date\": \"2023-04-02\"}',\n",
              " '{\"fixture\":871751 ,\"league\": 61 ,\"season\": 2022 ,\"team1\": 91 ,\"team2\": 95 ,\"date\": \"2023-04-02\"}',\n",
              " '{\"fixture\":871752 ,\"league\": 61 ,\"season\": 2022 ,\"team1\": 77 ,\"team2\": 84 ,\"date\": \"2023-04-02\"}',\n",
              " '{\"fixture\":871753 ,\"league\": 61 ,\"season\": 2022 ,\"team1\": 99 ,\"team2\": 98 ,\"date\": \"2023-04-02\"}',\n",
              " '{\"fixture\":871754 ,\"league\": 61 ,\"season\": 2022 ,\"team1\": 83 ,\"team2\": 93 ,\"date\": \"2023-04-02\"}',\n",
              " '{\"fixture\":871755 ,\"league\": 61 ,\"season\": 2022 ,\"team1\": 79 ,\"team2\": 97 ,\"date\": \"2023-04-02\"}',\n",
              " '{\"fixture\":871756 ,\"league\": 61 ,\"season\": 2022 ,\"team1\": 81 ,\"team2\": 82 ,\"date\": \"2023-04-02\"}',\n",
              " '{\"fixture\":871757 ,\"league\": 61 ,\"season\": 2022 ,\"team1\": 85 ,\"team2\": 80 ,\"date\": \"2023-04-02\"}',\n",
              " '{\"fixture\":871758 ,\"league\": 61 ,\"season\": 2022 ,\"team1\": 106 ,\"team2\": 96 ,\"date\": \"2023-04-02\"}',\n",
              " '{\"fixture\":871759 ,\"league\": 61 ,\"season\": 2022 ,\"team1\": 94 ,\"team2\": 116 ,\"date\": \"2023-04-02\"}',\n",
              " '{\"fixture\":871760 ,\"league\": 61 ,\"season\": 2022 ,\"team1\": 98 ,\"team2\": 108 ,\"date\": \"2023-04-09\"}',\n",
              " '{\"fixture\":871761 ,\"league\": 61 ,\"season\": 2022 ,\"team1\": 77 ,\"team2\": 79 ,\"date\": \"2023-04-09\"}',\n",
              " '{\"fixture\":871762 ,\"league\": 61 ,\"season\": 2022 ,\"team1\": 97 ,\"team2\": 81 ,\"date\": \"2023-04-09\"}',\n",
              " '{\"fixture\":871763 ,\"league\": 61 ,\"season\": 2022 ,\"team1\": 83 ,\"team2\": 91 ,\"date\": \"2023-04-09\"}',\n",
              " '{\"fixture\":871764 ,\"league\": 61 ,\"season\": 2022 ,\"team1\": 82 ,\"team2\": 96 ,\"date\": \"2023-04-09\"}',\n",
              " '{\"fixture\":871765 ,\"league\": 61 ,\"season\": 2022 ,\"team1\": 84 ,\"team2\": 85 ,\"date\": \"2023-04-09\"}',\n",
              " '{\"fixture\":871766 ,\"league\": 61 ,\"season\": 2022 ,\"team1\": 80 ,\"team2\": 94 ,\"date\": \"2023-04-09\"}',\n",
              " '{\"fixture\":871767 ,\"league\": 61 ,\"season\": 2022 ,\"team1\": 116 ,\"team2\": 95 ,\"date\": \"2023-04-09\"}',\n",
              " '{\"fixture\":871768 ,\"league\": 61 ,\"season\": 2022 ,\"team1\": 93 ,\"team2\": 106 ,\"date\": \"2023-04-09\"}',\n",
              " '{\"fixture\":871769 ,\"league\": 61 ,\"season\": 2022 ,\"team1\": 110 ,\"team2\": 99 ,\"date\": \"2023-04-09\"}',\n",
              " '{\"fixture\":871770 ,\"league\": 61 ,\"season\": 2022 ,\"team1\": 108 ,\"team2\": 83 ,\"date\": \"2023-04-16\"}',\n",
              " '{\"fixture\":871771 ,\"league\": 61 ,\"season\": 2022 ,\"team1\": 91 ,\"team2\": 97 ,\"date\": \"2023-04-16\"}',\n",
              " '{\"fixture\":871772 ,\"league\": 61 ,\"season\": 2022 ,\"team1\": 99 ,\"team2\": 77 ,\"date\": \"2023-04-16\"}',\n",
              " '{\"fixture\":871773 ,\"league\": 61 ,\"season\": 2022 ,\"team1\": 79 ,\"team2\": 82 ,\"date\": \"2023-04-16\"}',\n",
              " '{\"fixture\":871774 ,\"league\": 61 ,\"season\": 2022 ,\"team1\": 81 ,\"team2\": 110 ,\"date\": \"2023-04-16\"}',\n",
              " '{\"fixture\":871775 ,\"league\": 61 ,\"season\": 2022 ,\"team1\": 85 ,\"team2\": 116 ,\"date\": \"2023-04-16\"}',\n",
              " '{\"fixture\":871776 ,\"league\": 61 ,\"season\": 2022 ,\"team1\": 95 ,\"team2\": 98 ,\"date\": \"2023-04-16\"}',\n",
              " '{\"fixture\":871777 ,\"league\": 61 ,\"season\": 2022 ,\"team1\": 106 ,\"team2\": 84 ,\"date\": \"2023-04-16\"}',\n",
              " '{\"fixture\":871778 ,\"league\": 61 ,\"season\": 2022 ,\"team1\": 94 ,\"team2\": 93 ,\"date\": \"2023-04-16\"}',\n",
              " '{\"fixture\":871779 ,\"league\": 61 ,\"season\": 2022 ,\"team1\": 96 ,\"team2\": 80 ,\"date\": \"2023-04-16\"}',\n",
              " '{\"fixture\":871780 ,\"league\": 61 ,\"season\": 2022 ,\"team1\": 98 ,\"team2\": 106 ,\"date\": \"2023-04-23\"}',\n",
              " '{\"fixture\":871781 ,\"league\": 61 ,\"season\": 2022 ,\"team1\": 108 ,\"team2\": 79 ,\"date\": \"2023-04-23\"}',\n",
              " '{\"fixture\":871782 ,\"league\": 61 ,\"season\": 2022 ,\"team1\": 77 ,\"team2\": 85 ,\"date\": \"2023-04-23\"}',\n",
              " '{\"fixture\":871783 ,\"league\": 61 ,\"season\": 2022 ,\"team1\": 97 ,\"team2\": 96 ,\"date\": \"2023-04-23\"}',\n",
              " '{\"fixture\":871784 ,\"league\": 61 ,\"season\": 2022 ,\"team1\": 83 ,\"team2\": 110 ,\"date\": \"2023-04-23\"}',\n",
              " '{\"fixture\":871785 ,\"league\": 61 ,\"season\": 2022 ,\"team1\": 82 ,\"team2\": 94 ,\"date\": \"2023-04-23\"}',\n",
              " '{\"fixture\":871786 ,\"league\": 61 ,\"season\": 2022 ,\"team1\": 84 ,\"team2\": 99 ,\"date\": \"2023-04-23\"}',\n",
              " '{\"fixture\":871787 ,\"league\": 61 ,\"season\": 2022 ,\"team1\": 80 ,\"team2\": 81 ,\"date\": \"2023-04-23\"}',\n",
              " '{\"fixture\":871788 ,\"league\": 61 ,\"season\": 2022 ,\"team1\": 116 ,\"team2\": 91 ,\"date\": \"2023-04-23\"}',\n",
              " '{\"fixture\":871789 ,\"league\": 61 ,\"season\": 2022 ,\"team1\": 93 ,\"team2\": 95 ,\"date\": \"2023-04-23\"}',\n",
              " '{\"fixture\":871790 ,\"league\": 61 ,\"season\": 2022 ,\"team1\": 91 ,\"team2\": 82 ,\"date\": \"2023-04-30\"}',\n",
              " '{\"fixture\":871791 ,\"league\": 61 ,\"season\": 2022 ,\"team1\": 99 ,\"team2\": 93 ,\"date\": \"2023-04-30\"}',\n",
              " '{\"fixture\":871792 ,\"league\": 61 ,\"season\": 2022 ,\"team1\": 79 ,\"team2\": 98 ,\"date\": \"2023-04-30\"}',\n",
              " '{\"fixture\":871793 ,\"league\": 61 ,\"season\": 2022 ,\"team1\": 81 ,\"team2\": 108 ,\"date\": \"2023-04-30\"}',\n",
              " '{\"fixture\":871794 ,\"league\": 61 ,\"season\": 2022 ,\"team1\": 85 ,\"team2\": 97 ,\"date\": \"2023-04-30\"}',\n",
              " '{\"fixture\":871795 ,\"league\": 61 ,\"season\": 2022 ,\"team1\": 95 ,\"team2\": 80 ,\"date\": \"2023-04-30\"}',\n",
              " '{\"fixture\":871796 ,\"league\": 61 ,\"season\": 2022 ,\"team1\": 106 ,\"team2\": 83 ,\"date\": \"2023-04-30\"}',\n",
              " '{\"fixture\":871797 ,\"league\": 61 ,\"season\": 2022 ,\"team1\": 94 ,\"team2\": 77 ,\"date\": \"2023-04-30\"}',\n",
              " '{\"fixture\":871798 ,\"league\": 61 ,\"season\": 2022 ,\"team1\": 96 ,\"team2\": 116 ,\"date\": \"2023-04-30\"}',\n",
              " '{\"fixture\":871799 ,\"league\": 61 ,\"season\": 2022 ,\"team1\": 110 ,\"team2\": 84 ,\"date\": \"2023-04-30\"}',\n",
              " '{\"fixture\":871800 ,\"league\": 61 ,\"season\": 2022 ,\"team1\": 98 ,\"team2\": 96 ,\"date\": \"2023-05-07\"}',\n",
              " '{\"fixture\":871801 ,\"league\": 61 ,\"season\": 2022 ,\"team1\": 108 ,\"team2\": 99 ,\"date\": \"2023-05-07\"}',\n",
              " '{\"fixture\":871802 ,\"league\": 61 ,\"season\": 2022 ,\"team1\": 77 ,\"team2\": 91 ,\"date\": \"2023-05-07\"}',\n",
              " '{\"fixture\":871803 ,\"league\": 61 ,\"season\": 2022 ,\"team1\": 97 ,\"team2\": 106 ,\"date\": \"2023-05-07\"}',\n",
              " '{\"fixture\":871804 ,\"league\": 61 ,\"season\": 2022 ,\"team1\": 83 ,\"team2\": 95 ,\"date\": \"2023-05-07\"}',\n",
              " '{\"fixture\":871805 ,\"league\": 61 ,\"season\": 2022 ,\"team1\": 84 ,\"team2\": 94 ,\"date\": \"2023-05-07\"}',\n",
              " '{\"fixture\":871806 ,\"league\": 61 ,\"season\": 2022 ,\"team1\": 80 ,\"team2\": 82 ,\"date\": \"2023-05-07\"}',\n",
              " '{\"fixture\":871807 ,\"league\": 61 ,\"season\": 2022 ,\"team1\": 116 ,\"team2\": 81 ,\"date\": \"2023-05-07\"}',\n",
              " '{\"fixture\":871808 ,\"league\": 61 ,\"season\": 2022 ,\"team1\": 93 ,\"team2\": 79 ,\"date\": \"2023-05-07\"}',\n",
              " '{\"fixture\":871809 ,\"league\": 61 ,\"season\": 2022 ,\"team1\": 110 ,\"team2\": 85 ,\"date\": \"2023-05-07\"}',\n",
              " '{\"fixture\":871810 ,\"league\": 61 ,\"season\": 2022 ,\"team1\": 91 ,\"team2\": 79 ,\"date\": \"2023-05-14\"}',\n",
              " '{\"fixture\":871811 ,\"league\": 61 ,\"season\": 2022 ,\"team1\": 99 ,\"team2\": 80 ,\"date\": \"2023-05-14\"}',\n",
              " '{\"fixture\":871812 ,\"league\": 61 ,\"season\": 2022 ,\"team1\": 82 ,\"team2\": 97 ,\"date\": \"2023-05-14\"}',\n",
              " '{\"fixture\":871813 ,\"league\": 61 ,\"season\": 2022 ,\"team1\": 81 ,\"team2\": 77 ,\"date\": \"2023-05-14\"}',\n",
              " '{\"fixture\":871814 ,\"league\": 61 ,\"season\": 2022 ,\"team1\": 85 ,\"team2\": 98 ,\"date\": \"2023-05-14\"}',\n",
              " '{\"fixture\":871815 ,\"league\": 61 ,\"season\": 2022 ,\"team1\": 116 ,\"team2\": 93 ,\"date\": \"2023-05-14\"}',\n",
              " '{\"fixture\":871816 ,\"league\": 61 ,\"season\": 2022 ,\"team1\": 95 ,\"team2\": 84 ,\"date\": \"2023-05-14\"}',\n",
              " '{\"fixture\":871817 ,\"league\": 61 ,\"season\": 2022 ,\"team1\": 106 ,\"team2\": 108 ,\"date\": \"2023-05-14\"}',\n",
              " '{\"fixture\":871818 ,\"league\": 61 ,\"season\": 2022 ,\"team1\": 94 ,\"team2\": 110 ,\"date\": \"2023-05-14\"}',\n",
              " '{\"fixture\":871819 ,\"league\": 61 ,\"season\": 2022 ,\"team1\": 96 ,\"team2\": 83 ,\"date\": \"2023-05-14\"}',\n",
              " '{\"fixture\":871820 ,\"league\": 61 ,\"season\": 2022 ,\"team1\": 98 ,\"team2\": 94 ,\"date\": \"2023-05-21\"}',\n",
              " '{\"fixture\":871821 ,\"league\": 61 ,\"season\": 2022 ,\"team1\": 108 ,\"team2\": 85 ,\"date\": \"2023-05-21\"}',\n",
              " '{\"fixture\":871822 ,\"league\": 61 ,\"season\": 2022 ,\"team1\": 97 ,\"team2\": 116 ,\"date\": \"2023-05-21\"}',\n",
              " '{\"fixture\":871823 ,\"league\": 61 ,\"season\": 2022 ,\"team1\": 83 ,\"team2\": 82 ,\"date\": \"2023-05-21\"}',\n",
              " '{\"fixture\":871824 ,\"league\": 61 ,\"season\": 2022 ,\"team1\": 79 ,\"team2\": 81 ,\"date\": \"2023-05-21\"}',\n",
              " '{\"fixture\":871825 ,\"league\": 61 ,\"season\": 2022 ,\"team1\": 84 ,\"team2\": 96 ,\"date\": \"2023-05-21\"}',\n",
              " '{\"fixture\":871826 ,\"league\": 61 ,\"season\": 2022 ,\"team1\": 80 ,\"team2\": 91 ,\"date\": \"2023-05-21\"}',\n",
              " '{\"fixture\":871827 ,\"league\": 61 ,\"season\": 2022 ,\"team1\": 106 ,\"team2\": 99 ,\"date\": \"2023-05-21\"}',\n",
              " '{\"fixture\":871828 ,\"league\": 61 ,\"season\": 2022 ,\"team1\": 93 ,\"team2\": 77 ,\"date\": \"2023-05-21\"}',\n",
              " '{\"fixture\":871829 ,\"league\": 61 ,\"season\": 2022 ,\"team1\": 110 ,\"team2\": 95 ,\"date\": \"2023-05-21\"}',\n",
              " '{\"fixture\":871830 ,\"league\": 61 ,\"season\": 2022 ,\"team1\": 77 ,\"team2\": 110 ,\"date\": \"2023-05-27\"}',\n",
              " '{\"fixture\":871831 ,\"league\": 61 ,\"season\": 2022 ,\"team1\": 99 ,\"team2\": 97 ,\"date\": \"2023-05-27\"}',\n",
              " '{\"fixture\":871832 ,\"league\": 61 ,\"season\": 2022 ,\"team1\": 79 ,\"team2\": 83 ,\"date\": \"2023-05-27\"}',\n",
              " '{\"fixture\":871833 ,\"league\": 61 ,\"season\": 2022 ,\"team1\": 82 ,\"team2\": 84 ,\"date\": \"2023-05-27\"}',\n",
              " '{\"fixture\":871834 ,\"league\": 61 ,\"season\": 2022 ,\"team1\": 80 ,\"team2\": 93 ,\"date\": \"2023-05-27\"}',\n",
              " '{\"fixture\":871835 ,\"league\": 61 ,\"season\": 2022 ,\"team1\": 81 ,\"team2\": 106 ,\"date\": \"2023-05-27\"}',\n",
              " '{\"fixture\":871836 ,\"league\": 61 ,\"season\": 2022 ,\"team1\": 116 ,\"team2\": 98 ,\"date\": \"2023-05-27\"}',\n",
              " '{\"fixture\":871837 ,\"league\": 61 ,\"season\": 2022 ,\"team1\": 95 ,\"team2\": 85 ,\"date\": \"2023-05-27\"}',\n",
              " '{\"fixture\":871838 ,\"league\": 61 ,\"season\": 2022 ,\"team1\": 94 ,\"team2\": 91 ,\"date\": \"2023-05-27\"}',\n",
              " '{\"fixture\":871839 ,\"league\": 61 ,\"season\": 2022 ,\"team1\": 96 ,\"team2\": 108 ,\"date\": \"2023-05-27\"}',\n",
              " '{\"fixture\":871840 ,\"league\": 61 ,\"season\": 2022 ,\"team1\": 98 ,\"team2\": 81 ,\"date\": \"2023-06-03\"}',\n",
              " '{\"fixture\":871841 ,\"league\": 61 ,\"season\": 2022 ,\"team1\": 108 ,\"team2\": 116 ,\"date\": \"2023-06-03\"}',\n",
              " '{\"fixture\":871842 ,\"league\": 61 ,\"season\": 2022 ,\"team1\": 91 ,\"team2\": 96 ,\"date\": \"2023-06-03\"}',\n",
              " '{\"fixture\":871843 ,\"league\": 61 ,\"season\": 2022 ,\"team1\": 97 ,\"team2\": 95 ,\"date\": \"2023-06-03\"}',\n",
              " '{\"fixture\":871844 ,\"league\": 61 ,\"season\": 2022 ,\"team1\": 83 ,\"team2\": 77 ,\"date\": \"2023-06-03\"}',\n",
              " '{\"fixture\":871845 ,\"league\": 61 ,\"season\": 2022 ,\"team1\": 84 ,\"team2\": 80 ,\"date\": \"2023-06-03\"}',\n",
              " '{\"fixture\":871846 ,\"league\": 61 ,\"season\": 2022 ,\"team1\": 85 ,\"team2\": 99 ,\"date\": \"2023-06-03\"}',\n",
              " '{\"fixture\":871847 ,\"league\": 61 ,\"season\": 2022 ,\"team1\": 106 ,\"team2\": 94 ,\"date\": \"2023-06-03\"}',\n",
              " '{\"fixture\":871848 ,\"league\": 61 ,\"season\": 2022 ,\"team1\": 93 ,\"team2\": 82 ,\"date\": \"2023-06-03\"}',\n",
              " '{\"fixture\":871849 ,\"league\": 61 ,\"season\": 2022 ,\"team1\": 110 ,\"team2\": 79 ,\"date\": \"2023-06-03\"}',\n",
              " '{\"fixture\":867946 ,\"league\": 39 ,\"season\": 2022 ,\"team1\": 52 ,\"team2\": 42 ,\"date\": \"2022-08-05\"}',\n",
              " '{\"fixture\":867947 ,\"league\": 39 ,\"season\": 2022 ,\"team1\": 36 ,\"team2\": 40 ,\"date\": \"2022-08-06\"}',\n",
              " '{\"fixture\":867948 ,\"league\": 39 ,\"season\": 2022 ,\"team1\": 35 ,\"team2\": 66 ,\"date\": \"2022-08-06\"}',\n",
              " '{\"fixture\":867949 ,\"league\": 39 ,\"season\": 2022 ,\"team1\": 63 ,\"team2\": 39 ,\"date\": \"2022-08-06\"}',\n",
              " '{\"fixture\":867950 ,\"league\": 39 ,\"season\": 2022 ,\"team1\": 46 ,\"team2\": 55 ,\"date\": \"2022-08-07\"}',\n",
              " '{\"fixture\":867951 ,\"league\": 39 ,\"season\": 2022 ,\"team1\": 34 ,\"team2\": 65 ,\"date\": \"2022-08-06\"}',\n",
              " '{\"fixture\":867952 ,\"league\": 39 ,\"season\": 2022 ,\"team1\": 47 ,\"team2\": 41 ,\"date\": \"2022-08-06\"}',\n",
              " '{\"fixture\":867953 ,\"league\": 39 ,\"season\": 2022 ,\"team1\": 45 ,\"team2\": 49 ,\"date\": \"2022-08-06\"}',\n",
              " '{\"fixture\":867954 ,\"league\": 39 ,\"season\": 2022 ,\"team1\": 33 ,\"team2\": 51 ,\"date\": \"2022-08-07\"}',\n",
              " '{\"fixture\":867955 ,\"league\": 39 ,\"season\": 2022 ,\"team1\": 48 ,\"team2\": 50 ,\"date\": \"2022-08-07\"}',\n",
              " '{\"fixture\":867956 ,\"league\": 39 ,\"season\": 2022 ,\"team1\": 42 ,\"team2\": 46 ,\"date\": \"2022-08-13\"}',\n",
              " '{\"fixture\":867957 ,\"league\": 39 ,\"season\": 2022 ,\"team1\": 66 ,\"team2\": 45 ,\"date\": \"2022-08-13\"}',\n",
              " '{\"fixture\":867958 ,\"league\": 39 ,\"season\": 2022 ,\"team1\": 55 ,\"team2\": 33 ,\"date\": \"2022-08-13\"}',\n",
              " '{\"fixture\":867959 ,\"league\": 39 ,\"season\": 2022 ,\"team1\": 51 ,\"team2\": 34 ,\"date\": \"2022-08-13\"}',\n",
              " '{\"fixture\":867960 ,\"league\": 39 ,\"season\": 2022 ,\"team1\": 49 ,\"team2\": 47 ,\"date\": \"2022-08-14\"}',\n",
              " '{\"fixture\":867961 ,\"league\": 39 ,\"season\": 2022 ,\"team1\": 40 ,\"team2\": 52 ,\"date\": \"2022-08-15\"}',\n",
              " '{\"fixture\":867962 ,\"league\": 39 ,\"season\": 2022 ,\"team1\": 50 ,\"team2\": 35 ,\"date\": \"2022-08-13\"}',\n",
              " '{\"fixture\":867963 ,\"league\": 39 ,\"season\": 2022 ,\"team1\": 65 ,\"team2\": 48 ,\"date\": \"2022-08-14\"}',\n",
              " '{\"fixture\":867964 ,\"league\": 39 ,\"season\": 2022 ,\"team1\": 41 ,\"team2\": 63 ,\"date\": \"2022-08-13\"}',\n",
              " '{\"fixture\":867965 ,\"league\": 39 ,\"season\": 2022 ,\"team1\": 39 ,\"team2\": 36 ,\"date\": \"2022-08-13\"}',\n",
              " '{\"fixture\":867966 ,\"league\": 39 ,\"season\": 2022 ,\"team1\": 35 ,\"team2\": 42 ,\"date\": \"2022-08-20\"}',\n",
              " '{\"fixture\":867967 ,\"league\": 39 ,\"season\": 2022 ,\"team1\": 52 ,\"team2\": 66 ,\"date\": \"2022-08-20\"}',\n",
              " '{\"fixture\":867968 ,\"league\": 39 ,\"season\": 2022 ,\"team1\": 45 ,\"team2\": 65 ,\"date\": \"2022-08-20\"}',\n",
              " '{\"fixture\":867969 ,\"league\": 39 ,\"season\": 2022 ,\"team1\": 36 ,\"team2\": 55 ,\"date\": \"2022-08-20\"}',\n",
              " '{\"fixture\":867970 ,\"league\": 39 ,\"season\": 2022 ,\"team1\": 63 ,\"team2\": 49 ,\"date\": \"2022-08-21\"}',\n",
              " '{\"fixture\":867971 ,\"league\": 39 ,\"season\": 2022 ,\"team1\": 46 ,\"team2\": 41 ,\"date\": \"2022-08-20\"}',\n",
              " '{\"fixture\":867972 ,\"league\": 39 ,\"season\": 2022 ,\"team1\": 33 ,\"team2\": 40 ,\"date\": \"2022-08-22\"}',\n",
              " '{\"fixture\":867973 ,\"league\": 39 ,\"season\": 2022 ,\"team1\": 34 ,\"team2\": 50 ,\"date\": \"2022-08-21\"}',\n",
              " '{\"fixture\":867974 ,\"league\": 39 ,\"season\": 2022 ,\"team1\": 47 ,\"team2\": 39 ,\"date\": \"2022-08-20\"}',\n",
              " '{\"fixture\":867975 ,\"league\": 39 ,\"season\": 2022 ,\"team1\": 48 ,\"team2\": 51 ,\"date\": \"2022-08-21\"}',\n",
              " '{\"fixture\":867976 ,\"league\": 39 ,\"season\": 2022 ,\"team1\": 42 ,\"team2\": 36 ,\"date\": \"2022-08-27\"}',\n",
              " '{\"fixture\":867977 ,\"league\": 39 ,\"season\": 2022 ,\"team1\": 66 ,\"team2\": 48 ,\"date\": \"2022-08-28\"}',\n",
              " '{\"fixture\":867978 ,\"league\": 39 ,\"season\": 2022 ,\"team1\": 55 ,\"team2\": 45 ,\"date\": \"2022-08-27\"}',\n",
              " '{\"fixture\":867979 ,\"league\": 39 ,\"season\": 2022 ,\"team1\": 51 ,\"team2\": 63 ,\"date\": \"2022-08-27\"}',\n",
              " '{\"fixture\":867980 ,\"league\": 39 ,\"season\": 2022 ,\"team1\": 49 ,\"team2\": 46 ,\"date\": \"2022-08-27\"}',\n",
              " '{\"fixture\":867981 ,\"league\": 39 ,\"season\": 2022 ,\"team1\": 40 ,\"team2\": 35 ,\"date\": \"2022-08-27\"}',\n",
              " '{\"fixture\":867982 ,\"league\": 39 ,\"season\": 2022 ,\"team1\": 50 ,\"team2\": 52 ,\"date\": \"2022-08-27\"}',\n",
              " '{\"fixture\":867983 ,\"league\": 39 ,\"season\": 2022 ,\"team1\": 65 ,\"team2\": 47 ,\"date\": \"2022-08-28\"}',\n",
              " '{\"fixture\":867984 ,\"league\": 39 ,\"season\": 2022 ,\"team1\": 41 ,\"team2\": 33 ,\"date\": \"2022-08-27\"}',\n",
              " '{\"fixture\":867985 ,\"league\": 39 ,\"season\": 2022 ,\"team1\": 39 ,\"team2\": 34 ,\"date\": \"2022-08-28\"}',\n",
              " '{\"fixture\":867986 ,\"league\": 39 ,\"season\": 2022 ,\"team1\": 35 ,\"team2\": 39 ,\"date\": \"2022-08-31\"}',\n",
              " '{\"fixture\":867987 ,\"league\": 39 ,\"season\": 2022 ,\"team1\": 42 ,\"team2\": 66 ,\"date\": \"2022-08-31\"}',\n",
              " '{\"fixture\":867988 ,\"league\": 39 ,\"season\": 2022 ,\"team1\": 36 ,\"team2\": 51 ,\"date\": \"2022-08-30\"}',\n",
              " '{\"fixture\":867989 ,\"league\": 39 ,\"season\": 2022 ,\"team1\": 63 ,\"team2\": 45 ,\"date\": \"2022-08-30\"}',\n",
              " '{\"fixture\":867990 ,\"league\": 39 ,\"season\": 2022 ,\"team1\": 46 ,\"team2\": 33 ,\"date\": \"2022-09-01\"}',\n",
              " '{\"fixture\":867991 ,\"league\": 39 ,\"season\": 2022 ,\"team1\": 48 ,\"team2\": 47 ,\"date\": \"2022-08-31\"}',\n",
              " '{\"fixture\":867992 ,\"league\": 39 ,\"season\": 2022 ,\"team1\": 52 ,\"team2\": 55 ,\"date\": \"2022-08-30\"}',\n",
              " '{\"fixture\":867993 ,\"league\": 39 ,\"season\": 2022 ,\"team1\": 41 ,\"team2\": 49 ,\"date\": \"2022-08-30\"}',\n",
              " '{\"fixture\":867994 ,\"league\": 39 ,\"season\": 2022 ,\"team1\": 40 ,\"team2\": 34 ,\"date\": \"2022-08-31\"}',\n",
              " '{\"fixture\":867995 ,\"league\": 39 ,\"season\": 2022 ,\"team1\": 50 ,\"team2\": 65 ,\"date\": \"2022-08-31\"}',\n",
              " '{\"fixture\":867996 ,\"league\": 39 ,\"season\": 2022 ,\"team1\": 66 ,\"team2\": 50 ,\"date\": \"2022-09-03\"}',\n",
              " '{\"fixture\":867997 ,\"league\": 39 ,\"season\": 2022 ,\"team1\": 55 ,\"team2\": 63 ,\"date\": \"2022-09-03\"}',\n",
              " '{\"fixture\":867998 ,\"league\": 39 ,\"season\": 2022 ,\"team1\": 51 ,\"team2\": 46 ,\"date\": \"2022-09-04\"}',\n",
              " '{\"fixture\":867999 ,\"league\": 39 ,\"season\": 2022 ,\"team1\": 49 ,\"team2\": 48 ,\"date\": \"2022-09-04\"}',\n",
              " '{\"fixture\":868000 ,\"league\": 39 ,\"season\": 2022 ,\"team1\": 45 ,\"team2\": 40 ,\"date\": \"2022-09-03\"}',\n",
              " '{\"fixture\":868001 ,\"league\": 39 ,\"season\": 2022 ,\"team1\": 33 ,\"team2\": 42 ,\"date\": \"2022-09-04\"}',\n",
              " '{\"fixture\":868002 ,\"league\": 39 ,\"season\": 2022 ,\"team1\": 34 ,\"team2\": 52 ,\"date\": \"2022-09-03\"}',\n",
              " '{\"fixture\":868003 ,\"league\": 39 ,\"season\": 2022 ,\"team1\": 65 ,\"team2\": 35 ,\"date\": \"2022-09-03\"}',\n",
              " '{\"fixture\":868004 ,\"league\": 39 ,\"season\": 2022 ,\"team1\": 47 ,\"team2\": 36 ,\"date\": \"2022-09-03\"}',\n",
              " '{\"fixture\":868005 ,\"league\": 39 ,\"season\": 2022 ,\"team1\": 39 ,\"team2\": 41 ,\"date\": \"2022-09-03\"}',\n",
              " '{\"fixture\":868006 ,\"league\": 39 ,\"season\": 2022 ,\"team1\": 35 ,\"team2\": 51 ,\"date\": \"2022-09-10\"}',\n",
              " '{\"fixture\":868007 ,\"league\": 39 ,\"season\": 2022 ,\"team1\": 42 ,\"team2\": 45 ,\"date\": \"2022-09-11\"}',\n",
              " '{\"fixture\":868008 ,\"league\": 39 ,\"season\": 2022 ,\"team1\": 52 ,\"team2\": 33 ,\"date\": \"2022-09-11\"}',\n",
              " '{\"fixture\":868009 ,\"league\": 39 ,\"season\": 2022 ,\"team1\": 36 ,\"team2\": 49 ,\"date\": \"2022-09-10\"}',\n",
              " '{\"fixture\":868010 ,\"league\": 39 ,\"season\": 2022 ,\"team1\": 63 ,\"team2\": 65 ,\"date\": \"2022-09-12\"}',\n",
              " '{\"fixture\":868011 ,\"league\": 39 ,\"season\": 2022 ,\"team1\": 46 ,\"team2\": 66 ,\"date\": \"2022-09-10\"}',\n",
              " '{\"fixture\":868012 ,\"league\": 39 ,\"season\": 2022 ,\"team1\": 40 ,\"team2\": 39 ,\"date\": \"2022-09-10\"}',\n",
              " '{\"fixture\":868013 ,\"league\": 39 ,\"season\": 2022 ,\"team1\": 50 ,\"team2\": 47 ,\"date\": \"2022-09-10\"}',\n",
              " '{\"fixture\":868014 ,\"league\": 39 ,\"season\": 2022 ,\"team1\": 41 ,\"team2\": 55 ,\"date\": \"2022-09-10\"}',\n",
              " '{\"fixture\":868015 ,\"league\": 39 ,\"season\": 2022 ,\"team1\": 48 ,\"team2\": 34 ,\"date\": \"2022-09-11\"}',\n",
              " '{\"fixture\":868016 ,\"league\": 39 ,\"season\": 2022 ,\"team1\": 66 ,\"team2\": 41 ,\"date\": \"2022-09-16\"}',\n",
              " '{\"fixture\":868017 ,\"league\": 39 ,\"season\": 2022 ,\"team1\": 55 ,\"team2\": 42 ,\"date\": \"2022-09-18\"}',\n",
              " '{\"fixture\":868018 ,\"league\": 39 ,\"season\": 2022 ,\"team1\": 51 ,\"team2\": 52 ,\"date\": \"2022-09-17\"}',\n",
              " '{\"fixture\":868019 ,\"league\": 39 ,\"season\": 2022 ,\"team1\": 49 ,\"team2\": 40 ,\"date\": \"2022-09-18\"}',\n",
              " '{\"fixture\":868020 ,\"league\": 39 ,\"season\": 2022 ,\"team1\": 45 ,\"team2\": 48 ,\"date\": \"2022-09-18\"}',\n",
              " '{\"fixture\":868021 ,\"league\": 39 ,\"season\": 2022 ,\"team1\": 33 ,\"team2\": 63 ,\"date\": \"2022-09-18\"}',\n",
              " '{\"fixture\":868022 ,\"league\": 39 ,\"season\": 2022 ,\"team1\": 34 ,\"team2\": 35 ,\"date\": \"2022-09-17\"}',\n",
              " '{\"fixture\":868023 ,\"league\": 39 ,\"season\": 2022 ,\"team1\": 65 ,\"team2\": 36 ,\"date\": \"2022-09-16\"}',\n",
              " '{\"fixture\":868024 ,\"league\": 39 ,\"season\": 2022 ,\"team1\": 47 ,\"team2\": 46 ,\"date\": \"2022-09-17\"}',\n",
              " '{\"fixture\":868025 ,\"league\": 39 ,\"season\": 2022 ,\"team1\": 39 ,\"team2\": 50 ,\"date\": \"2022-09-17\"}',\n",
              " '{\"fixture\":868026 ,\"league\": 39 ,\"season\": 2022 ,\"team1\": 35 ,\"team2\": 55 ,\"date\": \"2022-10-01\"}',\n",
              " '{\"fixture\":868027 ,\"league\": 39 ,\"season\": 2022 ,\"team1\": 42 ,\"team2\": 47 ,\"date\": \"2022-10-01\"}',\n",
              " '{\"fixture\":868028 ,\"league\": 39 ,\"season\": 2022 ,\"team1\": 52 ,\"team2\": 49 ,\"date\": \"2022-10-01\"}',\n",
              " '{\"fixture\":868029 ,\"league\": 39 ,\"season\": 2022 ,\"team1\": 36 ,\"team2\": 34 ,\"date\": \"2022-10-01\"}',\n",
              " '{\"fixture\":868030 ,\"league\": 39 ,\"season\": 2022 ,\"team1\": 63 ,\"team2\": 66 ,\"date\": \"2022-10-02\"}',\n",
              " '{\"fixture\":868031 ,\"league\": 39 ,\"season\": 2022 ,\"team1\": 46 ,\"team2\": 65 ,\"date\": \"2022-10-03\"}',\n",
              " '{\"fixture\":868032 ,\"league\": 39 ,\"season\": 2022 ,\"team1\": 40 ,\"team2\": 51 ,\"date\": \"2022-10-01\"}',\n",
              " '{\"fixture\":868033 ,\"league\": 39 ,\"season\": 2022 ,\"team1\": 50 ,\"team2\": 33 ,\"date\": \"2022-10-02\"}',\n",
              " '{\"fixture\":868034 ,\"league\": 39 ,\"season\": 2022 ,\"team1\": 41 ,\"team2\": 45 ,\"date\": \"2022-10-01\"}',\n",
              " '{\"fixture\":868035 ,\"league\": 39 ,\"season\": 2022 ,\"team1\": 48 ,\"team2\": 39 ,\"date\": \"2022-10-01\"}',\n",
              " '{\"fixture\":868036 ,\"league\": 39 ,\"season\": 2022 ,\"team1\": 35 ,\"team2\": 46 ,\"date\": \"2022-10-08\"}',\n",
              " '{\"fixture\":868037 ,\"league\": 39 ,\"season\": 2022 ,\"team1\": 42 ,\"team2\": 40 ,\"date\": \"2022-10-09\"}',\n",
              " '{\"fixture\":868038 ,\"league\": 39 ,\"season\": 2022 ,\"team1\": 51 ,\"team2\": 47 ,\"date\": \"2022-10-08\"}',\n",
              " '{\"fixture\":868039 ,\"league\": 39 ,\"season\": 2022 ,\"team1\": 49 ,\"team2\": 39 ,\"date\": \"2022-10-08\"}',\n",
              " '{\"fixture\":868040 ,\"league\": 39 ,\"season\": 2022 ,\"team1\": 52 ,\"team2\": 63 ,\"date\": \"2022-10-09\"}',\n",
              " '{\"fixture\":868041 ,\"league\": 39 ,\"season\": 2022 ,\"team1\": 45 ,\"team2\": 33 ,\"date\": \"2022-10-09\"}',\n",
              " '{\"fixture\":868042 ,\"league\": 39 ,\"season\": 2022 ,\"team1\": 50 ,\"team2\": 41 ,\"date\": \"2022-10-08\"}',\n",
              " '{\"fixture\":868043 ,\"league\": 39 ,\"season\": 2022 ,\"team1\": 34 ,\"team2\": 55 ,\"date\": \"2022-10-08\"}',\n",
              " '{\"fixture\":868044 ,\"league\": 39 ,\"season\": 2022 ,\"team1\": 65 ,\"team2\": 66 ,\"date\": \"2022-10-10\"}',\n",
              " '{\"fixture\":868045 ,\"league\": 39 ,\"season\": 2022 ,\"team1\": 48 ,\"team2\": 36 ,\"date\": \"2022-10-09\"}',\n",
              " '{\"fixture\":868046 ,\"league\": 39 ,\"season\": 2022 ,\"team1\": 66 ,\"team2\": 49 ,\"date\": \"2022-10-16\"}',\n",
              " '{\"fixture\":868047 ,\"league\": 39 ,\"season\": 2022 ,\"team1\": 55 ,\"team2\": 51 ,\"date\": \"2022-10-14\"}',\n",
              " '{\"fixture\":868048 ,\"league\": 39 ,\"season\": 2022 ,\"team1\": 36 ,\"team2\": 35 ,\"date\": \"2022-10-15\"}',\n",
              " '{\"fixture\":868049 ,\"league\": 39 ,\"season\": 2022 ,\"team1\": 63 ,\"team2\": 42 ,\"date\": \"2022-10-16\"}',\n",
              " '{\"fixture\":868050 ,\"league\": 39 ,\"season\": 2022 ,\"team1\": 46 ,\"team2\": 52 ,\"date\": \"2022-10-15\"}',\n",
              " '{\"fixture\":868051 ,\"league\": 39 ,\"season\": 2022 ,\"team1\": 40 ,\"team2\": 50 ,\"date\": \"2022-10-16\"}',\n",
              " '{\"fixture\":868052 ,\"league\": 39 ,\"season\": 2022 ,\"team1\": 33 ,\"team2\": 34 ,\"date\": \"2022-10-16\"}',\n",
              " '{\"fixture\":868053 ,\"league\": 39 ,\"season\": 2022 ,\"team1\": 41 ,\"team2\": 48 ,\"date\": \"2022-10-16\"}',\n",
              " '{\"fixture\":868054 ,\"league\": 39 ,\"season\": 2022 ,\"team1\": 47 ,\"team2\": 45 ,\"date\": \"2022-10-15\"}',\n",
              " '{\"fixture\":868055 ,\"league\": 39 ,\"season\": 2022 ,\"team1\": 39 ,\"team2\": 65 ,\"date\": \"2022-10-15\"}',\n",
              " '{\"fixture\":868056 ,\"league\": 39 ,\"season\": 2022 ,\"team1\": 35 ,\"team2\": 41 ,\"date\": \"2022-10-19\"}',\n",
              " '{\"fixture\":868057 ,\"league\": 39 ,\"season\": 2022 ,\"team1\": 42 ,\"team2\": 50 ,\"date\": \"2022-10-20\"}',\n",
              " '{\"fixture\":868058 ,\"league\": 39 ,\"season\": 2022 ,\"team1\": 55 ,\"team2\": 49 ,\"date\": \"2022-10-20\"}',\n",
              " '{\"fixture\":868059 ,\"league\": 39 ,\"season\": 2022 ,\"team1\": 51 ,\"team2\": 65 ,\"date\": \"2022-10-18\"}',\n",
              " '{\"fixture\":868060 ,\"league\": 39 ,\"season\": 2022 ,\"team1\": 36 ,\"team2\": 66 ,\"date\": \"2022-10-20\"}',\n",
              " '{\"fixture\":868061 ,\"league\": 39 ,\"season\": 2022 ,\"team1\": 46 ,\"team2\": 63 ,\"date\": \"2022-10-20\"}',\n",
              " '{\"fixture\":868062 ,\"league\": 39 ,\"season\": 2022 ,\"team1\": 52 ,\"team2\": 39 ,\"date\": \"2022-10-18\"}',\n",
              " '{\"fixture\":868063 ,\"league\": 39 ,\"season\": 2022 ,\"team1\": 34 ,\"team2\": 45 ,\"date\": \"2022-10-19\"}',\n",
              " '{\"fixture\":868064 ,\"league\": 39 ,\"season\": 2022 ,\"team1\": 40 ,\"team2\": 48 ,\"date\": \"2022-10-19\"}',\n",
              " '{\"fixture\":868065 ,\"league\": 39 ,\"season\": 2022 ,\"team1\": 33 ,\"team2\": 47 ,\"date\": \"2022-10-19\"}',\n",
              " '{\"fixture\":868066 ,\"league\": 39 ,\"season\": 2022 ,\"team1\": 66 ,\"team2\": 55 ,\"date\": \"2022-10-23\"}',\n",
              " '{\"fixture\":868067 ,\"league\": 39 ,\"season\": 2022 ,\"team1\": 49 ,\"team2\": 33 ,\"date\": \"2022-10-23\"}',\n",
              " '{\"fixture\":868068 ,\"league\": 39 ,\"season\": 2022 ,\"team1\": 45 ,\"team2\": 52 ,\"date\": \"2022-10-22\"}',\n",
              " '{\"fixture\":868069 ,\"league\": 39 ,\"season\": 2022 ,\"team1\": 63 ,\"team2\": 36 ,\"date\": \"2022-10-23\"}',\n",
              " '{\"fixture\":868070 ,\"league\": 39 ,\"season\": 2022 ,\"team1\": 50 ,\"team2\": 51 ,\"date\": \"2022-10-23\"}',\n",
              " '{\"fixture\":868071 ,\"league\": 39 ,\"season\": 2022 ,\"team1\": 65 ,\"team2\": 40 ,\"date\": \"2022-10-22\"}',\n",
              " '{\"fixture\":868072 ,\"league\": 39 ,\"season\": 2022 ,\"team1\": 41 ,\"team2\": 42 ,\"date\": \"2022-10-23\"}',\n",
              " '{\"fixture\":868073 ,\"league\": 39 ,\"season\": 2022 ,\"team1\": 47 ,\"team2\": 34 ,\"date\": \"2022-10-22\"}',\n",
              " '{\"fixture\":868074 ,\"league\": 39 ,\"season\": 2022 ,\"team1\": 48 ,\"team2\": 35 ,\"date\": \"2022-10-24\"}',\n",
              " '{\"fixture\":868075 ,\"league\": 39 ,\"season\": 2022 ,\"team1\": 39 ,\"team2\": 46 ,\"date\": \"2022-10-23\"}',\n",
              " '{\"fixture\":868076 ,\"league\": 39 ,\"season\": 2022 ,\"team1\": 35 ,\"team2\": 47 ,\"date\": \"2022-10-29\"}',\n",
              " '{\"fixture\":868077 ,\"league\": 39 ,\"season\": 2022 ,\"team1\": 42 ,\"team2\": 65 ,\"date\": \"2022-10-30\"}',\n",
              " '{\"fixture\":868078 ,\"league\": 39 ,\"season\": 2022 ,\"team1\": 55 ,\"team2\": 39 ,\"date\": \"2022-10-29\"}',\n",
              " '{\"fixture\":868079 ,\"league\": 39 ,\"season\": 2022 ,\"team1\": 51 ,\"team2\": 49 ,\"date\": \"2022-10-29\"}',\n",
              " '{\"fixture\":868080 ,\"league\": 39 ,\"season\": 2022 ,\"team1\": 52 ,\"team2\": 41 ,\"date\": \"2022-10-29\"}',\n",
              " '{\"fixture\":868081 ,\"league\": 39 ,\"season\": 2022 ,\"team1\": 36 ,\"team2\": 45 ,\"date\": \"2022-10-29\"}',\n",
              " '{\"fixture\":868082 ,\"league\": 39 ,\"season\": 2022 ,\"team1\": 46 ,\"team2\": 50 ,\"date\": \"2022-10-29\"}',\n",
              " '{\"fixture\":868083 ,\"league\": 39 ,\"season\": 2022 ,\"team1\": 40 ,\"team2\": 63 ,\"date\": \"2022-10-30\"}',\n",
              " '{\"fixture\":868084 ,\"league\": 39 ,\"season\": 2022 ,\"team1\": 33 ,\"team2\": 48 ,\"date\": \"2022-10-30\"}',\n",
              " '{\"fixture\":868085 ,\"league\": 39 ,\"season\": 2022 ,\"team1\": 34 ,\"team2\": 66 ,\"date\": \"2022-10-29\"}',\n",
              " '{\"fixture\":868086 ,\"league\": 39 ,\"season\": 2022 ,\"team1\": 66 ,\"team2\": 33 ,\"date\": \"2022-11-05\"}',\n",
              " '{\"fixture\":868087 ,\"league\": 39 ,\"season\": 2022 ,\"team1\": 49 ,\"team2\": 42 ,\"date\": \"2022-11-05\"}',\n",
              " '{\"fixture\":868088 ,\"league\": 39 ,\"season\": 2022 ,\"team1\": 45 ,\"team2\": 46 ,\"date\": \"2022-11-05\"}',\n",
              " '{\"fixture\":868089 ,\"league\": 39 ,\"season\": 2022 ,\"team1\": 63 ,\"team2\": 35 ,\"date\": \"2022-11-05\"}',\n",
              " '{\"fixture\":868090 ,\"league\": 39 ,\"season\": 2022 ,\"team1\": 50 ,\"team2\": 36 ,\"date\": \"2022-11-05\"}',\n",
              " '{\"fixture\":868091 ,\"league\": 39 ,\"season\": 2022 ,\"team1\": 65 ,\"team2\": 55 ,\"date\": \"2022-11-05\"}',\n",
              " '{\"fixture\":868092 ,\"league\": 39 ,\"season\": 2022 ,\"team1\": 41 ,\"team2\": 34 ,\"date\": \"2022-11-05\"}',\n",
              " '{\"fixture\":868093 ,\"league\": 39 ,\"season\": 2022 ,\"team1\": 47 ,\"team2\": 40 ,\"date\": \"2022-11-05\"}',\n",
              " '{\"fixture\":868094 ,\"league\": 39 ,\"season\": 2022 ,\"team1\": 48 ,\"team2\": 52 ,\"date\": \"2022-11-05\"}',\n",
              " '{\"fixture\":868095 ,\"league\": 39 ,\"season\": 2022 ,\"team1\": 39 ,\"team2\": 51 ,\"date\": \"2022-11-05\"}',\n",
              " '{\"fixture\":868096 ,\"league\": 39 ,\"season\": 2022 ,\"team1\": 35 ,\"team2\": 45 ,\"date\": \"2022-11-12\"}',\n",
              " '{\"fixture\":868097 ,\"league\": 39 ,\"season\": 2022 ,\"team1\": 51 ,\"team2\": 66 ,\"date\": \"2022-11-12\"}',\n",
              " '{\"fixture\":868098 ,\"league\": 39 ,\"season\": 2022 ,\"team1\": 36 ,\"team2\": 33 ,\"date\": \"2022-11-12\"}',\n",
              " '{\"fixture\":868099 ,\"league\": 39 ,\"season\": 2022 ,\"team1\": 40 ,\"team2\": 41 ,\"date\": \"2022-11-12\"}',\n",
              " '{\"fixture\":868100 ,\"league\": 39 ,\"season\": 2022 ,\"team1\": 50 ,\"team2\": 55 ,\"date\": \"2022-11-12\"}',\n",
              " '{\"fixture\":868101 ,\"league\": 39 ,\"season\": 2022 ,\"team1\": 34 ,\"team2\": 49 ,\"date\": \"2022-11-12\"}',\n",
              " '{\"fixture\":868102 ,\"league\": 39 ,\"season\": 2022 ,\"team1\": 65 ,\"team2\": 52 ,\"date\": \"2022-11-12\"}',\n",
              " '{\"fixture\":868103 ,\"league\": 39 ,\"season\": 2022 ,\"team1\": 47 ,\"team2\": 63 ,\"date\": \"2022-11-12\"}',\n",
              " '{\"fixture\":868104 ,\"league\": 39 ,\"season\": 2022 ,\"team1\": 48 ,\"team2\": 46 ,\"date\": \"2022-11-12\"}',\n",
              " '{\"fixture\":868105 ,\"league\": 39 ,\"season\": 2022 ,\"team1\": 39 ,\"team2\": 42 ,\"date\": \"2022-11-12\"}',\n",
              " '{\"fixture\":868106 ,\"league\": 39 ,\"season\": 2022 ,\"team1\": 42 ,\"team2\": 48 ,\"date\": \"2022-12-26\"}',\n",
              " '{\"fixture\":868107 ,\"league\": 39 ,\"season\": 2022 ,\"team1\": 66 ,\"team2\": 40 ,\"date\": \"2022-12-26\"}',\n",
              " '{\"fixture\":868108 ,\"league\": 39 ,\"season\": 2022 ,\"team1\": 55 ,\"team2\": 47 ,\"date\": \"2022-12-26\"}',\n",
              " '{\"fixture\":868109 ,\"league\": 39 ,\"season\": 2022 ,\"team1\": 49 ,\"team2\": 35 ,\"date\": \"2022-12-26\"}',\n",
              " '{\"fixture\":868110 ,\"league\": 39 ,\"season\": 2022 ,\"team1\": 52 ,\"team2\": 36 ,\"date\": \"2022-12-26\"}',\n",
              " '{\"fixture\":868111 ,\"league\": 39 ,\"season\": 2022 ,\"team1\": 45 ,\"team2\": 39 ,\"date\": \"2022-12-26\"}',\n",
              " '{\"fixture\":868112 ,\"league\": 39 ,\"season\": 2022 ,\"team1\": 63 ,\"team2\": 50 ,\"date\": \"2022-12-26\"}',\n",
              " '{\"fixture\":868113 ,\"league\": 39 ,\"season\": 2022 ,\"team1\": 46 ,\"team2\": 34 ,\"date\": \"2022-12-26\"}',\n",
              " '{\"fixture\":868114 ,\"league\": 39 ,\"season\": 2022 ,\"team1\": 33 ,\"team2\": 65 ,\"date\": \"2022-12-26\"}',\n",
              " '{\"fixture\":868115 ,\"league\": 39 ,\"season\": 2022 ,\"team1\": 41 ,\"team2\": 51 ,\"date\": \"2022-12-26\"}',\n",
              " '{\"fixture\":868116 ,\"league\": 39 ,\"season\": 2022 ,\"team1\": 35 ,\"team2\": 52 ,\"date\": \"2022-12-31\"}',\n",
              " '{\"fixture\":868117 ,\"league\": 39 ,\"season\": 2022 ,\"team1\": 51 ,\"team2\": 42 ,\"date\": \"2022-12-31\"}',\n",
              " '{\"fixture\":868118 ,\"league\": 39 ,\"season\": 2022 ,\"team1\": 36 ,\"team2\": 41 ,\"date\": \"2022-12-31\"}',\n",
              " '{\"fixture\":868119 ,\"league\": 39 ,\"season\": 2022 ,\"team1\": 40 ,\"team2\": 46 ,\"date\": \"2022-12-31\"}',\n",
              " '{\"fixture\":868120 ,\"league\": 39 ,\"season\": 2022 ,\"team1\": 50 ,\"team2\": 45 ,\"date\": \"2022-12-31\"}',\n",
              " '{\"fixture\":868121 ,\"league\": 39 ,\"season\": 2022 ,\"team1\": 34 ,\"team2\": 63 ,\"date\": \"2022-12-31\"}',\n",
              " '{\"fixture\":868122 ,\"league\": 39 ,\"season\": 2022 ,\"team1\": 65 ,\"team2\": 49 ,\"date\": \"2022-12-31\"}',\n",
              " '{\"fixture\":868123 ,\"league\": 39 ,\"season\": 2022 ,\"team1\": 47 ,\"team2\": 66 ,\"date\": \"2022-12-31\"}',\n",
              " '{\"fixture\":868124 ,\"league\": 39 ,\"season\": 2022 ,\"team1\": 48 ,\"team2\": 55 ,\"date\": \"2022-12-31\"}',\n",
              " '{\"fixture\":868125 ,\"league\": 39 ,\"season\": 2022 ,\"team1\": 39 ,\"team2\": 33 ,\"date\": \"2022-12-31\"}',\n",
              " '{\"fixture\":868126 ,\"league\": 39 ,\"season\": 2022 ,\"team1\": 42 ,\"team2\": 34 ,\"date\": \"2023-01-02\"}',\n",
              " '{\"fixture\":868127 ,\"league\": 39 ,\"season\": 2022 ,\"team1\": 66 ,\"team2\": 39 ,\"date\": \"2023-01-02\"}',\n",
              " '{\"fixture\":868128 ,\"league\": 39 ,\"season\": 2022 ,\"team1\": 55 ,\"team2\": 40 ,\"date\": \"2023-01-02\"}',\n",
              " '{\"fixture\":868129 ,\"league\": 39 ,\"season\": 2022 ,\"team1\": 49 ,\"team2\": 50 ,\"date\": \"2023-01-02\"}',\n",
              " '{\"fixture\":868130 ,\"league\": 39 ,\"season\": 2022 ,\"team1\": 52 ,\"team2\": 47 ,\"date\": \"2023-01-02\"}',\n",
              " '{\"fixture\":868131 ,\"league\": 39 ,\"season\": 2022 ,\"team1\": 45 ,\"team2\": 51 ,\"date\": \"2023-01-02\"}',\n",
              " '{\"fixture\":868132 ,\"league\": 39 ,\"season\": 2022 ,\"team1\": 63 ,\"team2\": 48 ,\"date\": \"2023-01-02\"}',\n",
              " '{\"fixture\":868133 ,\"league\": 39 ,\"season\": 2022 ,\"team1\": 46 ,\"team2\": 36 ,\"date\": \"2023-01-02\"}',\n",
              " '{\"fixture\":868134 ,\"league\": 39 ,\"season\": 2022 ,\"team1\": 33 ,\"team2\": 35 ,\"date\": \"2023-01-02\"}',\n",
              " '{\"fixture\":868135 ,\"league\": 39 ,\"season\": 2022 ,\"team1\": 41 ,\"team2\": 65 ,\"date\": \"2023-01-02\"}',\n",
              " '{\"fixture\":868136 ,\"league\": 39 ,\"season\": 2022 ,\"team1\": 66 ,\"team2\": 63 ,\"date\": \"2023-01-14\"}',\n",
              " '{\"fixture\":868137 ,\"league\": 39 ,\"season\": 2022 ,\"team1\": 55 ,\"team2\": 35 ,\"date\": \"2023-01-14\"}',\n",
              " '{\"fixture\":868138 ,\"league\": 39 ,\"season\": 2022 ,\"team1\": 51 ,\"team2\": 40 ,\"date\": \"2023-01-14\"}',\n",
              " '{\"fixture\":868139 ,\"league\": 39 ,\"season\": 2022 ,\"team1\": 49 ,\"team2\": 52 ,\"date\": \"2023-01-14\"}',\n",
              " '{\"fixture\":868140 ,\"league\": 39 ,\"season\": 2022 ,\"team1\": 45 ,\"team2\": 41 ,\"date\": \"2023-01-14\"}',\n",
              " '{\"fixture\":868141 ,\"league\": 39 ,\"season\": 2022 ,\"team1\": 33 ,\"team2\": 50 ,\"date\": \"2023-01-14\"}',\n",
              " '{\"fixture\":868142 ,\"league\": 39 ,\"season\": 2022 ,\"team1\": 34 ,\"team2\": 36 ,\"date\": \"2023-01-14\"}',\n",
              " '{\"fixture\":868143 ,\"league\": 39 ,\"season\": 2022 ,\"team1\": 65 ,\"team2\": 46 ,\"date\": \"2023-01-14\"}',\n",
              " '{\"fixture\":868144 ,\"league\": 39 ,\"season\": 2022 ,\"team1\": 47 ,\"team2\": 42 ,\"date\": \"2023-01-14\"}',\n",
              " '{\"fixture\":868145 ,\"league\": 39 ,\"season\": 2022 ,\"team1\": 39 ,\"team2\": 48 ,\"date\": \"2023-01-14\"}',\n",
              " '{\"fixture\":868146 ,\"league\": 39 ,\"season\": 2022 ,\"team1\": 35 ,\"team2\": 65 ,\"date\": \"2023-01-21\"}',\n",
              " '{\"fixture\":868147 ,\"league\": 39 ,\"season\": 2022 ,\"team1\": 42 ,\"team2\": 33 ,\"date\": \"2023-01-21\"}',\n",
              " '{\"fixture\":868148 ,\"league\": 39 ,\"season\": 2022 ,\"team1\": 52 ,\"team2\": 34 ,\"date\": \"2023-01-21\"}',\n",
              " '{\"fixture\":868149 ,\"league\": 39 ,\"season\": 2022 ,\"team1\": 36 ,\"team2\": 47 ,\"date\": \"2023-01-21\"}',\n",
              " '{\"fixture\":868150 ,\"league\": 39 ,\"season\": 2022 ,\"team1\": 63 ,\"team2\": 55 ,\"date\": \"2023-01-21\"}',\n",
              " '{\"fixture\":868151 ,\"league\": 39 ,\"season\": 2022 ,\"team1\": 46 ,\"team2\": 51 ,\"date\": \"2023-01-21\"}',\n",
              " '{\"fixture\":868152 ,\"league\": 39 ,\"season\": 2022 ,\"team1\": 40 ,\"team2\": 49 ,\"date\": \"2023-01-21\"}',\n",
              " '{\"fixture\":868153 ,\"league\": 39 ,\"season\": 2022 ,\"team1\": 50 ,\"team2\": 39 ,\"date\": \"2023-01-21\"}',\n",
              " '{\"fixture\":868154 ,\"league\": 39 ,\"season\": 2022 ,\"team1\": 41 ,\"team2\": 66 ,\"date\": \"2023-01-21\"}',\n",
              " '{\"fixture\":868155 ,\"league\": 39 ,\"season\": 2022 ,\"team1\": 48 ,\"team2\": 45 ,\"date\": \"2023-01-21\"}',\n",
              " '{\"fixture\":868156 ,\"league\": 39 ,\"season\": 2022 ,\"team1\": 66 ,\"team2\": 46 ,\"date\": \"2023-02-04\"}',\n",
              " '{\"fixture\":868157 ,\"league\": 39 ,\"season\": 2022 ,\"team1\": 55 ,\"team2\": 41 ,\"date\": \"2023-02-04\"}',\n",
              " '{\"fixture\":868158 ,\"league\": 39 ,\"season\": 2022 ,\"team1\": 51 ,\"team2\": 35 ,\"date\": \"2023-02-04\"}',\n",
              " '{\"fixture\":868159 ,\"league\": 39 ,\"season\": 2022 ,\"team1\": 49 ,\"team2\": 36 ,\"date\": \"2023-02-04\"}',\n",
              " '{\"fixture\":868160 ,\"league\": 39 ,\"season\": 2022 ,\"team1\": 45 ,\"team2\": 42 ,\"date\": \"2023-02-04\"}',\n",
              " '{\"fixture\":868161 ,\"league\": 39 ,\"season\": 2022 ,\"team1\": 33 ,\"team2\": 52 ,\"date\": \"2023-02-04\"}',\n",
              " '{\"fixture\":868162 ,\"league\": 39 ,\"season\": 2022 ,\"team1\": 34 ,\"team2\": 48 ,\"date\": \"2023-02-04\"}',\n",
              " '{\"fixture\":868163 ,\"league\": 39 ,\"season\": 2022 ,\"team1\": 65 ,\"team2\": 63 ,\"date\": \"2023-02-04\"}',\n",
              " '{\"fixture\":868164 ,\"league\": 39 ,\"season\": 2022 ,\"team1\": 47 ,\"team2\": 50 ,\"date\": \"2023-02-04\"}',\n",
              " '{\"fixture\":868165 ,\"league\": 39 ,\"season\": 2022 ,\"team1\": 39 ,\"team2\": 40 ,\"date\": \"2023-02-04\"}',\n",
              " '{\"fixture\":868166 ,\"league\": 39 ,\"season\": 2022 ,\"team1\": 35 ,\"team2\": 34 ,\"date\": \"2023-02-11\"}',\n",
              " '{\"fixture\":868167 ,\"league\": 39 ,\"season\": 2022 ,\"team1\": 42 ,\"team2\": 55 ,\"date\": \"2023-02-11\"}',\n",
              " '{\"fixture\":868168 ,\"league\": 39 ,\"season\": 2022 ,\"team1\": 52 ,\"team2\": 51 ,\"date\": \"2023-02-11\"}',\n",
              " '{\"fixture\":868169 ,\"league\": 39 ,\"season\": 2022 ,\"team1\": 36 ,\"team2\": 65 ,\"date\": \"2023-02-11\"}',\n",
              " '{\"fixture\":868170 ,\"league\": 39 ,\"season\": 2022 ,\"team1\": 63 ,\"team2\": 33 ,\"date\": \"2023-02-11\"}',\n",
              " '{\"fixture\":868171 ,\"league\": 39 ,\"season\": 2022 ,\"team1\": 46 ,\"team2\": 47 ,\"date\": \"2023-02-11\"}',\n",
              " '{\"fixture\":868172 ,\"league\": 39 ,\"season\": 2022 ,\"team1\": 40 ,\"team2\": 45 ,\"date\": \"2023-02-11\"}',\n",
              " '{\"fixture\":868173 ,\"league\": 39 ,\"season\": 2022 ,\"team1\": 50 ,\"team2\": 66 ,\"date\": \"2023-02-11\"}',\n",
              " '{\"fixture\":868174 ,\"league\": 39 ,\"season\": 2022 ,\"team1\": 41 ,\"team2\": 39 ,\"date\": \"2023-02-11\"}',\n",
              " '{\"fixture\":868175 ,\"league\": 39 ,\"season\": 2022 ,\"team1\": 48 ,\"team2\": 49 ,\"date\": \"2023-02-11\"}',\n",
              " '{\"fixture\":868176 ,\"league\": 39 ,\"season\": 2022 ,\"team1\": 66 ,\"team2\": 42 ,\"date\": \"2023-02-18\"}',\n",
              " '{\"fixture\":868177 ,\"league\": 39 ,\"season\": 2022 ,\"team1\": 55 ,\"team2\": 52 ,\"date\": \"2023-02-18\"}',\n",
              " '{\"fixture\":868178 ,\"league\": 39 ,\"season\": 2022 ,\"team1\": 51 ,\"team2\": 36 ,\"date\": \"2023-02-18\"}',\n",
              " '{\"fixture\":868179 ,\"league\": 39 ,\"season\": 2022 ,\"team1\": 49 ,\"team2\": 41 ,\"date\": \"2023-02-18\"}',\n",
              " '{\"fixture\":868180 ,\"league\": 39 ,\"season\": 2022 ,\"team1\": 45 ,\"team2\": 63 ,\"date\": \"2023-02-18\"}',\n",
              " '{\"fixture\":868181 ,\"league\": 39 ,\"season\": 2022 ,\"team1\": 33 ,\"team2\": 46 ,\"date\": \"2023-02-18\"}',\n",
              " '{\"fixture\":868182 ,\"league\": 39 ,\"season\": 2022 ,\"team1\": 34 ,\"team2\": 40 ,\"date\": \"2023-02-18\"}',\n",
              " '{\"fixture\":868183 ,\"league\": 39 ,\"season\": 2022 ,\"team1\": 65 ,\"team2\": 50 ,\"date\": \"2023-02-18\"}',\n",
              " '{\"fixture\":868184 ,\"league\": 39 ,\"season\": 2022 ,\"team1\": 47 ,\"team2\": 48 ,\"date\": \"2023-02-18\"}',\n",
              " '{\"fixture\":868185 ,\"league\": 39 ,\"season\": 2022 ,\"team1\": 39 ,\"team2\": 35 ,\"date\": \"2023-02-18\"}',\n",
              " '{\"fixture\":868186 ,\"league\": 39 ,\"season\": 2022 ,\"team1\": 35 ,\"team2\": 50 ,\"date\": \"2023-02-25\"}',\n",
              " '{\"fixture\":868187 ,\"league\": 39 ,\"season\": 2022 ,\"team1\": 52 ,\"team2\": 40 ,\"date\": \"2023-02-25\"}',\n",
              " '{\"fixture\":868188 ,\"league\": 39 ,\"season\": 2022 ,\"team1\": 45 ,\"team2\": 66 ,\"date\": \"2023-02-25\"}',\n",
              " '{\"fixture\":868189 ,\"league\": 39 ,\"season\": 2022 ,\"team1\": 36 ,\"team2\": 39 ,\"date\": \"2023-02-25\"}',\n",
              " '{\"fixture\":868190 ,\"league\": 39 ,\"season\": 2022 ,\"team1\": 63 ,\"team2\": 41 ,\"date\": \"2023-02-25\"}',\n",
              " '{\"fixture\":868191 ,\"league\": 39 ,\"season\": 2022 ,\"team1\": 46 ,\"team2\": 42 ,\"date\": \"2023-02-25\"}',\n",
              " '{\"fixture\":868192 ,\"league\": 39 ,\"season\": 2022 ,\"team1\": 33 ,\"team2\": 55 ,\"date\": \"2023-02-25\"}',\n",
              " '{\"fixture\":868193 ,\"league\": 39 ,\"season\": 2022 ,\"team1\": 34 ,\"team2\": 51 ,\"date\": \"2023-02-25\"}',\n",
              " '{\"fixture\":868194 ,\"league\": 39 ,\"season\": 2022 ,\"team1\": 47 ,\"team2\": 49 ,\"date\": \"2023-02-25\"}',\n",
              " '{\"fixture\":868195 ,\"league\": 39 ,\"season\": 2022 ,\"team1\": 48 ,\"team2\": 65 ,\"date\": \"2023-02-25\"}',\n",
              " '{\"fixture\":868196 ,\"league\": 39 ,\"season\": 2022 ,\"team1\": 42 ,\"team2\": 35 ,\"date\": \"2023-03-04\"}',\n",
              " '{\"fixture\":868197 ,\"league\": 39 ,\"season\": 2022 ,\"team1\": 66 ,\"team2\": 52 ,\"date\": \"2023-03-04\"}',\n",
              " '{\"fixture\":868198 ,\"league\": 39 ,\"season\": 2022 ,\"team1\": 55 ,\"team2\": 36 ,\"date\": \"2023-03-04\"}',\n",
              " '{\"fixture\":868199 ,\"league\": 39 ,\"season\": 2022 ,\"team1\": 51 ,\"team2\": 48 ,\"date\": \"2023-03-04\"}',\n",
              " '{\"fixture\":868200 ,\"league\": 39 ,\"season\": 2022 ,\"team1\": 49 ,\"team2\": 63 ,\"date\": \"2023-03-04\"}',\n",
              " '{\"fixture\":868201 ,\"league\": 39 ,\"season\": 2022 ,\"team1\": 40 ,\"team2\": 33 ,\"date\": \"2023-03-04\"}',\n",
              " '{\"fixture\":868202 ,\"league\": 39 ,\"season\": 2022 ,\"team1\": 50 ,\"team2\": 34 ,\"date\": \"2023-03-04\"}',\n",
              " '{\"fixture\":868203 ,\"league\": 39 ,\"season\": 2022 ,\"team1\": 65 ,\"team2\": 45 ,\"date\": \"2023-03-04\"}',\n",
              " '{\"fixture\":868204 ,\"league\": 39 ,\"season\": 2022 ,\"team1\": 41 ,\"team2\": 46 ,\"date\": \"2023-03-04\"}',\n",
              " '{\"fixture\":868205 ,\"league\": 39 ,\"season\": 2022 ,\"team1\": 39 ,\"team2\": 47 ,\"date\": \"2023-03-04\"}',\n",
              " '{\"fixture\":868206 ,\"league\": 39 ,\"season\": 2022 ,\"team1\": 35 ,\"team2\": 40 ,\"date\": \"2023-03-11\"}',\n",
              " '{\"fixture\":868207 ,\"league\": 39 ,\"season\": 2022 ,\"team1\": 52 ,\"team2\": 50 ,\"date\": \"2023-03-11\"}',\n",
              " '{\"fixture\":868208 ,\"league\": 39 ,\"season\": 2022 ,\"team1\": 45 ,\"team2\": 55 ,\"date\": \"2023-03-11\"}',\n",
              " '{\"fixture\":868209 ,\"league\": 39 ,\"season\": 2022 ,\"team1\": 36 ,\"team2\": 42 ,\"date\": \"2023-03-11\"}',\n",
              " '{\"fixture\":868210 ,\"league\": 39 ,\"season\": 2022 ,\"team1\": 63 ,\"team2\": 51 ,\"date\": \"2023-03-11\"}',\n",
              " '{\"fixture\":868211 ,\"league\": 39 ,\"season\": 2022 ,\"team1\": 46 ,\"team2\": 49 ,\"date\": \"2023-03-11\"}',\n",
              " '{\"fixture\":868212 ,\"league\": 39 ,\"season\": 2022 ,\"team1\": 33 ,\"team2\": 41 ,\"date\": \"2023-03-11\"}',\n",
              " '{\"fixture\":868213 ,\"league\": 39 ,\"season\": 2022 ,\"team1\": 34 ,\"team2\": 39 ,\"date\": \"2023-03-11\"}',\n",
              " '{\"fixture\":868214 ,\"league\": 39 ,\"season\": 2022 ,\"team1\": 47 ,\"team2\": 65 ,\"date\": \"2023-03-11\"}',\n",
              " '{\"fixture\":868215 ,\"league\": 39 ,\"season\": 2022 ,\"team1\": 48 ,\"team2\": 66 ,\"date\": \"2023-03-11\"}',\n",
              " '{\"fixture\":868216 ,\"league\": 39 ,\"season\": 2022 ,\"team1\": 42 ,\"team2\": 52 ,\"date\": \"2023-03-18\"}',\n",
              " '{\"fixture\":868217 ,\"league\": 39 ,\"season\": 2022 ,\"team1\": 66 ,\"team2\": 35 ,\"date\": \"2023-03-18\"}',\n",
              " '{\"fixture\":868218 ,\"league\": 39 ,\"season\": 2022 ,\"team1\": 55 ,\"team2\": 46 ,\"date\": \"2023-03-18\"}',\n",
              " '{\"fixture\":868219 ,\"league\": 39 ,\"season\": 2022 ,\"team1\": 51 ,\"team2\": 33 ,\"date\": \"2023-03-18\"}',\n",
              " '{\"fixture\":868220 ,\"league\": 39 ,\"season\": 2022 ,\"team1\": 49 ,\"team2\": 45 ,\"date\": \"2023-03-18\"}',\n",
              " '{\"fixture\":868221 ,\"league\": 39 ,\"season\": 2022 ,\"team1\": 40 ,\"team2\": 36 ,\"date\": \"2023-03-18\"}',\n",
              " '{\"fixture\":868222 ,\"league\": 39 ,\"season\": 2022 ,\"team1\": 50 ,\"team2\": 48 ,\"date\": \"2023-03-18\"}',\n",
              " '{\"fixture\":868223 ,\"league\": 39 ,\"season\": 2022 ,\"team1\": 65 ,\"team2\": 34 ,\"date\": \"2023-03-18\"}',\n",
              " '{\"fixture\":868224 ,\"league\": 39 ,\"season\": 2022 ,\"team1\": 41 ,\"team2\": 47 ,\"date\": \"2023-03-18\"}',\n",
              " '{\"fixture\":868225 ,\"league\": 39 ,\"season\": 2022 ,\"team1\": 39 ,\"team2\": 63 ,\"date\": \"2023-03-18\"}',\n",
              " '{\"fixture\":868226 ,\"league\": 39 ,\"season\": 2022 ,\"team1\": 35 ,\"team2\": 36 ,\"date\": \"2023-04-01\"}',\n",
              " '{\"fixture\":868227 ,\"league\": 39 ,\"season\": 2022 ,\"team1\": 42 ,\"team2\": 63 ,\"date\": \"2023-04-01\"}',\n",
              " '{\"fixture\":868228 ,\"league\": 39 ,\"season\": 2022 ,\"team1\": 51 ,\"team2\": 55 ,\"date\": \"2023-04-01\"}',\n",
              " '{\"fixture\":868229 ,\"league\": 39 ,\"season\": 2022 ,\"team1\": 49 ,\"team2\": 66 ,\"date\": \"2023-04-01\"}',\n",
              " '{\"fixture\":868230 ,\"league\": 39 ,\"season\": 2022 ,\"team1\": 52 ,\"team2\": 46 ,\"date\": \"2023-04-01\"}',\n",
              " '{\"fixture\":868231 ,\"league\": 39 ,\"season\": 2022 ,\"team1\": 45 ,\"team2\": 47 ,\"date\": \"2023-04-01\"}',\n",
              " '{\"fixture\":868232 ,\"league\": 39 ,\"season\": 2022 ,\"team1\": 50 ,\"team2\": 40 ,\"date\": \"2023-04-01\"}',\n",
              " '{\"fixture\":868233 ,\"league\": 39 ,\"season\": 2022 ,\"team1\": 34 ,\"team2\": 33 ,\"date\": \"2023-04-01\"}',\n",
              " '{\"fixture\":868234 ,\"league\": 39 ,\"season\": 2022 ,\"team1\": 65 ,\"team2\": 39 ,\"date\": \"2023-04-01\"}',\n",
              " '{\"fixture\":868235 ,\"league\": 39 ,\"season\": 2022 ,\"team1\": 48 ,\"team2\": 41 ,\"date\": \"2023-04-01\"}',\n",
              " '{\"fixture\":868236 ,\"league\": 39 ,\"season\": 2022 ,\"team1\": 66 ,\"team2\": 65 ,\"date\": \"2023-04-08\"}',\n",
              " '{\"fixture\":868237 ,\"league\": 39 ,\"season\": 2022 ,\"team1\": 55 ,\"team2\": 34 ,\"date\": \"2023-04-08\"}',\n",
              " '{\"fixture\":868238 ,\"league\": 39 ,\"season\": 2022 ,\"team1\": 36 ,\"team2\": 48 ,\"date\": \"2023-04-08\"}',\n",
              " '{\"fixture\":868239 ,\"league\": 39 ,\"season\": 2022 ,\"team1\": 63 ,\"team2\": 52 ,\"date\": \"2023-04-08\"}',\n",
              " '{\"fixture\":868240 ,\"league\": 39 ,\"season\": 2022 ,\"team1\": 46 ,\"team2\": 35 ,\"date\": \"2023-04-08\"}',\n",
              " '{\"fixture\":868241 ,\"league\": 39 ,\"season\": 2022 ,\"team1\": 40 ,\"team2\": 42 ,\"date\": \"2023-04-08\"}',\n",
              " '{\"fixture\":868242 ,\"league\": 39 ,\"season\": 2022 ,\"team1\": 33 ,\"team2\": 45 ,\"date\": \"2023-04-08\"}',\n",
              " '{\"fixture\":868243 ,\"league\": 39 ,\"season\": 2022 ,\"team1\": 41 ,\"team2\": 50 ,\"date\": \"2023-04-08\"}',\n",
              " '{\"fixture\":868244 ,\"league\": 39 ,\"season\": 2022 ,\"team1\": 47 ,\"team2\": 51 ,\"date\": \"2023-04-08\"}',\n",
              " '{\"fixture\":868245 ,\"league\": 39 ,\"season\": 2022 ,\"team1\": 39 ,\"team2\": 49 ,\"date\": \"2023-04-08\"}',\n",
              " '{\"fixture\":868246 ,\"league\": 39 ,\"season\": 2022 ,\"team1\": 66 ,\"team2\": 34 ,\"date\": \"2023-04-15\"}',\n",
              " '{\"fixture\":868247 ,\"league\": 39 ,\"season\": 2022 ,\"team1\": 49 ,\"team2\": 51 ,\"date\": \"2023-04-15\"}',\n",
              " '{\"fixture\":868248 ,\"league\": 39 ,\"season\": 2022 ,\"team1\": 45 ,\"team2\": 36 ,\"date\": \"2023-04-15\"}',\n",
              " '{\"fixture\":868249 ,\"league\": 39 ,\"season\": 2022 ,\"team1\": 63 ,\"team2\": 40 ,\"date\": \"2023-04-15\"}',\n",
              " '{\"fixture\":868250 ,\"league\": 39 ,\"season\": 2022 ,\"team1\": 50 ,\"team2\": 46 ,\"date\": \"2023-04-15\"}',\n",
              " '{\"fixture\":868251 ,\"league\": 39 ,\"season\": 2022 ,\"team1\": 65 ,\"team2\": 33 ,\"date\": \"2023-04-15\"}',\n",
              " '{\"fixture\":868252 ,\"league\": 39 ,\"season\": 2022 ,\"team1\": 41 ,\"team2\": 52 ,\"date\": \"2023-04-15\"}',\n",
              " '{\"fixture\":868253 ,\"league\": 39 ,\"season\": 2022 ,\"team1\": 47 ,\"team2\": 35 ,\"date\": \"2023-04-15\"}',\n",
              " '{\"fixture\":868254 ,\"league\": 39 ,\"season\": 2022 ,\"team1\": 48 ,\"team2\": 42 ,\"date\": \"2023-04-15\"}',\n",
              " '{\"fixture\":868255 ,\"league\": 39 ,\"season\": 2022 ,\"team1\": 39 ,\"team2\": 55 ,\"date\": \"2023-04-15\"}',\n",
              " '{\"fixture\":868256 ,\"league\": 39 ,\"season\": 2022 ,\"team1\": 35 ,\"team2\": 48 ,\"date\": \"2023-04-22\"}',\n",
              " '{\"fixture\":868257 ,\"league\": 39 ,\"season\": 2022 ,\"team1\": 42 ,\"team2\": 41 ,\"date\": \"2023-04-22\"}',\n",
              " '{\"fixture\":868258 ,\"league\": 39 ,\"season\": 2022 ,\"team1\": 55 ,\"team2\": 66 ,\"date\": \"2023-04-22\"}',\n",
              " '{\"fixture\":868259 ,\"league\": 39 ,\"season\": 2022 ,\"team1\": 51 ,\"team2\": 50 ,\"date\": \"2023-04-22\"}',\n",
              " '{\"fixture\":868260 ,\"league\": 39 ,\"season\": 2022 ,\"team1\": 52 ,\"team2\": 45 ,\"date\": \"2023-04-22\"}',\n",
              " '{\"fixture\":868261 ,\"league\": 39 ,\"season\": 2022 ,\"team1\": 36 ,\"team2\": 63 ,\"date\": \"2023-04-22\"}',\n",
              " '{\"fixture\":868262 ,\"league\": 39 ,\"season\": 2022 ,\"team1\": 46 ,\"team2\": 39 ,\"date\": \"2023-04-22\"}',\n",
              " '{\"fixture\":868263 ,\"league\": 39 ,\"season\": 2022 ,\"team1\": 40 ,\"team2\": 65 ,\"date\": \"2023-04-22\"}',\n",
              " '{\"fixture\":868264 ,\"league\": 39 ,\"season\": 2022 ,\"team1\": 33 ,\"team2\": 49 ,\"date\": \"2023-04-22\"}',\n",
              " '{\"fixture\":868265 ,\"league\": 39 ,\"season\": 2022 ,\"team1\": 34 ,\"team2\": 47 ,\"date\": \"2023-04-22\"}',\n",
              " '{\"fixture\":868266 ,\"league\": 39 ,\"season\": 2022 ,\"team1\": 45 ,\"team2\": 34 ,\"date\": \"2023-04-25\"}',\n",
              " '{\"fixture\":868267 ,\"league\": 39 ,\"season\": 2022 ,\"team1\": 63 ,\"team2\": 46 ,\"date\": \"2023-04-25\"}',\n",
              " '{\"fixture\":868268 ,\"league\": 39 ,\"season\": 2022 ,\"team1\": 65 ,\"team2\": 51 ,\"date\": \"2023-04-25\"}',\n",
              " '{\"fixture\":868269 ,\"league\": 39 ,\"season\": 2022 ,\"team1\": 47 ,\"team2\": 33 ,\"date\": \"2023-04-25\"}',\n",
              " '{\"fixture\":868270 ,\"league\": 39 ,\"season\": 2022 ,\"team1\": 48 ,\"team2\": 40 ,\"date\": \"2023-04-25\"}',\n",
              " '{\"fixture\":868271 ,\"league\": 39 ,\"season\": 2022 ,\"team1\": 39 ,\"team2\": 52 ,\"date\": \"2023-04-25\"}',\n",
              " '{\"fixture\":868272 ,\"league\": 39 ,\"season\": 2022 ,\"team1\": 66 ,\"team2\": 36 ,\"date\": \"2023-04-25\"}',\n",
              " '{\"fixture\":868273 ,\"league\": 39 ,\"season\": 2022 ,\"team1\": 49 ,\"team2\": 55 ,\"date\": \"2023-04-26\"}',\n",
              " '{\"fixture\":868274 ,\"league\": 39 ,\"season\": 2022 ,\"team1\": 41 ,\"team2\": 35 ,\"date\": \"2023-04-26\"}',\n",
              " '{\"fixture\":868275 ,\"league\": 39 ,\"season\": 2022 ,\"team1\": 50 ,\"team2\": 42 ,\"date\": \"2023-04-26\"}',\n",
              " '{\"fixture\":868276 ,\"league\": 39 ,\"season\": 2022 ,\"team1\": 35 ,\"team2\": 63 ,\"date\": \"2023-04-29\"}',\n",
              " '{\"fixture\":868277 ,\"league\": 39 ,\"season\": 2022 ,\"team1\": 42 ,\"team2\": 49 ,\"date\": \"2023-04-29\"}',\n",
              " '{\"fixture\":868278 ,\"league\": 39 ,\"season\": 2022 ,\"team1\": 55 ,\"team2\": 65 ,\"date\": \"2023-04-29\"}',\n",
              " '{\"fixture\":868279 ,\"league\": 39 ,\"season\": 2022 ,\"team1\": 51 ,\"team2\": 39 ,\"date\": \"2023-04-29\"}',\n",
              " '{\"fixture\":868280 ,\"league\": 39 ,\"season\": 2022 ,\"team1\": 52 ,\"team2\": 48 ,\"date\": \"2023-04-29\"}',\n",
              " '{\"fixture\":868281 ,\"league\": 39 ,\"season\": 2022 ,\"team1\": 36 ,\"team2\": 50 ,\"date\": \"2023-04-29\"}',\n",
              " '{\"fixture\":868282 ,\"league\": 39 ,\"season\": 2022 ,\"team1\": 46 ,\"team2\": 45 ,\"date\": \"2023-04-29\"}',\n",
              " '{\"fixture\":868283 ,\"league\": 39 ,\"season\": 2022 ,\"team1\": 40 ,\"team2\": 47 ,\"date\": \"2023-04-29\"}',\n",
              " '{\"fixture\":868284 ,\"league\": 39 ,\"season\": 2022 ,\"team1\": 33 ,\"team2\": 66 ,\"date\": \"2023-04-29\"}',\n",
              " '{\"fixture\":868285 ,\"league\": 39 ,\"season\": 2022 ,\"team1\": 34 ,\"team2\": 41 ,\"date\": \"2023-04-29\"}',\n",
              " '{\"fixture\":868286 ,\"league\": 39 ,\"season\": 2022 ,\"team1\": 35 ,\"team2\": 49 ,\"date\": \"2023-05-06\"}',\n",
              " '{\"fixture\":868287 ,\"league\": 39 ,\"season\": 2022 ,\"team1\": 51 ,\"team2\": 45 ,\"date\": \"2023-05-06\"}',\n",
              " '{\"fixture\":868288 ,\"league\": 39 ,\"season\": 2022 ,\"team1\": 36 ,\"team2\": 46 ,\"date\": \"2023-05-06\"}',\n",
              " '{\"fixture\":868289 ,\"league\": 39 ,\"season\": 2022 ,\"team1\": 40 ,\"team2\": 55 ,\"date\": \"2023-05-06\"}',\n",
              " '{\"fixture\":868290 ,\"league\": 39 ,\"season\": 2022 ,\"team1\": 50 ,\"team2\": 63 ,\"date\": \"2023-05-06\"}',\n",
              " '{\"fixture\":868291 ,\"league\": 39 ,\"season\": 2022 ,\"team1\": 34 ,\"team2\": 42 ,\"date\": \"2023-05-06\"}',\n",
              " '{\"fixture\":868292 ,\"league\": 39 ,\"season\": 2022 ,\"team1\": 65 ,\"team2\": 41 ,\"date\": \"2023-05-06\"}',\n",
              " '{\"fixture\":868293 ,\"league\": 39 ,\"season\": 2022 ,\"team1\": 47 ,\"team2\": 52 ,\"date\": \"2023-05-06\"}',\n",
              " '{\"fixture\":868294 ,\"league\": 39 ,\"season\": 2022 ,\"team1\": 48 ,\"team2\": 33 ,\"date\": \"2023-05-06\"}',\n",
              " '{\"fixture\":868295 ,\"league\": 39 ,\"season\": 2022 ,\"team1\": 39 ,\"team2\": 66 ,\"date\": \"2023-05-06\"}',\n",
              " '{\"fixture\":868296 ,\"league\": 39 ,\"season\": 2022 ,\"team1\": 42 ,\"team2\": 51 ,\"date\": \"2023-05-13\"}',\n",
              " '{\"fixture\":868297 ,\"league\": 39 ,\"season\": 2022 ,\"team1\": 66 ,\"team2\": 47 ,\"date\": \"2023-05-13\"}',\n",
              " '{\"fixture\":868298 ,\"league\": 39 ,\"season\": 2022 ,\"team1\": 55 ,\"team2\": 48 ,\"date\": \"2023-05-13\"}',\n",
              " '{\"fixture\":868299 ,\"league\": 39 ,\"season\": 2022 ,\"team1\": 49 ,\"team2\": 65 ,\"date\": \"2023-05-13\"}',\n",
              " '{\"fixture\":868300 ,\"league\": 39 ,\"season\": 2022 ,\"team1\": 52 ,\"team2\": 35 ,\"date\": \"2023-05-13\"}',\n",
              " '{\"fixture\":868301 ,\"league\": 39 ,\"season\": 2022 ,\"team1\": 45 ,\"team2\": 50 ,\"date\": \"2023-05-13\"}',\n",
              " '{\"fixture\":868302 ,\"league\": 39 ,\"season\": 2022 ,\"team1\": 63 ,\"team2\": 34 ,\"date\": \"2023-05-13\"}',\n",
              " '{\"fixture\":868303 ,\"league\": 39 ,\"season\": 2022 ,\"team1\": 46 ,\"team2\": 40 ,\"date\": \"2023-05-13\"}',\n",
              " '{\"fixture\":868304 ,\"league\": 39 ,\"season\": 2022 ,\"team1\": 33 ,\"team2\": 39 ,\"date\": \"2023-05-13\"}',\n",
              " '{\"fixture\":868305 ,\"league\": 39 ,\"season\": 2022 ,\"team1\": 41 ,\"team2\": 36 ,\"date\": \"2023-05-13\"}',\n",
              " '{\"fixture\":868306 ,\"league\": 39 ,\"season\": 2022 ,\"team1\": 35 ,\"team2\": 33 ,\"date\": \"2023-05-20\"}',\n",
              " '{\"fixture\":868307 ,\"league\": 39 ,\"season\": 2022 ,\"team1\": 51 ,\"team2\": 41 ,\"date\": \"2023-05-20\"}',\n",
              " '{\"fixture\":868308 ,\"league\": 39 ,\"season\": 2022 ,\"team1\": 36 ,\"team2\": 52 ,\"date\": \"2023-05-20\"}',\n",
              " '{\"fixture\":868309 ,\"league\": 39 ,\"season\": 2022 ,\"team1\": 40 ,\"team2\": 66 ,\"date\": \"2023-05-20\"}',\n",
              " '{\"fixture\":868310 ,\"league\": 39 ,\"season\": 2022 ,\"team1\": 50 ,\"team2\": 49 ,\"date\": \"2023-05-20\"}',\n",
              " '{\"fixture\":868311 ,\"league\": 39 ,\"season\": 2022 ,\"team1\": 34 ,\"team2\": 46 ,\"date\": \"2023-05-20\"}',\n",
              " '{\"fixture\":868312 ,\"league\": 39 ,\"season\": 2022 ,\"team1\": 65 ,\"team2\": 42 ,\"date\": \"2023-05-20\"}',\n",
              " '{\"fixture\":868313 ,\"league\": 39 ,\"season\": 2022 ,\"team1\": 47 ,\"team2\": 55 ,\"date\": \"2023-05-20\"}',\n",
              " '{\"fixture\":868314 ,\"league\": 39 ,\"season\": 2022 ,\"team1\": 48 ,\"team2\": 63 ,\"date\": \"2023-05-20\"}',\n",
              " '{\"fixture\":868315 ,\"league\": 39 ,\"season\": 2022 ,\"team1\": 39 ,\"team2\": 45 ,\"date\": \"2023-05-20\"}',\n",
              " '{\"fixture\":868316 ,\"league\": 39 ,\"season\": 2022 ,\"team1\": 42 ,\"team2\": 39 ,\"date\": \"2023-05-28\"}',\n",
              " '{\"fixture\":868317 ,\"league\": 39 ,\"season\": 2022 ,\"team1\": 66 ,\"team2\": 51 ,\"date\": \"2023-05-28\"}',\n",
              " '{\"fixture\":868318 ,\"league\": 39 ,\"season\": 2022 ,\"team1\": 55 ,\"team2\": 50 ,\"date\": \"2023-05-28\"}',\n",
              " '{\"fixture\":868319 ,\"league\": 39 ,\"season\": 2022 ,\"team1\": 49 ,\"team2\": 34 ,\"date\": \"2023-05-28\"}',\n",
              " '{\"fixture\":868320 ,\"league\": 39 ,\"season\": 2022 ,\"team1\": 52 ,\"team2\": 65 ,\"date\": \"2023-05-28\"}',\n",
              " '{\"fixture\":868321 ,\"league\": 39 ,\"season\": 2022 ,\"team1\": 45 ,\"team2\": 35 ,\"date\": \"2023-05-28\"}',\n",
              " '{\"fixture\":868322 ,\"league\": 39 ,\"season\": 2022 ,\"team1\": 63 ,\"team2\": 47 ,\"date\": \"2023-05-28\"}',\n",
              " '{\"fixture\":868323 ,\"league\": 39 ,\"season\": 2022 ,\"team1\": 46 ,\"team2\": 48 ,\"date\": \"2023-05-28\"}',\n",
              " '{\"fixture\":868324 ,\"league\": 39 ,\"season\": 2022 ,\"team1\": 33 ,\"team2\": 36 ,\"date\": \"2023-05-28\"}',\n",
              " '{\"fixture\":868325 ,\"league\": 39 ,\"season\": 2022 ,\"team1\": 41 ,\"team2\": 40 ,\"date\": \"2023-05-28\"}',\n",
              " '{\"fixture\":871164 ,\"league\": 78 ,\"season\": 2022 ,\"team1\": 169 ,\"team2\": 157 ,\"date\": \"2022-08-05\"}',\n",
              " '{\"fixture\":871165 ,\"league\": 78 ,\"season\": 2022 ,\"team1\": 165 ,\"team2\": 168 ,\"date\": \"2022-08-06\"}',\n",
              " '{\"fixture\":871166 ,\"league\": 78 ,\"season\": 2022 ,\"team1\": 182 ,\"team2\": 159 ,\"date\": \"2022-08-06\"}',\n",
              " '{\"fixture\":871167 ,\"league\": 78 ,\"season\": 2022 ,\"team1\": 192 ,\"team2\": 174 ,\"date\": \"2022-08-07\"}',\n",
              " '{\"fixture\":871168 ,\"league\": 78 ,\"season\": 2022 ,\"team1\": 163 ,\"team2\": 167 ,\"date\": \"2022-08-06\"}',\n",
              " '{\"fixture\":871169 ,\"league\": 78 ,\"season\": 2022 ,\"team1\": 161 ,\"team2\": 162 ,\"date\": \"2022-08-06\"}',\n",
              " '{\"fixture\":871170 ,\"league\": 78 ,\"season\": 2022 ,\"team1\": 176 ,\"team2\": 164 ,\"date\": \"2022-08-06\"}',\n",
              " '{\"fixture\":871171 ,\"league\": 78 ,\"season\": 2022 ,\"team1\": 170 ,\"team2\": 160 ,\"date\": \"2022-08-06\"}',\n",
              " '{\"fixture\":871172 ,\"league\": 78 ,\"season\": 2022 ,\"team1\": 172 ,\"team2\": 173 ,\"date\": \"2022-08-07\"}',\n",
              " '{\"fixture\":871173 ,\"league\": 78 ,\"season\": 2022 ,\"team1\": 157 ,\"team2\": 161 ,\"date\": \"2022-08-14\"}',\n",
              " '{\"fixture\":871174 ,\"league\": 78 ,\"season\": 2022 ,\"team1\": 168 ,\"team2\": 170 ,\"date\": \"2022-08-13\"}',\n",
              " '{\"fixture\":871175 ,\"league\": 78 ,\"season\": 2022 ,\"team1\": 173 ,\"team2\": 192 ,\"date\": \"2022-08-13\"}',\n",
              " '{\"fixture\":871176 ,\"league\": 78 ,\"season\": 2022 ,\"team1\": 160 ,\"team2\": 165 ,\"date\": \"2022-08-12\"}',\n",
              " '{\"fixture\":871177 ,\"league\": 78 ,\"season\": 2022 ,\"team1\": 164 ,\"team2\": 182 ,\"date\": \"2022-08-14\"}',\n",
              " '{\"fixture\":871178 ,\"league\": 78 ,\"season\": 2022 ,\"team1\": 167 ,\"team2\": 176 ,\"date\": \"2022-08-13\"}',\n",
              " '{\"fixture\":871179 ,\"league\": 78 ,\"season\": 2022 ,\"team1\": 159 ,\"team2\": 169 ,\"date\": \"2022-08-13\"}',\n",
              " '{\"fixture\":871180 ,\"league\": 78 ,\"season\": 2022 ,\"team1\": 174 ,\"team2\": 163 ,\"date\": \"2022-08-13\"}',\n",
              " '{\"fixture\":871181 ,\"league\": 78 ,\"season\": 2022 ,\"team1\": 162 ,\"team2\": 172 ,\"date\": \"2022-08-13\"}',\n",
              " '{\"fixture\":871182 ,\"league\": 78 ,\"season\": 2022 ,\"team1\": 165 ,\"team2\": 162 ,\"date\": \"2022-08-20\"}',\n",
              " '{\"fixture\":871183 ,\"league\": 78 ,\"season\": 2022 ,\"team1\": 168 ,\"team2\": 167 ,\"date\": \"2022-08-20\"}',\n",
              " '{\"fixture\":871184 ,\"league\": 78 ,\"season\": 2022 ,\"team1\": 182 ,\"team2\": 173 ,\"date\": \"2022-08-20\"}',\n",
              " '{\"fixture\":871185 ,\"league\": 78 ,\"season\": 2022 ,\"team1\": 163 ,\"team2\": 159 ,\"date\": \"2022-08-19\"}',\n",
              " '{\"fixture\":871186 ,\"league\": 78 ,\"season\": 2022 ,\"team1\": 169 ,\"team2\": 192 ,\"date\": \"2022-08-21\"}',\n",
              " '{\"fixture\":871187 ,\"league\": 78 ,\"season\": 2022 ,\"team1\": 161 ,\"team2\": 174 ,\"date\": \"2022-08-20\"}',\n",
              " '{\"fixture\":871188 ,\"league\": 78 ,\"season\": 2022 ,\"team1\": 176 ,\"team2\": 157 ,\"date\": \"2022-08-21\"}',\n",
              " '{\"fixture\":871189 ,\"league\": 78 ,\"season\": 2022 ,\"team1\": 170 ,\"team2\": 164 ,\"date\": \"2022-08-20\"}',\n",
              " '{\"fixture\":871190 ,\"league\": 78 ,\"season\": 2022 ,\"team1\": 172 ,\"team2\": 160 ,\"date\": \"2022-08-20\"}',\n",
              " '{\"fixture\":871191 ,\"league\": 78 ,\"season\": 2022 ,\"team1\": 157 ,\"team2\": 163 ,\"date\": \"2022-08-27\"}',\n",
              " '{\"fixture\":871192 ,\"league\": 78 ,\"season\": 2022 ,\"team1\": 173 ,\"team2\": 161 ,\"date\": \"2022-08-27\"}',\n",
              " '{\"fixture\":871193 ,\"league\": 78 ,\"season\": 2022 ,\"team1\": 160 ,\"team2\": 176 ,\"date\": \"2022-08-26\"}',\n",
              " '{\"fixture\":871194 ,\"league\": 78 ,\"season\": 2022 ,\"team1\": 192 ,\"team2\": 172 ,\"date\": \"2022-08-28\"}',\n",
              " '{\"fixture\":871195 ,\"league\": 78 ,\"season\": 2022 ,\"team1\": 164 ,\"team2\": 168 ,\"date\": \"2022-08-27\"}',\n",
              " '{\"fixture\":871196 ,\"league\": 78 ,\"season\": 2022 ,\"team1\": 167 ,\"team2\": 170 ,\"date\": \"2022-08-27\"}',\n",
              " '{\"fixture\":871197 ,\"league\": 78 ,\"season\": 2022 ,\"team1\": 159 ,\"team2\": 165 ,\"date\": \"2022-08-27\"}',\n",
              " '{\"fixture\":871198 ,\"league\": 78 ,\"season\": 2022 ,\"team1\": 174 ,\"team2\": 182 ,\"date\": \"2022-08-27\"}',\n",
              " '{\"fixture\":871199 ,\"league\": 78 ,\"season\": 2022 ,\"team1\": 162 ,\"team2\": 169 ,\"date\": \"2022-08-28\"}',\n",
              " '{\"fixture\":871200 ,\"league\": 78 ,\"season\": 2022 ,\"team1\": 165 ,\"team2\": 167 ,\"date\": \"2022-09-02\"}',\n",
              " '{\"fixture\":871201 ,\"league\": 78 ,\"season\": 2022 ,\"team1\": 168 ,\"team2\": 160 ,\"date\": \"2022-09-03\"}',\n",
              " '{\"fixture\":871202 ,\"league\": 78 ,\"season\": 2022 ,\"team1\": 182 ,\"team2\": 157 ,\"date\": \"2022-09-03\"}',\n",
              " '{\"fixture\":871203 ,\"league\": 78 ,\"season\": 2022 ,\"team1\": 163 ,\"team2\": 164 ,\"date\": \"2022-09-04\"}',\n",
              " '{\"fixture\":871204 ,\"league\": 78 ,\"season\": 2022 ,\"team1\": 169 ,\"team2\": 173 ,\"date\": \"2022-09-03\"}',\n",
              " '{\"fixture\":871205 ,\"league\": 78 ,\"season\": 2022 ,\"team1\": 161 ,\"team2\": 192 ,\"date\": \"2022-09-03\"}',\n",
              " '{\"fixture\":871206 ,\"league\": 78 ,\"season\": 2022 ,\"team1\": 176 ,\"team2\": 162 ,\"date\": \"2022-09-03\"}',\n",
              " '{\"fixture\":871207 ,\"league\": 78 ,\"season\": 2022 ,\"team1\": 170 ,\"team2\": 159 ,\"date\": \"2022-09-04\"}',\n",
              " '{\"fixture\":871208 ,\"league\": 78 ,\"season\": 2022 ,\"team1\": 172 ,\"team2\": 174 ,\"date\": \"2022-09-03\"}',\n",
              " '{\"fixture\":871209 ,\"league\": 78 ,\"season\": 2022 ,\"team1\": 157 ,\"team2\": 172 ,\"date\": \"2022-09-10\"}',\n",
              " '{\"fixture\":871210 ,\"league\": 78 ,\"season\": 2022 ,\"team1\": 173 ,\"team2\": 165 ,\"date\": \"2022-09-10\"}',\n",
              " '{\"fixture\":871211 ,\"league\": 78 ,\"season\": 2022 ,\"team1\": 160 ,\"team2\": 163 ,\"date\": \"2022-09-11\"}',\n",
              " '{\"fixture\":871212 ,\"league\": 78 ,\"season\": 2022 ,\"team1\": 192 ,\"team2\": 182 ,\"date\": \"2022-09-11\"}',\n",
              " '{\"fixture\":871213 ,\"league\": 78 ,\"season\": 2022 ,\"team1\": 167 ,\"team2\": 164 ,\"date\": \"2022-09-10\"}',\n",
              " '{\"fixture\":871214 ,\"league\": 78 ,\"season\": 2022 ,\"team1\": 169 ,\"team2\": 161 ,\"date\": \"2022-09-10\"}',\n",
              " '{\"fixture\":871215 ,\"league\": 78 ,\"season\": 2022 ,\"team1\": 159 ,\"team2\": 168 ,\"date\": \"2022-09-10\"}',\n",
              " '{\"fixture\":871216 ,\"league\": 78 ,\"season\": 2022 ,\"team1\": 174 ,\"team2\": 176 ,\"date\": \"2022-09-10\"}',\n",
              " '{\"fixture\":871217 ,\"league\": 78 ,\"season\": 2022 ,\"team1\": 162 ,\"team2\": 170 ,\"date\": \"2022-09-09\"}',\n",
              " '{\"fixture\":871218 ,\"league\": 78 ,\"season\": 2022 ,\"team1\": 170 ,\"team2\": 157 ,\"date\": \"2022-09-17\"}',\n",
              " '{\"fixture\":871219 ,\"league\": 78 ,\"season\": 2022 ,\"team1\": 163 ,\"team2\": 173 ,\"date\": \"2022-09-17\"}',\n",
              " '{\"fixture\":871220 ,\"league\": 78 ,\"season\": 2022 ,\"team1\": 168 ,\"team2\": 162 ,\"date\": \"2022-09-17\"}',\n",
              " '{\"fixture\":871221 ,\"league\": 78 ,\"season\": 2022 ,\"team1\": 182 ,\"team2\": 161 ,\"date\": \"2022-09-18\"}',\n",
              " '{\"fixture\":871222 ,\"league\": 78 ,\"season\": 2022 ,\"team1\": 164 ,\"team2\": 159 ,\"date\": \"2022-09-17\"}',\n",
              " '{\"fixture\":871223 ,\"league\": 78 ,\"season\": 2022 ,\"team1\": 176 ,\"team2\": 192 ,\"date\": \"2022-09-18\"}',\n",
              " '{\"fixture\":871224 ,\"league\": 78 ,\"season\": 2022 ,\"team1\": 167 ,\"team2\": 160 ,\"date\": \"2022-09-18\"}',\n",
              " '{\"fixture\":871225 ,\"league\": 78 ,\"season\": 2022 ,\"team1\": 172 ,\"team2\": 169 ,\"date\": \"2022-09-17\"}',\n",
              " '{\"fixture\":871226 ,\"league\": 78 ,\"season\": 2022 ,\"team1\": 165 ,\"team2\": 174 ,\"date\": \"2022-09-17\"}',\n",
              " '{\"fixture\":871227 ,\"league\": 78 ,\"season\": 2022 ,\"team1\": 157 ,\"team2\": 168 ,\"date\": \"2022-10-01\"}',\n",
              " '{\"fixture\":871228 ,\"league\": 78 ,\"season\": 2022 ,\"team1\": 173 ,\"team2\": 176 ,\"date\": \"2022-10-01\"}',\n",
              " '{\"fixture\":871229 ,\"league\": 78 ,\"season\": 2022 ,\"team1\": 160 ,\"team2\": 164 ,\"date\": \"2022-10-01\"}',\n",
              " '{\"fixture\":871230 ,\"league\": 78 ,\"season\": 2022 ,\"team1\": 192 ,\"team2\": 165 ,\"date\": \"2022-10-01\"}',\n",
              " '{\"fixture\":871231 ,\"league\": 78 ,\"season\": 2022 ,\"team1\": 169 ,\"team2\": 182 ,\"date\": \"2022-10-01\"}',\n",
              " '{\"fixture\":871232 ,\"league\": 78 ,\"season\": 2022 ,\"team1\": 161 ,\"team2\": 172 ,\"date\": \"2022-10-01\"}',\n",
              " '{\"fixture\":871233 ,\"league\": 78 ,\"season\": 2022 ,\"team1\": 159 ,\"team2\": 167 ,\"date\": \"2022-10-01\"}',\n",
              " '{\"fixture\":871234 ,\"league\": 78 ,\"season\": 2022 ,\"team1\": 174 ,\"team2\": 170 ,\"date\": \"2022-10-01\"}',\n",
              " '{\"fixture\":871235 ,\"league\": 78 ,\"season\": 2022 ,\"team1\": 162 ,\"team2\": 163 ,\"date\": \"2022-10-01\"}',\n",
              " '{\"fixture\":871236 ,\"league\": 78 ,\"season\": 2022 ,\"team1\": 165 ,\"team2\": 157 ,\"date\": \"2022-10-08\"}',\n",
              " '{\"fixture\":871237 ,\"league\": 78 ,\"season\": 2022 ,\"team1\": 168 ,\"team2\": 174 ,\"date\": \"2022-10-08\"}',\n",
              " '{\"fixture\":871238 ,\"league\": 78 ,\"season\": 2022 ,\"team1\": 164 ,\"team2\": 173 ,\"date\": \"2022-10-08\"}',\n",
              " '{\"fixture\":871239 ,\"league\": 78 ,\"season\": 2022 ,\"team1\": 167 ,\"team2\": 162 ,\"date\": \"2022-10-08\"}',\n",
              " '{\"fixture\":871240 ,\"league\": 78 ,\"season\": 2022 ,\"team1\": 163 ,\"team2\": 192 ,\"date\": \"2022-10-08\"}',\n",
              " '{\"fixture\":871241 ,\"league\": 78 ,\"season\": 2022 ,\"team1\": 176 ,\"team2\": 169 ,\"date\": \"2022-10-08\"}',\n",
              " '{\"fixture\":871242 ,\"league\": 78 ,\"season\": 2022 ,\"team1\": 170 ,\"team2\": 161 ,\"date\": \"2022-10-08\"}',\n",
              " '{\"fixture\":871243 ,\"league\": 78 ,\"season\": 2022 ,\"team1\": 172 ,\"team2\": 182 ,\"date\": \"2022-10-08\"}',\n",
              " '{\"fixture\":871244 ,\"league\": 78 ,\"season\": 2022 ,\"team1\": 159 ,\"team2\": 160 ,\"date\": \"2022-10-08\"}',\n",
              " '{\"fixture\":871245 ,\"league\": 78 ,\"season\": 2022 ,\"team1\": 157 ,\"team2\": 160 ,\"date\": \"2022-10-15\"}',\n",
              " '{\"fixture\":871246 ,\"league\": 78 ,\"season\": 2022 ,\"team1\": 173 ,\"team2\": 159 ,\"date\": \"2022-10-15\"}',\n",
              " '{\"fixture\":871247 ,\"league\": 78 ,\"season\": 2022 ,\"team1\": 182 ,\"team2\": 165 ,\"date\": \"2022-10-15\"}',\n",
              " '{\"fixture\":871248 ,\"league\": 78 ,\"season\": 2022 ,\"team1\": 192 ,\"team2\": 170 ,\"date\": \"2022-10-15\"}',\n",
              " '{\"fixture\":871249 ,\"league\": 78 ,\"season\": 2022 ,\"team1\": 169 ,\"team2\": 168 ,\"date\": \"2022-10-15\"}',\n",
              " '{\"fixture\":871250 ,\"league\": 78 ,\"season\": 2022 ,\"team1\": 161 ,\"team2\": 163 ,\"date\": \"2022-10-15\"}',\n",
              " '{\"fixture\":871251 ,\"league\": 78 ,\"season\": 2022 ,\"team1\": 172 ,\"team2\": 176 ,\"date\": \"2022-10-15\"}',\n",
              " '{\"fixture\":871252 ,\"league\": 78 ,\"season\": 2022 ,\"team1\": 174 ,\"team2\": 167 ,\"date\": \"2022-10-15\"}',\n",
              " '{\"fixture\":871253 ,\"league\": 78 ,\"season\": 2022 ,\"team1\": 162 ,\"team2\": 164 ,\"date\": \"2022-10-15\"}',\n",
              " '{\"fixture\":871254 ,\"league\": 78 ,\"season\": 2022 ,\"team1\": 165 ,\"team2\": 172 ,\"date\": \"2022-10-22\"}',\n",
              " '{\"fixture\":871255 ,\"league\": 78 ,\"season\": 2022 ,\"team1\": 168 ,\"team2\": 161 ,\"date\": \"2022-10-22\"}',\n",
              " '{\"fixture\":871256 ,\"league\": 78 ,\"season\": 2022 ,\"team1\": 160 ,\"team2\": 162 ,\"date\": \"2022-10-22\"}',\n",
              " '{\"fixture\":871257 ,\"league\": 78 ,\"season\": 2022 ,\"team1\": 164 ,\"team2\": 192 ,\"date\": \"2022-10-22\"}',\n",
              " '{\"fixture\":871258 ,\"league\": 78 ,\"season\": 2022 ,\"team1\": 167 ,\"team2\": 157 ,\"date\": \"2022-10-22\"}',\n",
              " '{\"fixture\":871259 ,\"league\": 78 ,\"season\": 2022 ,\"team1\": 163 ,\"team2\": 169 ,\"date\": \"2022-10-22\"}',\n",
              " '{\"fixture\":871260 ,\"league\": 78 ,\"season\": 2022 ,\"team1\": 176 ,\"team2\": 182 ,\"date\": \"2022-10-22\"}',\n",
              " '{\"fixture\":871261 ,\"league\": 78 ,\"season\": 2022 ,\"team1\": 170 ,\"team2\": 173 ,\"date\": \"2022-10-22\"}',\n",
              " '{\"fixture\":871262 ,\"league\": 78 ,\"season\": 2022 ,\"team1\": 159 ,\"team2\": 174 ,\"date\": \"2022-10-22\"}',\n",
              " '{\"fixture\":871263 ,\"league\": 78 ,\"season\": 2022 ,\"team1\": 157 ,\"team2\": 164 ,\"date\": \"2022-10-29\"}',\n",
              " '{\"fixture\":871264 ,\"league\": 78 ,\"season\": 2022 ,\"team1\": 173 ,\"team2\": 168 ,\"date\": \"2022-10-29\"}',\n",
              " '{\"fixture\":871265 ,\"league\": 78 ,\"season\": 2022 ,\"team1\": 182 ,\"team2\": 163 ,\"date\": \"2022-10-29\"}',\n",
              " '{\"fixture\":871266 ,\"league\": 78 ,\"season\": 2022 ,\"team1\": 192 ,\"team2\": 167 ,\"date\": \"2022-10-29\"}',\n",
              " '{\"fixture\":871267 ,\"league\": 78 ,\"season\": 2022 ,\"team1\": 169 ,\"team2\": 165 ,\"date\": \"2022-10-29\"}',\n",
              " '{\"fixture\":871268 ,\"league\": 78 ,\"season\": 2022 ,\"team1\": 161 ,\"team2\": 176 ,\"date\": \"2022-10-29\"}',\n",
              " '{\"fixture\":871269 ,\"league\": 78 ,\"season\": 2022 ,\"team1\": 172 ,\"team2\": 170 ,\"date\": \"2022-10-29\"}',\n",
              " '{\"fixture\":871270 ,\"league\": 78 ,\"season\": 2022 ,\"team1\": 174 ,\"team2\": 160 ,\"date\": \"2022-10-29\"}',\n",
              " '{\"fixture\":871271 ,\"league\": 78 ,\"season\": 2022 ,\"team1\": 162 ,\"team2\": 159 ,\"date\": \"2022-10-29\"}',\n",
              " '{\"fixture\":871272 ,\"league\": 78 ,\"season\": 2022 ,\"team1\": 165 ,\"team2\": 176 ,\"date\": \"2022-11-05\"}',\n",
              " '{\"fixture\":871273 ,\"league\": 78 ,\"season\": 2022 ,\"team1\": 168 ,\"team2\": 182 ,\"date\": \"2022-11-05\"}',\n",
              " '{\"fixture\":871274 ,\"league\": 78 ,\"season\": 2022 ,\"team1\": 160 ,\"team2\": 192 ,\"date\": \"2022-11-05\"}',\n",
              " '{\"fixture\":871275 ,\"league\": 78 ,\"season\": 2022 ,\"team1\": 164 ,\"team2\": 161 ,\"date\": \"2022-11-05\"}',\n",
              " '{\"fixture\":871276 ,\"league\": 78 ,\"season\": 2022 ,\"team1\": 167 ,\"team2\": 173 ,\"date\": \"2022-11-05\"}',\n",
              " '{\"fixture\":871277 ,\"league\": 78 ,\"season\": 2022 ,\"team1\": 163 ,\"team2\": 172 ,\"date\": \"2022-11-05\"}',\n",
              " '{\"fixture\":871278 ,\"league\": 78 ,\"season\": 2022 ,\"team1\": 170 ,\"team2\": 169 ,\"date\": \"2022-11-05\"}',\n",
              " '{\"fixture\":871279 ,\"league\": 78 ,\"season\": 2022 ,\"team1\": 159 ,\"team2\": 157 ,\"date\": \"2022-11-05\"}',\n",
              " '{\"fixture\":871280 ,\"league\": 78 ,\"season\": 2022 ,\"team1\": 162 ,\"team2\": 174 ,\"date\": \"2022-11-05\"}',\n",
              " '{\"fixture\":871281 ,\"league\": 78 ,\"season\": 2022 ,\"team1\": 157 ,\"team2\": 162 ,\"date\": \"2022-11-08\"}',\n",
              " '{\"fixture\":871282 ,\"league\": 78 ,\"season\": 2022 ,\"team1\": 173 ,\"team2\": 160 ,\"date\": \"2022-11-08\"}',\n",
              " '{\"fixture\":871283 ,\"league\": 78 ,\"season\": 2022 ,\"team1\": 182 ,\"team2\": 170 ,\"date\": \"2022-11-08\"}',\n",
              " '{\"fixture\":871284 ,\"league\": 78 ,\"season\": 2022 ,\"team1\": 192 ,\"team2\": 168 ,\"date\": \"2022-11-08\"}',\n",
              " '{\"fixture\":871285 ,\"league\": 78 ,\"season\": 2022 ,\"team1\": 169 ,\"team2\": 167 ,\"date\": \"2022-11-08\"}',\n",
              " '{\"fixture\":871286 ,\"league\": 78 ,\"season\": 2022 ,\"team1\": 161 ,\"team2\": 165 ,\"date\": \"2022-11-08\"}',\n",
              " '{\"fixture\":871287 ,\"league\": 78 ,\"season\": 2022 ,\"team1\": 176 ,\"team2\": 163 ,\"date\": \"2022-11-08\"}',\n",
              " '{\"fixture\":871288 ,\"league\": 78 ,\"season\": 2022 ,\"team1\": 172 ,\"team2\": 159 ,\"date\": \"2022-11-08\"}',\n",
              " '{\"fixture\":871289 ,\"league\": 78 ,\"season\": 2022 ,\"team1\": 174 ,\"team2\": 164 ,\"date\": \"2022-11-08\"}',\n",
              " '{\"fixture\":871290 ,\"league\": 78 ,\"season\": 2022 ,\"team1\": 168 ,\"team2\": 172 ,\"date\": \"2022-11-12\"}',\n",
              " '{\"fixture\":871291 ,\"league\": 78 ,\"season\": 2022 ,\"team1\": 160 ,\"team2\": 182 ,\"date\": \"2022-11-12\"}',\n",
              " '{\"fixture\":871292 ,\"league\": 78 ,\"season\": 2022 ,\"team1\": 164 ,\"team2\": 169 ,\"date\": \"2022-11-12\"}',\n",
              " '{\"fixture\":871293 ,\"league\": 78 ,\"season\": 2022 ,\"team1\": 167 ,\"team2\": 161 ,\"date\": \"2022-11-12\"}',\n",
              " '{\"fixture\":871294 ,\"league\": 78 ,\"season\": 2022 ,\"team1\": 163 ,\"team2\": 165 ,\"date\": \"2022-11-12\"}',\n",
              " '{\"fixture\":871295 ,\"league\": 78 ,\"season\": 2022 ,\"team1\": 170 ,\"team2\": 176 ,\"date\": \"2022-11-12\"}',\n",
              " '{\"fixture\":871296 ,\"league\": 78 ,\"season\": 2022 ,\"team1\": 159 ,\"team2\": 192 ,\"date\": \"2022-11-12\"}',\n",
              " '{\"fixture\":871297 ,\"league\": 78 ,\"season\": 2022 ,\"team1\": 174 ,\"team2\": 157 ,\"date\": \"2022-11-12\"}',\n",
              " '{\"fixture\":871298 ,\"league\": 78 ,\"season\": 2022 ,\"team1\": 162 ,\"team2\": 173 ,\"date\": \"2022-11-12\"}',\n",
              " '{\"fixture\":871299 ,\"league\": 78 ,\"season\": 2022 ,\"team1\": 165 ,\"team2\": 170 ,\"date\": \"2023-01-21\"}',\n",
              " '{\"fixture\":871300 ,\"league\": 78 ,\"season\": 2022 ,\"team1\": 173 ,\"team2\": 157 ,\"date\": \"2023-01-21\"}',\n",
              " '{\"fixture\":871301 ,\"league\": 78 ,\"season\": 2022 ,\"team1\": 182 ,\"team2\": 167 ,\"date\": \"2023-01-21\"}',\n",
              " '{\"fixture\":871302 ,\"league\": 78 ,\"season\": 2022 ,\"team1\": 192 ,\"team2\": 162 ,\"date\": \"2023-01-21\"}',\n",
              " '{\"fixture\":871303 ,\"league\": 78 ,\"season\": 2022 ,\"team1\": 163 ,\"team2\": 168 ,\"date\": \"2023-01-21\"}',\n",
              " '{\"fixture\":871304 ,\"league\": 78 ,\"season\": 2022 ,\"team1\": 169 ,\"team2\": 174 ,\"date\": \"2023-01-21\"}',\n",
              " '{\"fixture\":871305 ,\"league\": 78 ,\"season\": 2022 ,\"team1\": 161 ,\"team2\": 160 ,\"date\": \"2023-01-21\"}',\n",
              " '{\"fixture\":871306 ,\"league\": 78 ,\"season\": 2022 ,\"team1\": 176 ,\"team2\": 159 ,\"date\": \"2023-01-21\"}',\n",
              " '{\"fixture\":871307 ,\"league\": 78 ,\"season\": 2022 ,\"team1\": 172 ,\"team2\": 164 ,\"date\": \"2023-01-21\"}',\n",
              " '{\"fixture\":871308 ,\"league\": 78 ,\"season\": 2022 ,\"team1\": 157 ,\"team2\": 192 ,\"date\": \"2023-01-24\"}',\n",
              " '{\"fixture\":871309 ,\"league\": 78 ,\"season\": 2022 ,\"team1\": 168 ,\"team2\": 176 ,\"date\": \"2023-01-24\"}',\n",
              " '{\"fixture\":871310 ,\"league\": 78 ,\"season\": 2022 ,\"team1\": 160 ,\"team2\": 169 ,\"date\": \"2023-01-24\"}',\n",
              " '{\"fixture\":871311 ,\"league\": 78 ,\"season\": 2022 ,\"team1\": 164 ,\"team2\": 165 ,\"date\": \"2023-01-24\"}',\n",
              " '{\"fixture\":871312 ,\"league\": 78 ,\"season\": 2022 ,\"team1\": 167 ,\"team2\": 172 ,\"date\": \"2023-01-24\"}',\n",
              " '{\"fixture\":871313 ,\"league\": 78 ,\"season\": 2022 ,\"team1\": 170 ,\"team2\": 163 ,\"date\": \"2023-01-24\"}',\n",
              " '{\"fixture\":871314 ,\"league\": 78 ,\"season\": 2022 ,\"team1\": 159 ,\"team2\": 161 ,\"date\": \"2023-01-24\"}',\n",
              " '{\"fixture\":871315 ,\"league\": 78 ,\"season\": 2022 ,\"team1\": 174 ,\"team2\": 173 ,\"date\": \"2023-01-24\"}',\n",
              " '{\"fixture\":871316 ,\"league\": 78 ,\"season\": 2022 ,\"team1\": 162 ,\"team2\": 182 ,\"date\": \"2023-01-24\"}',\n",
              " '{\"fixture\":871317 ,\"league\": 78 ,\"season\": 2022 ,\"team1\": 157 ,\"team2\": 169 ,\"date\": \"2023-01-28\"}',\n",
              " '{\"fixture\":871318 ,\"league\": 78 ,\"season\": 2022 ,\"team1\": 168 ,\"team2\": 165 ,\"date\": \"2023-01-28\"}',\n",
              " '{\"fixture\":871319 ,\"league\": 78 ,\"season\": 2022 ,\"team1\": 173 ,\"team2\": 172 ,\"date\": \"2023-01-28\"}',\n",
              " '{\"fixture\":871320 ,\"league\": 78 ,\"season\": 2022 ,\"team1\": 160 ,\"team2\": 170 ,\"date\": \"2023-01-28\"}',\n",
              " '{\"fixture\":871321 ,\"league\": 78 ,\"season\": 2022 ,\"team1\": 164 ,\"team2\": 176 ,\"date\": \"2023-01-28\"}',\n",
              " '{\"fixture\":871322 ,\"league\": 78 ,\"season\": 2022 ,\"team1\": 167 ,\"team2\": 163 ,\"date\": \"2023-01-28\"}',\n",
              " '{\"fixture\":871323 ,\"league\": 78 ,\"season\": 2022 ,\"team1\": 159 ,\"team2\": 182 ,\"date\": \"2023-01-28\"}',\n",
              " '{\"fixture\":871324 ,\"league\": 78 ,\"season\": 2022 ,\"team1\": 174 ,\"team2\": 192 ,\"date\": \"2023-01-28\"}',\n",
              " '{\"fixture\":871325 ,\"league\": 78 ,\"season\": 2022 ,\"team1\": 162 ,\"team2\": 161 ,\"date\": \"2023-01-28\"}',\n",
              " '{\"fixture\":871326 ,\"league\": 78 ,\"season\": 2022 ,\"team1\": 165 ,\"team2\": 160 ,\"date\": \"2023-02-04\"}',\n",
              " '{\"fixture\":871327 ,\"league\": 78 ,\"season\": 2022 ,\"team1\": 182 ,\"team2\": 164 ,\"date\": \"2023-02-04\"}',\n",
              " '{\"fixture\":871328 ,\"league\": 78 ,\"season\": 2022 ,\"team1\": 192 ,\"team2\": 173 ,\"date\": \"2023-02-04\"}',\n",
              " '{\"fixture\":871329 ,\"league\": 78 ,\"season\": 2022 ,\"team1\": 163 ,\"team2\": 174 ,\"date\": \"2023-02-04\"}',\n",
              " '{\"fixture\":871330 ,\"league\": 78 ,\"season\": 2022 ,\"team1\": 169 ,\"team2\": 159 ,\"date\": \"2023-02-04\"}',\n",
              " '{\"fixture\":871331 ,\"league\": 78 ,\"season\": 2022 ,\"team1\": 161 ,\"team2\": 157 ,\"date\": \"2023-02-04\"}',\n",
              " '{\"fixture\":871332 ,\"league\": 78 ,\"season\": 2022 ,\"team1\": 176 ,\"team2\": 167 ,\"date\": \"2023-02-04\"}',\n",
              " '{\"fixture\":871333 ,\"league\": 78 ,\"season\": 2022 ,\"team1\": 170 ,\"team2\": 168 ,\"date\": \"2023-02-04\"}',\n",
              " '{\"fixture\":871334 ,\"league\": 78 ,\"season\": 2022 ,\"team1\": 172 ,\"team2\": 162 ,\"date\": \"2023-02-04\"}',\n",
              " '{\"fixture\":871335 ,\"league\": 78 ,\"season\": 2022 ,\"team1\": 157 ,\"team2\": 176 ,\"date\": \"2023-02-11\"}',\n",
              " '{\"fixture\":871336 ,\"league\": 78 ,\"season\": 2022 ,\"team1\": 173 ,\"team2\": 182 ,\"date\": \"2023-02-11\"}',\n",
              " '{\"fixture\":871337 ,\"league\": 78 ,\"season\": 2022 ,\"team1\": 160 ,\"team2\": 172 ,\"date\": \"2023-02-11\"}',\n",
              " '{\"fixture\":871338 ,\"league\": 78 ,\"season\": 2022 ,\"team1\": 192 ,\"team2\": 169 ,\"date\": \"2023-02-11\"}',\n",
              " '{\"fixture\":871339 ,\"league\": 78 ,\"season\": 2022 ,\"team1\": 164 ,\"team2\": 170 ,\"date\": \"2023-02-11\"}',\n",
              " '{\"fixture\":871340 ,\"league\": 78 ,\"season\": 2022 ,\"team1\": 167 ,\"team2\": 168 ,\"date\": \"2023-02-11\"}',\n",
              " '{\"fixture\":871341 ,\"league\": 78 ,\"season\": 2022 ,\"team1\": 159 ,\"team2\": 163 ,\"date\": \"2023-02-11\"}',\n",
              " '{\"fixture\":871342 ,\"league\": 78 ,\"season\": 2022 ,\"team1\": 174 ,\"team2\": 161 ,\"date\": \"2023-02-11\"}',\n",
              " '{\"fixture\":871343 ,\"league\": 78 ,\"season\": 2022 ,\"team1\": 162 ,\"team2\": 165 ,\"date\": \"2023-02-11\"}',\n",
              " '{\"fixture\":871344 ,\"league\": 78 ,\"season\": 2022 ,\"team1\": 165 ,\"team2\": 159 ,\"date\": \"2023-02-18\"}',\n",
              " '{\"fixture\":871345 ,\"league\": 78 ,\"season\": 2022 ,\"team1\": 168 ,\"team2\": 164 ,\"date\": \"2023-02-18\"}',\n",
              " '{\"fixture\":871346 ,\"league\": 78 ,\"season\": 2022 ,\"team1\": 182 ,\"team2\": 174 ,\"date\": \"2023-02-18\"}',\n",
              " '{\"fixture\":871347 ,\"league\": 78 ,\"season\": 2022 ,\"team1\": 163 ,\"team2\": 157 ,\"date\": \"2023-02-18\"}',\n",
              " '{\"fixture\":871348 ,\"league\": 78 ,\"season\": 2022 ,\"team1\": 169 ,\"team2\": 162 ,\"date\": \"2023-02-18\"}',\n",
              " '{\"fixture\":871349 ,\"league\": 78 ,\"season\": 2022 ,\"team1\": 161 ,\"team2\": 173 ,\"date\": \"2023-02-18\"}',\n",
              " '{\"fixture\":871350 ,\"league\": 78 ,\"season\": 2022 ,\"team1\": 176 ,\"team2\": 160 ,\"date\": \"2023-02-18\"}',\n",
              " '{\"fixture\":871351 ,\"league\": 78 ,\"season\": 2022 ,\"team1\": 170 ,\"team2\": 167 ,\"date\": \"2023-02-18\"}',\n",
              " '{\"fixture\":871352 ,\"league\": 78 ,\"season\": 2022 ,\"team1\": 172 ,\"team2\": 192 ,\"date\": \"2023-02-18\"}',\n",
              " '{\"fixture\":871353 ,\"league\": 78 ,\"season\": 2022 ,\"team1\": 157 ,\"team2\": 182 ,\"date\": \"2023-02-25\"}',\n",
              " '{\"fixture\":871354 ,\"league\": 78 ,\"season\": 2022 ,\"team1\": 173 ,\"team2\": 169 ,\"date\": \"2023-02-25\"}',\n",
              " '{\"fixture\":871355 ,\"league\": 78 ,\"season\": 2022 ,\"team1\": 160 ,\"team2\": 168 ,\"date\": \"2023-02-25\"}',\n",
              " '{\"fixture\":871356 ,\"league\": 78 ,\"season\": 2022 ,\"team1\": 192 ,\"team2\": 161 ,\"date\": \"2023-02-25\"}',\n",
              " '{\"fixture\":871357 ,\"league\": 78 ,\"season\": 2022 ,\"team1\": 164 ,\"team2\": 163 ,\"date\": \"2023-02-25\"}',\n",
              " '{\"fixture\":871358 ,\"league\": 78 ,\"season\": 2022 ,\"team1\": 167 ,\"team2\": 165 ,\"date\": \"2023-02-25\"}',\n",
              " '{\"fixture\":871359 ,\"league\": 78 ,\"season\": 2022 ,\"team1\": 159 ,\"team2\": 170 ,\"date\": \"2023-02-25\"}',\n",
              " '{\"fixture\":871360 ,\"league\": 78 ,\"season\": 2022 ,\"team1\": 174 ,\"team2\": 172 ,\"date\": \"2023-02-25\"}',\n",
              " '{\"fixture\":871361 ,\"league\": 78 ,\"season\": 2022 ,\"team1\": 162 ,\"team2\": 176 ,\"date\": \"2023-02-25\"}',\n",
              " '{\"fixture\":871362 ,\"league\": 78 ,\"season\": 2022 ,\"team1\": 165 ,\"team2\": 173 ,\"date\": \"2023-03-04\"}',\n",
              " '{\"fixture\":871363 ,\"league\": 78 ,\"season\": 2022 ,\"team1\": 168 ,\"team2\": 159 ,\"date\": \"2023-03-04\"}',\n",
              " '{\"fixture\":871364 ,\"league\": 78 ,\"season\": 2022 ,\"team1\": 182 ,\"team2\": 192 ,\"date\": \"2023-03-04\"}',\n",
              " '{\"fixture\":871365 ,\"league\": 78 ,\"season\": 2022 ,\"team1\": 164 ,\"team2\": 167 ,\"date\": \"2023-03-04\"}',\n",
              " '{\"fixture\":871366 ,\"league\": 78 ,\"season\": 2022 ,\"team1\": 163 ,\"team2\": 160 ,\"date\": \"2023-03-04\"}',\n",
              " '{\"fixture\":871367 ,\"league\": 78 ,\"season\": 2022 ,\"team1\": 161 ,\"team2\": 169 ,\"date\": \"2023-03-04\"}',\n",
              " '{\"fixture\":871368 ,\"league\": 78 ,\"season\": 2022 ,\"team1\": 176 ,\"team2\": 174 ,\"date\": \"2023-03-04\"}',\n",
              " '{\"fixture\":871369 ,\"league\": 78 ,\"season\": 2022 ,\"team1\": 170 ,\"team2\": 162 ,\"date\": \"2023-03-04\"}',\n",
              " '{\"fixture\":871370 ,\"league\": 78 ,\"season\": 2022 ,\"team1\": 172 ,\"team2\": 157 ,\"date\": \"2023-03-04\"}',\n",
              " '{\"fixture\":871371 ,\"league\": 78 ,\"season\": 2022 ,\"team1\": 157 ,\"team2\": 170 ,\"date\": \"2023-03-11\"}',\n",
              " '{\"fixture\":871372 ,\"league\": 78 ,\"season\": 2022 ,\"team1\": 173 ,\"team2\": 163 ,\"date\": \"2023-03-11\"}',\n",
              " '{\"fixture\":871373 ,\"league\": 78 ,\"season\": 2022 ,\"team1\": 160 ,\"team2\": 167 ,\"date\": \"2023-03-11\"}',\n",
              " '{\"fixture\":871374 ,\"league\": 78 ,\"season\": 2022 ,\"team1\": 192 ,\"team2\": 176 ,\"date\": \"2023-03-11\"}',\n",
              " '{\"fixture\":871375 ,\"league\": 78 ,\"season\": 2022 ,\"team1\": 169 ,\"team2\": 172 ,\"date\": \"2023-03-11\"}',\n",
              " '{\"fixture\":871376 ,\"league\": 78 ,\"season\": 2022 ,\"team1\": 161 ,\"team2\": 182 ,\"date\": \"2023-03-11\"}',\n",
              " '{\"fixture\":871377 ,\"league\": 78 ,\"season\": 2022 ,\"team1\": 159 ,\"team2\": 164 ,\"date\": \"2023-03-11\"}',\n",
              " '{\"fixture\":871378 ,\"league\": 78 ,\"season\": 2022 ,\"team1\": 174 ,\"team2\": 165 ,\"date\": \"2023-03-11\"}',\n",
              " '{\"fixture\":871379 ,\"league\": 78 ,\"season\": 2022 ,\"team1\": 162 ,\"team2\": 168 ,\"date\": \"2023-03-11\"}',\n",
              " '{\"fixture\":871380 ,\"league\": 78 ,\"season\": 2022 ,\"team1\": 165 ,\"team2\": 192 ,\"date\": \"2023-03-18\"}',\n",
              " '{\"fixture\":871381 ,\"league\": 78 ,\"season\": 2022 ,\"team1\": 168 ,\"team2\": 157 ,\"date\": \"2023-03-18\"}',\n",
              " '{\"fixture\":871382 ,\"league\": 78 ,\"season\": 2022 ,\"team1\": 182 ,\"team2\": 169 ,\"date\": \"2023-03-18\"}',\n",
              " '{\"fixture\":871383 ,\"league\": 78 ,\"season\": 2022 ,\"team1\": 164 ,\"team2\": 160 ,\"date\": \"2023-03-18\"}',\n",
              " '{\"fixture\":871384 ,\"league\": 78 ,\"season\": 2022 ,\"team1\": 167 ,\"team2\": 159 ,\"date\": \"2023-03-18\"}',\n",
              " '{\"fixture\":871385 ,\"league\": 78 ,\"season\": 2022 ,\"team1\": 163 ,\"team2\": 162 ,\"date\": \"2023-03-18\"}',\n",
              " '{\"fixture\":871386 ,\"league\": 78 ,\"season\": 2022 ,\"team1\": 176 ,\"team2\": 173 ,\"date\": \"2023-03-18\"}',\n",
              " '{\"fixture\":871387 ,\"league\": 78 ,\"season\": 2022 ,\"team1\": 170 ,\"team2\": 174 ,\"date\": \"2023-03-18\"}',\n",
              " '{\"fixture\":871388 ,\"league\": 78 ,\"season\": 2022 ,\"team1\": 172 ,\"team2\": 161 ,\"date\": \"2023-03-18\"}',\n",
              " '{\"fixture\":871389 ,\"league\": 78 ,\"season\": 2022 ,\"team1\": 157 ,\"team2\": 165 ,\"date\": \"2023-04-01\"}',\n",
              " '{\"fixture\":871390 ,\"league\": 78 ,\"season\": 2022 ,\"team1\": 173 ,\"team2\": 164 ,\"date\": \"2023-04-01\"}',\n",
              " '{\"fixture\":871391 ,\"league\": 78 ,\"season\": 2022 ,\"team1\": 182 ,\"team2\": 172 ,\"date\": \"2023-04-01\"}',\n",
              " '{\"fixture\":871392 ,\"league\": 78 ,\"season\": 2022 ,\"team1\": 160 ,\"team2\": 159 ,\"date\": \"2023-04-01\"}',\n",
              " '{\"fixture\":871393 ,\"league\": 78 ,\"season\": 2022 ,\"team1\": 192 ,\"team2\": 163 ,\"date\": \"2023-04-01\"}',\n",
              " '{\"fixture\":871394 ,\"league\": 78 ,\"season\": 2022 ,\"team1\": 169 ,\"team2\": 176 ,\"date\": \"2023-04-01\"}',\n",
              " '{\"fixture\":871395 ,\"league\": 78 ,\"season\": 2022 ,\"team1\": 161 ,\"team2\": 170 ,\"date\": \"2023-04-01\"}',\n",
              " '{\"fixture\":871396 ,\"league\": 78 ,\"season\": 2022 ,\"team1\": 174 ,\"team2\": 168 ,\"date\": \"2023-04-01\"}',\n",
              " '{\"fixture\":871397 ,\"league\": 78 ,\"season\": 2022 ,\"team1\": 162 ,\"team2\": 167 ,\"date\": \"2023-04-01\"}',\n",
              " '{\"fixture\":871398 ,\"league\": 78 ,\"season\": 2022 ,\"team1\": 165 ,\"team2\": 182 ,\"date\": \"2023-04-08\"}',\n",
              " '{\"fixture\":871399 ,\"league\": 78 ,\"season\": 2022 ,\"team1\": 168 ,\"team2\": 169 ,\"date\": \"2023-04-08\"}',\n",
              " '{\"fixture\":871400 ,\"league\": 78 ,\"season\": 2022 ,\"team1\": 160 ,\"team2\": 157 ,\"date\": \"2023-04-08\"}',\n",
              " '{\"fixture\":871401 ,\"league\": 78 ,\"season\": 2022 ,\"team1\": 164 ,\"team2\": 162 ,\"date\": \"2023-04-08\"}',\n",
              " '{\"fixture\":871402 ,\"league\": 78 ,\"season\": 2022 ,\"team1\": 167 ,\"team2\": 174 ,\"date\": \"2023-04-08\"}',\n",
              " '{\"fixture\":871403 ,\"league\": 78 ,\"season\": 2022 ,\"team1\": 163 ,\"team2\": 161 ,\"date\": \"2023-04-08\"}',\n",
              " ...]"
            ]
          },
          "metadata": {},
          "execution_count": 36
        }
      ]
    },
    {
      "cell_type": "markdown",
      "source": [
        "## Fixtures Statistics\n",
        "\n",
        "**Update Frequency** : This endpoint is updated every minute.\n",
        "\n",
        "**Recommended Calls** : 1 call every minute for the teams or fixtures who have at least one fixture in progress otherwise 1 call per day.\n",
        "\n",
        "https://www.api-football.com/documentation-v3#tag/Fixtures/operation/get-fixtures-statistics"
      ],
      "metadata": {
        "id": "9683CLqoVriu"
      }
    },
    {
      "cell_type": "code",
      "source": [
        "def getFixturesStatistics(fixtureId):\n",
        "  fixtureRoundsStatisticsUrl = \"fixtures/statistics?fixture=\" + str(fixtureId)\n",
        "  jsonFixturesStatistics = getApiSports(fixtureRoundsStatisticsUrl)\n",
        "  return jsonFixturesStatistics\n",
        "\n",
        "def getFixturesStatisticsSaveJson(fixtureId, leagueId, season):\n",
        "  jsonFixturesStatisticsAux = getFixturesStatistics(fixtureId)\n",
        "  path = \"fixtures/league/\" + str(leagueId) + \"/\" + str(season) + \"/\" + str(fixtureId)\n",
        "  filename = str(leagueId) + \"_\" + str(season) + \"_\" + str(fixtureId) + \"_fixtures_statistics\"\n",
        "  saveJson(path, filename, jsonFixturesStatisticsAux)\n",
        "  return jsonFixturesStatisticsAux"
      ],
      "metadata": {
        "id": "s722sGbuVzw4"
      },
      "execution_count": null,
      "outputs": []
    },
    {
      "cell_type": "code",
      "source": [
        "def getAllFixturesStatistics(listOfSeasonLeagueFixtures):\n",
        "  listOfSeasonLeagueFixturesStatistics = []\n",
        "  for x in listOfSeasonLeagueFixtures:\n",
        "    fixtureSeasonLeagueJson = json.loads(x) \n",
        "    if parser.parse(fixtureSeasonLeagueJson[\"date\"]).date() <= date.today():\n",
        "      jsonSeasonLeagueFixturesStatisticsResp = getFixturesStatisticsSaveJson(fixtureSeasonLeagueJson[\"fixture\"],fixtureSeasonLeagueJson[\"league\"],fixtureSeasonLeagueJson[\"season\"])\n",
        "      #listOfSeasonLeagueFixturesStatistics.append(jsonSeasonLeagueFixturesStatisticsResp) #demasiadas fixtures para ficarem guardadas numa variável\n",
        "  return listOfSeasonLeagueFixturesStatistics"
      ],
      "metadata": {
        "id": "AzrwCOZPBjC6"
      },
      "execution_count": null,
      "outputs": []
    },
    {
      "cell_type": "code",
      "source": [
        "#lstLeagues = [2,3]\n",
        "lstSeasons = [2022] \n",
        "#lstSeasons = [2010,2011,2012,2013,2014,2015,2016,2017,2018,2019,2020,2021,2022]\n",
        "listOfSeasonLeagueFixturesFiltered = [x for x in listOfSeasonLeagueFixtures if json.loads(x)[\"season\"] in lstSeasons]\n",
        "getAllFixturesStatistics(listOfSeasonLeagueFixturesFiltered)"
      ],
      "metadata": {
        "id": "lvRPhOwvHI21",
        "colab": {
          "base_uri": "https://localhost:8080/"
        },
        "outputId": "de8170a0-9095-4ace-b3a2-d0e47c733228"
      },
      "execution_count": null,
      "outputs": [
        {
          "output_type": "execute_result",
          "data": {
            "text/plain": [
              "[]"
            ]
          },
          "metadata": {},
          "execution_count": 39
        }
      ]
    },
    {
      "cell_type": "markdown",
      "source": [
        "## Fixtures Events\n",
        "\n",
        "VAR events are available from the 2020-2021 season.\n",
        "\n",
        "**Update Frequency** : This endpoint is updated every 15 seconds.\n",
        "\n",
        "**Recommended Calls** : 1 call per minute for the fixtures in progress otherwise 1 call per day.\n",
        "\n",
        "https://www.api-football.com/documentation-v3#tag/Fixtures/operation/get-fixtures-events"
      ],
      "metadata": {
        "id": "Y_6ic73TE44S"
      }
    },
    {
      "cell_type": "code",
      "source": [
        "def getFixturesEvents(fixtureId):\n",
        "  fixtureRoundsEventsUrl = \"fixtures/events?fixture=\" + str(fixtureId)\n",
        "  jsonFixturesEvents = getApiSports(fixtureRoundsEventsUrl)\n",
        "  return jsonFixturesEvents\n",
        "\n",
        "def getFixturesEventsSaveJson(fixtureId, leagueId, season):\n",
        "  jsonFixturesEventsAux = getFixturesEvents(fixtureId)\n",
        "  path = \"fixtures/league/\" + str(leagueId) + \"/\" + str(season) + \"/\" + str(fixtureId)\n",
        "  filename = str(leagueId) + \"_\" + str(season) + \"_\" + str(fixtureId) + \"_fixtures_events\"\n",
        "  saveJson(path, filename, jsonFixturesEventsAux)\n",
        "  return jsonFixturesEventsAux"
      ],
      "metadata": {
        "id": "2B4i5n9OE44S"
      },
      "execution_count": null,
      "outputs": []
    },
    {
      "cell_type": "code",
      "source": [
        "def getAllFixturesEvents(listOfSeasonLeagueFixtures):\n",
        "  listOfSeasonLeagueFixturesEvents = []\n",
        "  for x in listOfSeasonLeagueFixtures:\n",
        "    fixtureSeasonLeagueJson = json.loads(x) \n",
        "    if parser.parse(fixtureSeasonLeagueJson[\"date\"]).date() <= date.today():\n",
        "      jsonSeasonLeagueFixturesEventsResp = getFixturesEventsSaveJson(fixtureSeasonLeagueJson[\"fixture\"],fixtureSeasonLeagueJson[\"league\"],fixtureSeasonLeagueJson[\"season\"])\n",
        "      #listOfSeasonLeagueFixturesEvents.append(jsonSeasonLeagueFixturesEventsResp) #demasiadas fixtures para ficarem guardadas numa variável\n",
        "  return listOfSeasonLeagueFixturesEvents"
      ],
      "metadata": {
        "id": "KpfydXuwE44S"
      },
      "execution_count": null,
      "outputs": []
    },
    {
      "cell_type": "code",
      "source": [
        "#lstLeagues = [78,203,848]\n",
        "lstSeasons = [2022] \n",
        "#lstSeasons = [2010,2011,2012,2013,2014,2015,2016,2017,2018,2019,2020,2021,2022]\n",
        "listOfSeasonLeagueFixturesFiltered = [x for x in listOfSeasonLeagueFixtures if json.loads(x)[\"season\"] in lstSeasons]\n",
        "getAllFixturesEvents(listOfSeasonLeagueFixturesFiltered)"
      ],
      "metadata": {
        "id": "RDN_bSqxHL9X",
        "colab": {
          "base_uri": "https://localhost:8080/"
        },
        "outputId": "36e2f7ed-163f-470f-e722-2d1ecc2ff528"
      },
      "execution_count": null,
      "outputs": [
        {
          "output_type": "execute_result",
          "data": {
            "text/plain": [
              "[]"
            ]
          },
          "metadata": {},
          "execution_count": 42
        }
      ]
    },
    {
      "cell_type": "markdown",
      "source": [
        "## Fixtures Lineups\n",
        "\n",
        "**Update Frequency** : This endpoint is updated every 15 minutes.\n",
        "\n",
        "**Recommended Calls** : 1 call every 15 minutes for the fixtures in progress otherwise 1 call per day.\n",
        "\n",
        "https://www.api-football.com/documentation-v3#tag/Fixtures/operation/get-fixtures-lineups"
      ],
      "metadata": {
        "id": "3iSYsa4pFqk7"
      }
    },
    {
      "cell_type": "code",
      "source": [
        "def getFixturesLineups(fixtureId):\n",
        "  fixtureRoundsLineupsUrl = \"fixtures/lineups?fixture=\" + str(fixtureId)\n",
        "  jsonFixturesLineups = getApiSports(fixtureRoundsLineupsUrl)\n",
        "  return jsonFixturesLineups\n",
        "\n",
        "def getFixturesLineupsSaveJson(fixtureId, leagueId, season):\n",
        "  jsonFixturesLineupsAux = getFixturesLineups(fixtureId)\n",
        "  path = \"fixtures/league/\" + str(leagueId) + \"/\" + str(season) + \"/\" + str(fixtureId)\n",
        "  filename = str(leagueId) + \"_\" + str(season) + \"_\" + str(fixtureId) + \"_fixtures_lineups\"\n",
        "  saveJson(path, filename, jsonFixturesLineupsAux)\n",
        "  return jsonFixturesLineupsAux"
      ],
      "metadata": {
        "id": "7YUzxZ9tFqlC"
      },
      "execution_count": null,
      "outputs": []
    },
    {
      "cell_type": "code",
      "source": [
        "def getAllFixturesLineups(listOfSeasonLeagueFixtures):\n",
        "  listOfSeasonLeagueFixturesLineups = []\n",
        "  for x in listOfSeasonLeagueFixtures:\n",
        "    fixtureSeasonLeagueJson = json.loads(x) \n",
        "    if parser.parse(fixtureSeasonLeagueJson[\"date\"]).date() <= date.today():\n",
        "      jsonSeasonLeagueFixturesLineupsResp = getFixturesLineupsSaveJson(fixtureSeasonLeagueJson[\"fixture\"],fixtureSeasonLeagueJson[\"league\"],fixtureSeasonLeagueJson[\"season\"])\n",
        "      #listOfSeasonLeagueFixturesLineups.append(jsonSeasonLeagueFixturesLineupsResp) #demasiadas fixtures para ficarem guardadas numa variável\n",
        "  return listOfSeasonLeagueFixturesLineups"
      ],
      "metadata": {
        "id": "3HQGqjzBFqlC"
      },
      "execution_count": null,
      "outputs": []
    },
    {
      "cell_type": "code",
      "source": [
        "#lstLeagues = [135,88]\n",
        "lstSeasons = [2022] \n",
        "#lstSeasons = [2010,2011,2012,2013,2014,2015,2016,2017,2018,2019,2020,2021,2022]\n",
        "listOfSeasonLeagueFixturesFiltered = [x for x in listOfSeasonLeagueFixtures if json.loads(x)[\"season\"] in lstSeasons]\n",
        "getAllFixturesLineups(listOfSeasonLeagueFixturesFiltered)"
      ],
      "metadata": {
        "id": "UTtF2OmpHOkz",
        "colab": {
          "base_uri": "https://localhost:8080/"
        },
        "outputId": "781cadf2-f9dc-43c9-fbc8-bd60a229e4ed"
      },
      "execution_count": null,
      "outputs": [
        {
          "output_type": "execute_result",
          "data": {
            "text/plain": [
              "[]"
            ]
          },
          "metadata": {},
          "execution_count": 45
        }
      ]
    },
    {
      "cell_type": "markdown",
      "source": [
        "## Fixtures Players Statistics\n",
        "\n",
        "Get the players statistics from one fixture.\n",
        "\n",
        "**Update Frequency** : This endpoint is updated every minute.\n",
        "\n",
        "**Recommended Calls** : 1 call every minute for the fixtures in progress otherwise 1 call per day.\n",
        "\n",
        "https://www.api-football.com/documentation-v3#tag/Fixtures/operation/get-fixtures-players"
      ],
      "metadata": {
        "id": "ks9mjtXiHRMD"
      }
    },
    {
      "cell_type": "code",
      "source": [
        "def getFixturesPlayersStatistics(fixtureId):\n",
        "  fixtureRoundsPlayersStatisticsUrl = \"fixtures/players?fixture=\" + str(fixtureId)\n",
        "  jsonFixturesPlayersStatistics = getApiSports(fixtureRoundsPlayersStatisticsUrl)\n",
        "  return jsonFixturesPlayersStatistics\n",
        "\n",
        "def getFixturesPlayersStatisticsSaveJson(fixtureId, leagueId, season):\n",
        "  jsonFixturesPlayersStatisticsAux = getFixturesPlayersStatistics(fixtureId)\n",
        "  path = \"fixtures/league/\" + str(leagueId) + \"/\" + str(season) + \"/\" + str(fixtureId)\n",
        "  filename = str(leagueId) + \"_\" + str(season) + \"_\" + str(fixtureId) + \"_fixtures_players_statistics\"\n",
        "  saveJson(path, filename, jsonFixturesPlayersStatisticsAux)\n",
        "  return jsonFixturesPlayersStatisticsAux"
      ],
      "metadata": {
        "id": "1Z3HYYTAHRMD"
      },
      "execution_count": null,
      "outputs": []
    },
    {
      "cell_type": "code",
      "source": [
        "def getAllFixturesPlayersStatistics(listOfSeasonLeagueFixtures):\n",
        "  listOfSeasonLeagueFixturesPlayersStatistics = []\n",
        "  for x in listOfSeasonLeagueFixtures:\n",
        "    fixtureSeasonLeagueJson = json.loads(x) \n",
        "    if parser.parse(fixtureSeasonLeagueJson[\"date\"]).date() <= date.today():\n",
        "      jsonSeasonLeagueFixturesPlayersStatisticsResp = getFixturesPlayersStatisticsSaveJson(fixtureSeasonLeagueJson[\"fixture\"],fixtureSeasonLeagueJson[\"league\"],fixtureSeasonLeagueJson[\"season\"])\n",
        "      #listOfSeasonLeagueFixturesPlayersStatistics.append(jsonSeasonLeagueFixturesPlayersStatisticsResp) #demasiadas fixtures para ficarem guardadas numa variável\n",
        "  return listOfSeasonLeagueFixturesPlayersStatistics"
      ],
      "metadata": {
        "id": "F5_c-ZgxHRMD"
      },
      "execution_count": null,
      "outputs": []
    },
    {
      "cell_type": "code",
      "source": [
        "#timeToSleep = 0 #esta api demora algum tempo a guardar o json logo não é necessário colocar um tempo de espera\n",
        "#lstLeagues = [88]\n",
        "lstSeasons = [2022] \n",
        "#lstSeasons = [2010,2011,2012,2013,2014,2015,2016,2017,2018,2019,2020,2021,2022]\n",
        "listOfSeasonLeagueFixturesFiltered = [x for x in listOfSeasonLeagueFixtures if json.loads(x)[\"season\"] in lstSeasons]\n",
        "getAllFixturesPlayersStatistics(listOfSeasonLeagueFixturesFiltered)"
      ],
      "metadata": {
        "id": "xqpX2_UBHRME",
        "colab": {
          "base_uri": "https://localhost:8080/"
        },
        "outputId": "88c2ea64-17dc-40ca-be5f-394e6629e92a"
      },
      "execution_count": null,
      "outputs": [
        {
          "output_type": "execute_result",
          "data": {
            "text/plain": [
              "[]"
            ]
          },
          "metadata": {},
          "execution_count": 48
        }
      ]
    },
    {
      "cell_type": "markdown",
      "source": [
        "## Fixtures Predictions\n",
        "\n",
        "**Update Frequency** : This endpoint is updated every hour.\n",
        "\n",
        "**Recommended Calls** : 1 call per hour for the fixtures in progress otherwise 1 call per day.\n",
        "\n",
        "https://www.api-football.com/documentation-v3#tag/Predictions/operation/get-predictions"
      ],
      "metadata": {
        "id": "hHIEfrGdN_I6"
      }
    },
    {
      "cell_type": "code",
      "source": [
        "def getFixturesPredictions(fixtureId):\n",
        "  fixtureRoundsPredictionsUrl = \"predictions?fixture=\" + str(fixtureId)\n",
        "  jsonFixturesPredictions = getApiSports(fixtureRoundsPredictionsUrl)\n",
        "  return jsonFixturesPredictions\n",
        "\n",
        "def getFixturesPredictionsSaveJson(fixtureId, leagueId, season):\n",
        "  jsonFixturesPredictionsAux = getFixturesPredictions(fixtureId)\n",
        "  path = \"fixtures/league/\" + str(leagueId) + \"/\" + str(season) + \"/\" + str(fixtureId)\n",
        "  filename = str(leagueId) + \"_\" + str(season) + \"_\" + str(fixtureId) + \"_fixtures_predictions\"\n",
        "  saveJson(path, filename, jsonFixturesPredictionsAux)\n",
        "  return jsonFixturesPredictionsAux"
      ],
      "metadata": {
        "id": "V0qUQkWZN_JN"
      },
      "execution_count": null,
      "outputs": []
    },
    {
      "cell_type": "code",
      "source": [
        "def getAllFixturesPredictions(listOfSeasonLeagueFixtures):\n",
        "  listOfSeasonLeagueFixturesPredictions = []\n",
        "  for x in listOfSeasonLeagueFixtures:\n",
        "    fixtureSeasonLeagueJson = json.loads(x) \n",
        "    if parser.parse(fixtureSeasonLeagueJson[\"date\"]).date() <= date.today():\n",
        "      jsonSeasonLeagueFixturesPredictionsResp = getFixturesPredictionsSaveJson(fixtureSeasonLeagueJson[\"fixture\"],fixtureSeasonLeagueJson[\"league\"],fixtureSeasonLeagueJson[\"season\"])\n",
        "      #listOfSeasonLeagueFixturesPredictions.append(jsonSeasonLeagueFixturesPredictionsResp) #demasiadas fixtures para ficarem guardadas numa variável\n",
        "  return listOfSeasonLeagueFixturesPredictions"
      ],
      "metadata": {
        "id": "qLCSiRU0N_JN"
      },
      "execution_count": null,
      "outputs": []
    },
    {
      "cell_type": "code",
      "source": [
        "#timeToSleep = 0.02 #esta api demora algum tempo a guardar o json logo não é necessário colocar um tempo de espera\n",
        "#lstLeagues = [39,135,88,94]\n",
        "lstSeasons = [2022] \n",
        "#lstSeasons = [2010,2011,2012,2013,2014,2015,2016,2017,2018,2019,2020,2021,2022]\n",
        "listOfSeasonLeagueFixturesFiltered = [x for x in listOfSeasonLeagueFixtures if json.loads(x)[\"season\"] in lstSeasons]\n",
        "getAllFixturesPredictions(listOfSeasonLeagueFixturesFiltered)"
      ],
      "metadata": {
        "id": "CF_966EDN_JO",
        "colab": {
          "base_uri": "https://localhost:8080/"
        },
        "outputId": "7dd62ef3-a6fd-4dce-ba69-3f79f3c56a75"
      },
      "execution_count": null,
      "outputs": [
        {
          "output_type": "execute_result",
          "data": {
            "text/plain": [
              "[]"
            ]
          },
          "metadata": {},
          "execution_count": 51
        }
      ]
    },
    {
      "cell_type": "markdown",
      "source": [
        "## Fixtures Injuries\n",
        "\n",
        "**This endpoint requires at least one parameter.**\n",
        "\n",
        "**Update Frequency** : This endpoint is updated every 4 hours.\n",
        "\n",
        "**Recommended Calls** : 1 call per day.\n",
        "\n",
        "https://www.api-football.com/documentation-v3#tag/Injuries/operation/get-injuries"
      ],
      "metadata": {
        "id": "yiKFBJHw_73C"
      }
    },
    {
      "cell_type": "code",
      "source": [
        "def getFixturesInjuries(fixtureId):\n",
        "  fixtureRoundsInjuriesUrl = \"injuries?fixture=\" + str(fixtureId)\n",
        "  jsonFixturesInjuries = getApiSports(fixtureRoundsInjuriesUrl)\n",
        "  return jsonFixturesInjuries\n",
        "\n",
        "def getFixturesInjuriesSaveJson(fixtureId, leagueId, season):\n",
        "  jsonFixturesInjuriesAux = getFixturesInjuries(fixtureId)\n",
        "  path = \"fixtures/league/\" + str(leagueId) + \"/\" + str(season) + \"/\" + str(fixtureId)\n",
        "  filename = str(leagueId) + \"_\" + str(season) + \"_\" + str(fixtureId) + \"_fixtures_injuries\"\n",
        "  saveJson(path, filename, jsonFixturesInjuriesAux)\n",
        "  return jsonFixturesInjuriesAux"
      ],
      "metadata": {
        "id": "Vjky_LaW_73I"
      },
      "execution_count": null,
      "outputs": []
    },
    {
      "cell_type": "code",
      "source": [
        "def getAllFixturesInjuries(listOfSeasonLeagueFixtures):\n",
        "  listOfSeasonLeagueFixturesInjuries = []\n",
        "  for x in listOfSeasonLeagueFixtures:\n",
        "    fixtureSeasonLeagueJson = json.loads(x) \n",
        "    if parser.parse(fixtureSeasonLeagueJson[\"date\"]).date() <= date.today():\n",
        "      jsonSeasonLeagueFixturesInjuriesResp = getFixturesInjuriesSaveJson(fixtureSeasonLeagueJson[\"fixture\"],fixtureSeasonLeagueJson[\"league\"],fixtureSeasonLeagueJson[\"season\"])\n",
        "      #listOfSeasonLeagueFixturesInjuries.append(jsonSeasonLeagueFixturesInjuriesResp) #demasiadas fixtures para ficarem guardadas numa variável\n",
        "  return listOfSeasonLeagueFixturesInjuries"
      ],
      "metadata": {
        "id": "g-4XVeBq_73I"
      },
      "execution_count": null,
      "outputs": []
    },
    {
      "cell_type": "code",
      "source": [
        "#timeToSleep = 0.04 #esta api demora algum tempo a guardar o json logo não é necessário colocar um tempo de espera\n",
        "#lstLeagues = [61,39,135,88,94]\n",
        "lstSeasons = [2022] \n",
        "#lstSeasons = [2010,2011,2012,2013,2014,2015,2016,2017,2018,2019,2020,2021,2022]\n",
        "listOfSeasonLeagueFixturesFiltered = [x for x in listOfSeasonLeagueFixtures if json.loads(x)[\"season\"] in lstSeasons]\n",
        "getAllFixturesInjuries(listOfSeasonLeagueFixturesFiltered)"
      ],
      "metadata": {
        "id": "zIQATOj-_73I",
        "colab": {
          "base_uri": "https://localhost:8080/"
        },
        "outputId": "8e96c2ce-fcb7-4b83-d854-9716746546e3"
      },
      "execution_count": null,
      "outputs": [
        {
          "output_type": "execute_result",
          "data": {
            "text/plain": [
              "[]"
            ]
          },
          "metadata": {},
          "execution_count": 54
        }
      ]
    },
    {
      "cell_type": "markdown",
      "source": [
        "# Coach\n",
        "\n",
        "**Update Frequency** : This endpoint is updated every day.\n",
        "\n",
        "**Recommended Calls** : 1 call per day.\n",
        "\n",
        "https://www.api-football.com/documentation-v3#tag/Coachs"
      ],
      "metadata": {
        "id": "QWqaO290WTxB"
      }
    },
    {
      "cell_type": "code",
      "source": [
        "def getCoachsToFile(leagueId,season,team):\n",
        "  coachTeamUrl = f\"coachs?team={str(team)}\"\n",
        "  jsonCoachs = getApiSports(coachTeamUrl)\n",
        "  path = f\"coachs/league/{str(leagueId)}/{str(season)}/{str(team)}\"\n",
        "  filename = f\"{str(leagueId)}_{str(season)}_{str(team)}_coachs\"\n",
        "  #jsonToCsv(\"response\", \"coachs\", \"coachs\", jsonCoachs)\n",
        "  saveJson(path, filename, jsonCoachs)\n",
        "  return jsonCoachs"
      ],
      "metadata": {
        "id": "3wfMpXzPWXfq"
      },
      "execution_count": null,
      "outputs": []
    },
    {
      "cell_type": "code",
      "source": [
        "def getAllSeasonLeagueCoachs(listOfSeasonLeagueTeams):\n",
        "  listOfSeasonLeagueCoachs = []\n",
        "  for x in listOfSeasonLeagueTeams:\n",
        "    teamSeasonJson = json.loads(x)\n",
        "    jsonLeagueSeasonCoachResp = getCoachsToFile(teamSeasonJson[\"league\"],teamSeasonJson[\"season\"],teamSeasonJson[\"team\"])\n",
        "    for y in jsonLeagueSeasonCoachResp[\"response\"]:\n",
        "      jsonLeagueSeasonCoach = \"{\\\"coach\\\":\" + str(y[\"id\"]) + \" ,\\\"league\\\": \" + str(teamSeasonJson[\"league\"]) + \" ,\\\"season\\\": \" + str(teamSeasonJson[\"season\"]) + \" ,\\\"team\\\": \" + str(teamSeasonJson[\"team\"]) + \"}\"\n",
        "      listOfSeasonLeagueCoachs.append(str(jsonLeagueSeasonCoach))\n",
        "  saveJson(\"coachs\", \"allSeasonLeagueCoachs\", listOfSeasonLeagueCoachs)\n",
        "  return listOfSeasonLeagueCoachs"
      ],
      "metadata": {
        "id": "ePClh4KSWuAm"
      },
      "execution_count": null,
      "outputs": []
    },
    {
      "cell_type": "code",
      "source": [
        "#jsonSeasonLeagueCoachs = getAllSeasonLeagueCoachs(listOfSeasonLeagueTeams)\n",
        "jsonSeasonLeagueCoachs = importJson(\"coachs/allSeasonLeagueCoachs.json\")"
      ],
      "metadata": {
        "id": "thDy5VdPfUps"
      },
      "execution_count": null,
      "outputs": []
    },
    {
      "cell_type": "code",
      "source": [
        "listCoachsIdUnique = set()\n",
        "for x in jsonSeasonLeagueCoachs:\n",
        "  seasonLeagueCoachJson = json.loads(x)\n",
        "  listCoachsIdUnique.add(str(seasonLeagueCoachJson[\"coach\"]))\n",
        "#print(len(listCoachsIdUnique))\n",
        "listCoachsIdUnique = list(listCoachsIdUnique)"
      ],
      "metadata": {
        "id": "kn4kJ7nf3UUf"
      },
      "execution_count": null,
      "outputs": []
    },
    {
      "cell_type": "markdown",
      "source": [
        "## Coach Sidelined\n",
        "\n",
        "**Update Frequency** : This endpoint is updated several times a week.\n",
        "\n",
        "**Recommended Calls** : 1 call per day.\n",
        "\n",
        "https://www.api-football.com/documentation-v3#tag/Sidelined/operation/get-sidelined"
      ],
      "metadata": {
        "id": "yC_9MPOWfdiB"
      }
    },
    {
      "cell_type": "code",
      "source": [
        "def getCoachSidelined(coach):\n",
        "  coachSidelinedUrl = f\"sidelined?coach={str(coach)}\"\n",
        "  jsonCoachs = getApiSports(coachSidelinedUrl)\n",
        "  return jsonCoachs"
      ],
      "metadata": {
        "id": "_2m1aNRcfjLh"
      },
      "execution_count": null,
      "outputs": []
    },
    {
      "cell_type": "code",
      "source": [
        "def saveAllSeasonLeagueCoachSidelined(jsonCoachs,jsonSeasonLeagueCoachs, coachId):\n",
        "  jsonSeasonLeagueCoachsFiltered = [x for x in jsonSeasonLeagueCoachs if json.loads(x)[\"coach\"] == int(coachId)]\n",
        "  for x in jsonSeasonLeagueCoachsFiltered:\n",
        "    teamSeasonJson = json.loads(x)\n",
        "    leagueId = teamSeasonJson[\"league\"]\n",
        "    season = teamSeasonJson[\"season\"]\n",
        "    team = teamSeasonJson[\"team\"]\n",
        "    path = f\"coachs/league/{str(leagueId)}/{str(season)}/{str(team)}\"\n",
        "    filename = f\"{str(leagueId)}_{str(season)}_{str(team)}_coachs_sidelined\"\n",
        "    saveJson(path, filename, jsonCoachs)"
      ],
      "metadata": {
        "id": "QGuQI6uo6mK1"
      },
      "execution_count": null,
      "outputs": []
    },
    {
      "cell_type": "code",
      "source": [
        "def getAllSeasonLeagueCoachsSidelined(listCoachsIdUnique,jsonSeasonLeagueCoachs):\n",
        "  for x in listCoachsIdUnique:\n",
        "    jsonCoachSidelined = getCoachSidelined(x)\n",
        "    saveAllSeasonLeagueCoachSidelined(jsonCoachSidelined,jsonSeasonLeagueCoachs, x)"
      ],
      "metadata": {
        "id": "fotQ7PZSfjaJ"
      },
      "execution_count": null,
      "outputs": []
    },
    {
      "cell_type": "code",
      "source": [
        "#getAllSeasonLeagueCoachsSidelined(listCoachsIdUnique,jsonSeasonLeagueCoachs)"
      ],
      "metadata": {
        "id": "ljMeoVM8fjk7"
      },
      "execution_count": null,
      "outputs": []
    },
    {
      "cell_type": "markdown",
      "source": [
        "## Coach Trophies\n",
        "\n",
        "**Update Frequency** : This endpoint is updated several times a week.\n",
        "\n",
        "**Recommended Calls** : 1 call per day.\n",
        "\n",
        "https://www.api-football.com/documentation-v3#tag/Trophies/operation/get-trophies"
      ],
      "metadata": {
        "id": "Gd-wLkqDArfy"
      }
    },
    {
      "cell_type": "code",
      "source": [
        "def getCoachTrophies(coach):\n",
        "  coachTrophiesUrl = f\"trophies?coach={str(coach)}\"\n",
        "  jsonCoachs = getApiSports(coachTrophiesUrl)\n",
        "  return jsonCoachs"
      ],
      "metadata": {
        "id": "rW7MDp0FArfy"
      },
      "execution_count": null,
      "outputs": []
    },
    {
      "cell_type": "code",
      "source": [
        "def saveAllSeasonLeagueCoachTrophies(jsonCoachs,jsonSeasonLeagueCoachs, coachId):\n",
        "  jsonSeasonLeagueCoachsFiltered = [x for x in jsonSeasonLeagueCoachs if json.loads(x)[\"coach\"] == int(coachId)]\n",
        "  for x in jsonSeasonLeagueCoachsFiltered:\n",
        "    teamSeasonJson = json.loads(x)\n",
        "    leagueId = teamSeasonJson[\"league\"]\n",
        "    season = teamSeasonJson[\"season\"]\n",
        "    team = teamSeasonJson[\"team\"]\n",
        "    path = f\"coachs/league/{str(leagueId)}/{str(season)}/{str(team)}\"\n",
        "    filename = f\"{str(leagueId)}_{str(season)}_{str(team)}_coachs_trophies\"\n",
        "    saveJson(path, filename, jsonCoachs)"
      ],
      "metadata": {
        "id": "ymLna2SGArfy"
      },
      "execution_count": null,
      "outputs": []
    },
    {
      "cell_type": "code",
      "source": [
        "def getAllSeasonLeagueCoachsTrophies(listCoachsIdUnique,jsonSeasonLeagueCoachs):\n",
        "  for x in listCoachsIdUnique:\n",
        "    jsonCoachTrophies = getCoachTrophies(x)\n",
        "    saveAllSeasonLeagueCoachTrophies(jsonCoachTrophies,jsonSeasonLeagueCoachs, x)"
      ],
      "metadata": {
        "id": "aZtES2bFArfz"
      },
      "execution_count": null,
      "outputs": []
    },
    {
      "cell_type": "code",
      "source": [
        "#getAllSeasonLeagueCoachsTrophies(listCoachsIdUnique,jsonSeasonLeagueCoachs)"
      ],
      "metadata": {
        "id": "nnZa1nqHArfz"
      },
      "execution_count": null,
      "outputs": []
    },
    {
      "cell_type": "markdown",
      "source": [
        "## Coach Transfers\n",
        "\n",
        "**Update Frequency** : This endpoint is updated several times a week.\n",
        "\n",
        "**Recommended Calls** : 1 call per day.\n",
        "\n",
        "https://www.api-football.com/documentation-v3#tag/Transfers/operation/get-transfers"
      ],
      "metadata": {
        "id": "uuz9a-P0kYC4"
      }
    },
    {
      "cell_type": "code",
      "source": [
        "def getCoachTransfers(coach):\n",
        "  coachTransfersUrl = f\"transfers?coach={str(coach)}\"\n",
        "  jsonCoachs = getApiSports(coachTransfersUrl)\n",
        "  return jsonCoachs"
      ],
      "metadata": {
        "id": "AExRkqyUkYC4"
      },
      "execution_count": null,
      "outputs": []
    },
    {
      "cell_type": "code",
      "source": [
        "def saveAllSeasonLeagueCoachTransfers(jsonCoachs,jsonSeasonLeagueCoachs, coachId):\n",
        "  jsonSeasonLeagueCoachsFiltered = [x for x in jsonSeasonLeagueCoachs if json.loads(x)[\"coach\"] == int(coachId)]\n",
        "  for x in jsonSeasonLeagueCoachsFiltered:\n",
        "    teamSeasonJson = json.loads(x)\n",
        "    leagueId = teamSeasonJson[\"league\"]\n",
        "    season = teamSeasonJson[\"season\"]\n",
        "    team = teamSeasonJson[\"team\"]\n",
        "    path = f\"coachs/league/{str(leagueId)}/{str(season)}/{str(team)}\"\n",
        "    filename = f\"{str(leagueId)}_{str(season)}_{str(team)}_coachs_transfers\"\n",
        "    saveJson(path, filename, jsonCoachs)"
      ],
      "metadata": {
        "id": "tpNuEWNFkYC4"
      },
      "execution_count": null,
      "outputs": []
    },
    {
      "cell_type": "code",
      "source": [
        "def getAllSeasonLeagueCoachsTransfers(listCoachsIdUnique,jsonSeasonLeagueCoachs):\n",
        "  for x in listCoachsIdUnique:\n",
        "    jsonCoachTransfers = getCoachTransfers(x)\n",
        "    saveAllSeasonLeagueCoachTransfers(jsonCoachTransfers,jsonSeasonLeagueCoachs, x)"
      ],
      "metadata": {
        "id": "VAMzL8ufkYC5"
      },
      "execution_count": null,
      "outputs": []
    },
    {
      "cell_type": "code",
      "source": [
        "#getAllSeasonLeagueCoachsTrophies(listCoachsIdUnique,jsonSeasonLeagueCoachs)"
      ],
      "metadata": {
        "id": "TghVuxpzkYC5"
      },
      "execution_count": null,
      "outputs": []
    },
    {
      "cell_type": "markdown",
      "source": [
        "# Player\n",
        "https://www.api-football.com/documentation-v3#tag/Players"
      ],
      "metadata": {
        "id": "f9643-Pao3NJ"
      }
    },
    {
      "cell_type": "markdown",
      "source": [
        "## Player Season ( not implemented )\n",
        "\n",
        "**Update Frequency** : This endpoint is updated every day.\n",
        "\n",
        "**Recommended Calls** : 1 call per day.\n",
        "\n",
        "https://www.api-football.com/documentation-v3#tag/Players/operation/get-players-seasons"
      ],
      "metadata": {
        "id": "mJ2uz1SMo9su"
      }
    },
    {
      "cell_type": "code",
      "source": [
        "def getSeasonPlayersToFile():\n",
        "  playerSeasonUrl = \"players/seasons\"\n",
        "  jsonPlayers = getApiSports(playerSeasonUrl)\n",
        "  path = \"players\"\n",
        "  filename = \"allSeasonPlayers\"\n",
        "  saveJson(path, filename, jsonPlayers)\n",
        "  return jsonPlayers"
      ],
      "metadata": {
        "id": "2LB-CHSso3NQ"
      },
      "execution_count": null,
      "outputs": []
    },
    {
      "cell_type": "code",
      "source": [
        "#jsonSeasonLeagueCoachs = getSeasonPlayersToFile()\n",
        "#jsonSeasonLeagueCoachs = importJson(\"coachs/allSeasonPlayers.json\")"
      ],
      "metadata": {
        "id": "CIG7kjEro3NQ"
      },
      "execution_count": null,
      "outputs": []
    },
    {
      "cell_type": "markdown",
      "source": [
        "## Player Statistics\n",
        "\n",
        "**Update Frequency** : This endpoint is updated several times a week.\n",
        "\n",
        "**Recommended Calls** : 1 call per day.\n",
        "\n",
        "https://www.api-football.com/documentation-v3#tag/Coachs"
      ],
      "metadata": {
        "id": "csXt1Lvzqdko"
      }
    },
    {
      "cell_type": "code",
      "source": [
        "def getPlayersByTeamLeagueSeasonToFile(leagueId,season,team):\n",
        "  page = 1 #first page\n",
        "  totalPages = 1 #by default\n",
        "  listJsonPlayers = []\n",
        "  while page <= totalPages:\n",
        "    playersByTeamLeagueSeasonUrl = f\"players?team={str(team)}&season={str(season)}&league={str(leagueId)}&page={page}\"\n",
        "    jsonPlayers = getApiSports(playersByTeamLeagueSeasonUrl)\n",
        "    path = f\"players/league/{str(leagueId)}/{str(season)}/{str(team)}\"\n",
        "    filename = f\"{str(leagueId)}_{str(season)}_{str(team)}_players_{str(page)}\"\n",
        "    saveJson(path, filename, jsonPlayers)\n",
        "    listJsonPlayers.append(jsonPlayers)\n",
        "    page += 1\n",
        "    totalPages = jsonPlayers[\"paging\"][\"total\"]\n",
        "  return listJsonPlayers"
      ],
      "metadata": {
        "id": "3fSELG2Rqdku"
      },
      "execution_count": null,
      "outputs": []
    },
    {
      "cell_type": "code",
      "source": [
        "def getAllPlayersByTeamLeagueSeason(listOfSeasonLeagueTeams):\n",
        "  listOfSeasonLeaguePlayers = []\n",
        "  for x in listOfSeasonLeagueTeams:\n",
        "    teamSeasonJson = json.loads(x)\n",
        "    jsonLeagueSeasonPlayerResp = getPlayersByTeamLeagueSeasonToFile(teamSeasonJson[\"league\"],teamSeasonJson[\"season\"],teamSeasonJson[\"team\"])\n",
        "    for z in jsonLeagueSeasonPlayerResp:\n",
        "      for y in z[\"response\"]:\n",
        "        jsonLeagueSeasonPlayer = \"{\\\"player\\\":\" + str(y[\"player\"][\"id\"]) + \" ,\\\"league\\\": \" + str(teamSeasonJson[\"league\"]) + \" ,\\\"season\\\": \" + str(teamSeasonJson[\"season\"]) + \" ,\\\"team\\\": \" + str(teamSeasonJson[\"team\"]) + \"}\"\n",
        "        listOfSeasonLeaguePlayers.append(str(jsonLeagueSeasonPlayer))\n",
        "  todayDatetime = datetime.now().strftime(\"%Y%m%d%H%M\") #formato YYYYMMDDhhmm\n",
        "  saveJson(\"players\", f\"allSeasonLeaguePlayers_{str(todayDatetime)}\", listOfSeasonLeaguePlayers)\n",
        "  return listOfSeasonLeaguePlayers"
      ],
      "metadata": {
        "id": "bT8vABchqdku"
      },
      "execution_count": null,
      "outputs": []
    },
    {
      "cell_type": "code",
      "source": [
        "#lstLeagues = [39]\n",
        "#lstSeasons = [2020] \n",
        "#listOfSeasonLeagueTeamsFiltered = [x for x in listOfSeasonLeagueTeams if json.loads(x)[\"league\"] in lstLeagues and json.loads(x)[\"season\"] in lstSeasons]\n",
        "#jsonSeasonLeaguePlayers = getAllPlayersByTeamLeagueSeason(listOfSeasonLeagueTeams)\n",
        "jsonSeasonLeaguePlayers = importJson(\"players/allSeasonLeaguePlayers.json\")"
      ],
      "metadata": {
        "id": "Q6bPqkVtqdku"
      },
      "execution_count": null,
      "outputs": []
    },
    {
      "cell_type": "code",
      "source": [
        "listPlayersIdUnique = set()\n",
        "for x in jsonSeasonLeaguePlayers:\n",
        "  seasonLeaguePlayerJson = json.loads(x)\n",
        "  listPlayersIdUnique.add(str(seasonLeaguePlayerJson[\"player\"]))\n",
        "#print(len(listPlayersIdUnique))\n",
        "listPlayersIdUnique = list(listPlayersIdUnique)"
      ],
      "metadata": {
        "id": "zwzrSAIs3N3y"
      },
      "execution_count": null,
      "outputs": []
    },
    {
      "cell_type": "markdown",
      "source": [
        "## Player Top Assists\n",
        "\n",
        "**Update Frequency** : This endpoint is updated several times a week.\n",
        "\n",
        "**Recommended Calls** : 1 call per day.\n",
        "\n",
        "https://www.api-football.com/documentation-v3#tag/Players/operation/get-players-topassists"
      ],
      "metadata": {
        "id": "lcyZqc9y3Fw4"
      }
    },
    {
      "cell_type": "code",
      "source": [
        "def getPlayersTopAssistsToFile(leagueId,season):\n",
        "  playersTopAssistsUrl = f\"players/topassists?season={str(season)}&league={str(leagueId)}\"\n",
        "  jsonPlayers = getApiSports(playersTopAssistsUrl)\n",
        "  path = f\"players/league/{str(leagueId)}/{str(season)}\"\n",
        "  filename = f\"{str(leagueId)}_{str(season)}_players_top_assists\"\n",
        "  saveJson(path, filename, jsonPlayers)\n",
        "  return jsonPlayers"
      ],
      "metadata": {
        "id": "78RLsq443Fw-"
      },
      "execution_count": null,
      "outputs": []
    },
    {
      "cell_type": "code",
      "source": [
        "def getAllPlayersTopAssists(listOfSeasonLeague):\n",
        "  listOfSeasonLeaguePlayers = []\n",
        "  for x in listOfSeasonLeague:\n",
        "    teamSeasonJson = json.loads(x)\n",
        "    jsonLeagueSeasonPlayerResp = getPlayersTopAssistsToFile(teamSeasonJson[\"league\"],teamSeasonJson[\"season\"])\n",
        "    for y in jsonLeagueSeasonPlayerResp[\"response\"]:\n",
        "      jsonLeagueSeasonPlayer = \"{\\\"player\\\":\" + str(y[\"player\"][\"id\"]) + \" ,\\\"league\\\": \" + str(teamSeasonJson[\"league\"]) + \" ,\\\"season\\\": \" + str(teamSeasonJson[\"season\"]) + \"}\"\n",
        "      listOfSeasonLeaguePlayers.append(str(jsonLeagueSeasonPlayer))\n",
        "  todayDatetime = datetime.now().strftime(\"%Y%m%d%H%M\") #formato YYYYMMDDhhmm\n",
        "  saveJson(\"players\", f\"allSeasonLeaguePlayersTopAssists_{str(todayDatetime)}\", listOfSeasonLeaguePlayers)\n",
        "  return listOfSeasonLeaguePlayers"
      ],
      "metadata": {
        "id": "r_PsmEro3Fw-"
      },
      "execution_count": null,
      "outputs": []
    },
    {
      "cell_type": "code",
      "source": [
        "#jsonPlayersTopAssists = getAllPlayersTopAssists(listOfSeasonLeague)\n",
        "jsonPlayersTopAssists = importJson(\"players/allSeasonLeaguePlayersTopAssists.json\")"
      ],
      "metadata": {
        "id": "orEOmK-v3Fw-"
      },
      "execution_count": null,
      "outputs": []
    },
    {
      "cell_type": "markdown",
      "source": [
        "## Player Top Scorers\n",
        "\n",
        "**Update Frequency** : This endpoint is updated several times a week.\n",
        "\n",
        "**Recommended Calls** : 1 call per day.\n",
        "\n",
        "https://www.api-football.com/documentation-v3#tag/Players/operation/get-players-topscorers"
      ],
      "metadata": {
        "id": "hfdsh4P_MHaJ"
      }
    },
    {
      "cell_type": "code",
      "source": [
        "def getPlayersTopScoresToFile(leagueId,season):\n",
        "  playersTopScoresUrl = f\"players/topscorers?season={str(season)}&league={str(leagueId)}\"\n",
        "  jsonPlayers = getApiSports(playersTopScoresUrl)\n",
        "  path = f\"players/league/{str(leagueId)}/{str(season)}\"\n",
        "  filename = f\"{str(leagueId)}_{str(season)}_players_top_scores\"\n",
        "  saveJson(path, filename, jsonPlayers)\n",
        "  return jsonPlayers"
      ],
      "metadata": {
        "id": "HQg-fiZVMHaP"
      },
      "execution_count": null,
      "outputs": []
    },
    {
      "cell_type": "code",
      "source": [
        "def getAllPlayersTopScores(listOfSeasonLeague):\n",
        "  listOfSeasonLeaguePlayers = []\n",
        "  for x in listOfSeasonLeague:\n",
        "    teamSeasonJson = json.loads(x)\n",
        "    jsonLeagueSeasonPlayerResp = getPlayersTopScoresToFile(teamSeasonJson[\"league\"],teamSeasonJson[\"season\"])\n",
        "    for y in jsonLeagueSeasonPlayerResp[\"response\"]:\n",
        "      jsonLeagueSeasonPlayer = \"{\\\"player\\\":\" + str(y[\"player\"][\"id\"]) + \" ,\\\"league\\\": \" + str(teamSeasonJson[\"league\"]) + \" ,\\\"season\\\": \" + str(teamSeasonJson[\"season\"]) + \"}\"\n",
        "      listOfSeasonLeaguePlayers.append(str(jsonLeagueSeasonPlayer))\n",
        "  todayDatetime = datetime.now().strftime(\"%Y%m%d%H%M\") #formato YYYYMMDDhhmm\n",
        "  saveJson(\"players\", f\"allSeasonLeaguePlayersTopScores_{(todayDatetime)}\", listOfSeasonLeaguePlayers)\n",
        "  return listOfSeasonLeaguePlayers"
      ],
      "metadata": {
        "id": "mV8qGn5sMHaQ"
      },
      "execution_count": null,
      "outputs": []
    },
    {
      "cell_type": "code",
      "source": [
        "#jsonPlayersTopScores = getAllPlayersTopScores(listOfSeasonLeague)\n",
        "jsonPlayersTopScores = importJson(\"players/allSeasonLeaguePlayersTopScores.json\")"
      ],
      "metadata": {
        "id": "El5sGsbtMHaQ"
      },
      "execution_count": null,
      "outputs": []
    },
    {
      "cell_type": "markdown",
      "source": [
        "## Player Top Yellow Cards\n",
        "\n",
        "**Update Frequency** : This endpoint is updated several times a week.\n",
        "\n",
        "**Recommended Calls** : 1 call per day.\n",
        "\n",
        "https://www.api-football.com/documentation-v3#tag/Players/operation/get-players-topyellowcards"
      ],
      "metadata": {
        "id": "6w39H8m-MubZ"
      }
    },
    {
      "cell_type": "code",
      "source": [
        "def getPlayersTopYellowCardsToFile(leagueId,season):\n",
        "  playersTopYellowCardsUrl = f\"players/topyellowcards?season={str(season)}&league={str(leagueId)}\"\n",
        "  jsonPlayers = getApiSports(playersTopYellowCardsUrl)\n",
        "  path = f\"players/league/{str(leagueId)}/{str(season)}\"\n",
        "  filename = f\"{str(leagueId)}_{str(season)}_players_top_yellow_cards\"\n",
        "  saveJson(path, filename, jsonPlayers)\n",
        "  return jsonPlayers"
      ],
      "metadata": {
        "id": "LVu5Qe5pMuba"
      },
      "execution_count": null,
      "outputs": []
    },
    {
      "cell_type": "code",
      "source": [
        "def getAllPlayersTopYellowCards(listOfSeasonLeague):\n",
        "  listOfSeasonLeaguePlayers = []\n",
        "  for x in listOfSeasonLeague:\n",
        "    teamSeasonJson = json.loads(x)\n",
        "    jsonLeagueSeasonPlayerResp = getPlayersTopYellowCardsToFile(teamSeasonJson[\"league\"],teamSeasonJson[\"season\"])\n",
        "    for y in jsonLeagueSeasonPlayerResp[\"response\"]:\n",
        "      jsonLeagueSeasonPlayer = \"{\\\"player\\\":\" + str(y[\"player\"][\"id\"]) + \" ,\\\"league\\\": \" + str(teamSeasonJson[\"league\"]) + \" ,\\\"season\\\": \" + str(teamSeasonJson[\"season\"]) + \"}\"\n",
        "      listOfSeasonLeaguePlayers.append(str(jsonLeagueSeasonPlayer))\n",
        "  todayDatetime = datetime.now().strftime(\"%Y%m%d%H%M\") #formato YYYYMMDDhhmm\n",
        "  saveJson(\"players\", f\"allSeasonLeaguePlayersTopYellowCards_{(todayDatetime)}\", listOfSeasonLeaguePlayers)\n",
        "  return listOfSeasonLeaguePlayers"
      ],
      "metadata": {
        "id": "PQcnHiqvMuba"
      },
      "execution_count": null,
      "outputs": []
    },
    {
      "cell_type": "code",
      "source": [
        "#jsonPlayersTopYellowCards = getAllPlayersTopYellowCards(listOfSeasonLeague)\n",
        "jsonPlayersTopYellowCards = importJson(\"players/allSeasonLeaguePlayersTopYellowCards.json\")"
      ],
      "metadata": {
        "id": "_E4jOnb0Muba"
      },
      "execution_count": null,
      "outputs": []
    },
    {
      "cell_type": "markdown",
      "source": [
        "## Player Top Ref Cards\n",
        "\n",
        "**Update Frequency** : This endpoint is updated several times a week.\n",
        "\n",
        "**Recommended Calls** : 1 call per day.\n",
        "\n",
        "https://www.api-football.com/documentation-v3#tag/Players/operation/get-players-topredcards"
      ],
      "metadata": {
        "id": "flHrV7HCNFr6"
      }
    },
    {
      "cell_type": "code",
      "source": [
        "def getPlayersTopRedCardsToFile(leagueId,season):\n",
        "  playersTopRedCardsUrl = f\"players/topredcards?season={str(season)}&league={str(leagueId)}\"\n",
        "  jsonPlayers = getApiSports(playersTopRedCardsUrl)\n",
        "  path = f\"players/league/{str(leagueId)}/{str(season)}\"\n",
        "  filename = f\"{str(leagueId)}_{str(season)}_players_top_red_cards\"\n",
        "  saveJson(path, filename, jsonPlayers)\n",
        "  return jsonPlayers"
      ],
      "metadata": {
        "id": "4f7nMS9lNFsA"
      },
      "execution_count": null,
      "outputs": []
    },
    {
      "cell_type": "code",
      "source": [
        "def getAllPlayersTopRedCards(listOfSeasonLeague):\n",
        "  listOfSeasonLeaguePlayers = []\n",
        "  for x in listOfSeasonLeague:\n",
        "    teamSeasonJson = json.loads(x)\n",
        "    jsonLeagueSeasonPlayerResp = getPlayersTopRedCardsToFile(teamSeasonJson[\"league\"],teamSeasonJson[\"season\"])\n",
        "    for y in jsonLeagueSeasonPlayerResp[\"response\"]:\n",
        "      jsonLeagueSeasonPlayer = \"{\\\"player\\\":\" + str(y[\"player\"][\"id\"]) + \" ,\\\"league\\\": \" + str(teamSeasonJson[\"league\"]) + \" ,\\\"season\\\": \" + str(teamSeasonJson[\"season\"]) + \"}\"\n",
        "      listOfSeasonLeaguePlayers.append(str(jsonLeagueSeasonPlayer))\n",
        "  todayDatetime = datetime.now().strftime(\"%Y%m%d%H%M\") #formato YYYYMMDDhhmm\n",
        "  saveJson(\"players\", f\"allSeasonLeaguePlayersTopRedCards_{(todayDatetime)}\", listOfSeasonLeaguePlayers)\n",
        "  return listOfSeasonLeaguePlayers"
      ],
      "metadata": {
        "id": "fZl54v9RNFsA"
      },
      "execution_count": null,
      "outputs": []
    },
    {
      "cell_type": "code",
      "source": [
        "#jsonPlayersTopRedCards = getAllPlayersTopRedCards(listOfSeasonLeague)\n",
        "jsonPlayersTopRedCards = importJson(\"players/allSeasonLeaguePlayersTopRedCards.json\")"
      ],
      "metadata": {
        "id": "TsDxwb2DNFsB"
      },
      "execution_count": null,
      "outputs": []
    },
    {
      "cell_type": "markdown",
      "source": [
        "## Player Sidelined\n",
        "\n",
        "**Update Frequency** : This endpoint is updated several times a week.\n",
        "\n",
        "**Recommended Calls** : 1 call per day.\n",
        "\n",
        "https://www.api-football.com/documentation-v3#tag/Sidelined/operation/get-sidelined"
      ],
      "metadata": {
        "id": "MRjjjCL9gy8T"
      }
    },
    {
      "cell_type": "code",
      "source": [
        "def getPlayerSidelined(player):\n",
        "  playerSidelinedUrl = f\"sidelined?player={str(player)}\"\n",
        "  jsonPlayerSidelined = getApiSports(playerSidelinedUrl)\n",
        "  return jsonPlayerSidelined"
      ],
      "metadata": {
        "id": "UC39clt5gy8Z"
      },
      "execution_count": null,
      "outputs": []
    },
    {
      "cell_type": "code",
      "source": [
        "def saveAllSeasonLeaguePlayerSidelined(jsonPlayers,jsonSeasonLeaguePlayers, playerId):\n",
        "  jsonSeasonLeaguePlayersFiltered = [x for x in jsonSeasonLeaguePlayers if json.loads(x)[\"player\"] == int(playerId)]\n",
        "  for x in jsonSeasonLeaguePlayersFiltered:\n",
        "    teamSeasonJson = json.loads(x)\n",
        "    leagueId = teamSeasonJson[\"league\"]\n",
        "    season = teamSeasonJson[\"season\"]\n",
        "    team = teamSeasonJson[\"team\"]\n",
        "    path = f\"players/league/{str(leagueId)}/{str(season)}/{str(team)}\"\n",
        "    filename = f\"{str(leagueId)}_{str(season)}_{str(team)}_{str(playerId)}_players_sidelined\"\n",
        "    saveJson(path, filename, jsonPlayers)"
      ],
      "metadata": {
        "id": "oiDRI98h_YPz"
      },
      "execution_count": null,
      "outputs": []
    },
    {
      "cell_type": "code",
      "source": [
        "def getAllSeasonLeaguePlayersSidelined(listPlayersIdUnique,jsonSeasonLeaguePlayers):\n",
        "  listPlayersIdUniqueFiltered = [x for x in listPlayersIdUnique if json.loads(x)[\"season\"] == 2022]\n",
        "  for x in listPlayersIdUniqueFiltered:\n",
        "    jsonPlayerSidelined = getPlayerSidelined(x)\n",
        "    saveAllSeasonLeaguePlayerSidelined(jsonPlayerSidelined,jsonSeasonLeaguePlayers, x)"
      ],
      "metadata": {
        "id": "JL2yDlgMgy8Z"
      },
      "execution_count": null,
      "outputs": []
    },
    {
      "cell_type": "code",
      "source": [
        "getAllSeasonLeaguePlayersSidelined(listPlayersIdUnique,jsonSeasonLeaguePlayers)"
      ],
      "metadata": {
        "id": "_rZjG_dYgy8a",
        "colab": {
          "base_uri": "https://localhost:8080/",
          "height": 323
        },
        "outputId": "43d5561e-3ede-4306-e634-d92cae756e86"
      },
      "execution_count": null,
      "outputs": [
        {
          "output_type": "error",
          "ename": "TypeError",
          "evalue": "ignored",
          "traceback": [
            "\u001b[0;31m---------------------------------------------------------------------------\u001b[0m",
            "\u001b[0;31mTypeError\u001b[0m                                 Traceback (most recent call last)",
            "\u001b[0;32m<ipython-input-92-c5523de335d2>\u001b[0m in \u001b[0;36m<module>\u001b[0;34m\u001b[0m\n\u001b[0;32m----> 1\u001b[0;31m \u001b[0mgetAllSeasonLeaguePlayersSidelined\u001b[0m\u001b[0;34m(\u001b[0m\u001b[0mlistPlayersIdUnique\u001b[0m\u001b[0;34m,\u001b[0m\u001b[0mjsonSeasonLeaguePlayers\u001b[0m\u001b[0;34m)\u001b[0m\u001b[0;34m\u001b[0m\u001b[0;34m\u001b[0m\u001b[0m\n\u001b[0m",
            "\u001b[0;32m<ipython-input-91-3e62de2511f2>\u001b[0m in \u001b[0;36mgetAllSeasonLeaguePlayersSidelined\u001b[0;34m(listPlayersIdUnique, jsonSeasonLeaguePlayers)\u001b[0m\n\u001b[1;32m      1\u001b[0m \u001b[0;32mdef\u001b[0m \u001b[0mgetAllSeasonLeaguePlayersSidelined\u001b[0m\u001b[0;34m(\u001b[0m\u001b[0mlistPlayersIdUnique\u001b[0m\u001b[0;34m,\u001b[0m\u001b[0mjsonSeasonLeaguePlayers\u001b[0m\u001b[0;34m)\u001b[0m\u001b[0;34m:\u001b[0m\u001b[0;34m\u001b[0m\u001b[0;34m\u001b[0m\u001b[0m\n\u001b[0;32m----> 2\u001b[0;31m   \u001b[0mlistPlayersIdUniqueFiltered\u001b[0m \u001b[0;34m=\u001b[0m \u001b[0;34m[\u001b[0m\u001b[0mx\u001b[0m \u001b[0;32mfor\u001b[0m \u001b[0mx\u001b[0m \u001b[0;32min\u001b[0m \u001b[0mlistPlayersIdUnique\u001b[0m \u001b[0;32mif\u001b[0m \u001b[0mjson\u001b[0m\u001b[0;34m.\u001b[0m\u001b[0mloads\u001b[0m\u001b[0;34m(\u001b[0m\u001b[0mx\u001b[0m\u001b[0;34m)\u001b[0m\u001b[0;34m[\u001b[0m\u001b[0;34m\"season\"\u001b[0m\u001b[0;34m]\u001b[0m \u001b[0;34m==\u001b[0m \u001b[0;36m2022\u001b[0m\u001b[0;34m]\u001b[0m\u001b[0;34m\u001b[0m\u001b[0;34m\u001b[0m\u001b[0m\n\u001b[0m\u001b[1;32m      3\u001b[0m   \u001b[0;32mfor\u001b[0m \u001b[0mx\u001b[0m \u001b[0;32min\u001b[0m \u001b[0mlistPlayersIdUniqueFiltered\u001b[0m\u001b[0;34m:\u001b[0m\u001b[0;34m\u001b[0m\u001b[0;34m\u001b[0m\u001b[0m\n\u001b[1;32m      4\u001b[0m     \u001b[0mjsonPlayerSidelined\u001b[0m \u001b[0;34m=\u001b[0m \u001b[0mgetPlayerSidelined\u001b[0m\u001b[0;34m(\u001b[0m\u001b[0mx\u001b[0m\u001b[0;34m)\u001b[0m\u001b[0;34m\u001b[0m\u001b[0;34m\u001b[0m\u001b[0m\n\u001b[1;32m      5\u001b[0m     \u001b[0msaveAllSeasonLeaguePlayerSidelined\u001b[0m\u001b[0;34m(\u001b[0m\u001b[0mjsonPlayerSidelined\u001b[0m\u001b[0;34m,\u001b[0m\u001b[0mjsonSeasonLeaguePlayers\u001b[0m\u001b[0;34m,\u001b[0m \u001b[0mx\u001b[0m\u001b[0;34m)\u001b[0m\u001b[0;34m\u001b[0m\u001b[0;34m\u001b[0m\u001b[0m\n",
            "\u001b[0;32m<ipython-input-91-3e62de2511f2>\u001b[0m in \u001b[0;36m<listcomp>\u001b[0;34m(.0)\u001b[0m\n\u001b[1;32m      1\u001b[0m \u001b[0;32mdef\u001b[0m \u001b[0mgetAllSeasonLeaguePlayersSidelined\u001b[0m\u001b[0;34m(\u001b[0m\u001b[0mlistPlayersIdUnique\u001b[0m\u001b[0;34m,\u001b[0m\u001b[0mjsonSeasonLeaguePlayers\u001b[0m\u001b[0;34m)\u001b[0m\u001b[0;34m:\u001b[0m\u001b[0;34m\u001b[0m\u001b[0;34m\u001b[0m\u001b[0m\n\u001b[0;32m----> 2\u001b[0;31m   \u001b[0mlistPlayersIdUniqueFiltered\u001b[0m \u001b[0;34m=\u001b[0m \u001b[0;34m[\u001b[0m\u001b[0mx\u001b[0m \u001b[0;32mfor\u001b[0m \u001b[0mx\u001b[0m \u001b[0;32min\u001b[0m \u001b[0mlistPlayersIdUnique\u001b[0m \u001b[0;32mif\u001b[0m \u001b[0mjson\u001b[0m\u001b[0;34m.\u001b[0m\u001b[0mloads\u001b[0m\u001b[0;34m(\u001b[0m\u001b[0mx\u001b[0m\u001b[0;34m)\u001b[0m\u001b[0;34m[\u001b[0m\u001b[0;34m\"season\"\u001b[0m\u001b[0;34m]\u001b[0m \u001b[0;34m==\u001b[0m \u001b[0;36m2022\u001b[0m\u001b[0;34m]\u001b[0m\u001b[0;34m\u001b[0m\u001b[0;34m\u001b[0m\u001b[0m\n\u001b[0m\u001b[1;32m      3\u001b[0m   \u001b[0;32mfor\u001b[0m \u001b[0mx\u001b[0m \u001b[0;32min\u001b[0m \u001b[0mlistPlayersIdUniqueFiltered\u001b[0m\u001b[0;34m:\u001b[0m\u001b[0;34m\u001b[0m\u001b[0;34m\u001b[0m\u001b[0m\n\u001b[1;32m      4\u001b[0m     \u001b[0mjsonPlayerSidelined\u001b[0m \u001b[0;34m=\u001b[0m \u001b[0mgetPlayerSidelined\u001b[0m\u001b[0;34m(\u001b[0m\u001b[0mx\u001b[0m\u001b[0;34m)\u001b[0m\u001b[0;34m\u001b[0m\u001b[0;34m\u001b[0m\u001b[0m\n\u001b[1;32m      5\u001b[0m     \u001b[0msaveAllSeasonLeaguePlayerSidelined\u001b[0m\u001b[0;34m(\u001b[0m\u001b[0mjsonPlayerSidelined\u001b[0m\u001b[0;34m,\u001b[0m\u001b[0mjsonSeasonLeaguePlayers\u001b[0m\u001b[0;34m,\u001b[0m \u001b[0mx\u001b[0m\u001b[0;34m)\u001b[0m\u001b[0;34m\u001b[0m\u001b[0;34m\u001b[0m\u001b[0m\n",
            "\u001b[0;31mTypeError\u001b[0m: 'int' object is not subscriptable"
          ]
        }
      ]
    },
    {
      "cell_type": "markdown",
      "source": [
        "## Player Trophies\n",
        "\n",
        "**Update Frequency** : This endpoint is updated several times a week.\n",
        "\n",
        "**Recommended Calls** : 1 call per day.\n",
        "\n",
        "https://www.api-football.com/documentation-v3#tag/Sidelined/operation/get-sidelined"
      ],
      "metadata": {
        "id": "_zSTPn6fA_Se"
      }
    },
    {
      "cell_type": "code",
      "source": [
        "def getPlayerTrophies(player):\n",
        "  playerTrophiesUrl = f\"trophies?player={str(player)}\"\n",
        "  jsonPlayerTrophies = getApiSports(playerTrophiesUrl)\n",
        "  return jsonPlayerTrophies"
      ],
      "metadata": {
        "id": "a5M59dtDA_Se"
      },
      "execution_count": null,
      "outputs": []
    },
    {
      "cell_type": "code",
      "source": [
        "def saveAllSeasonLeaguePlayerTrophies(jsonPlayers,jsonSeasonLeaguePlayers, playerId):\n",
        "  jsonSeasonLeaguePlayersFiltered = [x for x in jsonSeasonLeaguePlayers if json.loads(x)[\"player\"] == int(playerId)]\n",
        "  for x in jsonSeasonLeaguePlayersFiltered:\n",
        "    teamSeasonJson = json.loads(x)\n",
        "    leagueId = teamSeasonJson[\"league\"]\n",
        "    season = teamSeasonJson[\"season\"]\n",
        "    team = teamSeasonJson[\"team\"]\n",
        "    path = f\"players/league/{str(leagueId)}/{str(season)}/{str(team)}\"\n",
        "    filename = f\"{str(leagueId)}_{str(season)}_{str(team)}_{str(playerId)}_players_trophies\"\n",
        "    saveJson(path, filename, jsonPlayers)"
      ],
      "metadata": {
        "id": "9zzYpUJkA_Se"
      },
      "execution_count": null,
      "outputs": []
    },
    {
      "cell_type": "code",
      "source": [
        "def getAllSeasonLeaguePlayersTrophies(listPlayersIdUnique,jsonSeasonLeaguePlayers):\n",
        "  for x in listPlayersIdUnique:\n",
        "    jsonPlayerTrophies = getPlayerTrophies(x)\n",
        "    saveAllSeasonLeaguePlayerTrophies(jsonPlayerTrophies,jsonSeasonLeaguePlayers, x)"
      ],
      "metadata": {
        "id": "wnr2qG_UA_Sf"
      },
      "execution_count": null,
      "outputs": []
    },
    {
      "cell_type": "code",
      "source": [
        "getAllSeasonLeaguePlayersTrophies(listPlayersIdUnique,jsonSeasonLeaguePlayers)\n",
        "for x in jsonSeasonLeaguePlayers:\n",
        "  teamSeasonJson = json.loads(x)\n",
        "  leagueId = teamSeasonJson[\"league\"]\n",
        "  season = teamSeasonJson[\"season\"]\n",
        "  team = teamSeasonJson[\"team\"]\n",
        "  player = teamSeasonJson[\"player\"]\n",
        "  path = f\"players/league/{str(leagueId)}/{str(season)}/{str(team)}\"\n",
        "  filename = f\"{str(leagueId)}_{str(season)}_{str(team)}_{str(player)}_players_trophies.json\"\n",
        "  fullPath = f\"{filePath}/{path}/{filename}\"\n",
        "  if season == 2022:\n",
        "  #if os.path.exists(fullPath) == False:\n",
        "    print(player)\n",
        "    listPlayersIdUniqueAux = [x for x in listPlayersIdUnique if x == str(player)]\n",
        "    getAllSeasonLeaguePlayersTrophies(listPlayersIdUniqueAux,jsonSeasonLeaguePlayers)"
      ],
      "metadata": {
        "id": "ZThPeZRUA_Sf"
      },
      "execution_count": null,
      "outputs": []
    },
    {
      "cell_type": "markdown",
      "source": [
        "## Player Transfers\n",
        "\n",
        "**Update Frequency** : This endpoint is updated several times a week.\n",
        "\n",
        "**Recommended Calls** : 1 call per day.\n",
        "\n",
        "https://www.api-football.com/documentation-v3#tag/Transfers/operation/get-transfers"
      ],
      "metadata": {
        "id": "BZxz7sCakvIz"
      }
    },
    {
      "cell_type": "code",
      "source": [
        "def getPlayerTransfers(player):\n",
        "  playerTransfersUrl = f\"transfers?player={str(player)}\"\n",
        "  jsonPlayers = getApiSports(playerTransfersUrl)\n",
        "  return jsonPlayers"
      ],
      "metadata": {
        "id": "XfsTzvE8kvI6"
      },
      "execution_count": null,
      "outputs": []
    },
    {
      "cell_type": "code",
      "source": [
        "def saveAllSeasonLeaguePlayerTransfers(jsonPlayers,jsonSeasonLeaguePlayers, player):\n",
        "  jsonSeasonLeaguePlayersFiltered = [x for x in jsonSeasonLeaguePlayers if json.loads(x)[\"player\"] == int(player)]\n",
        "  for x in jsonSeasonLeaguePlayersFiltered:\n",
        "    teamSeasonJson = json.loads(x)\n",
        "    leagueId = teamSeasonJson[\"league\"]\n",
        "    season = teamSeasonJson[\"season\"]\n",
        "    team = teamSeasonJson[\"team\"]\n",
        "    path = f\"players/league/{str(leagueId)}/{str(season)}/{str(team)}\"\n",
        "    filename = f\"{str(leagueId)}_{str(season)}_{str(team)}_{str(player)}_players_transfers\"\n",
        "    saveJson(path, filename, jsonPlayers)"
      ],
      "metadata": {
        "id": "gK2wX-6HkvI6"
      },
      "execution_count": null,
      "outputs": []
    },
    {
      "cell_type": "code",
      "source": [
        "def getAllSeasonLeaguePlayersTransfers(listPlayersIdUnique,jsonSeasonLeaguePlayers):\n",
        "  for x in listPlayersIdUnique:\n",
        "    jsonPlayerTransfers = getPlayerTransfers(x)\n",
        "    saveAllSeasonLeaguePlayerTransfers(jsonPlayerTransfers,jsonSeasonLeaguePlayers, x)"
      ],
      "metadata": {
        "id": "43IUPg2JkvI6"
      },
      "execution_count": null,
      "outputs": []
    },
    {
      "cell_type": "code",
      "source": [
        "getAllSeasonLeaguePlayersTransfers(listPlayersIdUnique,jsonSeasonLeaguePlayers)\n",
        "for x in jsonSeasonLeaguePlayers:\n",
        "  teamSeasonJson = json.loads(x)\n",
        "  leagueId = teamSeasonJson[\"league\"]\n",
        "  season = teamSeasonJson[\"season\"]\n",
        "  team = teamSeasonJson[\"team\"]\n",
        "  player = teamSeasonJson[\"player\"]\n",
        "  path = f\"players/league/{str(leagueId)}/{str(season)}/{str(team)}\"\n",
        "  filename = f\"{str(leagueId)}_{str(season)}_{str(team)}_{str(player)}_players_transfers.json\"\n",
        "  fullPath = f\"{filePath}/{path}/{filename}\"\n",
        "  if season == 2022:\n",
        "  #if os.path.exists(fullPath) == False:\n",
        "    print(player)\n",
        "    listPlayersIdUniqueAux = [x for x in listPlayersIdUnique if x == str(player)]\n",
        "    getAllSeasonLeaguePlayersTransfers(listPlayersIdUniqueAux,jsonSeasonLeaguePlayers)"
      ],
      "metadata": {
        "id": "fdePDrNhl_fw"
      },
      "execution_count": null,
      "outputs": []
    },
    {
      "cell_type": "markdown",
      "source": [
        "# Odds Pre Match\n",
        "\n",
        "**Update Frequency** : This endpoint is updated every day.\n",
        "\n",
        "**Recommended Calls** : 1 call per day.\n",
        "\n",
        "https://www.api-football.com/documentation-v3#tag/Odds-(Pre-Match)"
      ],
      "metadata": {
        "id": "Zs5UROjM5G8W"
      }
    },
    {
      "cell_type": "markdown",
      "source": [
        "## Odds Mapping\n",
        "\n",
        "**Update Frequency** : This endpoint is updated every day.\n",
        "\n",
        "**Recommended Calls** : 1 call per day.\n",
        "\n",
        "https://www.api-football.com/documentation-v3#tag/Odds-(Pre-Match)/operation/get-odds-mapping"
      ],
      "metadata": {
        "id": "f81Ua0F95eDt"
      }
    },
    {
      "cell_type": "code",
      "source": [
        "def getAllOddsMappingToFile():\n",
        "  page = 1 #first page\n",
        "  totalPages = 1 #by default\n",
        "  listJsonOddsMappingFixture = []\n",
        "  while page <= totalPages:\n",
        "    oddsMappingUrl = f\"odds/mapping?page={page}\"\n",
        "    jsonOddsMapping = getApiSports(oddsMappingUrl)\n",
        "    today = date.today().strftime(\"%Y%m%d\") #formato YYYYMMDD\n",
        "    path = f\"odds/mapping/{str(today)}\"\n",
        "    filename = f\"odds_mapping_{str(today)}_{str(page)}\"\n",
        "    saveJson(path, filename, jsonOddsMapping)\n",
        "    for y in jsonOddsMapping[\"response\"]:\n",
        "      jsonOddsMappingFixture = \"{\\\"fixture\\\":\" + str(y[\"fixture\"][\"id\"]) + \"}\"\n",
        "      listJsonOddsMappingFixture.append(str(jsonOddsMappingFixture))\n",
        "    page += 1\n",
        "    totalPages = jsonOddsMapping[\"paging\"][\"total\"]\n",
        "\n",
        "  saveJson(f\"odds/mapping/{str(today)}\", f\"odds_mapping_{str(today)}_fixtures\", listJsonOddsMappingFixture)\n",
        "  return listJsonOddsMappingFixture"
      ],
      "metadata": {
        "id": "YWQDXy0q5mEb"
      },
      "execution_count": null,
      "outputs": []
    },
    {
      "cell_type": "markdown",
      "source": [
        "## Odds Pre Match\n",
        "\n",
        "We keep a 7-days history (The availability of odds may vary according to the leagues, seasons, fixtures and bookmakers)\n",
        "\n",
        "\n",
        "**Update Frequency** : This endpoint is updated every day.\n",
        "\n",
        "**Recommended Calls** : 1 call per day.\n",
        "\n",
        "https://www.api-football.com/documentation-v3#tag/Odds-(Pre-Match)/operation/get-odds"
      ],
      "metadata": {
        "id": "5Cbh8-ZcB7DF"
      }
    },
    {
      "cell_type": "code",
      "source": [
        "def getOddsByFixtureToFile(fixture):\n",
        "  page = 1 #first page\n",
        "  totalPages = 1 #by default\n",
        "  listJsonOddsMapping = []\n",
        "  while page <= totalPages:\n",
        "    oddsMappingUrl = f\"odds?fixture={str(fixture)}&page={page}\"\n",
        "    jsonOddsMapping = getApiSports(oddsMappingUrl)\n",
        "    today = date.today().strftime(\"%Y%m%d\") #formato YYYYMMDD\n",
        "    path = f\"odds/mapping/{str(today)}/{str(fixture)}\"\n",
        "    filename = f\"odds_mapping_{str(today)}_{str(fixture)}_{str(page)}\"\n",
        "    saveJson(path, filename, jsonOddsMapping)\n",
        "    page += 1\n",
        "    totalPages = jsonOddsMapping[\"paging\"][\"total\"]"
      ],
      "metadata": {
        "id": "Dg3XHErcB7DF"
      },
      "execution_count": null,
      "outputs": []
    },
    {
      "cell_type": "code",
      "source": [
        "def getAllOddsAvailableToFile(listJsonOddsPreMacthMappingFixture):\n",
        "  for x in listJsonOddsPreMacthMappingFixture:\n",
        "    fixture = json.loads(x)\n",
        "    getOddsByFixtureToFile(str(fixture[\"fixture\"]))"
      ],
      "metadata": {
        "id": "ZSE_-7TEB7DG"
      },
      "execution_count": null,
      "outputs": []
    },
    {
      "cell_type": "code",
      "source": [
        "listJsonOddsPreMacthMappingFixture = getAllOddsMappingToFile()\n",
        "getAllOddsAvailableToFile(listJsonOddsPreMacthMappingFixture)"
      ],
      "metadata": {
        "id": "jtV1j3JyDNr6"
      },
      "execution_count": null,
      "outputs": []
    },
    {
      "cell_type": "markdown",
      "source": [
        "## Odds Bookmakers\n",
        "\n",
        "Get all available bookmakers.\n",
        "\n",
        "All bookmakers *id* can be used in endpoint odds as filters.\n",
        "\n",
        "**Update Frequency** : This endpoint is updated several times a week.\n",
        "\n",
        "**Recommended Calls** : 1 call per day.\n",
        "\n",
        "https://www.api-football.com/documentation-v3#tag/Odds-(Pre-Match)/operation/get-bookmakers"
      ],
      "metadata": {
        "id": "NyYMIONCHzdN"
      }
    },
    {
      "cell_type": "code",
      "source": [
        "def getBookmakersToFile():\n",
        "  jsonBookmaker = getApiSports(\"odds/bookmakers\")\n",
        "  today = date.today().strftime(\"%Y%m%d\") #formato YYYYMMDD\n",
        "  path = f\"odds/bookmakers/{str(today)}\"\n",
        "  filename = f\"odds_bookmakers_{str(today)}\"\n",
        "  saveJson(path, filename, jsonBookmaker)\n",
        "  return jsonBookmaker"
      ],
      "metadata": {
        "id": "gM1NEDpkH-Sg"
      },
      "execution_count": null,
      "outputs": []
    },
    {
      "cell_type": "markdown",
      "source": [
        "## Odds Bets\n",
        "\n",
        "Get all available bets for pre-match odds.\n",
        "\n",
        "All bets *id* can be used in endpoint odds as filters, but are not compatible with endpoint odds/live for in-play odds.\n",
        "\n",
        "**Update Frequency** : This endpoint is updated several times a week.\n",
        "\n",
        "**Recommended Calls** : 1 call per day.\n",
        "\n",
        "https://www.api-football.com/documentation-v3#tag/Odds-(Pre-Match)/operation/get-bets"
      ],
      "metadata": {
        "id": "WOr9m3UuIV0-"
      }
    },
    {
      "cell_type": "code",
      "source": [
        "def getBetsToFile():\n",
        "  jsonBookmaker = getApiSports(\"odds/bets\")\n",
        "  today = date.today().strftime(\"%Y%m%d\") #formato YYYYMMDD\n",
        "  path = f\"odds/bets/{str(today)}\"\n",
        "  filename = f\"odds_bets_{str(today)}\"\n",
        "  saveJson(path, filename, jsonBookmaker)\n",
        "  return jsonBookmaker"
      ],
      "metadata": {
        "id": "xPp8mfzSIV0-"
      },
      "execution_count": null,
      "outputs": []
    },
    {
      "cell_type": "code",
      "source": [
        "getBookmakersToFile()\n",
        "getBetsToFile()"
      ],
      "metadata": {
        "id": "l7XudMegiuzp"
      },
      "execution_count": null,
      "outputs": []
    },
    {
      "cell_type": "markdown",
      "source": [
        "# Odds Live\n",
        "\n",
        "**Update Frequency** : This endpoint is updated every day.\n",
        "\n",
        "**Recommended Calls** : 1 call per day.\n",
        "\n",
        "https://www.api-football.com/documentation-v3#tag/Odds-(In-Play)"
      ],
      "metadata": {
        "id": "VaPgJcaKZETQ"
      }
    },
    {
      "cell_type": "markdown",
      "source": [
        "## Odds Live Bets\n",
        "\n",
        "Get all available bets for in-play odds.\n",
        "\n",
        "All bets *id* can be used in endpoint odds/live as filters, but are not compatible with endpoint odds for pre-match odds.\n",
        "\n",
        "**Update Frequency** : This endpoint is updated every 60 seconds.\n",
        "\n",
        "https://www.api-football.com/documentation-v3#tag/Odds-(In-Play)/operation/get-bets"
      ],
      "metadata": {
        "id": "5OCk2XzmZABV"
      }
    },
    {
      "cell_type": "code",
      "source": [
        "def getLiveBetsToFile():\n",
        "  jsonBookmaker = getApiSports(\"odds/live/bets\")\n",
        "  today = date.today().strftime(\"%Y%m%d\") #formato YYYYMMDD\n",
        "  todayDatetime = datetime.now().strftime(\"%Y%m%d%H%M\") #formato YYYYMMDDhhmm\n",
        "  path = f\"odds/live/bets/{str(today)}\"\n",
        "  filename = f\"odds_live_bets_{str(todayDatetime)}\"\n",
        "  saveJson(path, filename, jsonBookmaker)\n",
        "  return jsonBookmaker"
      ],
      "metadata": {
        "id": "QnqGWWrtZABW"
      },
      "execution_count": null,
      "outputs": []
    },
    {
      "cell_type": "code",
      "source": [
        "#getLiveBetsToFile()"
      ],
      "metadata": {
        "id": "PK7gDHneZABW"
      },
      "execution_count": null,
      "outputs": []
    },
    {
      "cell_type": "markdown",
      "source": [
        "## Odds In-play Fixtures\n",
        "\n",
        "This endpoint returns in-play odds for fixtures in progress.\n",
        "\n",
        "**Update Frequency** : This endpoint is updated every 5 seconds.*\n",
        "\n",
        "https://www.api-football.com/documentation-v3#tag/Odds-(In-Play)/operation/get-odds-live"
      ],
      "metadata": {
        "id": "yuHgTwQWblQq"
      }
    },
    {
      "cell_type": "code",
      "source": [
        "def getLiveOddsLeagueToFile(league):\n",
        "  results = 0\n",
        "  firstNoneResult = 0\n",
        "  while(firstNoneResult < 2):\n",
        "    jsonBookmaker = getApiSports(f\"odds/live?league={str(league)}\")\n",
        "    today = date.today().strftime(\"%Y%m%d\") #formato YYYYMMDD\n",
        "    todayDatetime = datetime.now().strftime(\"%Y%m%d%H%M%S\") #formato YYYYMMDDhhmm\n",
        "    path = f\"odds/live/inplay/{str(today)}/{str(league)}\"\n",
        "    filename = f\"odds_live_bets_inplay_{str(todayDatetime)}\"\n",
        "    saveJson(path, filename, jsonBookmaker)\n",
        "    results = jsonBookmaker[\"results\"]\n",
        "    time.sleep(10)\n",
        "    if results == 0:\n",
        "      firstNoneResult += 1\n",
        "    else:\n",
        "      firstNoneResult = 0"
      ],
      "metadata": {
        "id": "Ez4TxMZjblQq"
      },
      "execution_count": null,
      "outputs": []
    },
    {
      "cell_type": "code",
      "source": [
        "#getLiveOddsLeagueToFile(274)"
      ],
      "metadata": {
        "id": "oXskwkBIblQq"
      },
      "execution_count": null,
      "outputs": []
    },
    {
      "cell_type": "code",
      "source": [
        "#from multiprocessing import Process\n",
        "#\n",
        "#processlist = []\n",
        "#\n",
        "#processlist.append(Process(target=getLiveOddsLeagueToFile(274)))\n",
        "#processlist.append(Process(target=getLiveOddsLeagueToFile(61)))\n",
        "#processlist.append(Process(target=getLiveOddsLeagueToFile(39)))\n",
        "#\n",
        "#for t in processlist:\n",
        "#  t.start()\n",
        "#\n",
        "#for t in processlist:\n",
        "#  t.join()"
      ],
      "metadata": {
        "id": "-dY-dJO_dDYP"
      },
      "execution_count": null,
      "outputs": []
    }
  ]
}
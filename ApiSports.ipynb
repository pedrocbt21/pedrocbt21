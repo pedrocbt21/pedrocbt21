{
  "nbformat": 4,
  "nbformat_minor": 0,
  "metadata": {
    "colab": {
      "provenance": [],
      "collapsed_sections": [
        "ZgtrmtCE7wF8",
        "2nHB0Gj1YNOs",
        "sYJMx3JvaT3u",
        "sVJoiYe9Y4sH",
        "TUAVBimn4Hxr",
        "sd4K6Ri7JZNi",
        "VvaDxRhMrNRn",
        "PTPiR_pMXwpP",
        "oXnUsLj-H9SQ",
        "TyT0U3ChV7h-",
        "9x5hoIAEXxem",
        "MGJzhwH5dXU_",
        "EPbSszqcsaz0",
        "dRCDRbhwYPfd",
        "-oKqMKUtEMhL"
      ],
      "toc_visible": true,
      "mount_file_id": "1Dom4KXHDOQnwCWKVyK45YVMFEuT-loYl",
      "authorship_tag": "ABX9TyPUIVQlK4QhRtXzg3HcacHG",
      "include_colab_link": true
    },
    "kernelspec": {
      "name": "python3",
      "display_name": "Python 3"
    },
    "language_info": {
      "name": "python"
    }
  },
  "cells": [
    {
      "cell_type": "markdown",
      "metadata": {
        "id": "view-in-github",
        "colab_type": "text"
      },
      "source": [
        "<a href=\"https://colab.research.google.com/github/pedrocbt21/pedrocbt21/blob/main/ApiSports.ipynb\" target=\"_parent\"><img src=\"https://colab.research.google.com/assets/colab-badge.svg\" alt=\"Open In Colab\"/></a>"
      ]
    },
    {
      "cell_type": "markdown",
      "source": [
        "# Initial Functions\n",
        "\n",
        "1. Connect to API-SPORTS\n",
        "2. Get API_KEY from a secret file\n",
        "3. Create Folder If Not Exists *Function*\n",
        "4. Json to CSV *Function*\n",
        "5. CSV to Panda DataFrame *Function*"
      ],
      "metadata": {
        "id": "ZgtrmtCE7wF8"
      }
    },
    {
      "cell_type": "markdown",
      "source": [
        "## Ligação inicial à Api-Sports\n",
        "\n",
        "**Documentação**: https://www.api-football.com/documentation-v3"
      ],
      "metadata": {
        "id": "uZvbgyskcqUU"
      }
    },
    {
      "cell_type": "code",
      "source": [
        "#Importar as bibliotecas necessárias\n",
        "import http.client\n",
        "import json\n",
        "import pandas as pd\n",
        "import time\n",
        "from datetime import date\n",
        "from datetime import datetime\n",
        "from dateutil import parser\n",
        "\n",
        "timeToSleep = 0"
      ],
      "metadata": {
        "id": "rJ0Kcryw76SL"
      },
      "execution_count": null,
      "outputs": []
    },
    {
      "cell_type": "code",
      "source": [
        "#Criação e inicialização de variáveis\n",
        "filePath = \"/content/drive/MyDrive/B2F_PC/PEDRO/Mestrado/Tese/Project/Files\""
      ],
      "metadata": {
        "id": "Rm_uqC1mInX6"
      },
      "execution_count": null,
      "outputs": []
    },
    {
      "cell_type": "code",
      "source": [
        "# Ir buscar a api key ao ficheiro privado\n",
        "def get_keys(path):\n",
        "    with open(path) as f:\n",
        "        return json.load(f)\n",
        "\n",
        "keys = get_keys(\"/content/drive/MyDrive/B2F_PC/PEDRO/Mestrado/Tese/Project/Files/.secret/api_football.json\")\n",
        "api_key = keys['api_key']"
      ],
      "metadata": {
        "id": "ZabMQZ8hCQ1B"
      },
      "execution_count": null,
      "outputs": []
    },
    {
      "cell_type": "code",
      "source": [
        "url = \"v3.football.api-sports.io\"\n",
        "\n",
        "headers = {\n",
        "    'x-rapidapi-host': url,\n",
        "    'x-rapidapi-key': api_key\n",
        "    }"
      ],
      "metadata": {
        "id": "Z4WM7kQJDsmp"
      },
      "execution_count": null,
      "outputs": []
    },
    {
      "cell_type": "markdown",
      "source": [
        "## GET API SPORTS"
      ],
      "metadata": {
        "id": "2nHB0Gj1YNOs"
      }
    },
    {
      "cell_type": "code",
      "source": [
        "def getApiSports(endPoint):\n",
        "  conn = http.client.HTTPSConnection(url)\n",
        "  #print(endPoint)\n",
        "  conn.request(\"GET\", \"/\" + endPoint, headers=headers)\n",
        "  res = conn.getresponse()\n",
        "  data = res.read()\n",
        "  string_response = data.decode(\"utf-8\")\n",
        "  #print(string_response)\n",
        "  json_obj = json.loads(string_response)\n",
        "  time.sleep(timeToSleep) # time sleep colocado para não ultrapassar os limites por minuto da API em questão caso necessário (450 por minuto no momento)\n",
        "  return json_obj"
      ],
      "metadata": {
        "id": "yN7PwFZ2YSGD"
      },
      "execution_count": null,
      "outputs": []
    },
    {
      "cell_type": "markdown",
      "source": [
        "## Create Folder If Not Exists"
      ],
      "metadata": {
        "id": "sYJMx3JvaT3u"
      }
    },
    {
      "cell_type": "code",
      "source": [
        "import os\n",
        "\n",
        "def createFolder(finalPath):\n",
        "\n",
        "  path = filePath + \"/\" + finalPath\n",
        "\n",
        "  # Check whether the specified path exists or not\n",
        "  isExist = os.path.exists(path)\n",
        "\n",
        "  if not isExist:\n",
        "  \n",
        "    # Create a new directory because it does not exist \n",
        "    os.makedirs(path)\n",
        "    #print(\"The new directory is created!\")"
      ],
      "metadata": {
        "id": "tU96QV8LaYk5"
      },
      "execution_count": null,
      "outputs": []
    },
    {
      "cell_type": "markdown",
      "source": [
        "## JSON to CSV"
      ],
      "metadata": {
        "id": "sVJoiYe9Y4sH"
      }
    },
    {
      "cell_type": "code",
      "source": [
        "def jsonToCsv(jsonKey, finalPath, filename, jsonObj):\n",
        "  # Create dictionary of results for 'response' key ... /timezone\n",
        "  json_dict = jsonObj[jsonKey]\n",
        "  \n",
        "  json_df = pd.DataFrame.from_dict(json_dict)\n",
        "  # display(timezone_df) # caso seja para mostrar a informação é só descomentar esta linha\n",
        "\n",
        "  #criação do caminho onde o csv file vai ser guardado\n",
        "  jsoncsvfile = filePath + \"/\" + finalPath + \"/\" + filename + \".csv\"\n",
        "\n",
        "  #create folder if not exists \n",
        "  createFolder(finalPath)\n",
        "\n",
        "  #save into csv file\n",
        "  json_df.to_csv(jsoncsvfile, index=False)\n",
        "\n",
        "  return finalPath"
      ],
      "metadata": {
        "id": "KtEG0uxOY_oW"
      },
      "execution_count": null,
      "outputs": []
    },
    {
      "cell_type": "markdown",
      "source": [
        "## Save Json"
      ],
      "metadata": {
        "id": "TUAVBimn4Hxr"
      }
    },
    {
      "cell_type": "code",
      "source": [
        "def saveJson(finalPath, filename, jsonObj):\n",
        "  #criação do caminho onde o csv file vai ser guardado\n",
        "  jsonfile = filePath + \"/\" + finalPath + \"/\" + filename + \".json\"\n",
        "\n",
        "  #create folder if not exists \n",
        "  createFolder(finalPath)\n",
        "\n",
        "  out_file = open(jsonfile, \"w\") \n",
        "    \n",
        "  json.dump(jsonObj, out_file, indent = 6) \n",
        "    \n",
        "  out_file.close() \n",
        "\n",
        "  return finalPath"
      ],
      "metadata": {
        "id": "2rFwSMKi3_EI"
      },
      "execution_count": null,
      "outputs": []
    },
    {
      "cell_type": "markdown",
      "source": [
        "## CSV --> Panda DataFrame"
      ],
      "metadata": {
        "id": "sd4K6Ri7JZNi"
      }
    },
    {
      "cell_type": "code",
      "source": [
        "def csvToDataFrame(fullPathFilename):\n",
        "  df = pd.read_csv(fullPathFilename)\n",
        "  return df\n",
        "  # display(timezone_df)"
      ],
      "metadata": {
        "id": "G7KsArP6HkaS"
      },
      "execution_count": null,
      "outputs": []
    },
    {
      "cell_type": "markdown",
      "source": [
        "## Import Json"
      ],
      "metadata": {
        "id": "VvaDxRhMrNRn"
      }
    },
    {
      "cell_type": "code",
      "source": [
        "def importJson(fullPath):\n",
        "  with open(f\"{filePath}/{fullPath}\") as f:\n",
        "    data = json.load(f)\n",
        "  return data"
      ],
      "metadata": {
        "id": "Y284wexhrRe5"
      },
      "execution_count": null,
      "outputs": []
    },
    {
      "cell_type": "markdown",
      "source": [
        "## TRY PARSE"
      ],
      "metadata": {
        "id": "PTPiR_pMXwpP"
      }
    },
    {
      "cell_type": "markdown",
      "source": [
        "### DATE"
      ],
      "metadata": {
        "id": "jEpqAvjuXzov"
      }
    },
    {
      "cell_type": "code",
      "source": [
        "def try_parse_date(dateFixture):\n",
        "    try:\n",
        "        return parser.parse(dateFixture).date()\n",
        "    except:\n",
        "        return print(date.today()+datetime.timedelta(days = 1)) "
      ],
      "metadata": {
        "id": "Vs473FWnX1rg"
      },
      "execution_count": null,
      "outputs": []
    },
    {
      "cell_type": "markdown",
      "source": [
        "# Timezone\n",
        "https://www.api-football.com/documentation-v3#tag/Timezone/operation/get-timezone"
      ],
      "metadata": {
        "id": "oXnUsLj-H9SQ"
      }
    },
    {
      "cell_type": "code",
      "source": [
        "def getTimezonesToFile():\n",
        "  jsonTimezone = getApiSports(\"timezone\")\n",
        "  #jsonToCsv(\"response\", \"timezone\", \"timezone\", jsonTimezone)\n",
        "  saveJson(\"timezone\", \"timezone\", jsonTimezone)\n",
        "  return jsonTimezone"
      ],
      "metadata": {
        "id": "Uw9XBQwM9RIv"
      },
      "execution_count": null,
      "outputs": []
    },
    {
      "cell_type": "markdown",
      "source": [
        "# Countries\n",
        "\n",
        "https://www.api-football.com/documentation-v3#tag/Countries"
      ],
      "metadata": {
        "id": "TyT0U3ChV7h-"
      }
    },
    {
      "cell_type": "code",
      "source": [
        "def getCountriesToFile():\n",
        "  jsonCountries = getApiSports(\"countries\")\n",
        "  #jsonToCsv(\"response\", \"countries\", \"countries\", jsonCountries)\n",
        "  saveJson(\"countries\", \"countries\", jsonCountries)\n",
        "  return jsonCountries"
      ],
      "metadata": {
        "id": "4jXg9ixQWCLG"
      },
      "execution_count": null,
      "outputs": []
    },
    {
      "cell_type": "markdown",
      "source": [
        "# Leagues\n",
        "\n",
        "https://www.api-football.com/documentation-v3#tag/Leagues/operation/get-leagues\n",
        "\n",
        "https://www.api-football.com/documentation-v3#tag/Leagues/operation/get-seasons"
      ],
      "metadata": {
        "id": "9x5hoIAEXxem"
      }
    },
    {
      "cell_type": "code",
      "source": [
        "def getLeaguesToFile():\n",
        "  jsonLeagues = getApiSports(\"leagues\")\n",
        "  #jsonToCsv(\"response\", \"leagues\", \"leagues\", jsonLeagues)\n",
        "  saveJson(\"leagues\", \"leagues\", jsonLeagues)\n",
        "  return jsonLeagues"
      ],
      "metadata": {
        "id": "101Hp-rxX87K"
      },
      "execution_count": null,
      "outputs": []
    },
    {
      "cell_type": "markdown",
      "source": [
        "## SEASON\n"
      ],
      "metadata": {
        "id": "MGJzhwH5dXU_"
      }
    },
    {
      "cell_type": "code",
      "source": [
        "def getSeasonsToFile():\n",
        "  jsonSeasons = getApiSports(\"leagues/seasons\")\n",
        "  #jsonToCsv(\"response\", \"leagues/seasons\", \"seasons\", jsonSeasons)\n",
        "  saveJson(\"leagues/seasons\", \"seasons\", jsonSeasons)\n",
        "  return jsonSeasons"
      ],
      "metadata": {
        "id": "wedQsTvia7al"
      },
      "execution_count": null,
      "outputs": []
    },
    {
      "cell_type": "markdown",
      "source": [
        "# Venue\n",
        "\n",
        "https://www.api-football.com/documentation-v3#tag/Venues/operation/get-venues\n",
        "\n",
        "Necessita do id do venue para os dados serem obtidos na API... Dados não relevantes para o nosso modelo.\n",
        "\n",
        "O id do venue pode ser encontrado na API team Information"
      ],
      "metadata": {
        "id": "0aIQ3WfJDVxa"
      }
    },
    {
      "cell_type": "markdown",
      "source": [
        "# Inicializar as Timezones/Countries/Leagues/Seasons\n",
        "\n",
        "**Deve ser atualizado uma vez por dia**"
      ],
      "metadata": {
        "id": "EPbSszqcsaz0"
      }
    },
    {
      "cell_type": "code",
      "source": [
        "# É necessário 1 vez por dia\n",
        "#jsonTimezones = getTimezonesToFile()\n",
        "#jsonCountries = getCountriesToFile()\n",
        "#jsonLeagues = getLeaguesToFile()\n",
        "#jsonSeasons = getSeasonsToFile()\n",
        "\n",
        "jsonTimezones = importJson(\"timezone/timezone.json\")\n",
        "jsonCountries = importJson(\"countries/countries.json\")\n",
        "jsonLeagues = importJson(\"leagues/leagues.json\")\n",
        "jsonSeasons = importJson(\"leagues/seasons/seasons.json\")"
      ],
      "metadata": {
        "id": "QtOv6LMbOk92"
      },
      "execution_count": null,
      "outputs": []
    },
    {
      "cell_type": "markdown",
      "source": [
        "# TEAMS\n",
        "\n",
        "**Deve ser atualizado uma vez por dia na season atual**\n",
        "\n",
        "https://www.api-football.com/documentation-v3#tag/Teams/operation/get-teams\n",
        "\n",
        "https://www.api-football.com/documentation-v3#tag/Teams/operation/get-teams-statistics\n",
        "\n",
        "https://www.api-football.com/documentation-v3#tag/Teams/operation/get-teams-seasons\n",
        "\n",
        "https://www.api-football.com/documentation-v3#tag/Teams/operation/get-teams-countries"
      ],
      "metadata": {
        "id": "I9HyduXcdejb"
      }
    },
    {
      "cell_type": "code",
      "source": [
        "def getTeamsInformation(season, leagueId):\n",
        "  teamsInformationUrl = \"teams?league=\" + str(leagueId) + \"&season=\" + str(season)\n",
        "  jsonLeagueSeason = getApiSports(teamsInformationUrl)\n",
        "  path = \"teams/league/\" + str(leagueId) + \"/\" + str(season)\n",
        "  filename = str(leagueId) + \"_\" + str(season) + \"_teams_information\"\n",
        "  #jsonToCsv(\"response\", path, filename, jsonLeagueSeason)\n",
        "  saveJson(path, filename, jsonLeagueSeason)\n",
        "  return jsonLeagueSeason"
      ],
      "metadata": {
        "id": "fK7CxhdBd7Ob"
      },
      "execution_count": null,
      "outputs": []
    },
    {
      "cell_type": "code",
      "source": [
        "def getAllSeasonLeagueInformation(jsonLeagues):\n",
        "  # Escolher as ligas a serem estudadas\n",
        "  leagueSeasons = jsonLeagues[\"response\"]\n",
        "  leaguesToSearch = [39,78,140,94,88,2,203,848,3,135,61]\n",
        "  # 61 --> Ligue 1 --> France\n",
        "  # 39 --> Premier League --> England\n",
        "  # 78 --> Bundesliga --> Germany\n",
        "  # 135 --> Serie A --> Italy\n",
        "  # 88 --> Eredivisie --> Netherlands\n",
        "  # 94 --> Primeira Liga --> Portugal\n",
        "  # 140 --> La Liga --> Spain\n",
        "  # 2 --> UEFA Champions League --> World\n",
        "  # 203 --> Süper Lig --> Turkey\n",
        "  # 3 --> UEFA Europa League --> World\n",
        "  # 848 --> UEFA Europa Conference League --> World\n",
        "\n",
        "  listOfSeasonLeague = []\n",
        "\n",
        "  for x in leagueSeasons:\n",
        "    if x[\"league\"][\"id\"] in leaguesToSearch:\n",
        "      for y in x[\"seasons\"]:\n",
        "        jsonLeagueSeason = \"{\\\"league\\\":\" + str(x[\"league\"][\"id\"]) + \" ,\\\"season\\\": \" + str(y[\"year\"]) + \"}\"\n",
        "        listOfSeasonLeague.append(jsonLeagueSeason)\n",
        "  \n",
        "  return listOfSeasonLeague"
      ],
      "metadata": {
        "id": "Fc1MpYadHwD9"
      },
      "execution_count": null,
      "outputs": []
    },
    {
      "cell_type": "code",
      "source": [
        "def getAllSeasonLeagueTeam(jsonLeagues):\n",
        "  allSeasonLeagueInformation = getAllSeasonLeagueInformation(jsonLeagues)\n",
        "  listOfSeasonLeagueTeams = []\n",
        "\n",
        "  for x in allSeasonLeagueInformation:\n",
        "    teamSeasonJson = json.loads(x)\n",
        "    jsonLeagueSeasonTeamResp = getTeamsInformation(teamSeasonJson[\"season\"],teamSeasonJson[\"league\"])\n",
        "    for team in jsonLeagueSeasonTeamResp[\"response\"]:\n",
        "      jsonLeagueSeasonTeam = \"{\\\"league\\\":\" + str(teamSeasonJson[\"league\"]) + \" ,\\\"season\\\": \" + str(teamSeasonJson[\"season\"]) + \" ,\\\"team\\\": \" + str(team[\"team\"][\"id\"]) + \"}\"\n",
        "      listOfSeasonLeagueTeams.append(str(jsonLeagueSeasonTeam))\n",
        "  saveJson(\"teams\", \"allSeasonLeagueTeam\", listOfSeasonLeagueTeams)\n",
        "  return listOfSeasonLeagueTeams"
      ],
      "metadata": {
        "id": "XwQ9KqDzNVA6"
      },
      "execution_count": null,
      "outputs": []
    },
    {
      "cell_type": "code",
      "source": [
        "def getTeamsStatistics(season, leagueId, teamId):\n",
        "  teamsStatisticsUrl = \"teams/statistics?season=\" + str(season) + \"&team=\" + str(teamId) + \"&league=\" + str(leagueId)\n",
        "  jsonLeagueSeasonTeamStatistics = getApiSports(teamsStatisticsUrl)\n",
        "  path = \"teams/league/\" + str(leagueId) + \"/\" + str(season)\n",
        "  filename = str(leagueId) + \"_\" + str(season) + \"_\" + str(teamId) + \"_team_statistics\"\n",
        "  saveJson(path, filename, jsonLeagueSeasonTeamStatistics)\n",
        "  return jsonLeagueSeasonTeamStatistics"
      ],
      "metadata": {
        "id": "KopphVI5tfY9"
      },
      "execution_count": null,
      "outputs": []
    },
    {
      "cell_type": "code",
      "source": [
        "def getAllSeasonLeagueTeamStatistics(listOfSeasonLeagueTeams):\n",
        "  listOfSeasonLeagueTeamsStatistics = []\n",
        "  \n",
        "  for x in listOfSeasonLeagueTeams:\n",
        "    teamSeasonLeagueJson = json.loads(x)\n",
        "    jsonLeagueSeasonTeamStatisticsResp = getTeamsStatistics(teamSeasonLeagueJson[\"season\"],teamSeasonLeagueJson[\"league\"],teamSeasonLeagueJson[\"team\"])\n",
        "    listOfSeasonLeagueTeamsStatistics.append(str(jsonLeagueSeasonTeamStatisticsResp[\"response\"]))\n",
        "\n",
        "  return listOfSeasonLeagueTeamsStatistics"
      ],
      "metadata": {
        "id": "TPZVj2xmyqoC"
      },
      "execution_count": null,
      "outputs": []
    },
    {
      "cell_type": "code",
      "source": [
        "#listOfSeasonLeagueTeams = getAllSeasonLeagueTeam(jsonLeagues)\n",
        "#listOfSeasonLeagueTeamsStatistics = getAllSeasonLeagueTeamStatistics(listOfSeasonLeagueTeams)\n",
        "listOfSeasonLeagueTeams = importJson(\"teams/allSeasonLeagueTeam.json\")"
      ],
      "metadata": {
        "id": "ciG3NYnQzXg3"
      },
      "execution_count": null,
      "outputs": []
    },
    {
      "cell_type": "markdown",
      "source": [
        "## Team Squad Players"
      ],
      "metadata": {
        "id": "dRCDRbhwYPfd"
      }
    },
    {
      "cell_type": "code",
      "source": [
        "def getTeamSquad(season, leagueId, teamId):\n",
        "  teamSquadUrl = \"players/squads?team=\" + str(teamId)\n",
        "  jsonLeagueSeasonTeamSquad = getApiSports(teamSquadUrl)\n",
        "  path = \"teams/league/\" + str(leagueId) + \"/\" + str(season)\n",
        "  filename = str(leagueId) + \"_\" + str(season) + \"_\" + str(teamId) + \"_team_squad\"\n",
        "  saveJson(path, filename, jsonLeagueSeasonTeamSquad)\n",
        "  return jsonLeagueSeasonTeamSquad"
      ],
      "metadata": {
        "id": "YfpGIc3LYD9w"
      },
      "execution_count": null,
      "outputs": []
    },
    {
      "cell_type": "code",
      "source": [
        "def getAllLeagueTeamsSquad(listOfSeasonLeagueTeams):\n",
        "  listOfSeasonLeagueTeamsSquad = []\n",
        "  \n",
        "  for x in listOfSeasonLeagueTeams:\n",
        "    teamSeasonLeagueJson = json.loads(x)\n",
        "    jsonLeagueSeasonTeamSquadResp = getTeamSquad(teamSeasonLeagueJson[\"season\"],teamSeasonLeagueJson[\"league\"],teamSeasonLeagueJson[\"team\"])\n",
        "    listOfSeasonLeagueTeamsSquad.append(str(jsonLeagueSeasonTeamSquadResp[\"response\"]))\n",
        "\n",
        "  return listOfSeasonLeagueTeamsSquad"
      ],
      "metadata": {
        "id": "LtoUfOCXYEEx"
      },
      "execution_count": null,
      "outputs": []
    },
    {
      "cell_type": "code",
      "source": [
        "#listOfSeasonLeagueTeams = importJson(\"teams/allSeasonLeagueTeam.json\")\n",
        "#currentlySeason = 2022\n",
        "#listOfSeasonLeagueTeamsFiltered = [x for x in listOfSeasonLeagueTeams if json.loads(x)[\"season\"] == currentlySeason]\n",
        "#listOfSeasonLeagueTeamsSquad = getAllLeagueTeamsSquad(listOfSeasonLeagueTeamsFiltered)"
      ],
      "metadata": {
        "id": "HC3oZ18dYHI9"
      },
      "execution_count": null,
      "outputs": []
    },
    {
      "cell_type": "markdown",
      "source": [
        "# Standings\n",
        "\n",
        "**Deve ser atualizado uma vez por dia na season atual**\n",
        "\n",
        "https://www.api-football.com/documentation-v3#tag/Standings"
      ],
      "metadata": {
        "id": "-oKqMKUtEMhL"
      }
    },
    {
      "cell_type": "code",
      "source": [
        "def getSeasonStandings(season, leagueId):\n",
        "  seasonStandingsUrl = \"standings?season=\" + str(season) + \"&league=\" + str(leagueId)\n",
        "  jsonLeagueSeasonStandings = getApiSports(seasonStandingsUrl)\n",
        "  path = \"standing/league/\" + str(leagueId) + \"/\" + str(season)\n",
        "  filename = str(leagueId) + \"_\" + str(season) + \"_season_standings\"\n",
        "  saveJson(path, filename, jsonLeagueSeasonStandings)\n",
        "  return jsonLeagueSeasonStandings"
      ],
      "metadata": {
        "id": "93CcgNq8EXDz"
      },
      "execution_count": null,
      "outputs": []
    },
    {
      "cell_type": "code",
      "source": [
        "def getAllSeasonStandings(listOfSeasonLeague):\n",
        "  listOfSeasonLeagueStandings = []\n",
        "\n",
        "  for x in listOfSeasonLeague:\n",
        "    teamSeasonLeagueJson = json.loads(x)\n",
        "    jsonLeagueSeasonStandingsResp = getSeasonStandings(teamSeasonLeagueJson[\"season\"],teamSeasonLeagueJson[\"league\"])\n",
        "    \n",
        "    listOfSeasonLeagueStandings.append(str(jsonLeagueSeasonStandingsResp[\"response\"]))\n",
        "  saveJson(\"standing\", \"allSeasonLeagueStanding\", listOfSeasonLeagueStandings)\n",
        "  return listOfSeasonLeagueStandings"
      ],
      "metadata": {
        "id": "l4GDqVk-FoTY"
      },
      "execution_count": null,
      "outputs": []
    },
    {
      "cell_type": "code",
      "source": [
        "#listOfSeasonLeague = getAllSeasonLeagueInformation(jsonLeagues)\n",
        "#listOfSeasonLeagueStandings = getAllSeasonStandings(listOfSeasonLeague)\n",
        "listOfSeasonLeagueStandings = importJson(\"standing/allSeasonLeagueStanding.json\")"
      ],
      "metadata": {
        "id": "mjySVA5hGJk3"
      },
      "execution_count": null,
      "outputs": []
    },
    {
      "cell_type": "markdown",
      "source": [
        "# Fixtures\n",
        "\n",
        "**Update Frequency** : This endpoint is updated every 15 seconds.\n",
        "\n",
        "**Recommended Calls** : 1 call per minute for the leagues, teams, fixtures who have at least one fixture in progress otherwise 1 call per day.\n",
        "\n",
        "https://www.api-football.com/documentation-v3#tag/Fixtures"
      ],
      "metadata": {
        "id": "Vjf9RjzmKmgv"
      }
    },
    {
      "cell_type": "code",
      "source": [
        "def getFixturesLive(leagueId):\n",
        "  fixturesRoundsLiveUrl = f\"fixtures?live=all&league={str(leagueId)}\"\n",
        "  jsonFixturesLive = getApiSports(fixturesRoundsLiveUrl)\n",
        "  return jsonFixturesLive"
      ],
      "metadata": {
        "id": "xJvxnA_JUNtF"
      },
      "execution_count": null,
      "outputs": []
    },
    {
      "cell_type": "code",
      "source": [
        "def getFixtures(season, leagueId):\n",
        "  fixturesRoundsUrl = f\"fixtures?season={str(season)}&league={str(leagueId)}\"\n",
        "  jsonFixtures = getApiSports(fixturesRoundsUrl)\n",
        "  path = f\"fixtures/league/{str(leagueId)}/{str(season)}\"\n",
        "  filename = f\"{str(leagueId)}_{str(season)}_fixtures\"\n",
        "  saveJson(path, filename, jsonFixtures)\n",
        "  return jsonFixtures"
      ],
      "metadata": {
        "id": "ler2OwApKr5B"
      },
      "execution_count": null,
      "outputs": []
    },
    {
      "cell_type": "code",
      "source": [
        "def getAllFixtures(listOfSeasonLeague):\n",
        "  listOfSeasonLeagueFixtures = []\n",
        "\n",
        "  for x in listOfSeasonLeague:\n",
        "    fixtureSeasonLeagueJson = json.loads(x)\n",
        "    jsonSeasonLeagueFixturesResp = getFixtures(fixtureSeasonLeagueJson[\"season\"],fixtureSeasonLeagueJson[\"league\"])\n",
        "    for y in jsonSeasonLeagueFixturesResp[\"response\"]:\n",
        "      jsonSeasonLeagueFixtures = \"{\\\"fixture\\\":\" + str(y[\"fixture\"][\"id\"]) + \" ,\\\"league\\\": \" + str(y[\"league\"][\"id\"]) + \" ,\\\"season\\\": \" + str(y[\"league\"][\"season\"]) + \" ,\\\"team1\\\": \" + str(y[\"teams\"][\"home\"][\"id\"]) + \" ,\\\"team2\\\": \" + str(y[\"teams\"][\"away\"][\"id\"]) + \" ,\\\"date\\\": \\\"\" + str(y[\"fixture\"][\"date\"][:len(y[\"fixture\"][\"date\"])-15]) + \"\\\"}\"\n",
        "      listOfSeasonLeagueFixtures.append(str(jsonSeasonLeagueFixtures))\n",
        "  \n",
        "  saveJson(\"fixtures\", \"allSeasonLeagueFixtures\", listOfSeasonLeagueFixtures)\n",
        "  return listOfSeasonLeagueFixtures"
      ],
      "metadata": {
        "id": "iMWF9_snMpDP"
      },
      "execution_count": null,
      "outputs": []
    },
    {
      "cell_type": "code",
      "source": [
        "#listOfSeasonLeagueFixtures = getAllFixtures(listOfSeasonLeague)\n",
        "listOfSeasonLeague = getAllSeasonLeagueInformation(jsonLeagues)\n",
        "listOfSeasonLeagueFixtures = importJson(\"fixtures/allSeasonLeagueFixtures.json\")"
      ],
      "metadata": {
        "id": "vbjKorzOPJOQ"
      },
      "execution_count": null,
      "outputs": []
    },
    {
      "cell_type": "code",
      "source": [
        "#jsonFixturesLive = getFixturesLive(169) #liga chinesa teste"
      ],
      "metadata": {
        "id": "KYLIbMoEUkWK"
      },
      "execution_count": null,
      "outputs": []
    },
    {
      "cell_type": "markdown",
      "source": [
        "## Fixtures H2H\n",
        "Podemos ir buscar o historico (mas esta api será mais usada no momento do confronto entre equipas do dia seguinte por exemplo)\n",
        "\n",
        "**Update Frequency** : This endpoint is updated every 15 seconds.\n",
        "\n",
        "**Recommended Calls** : 1 call per minute for the leagues, teams, fixtures who have at least one fixture in progress otherwise 1 call per day.\n",
        "\n",
        "https://www.api-football.com/documentation-v3#tag/Fixtures/operation/get-fixtures-headtohead"
      ],
      "metadata": {
        "id": "qcRbr-6jT-N1"
      }
    },
    {
      "cell_type": "code",
      "source": [
        "def getFixturesH2H(teamId1, teamId2, fromDate, toDate):\n",
        "  fixtureH2HUrl = \"fixtures/headtohead?h2h=\" + str(teamId1) + \"-\" + str(teamId2) + \"&from=\" + fromDate + \"&to=\" + toDate\n",
        "  jsonFixturesH2H = getApiSports(fixtureH2HUrl)\n",
        "  return jsonFixturesH2H\n",
        "\n",
        "def getFixturesH2HSaveJson(fixtureId, leagueId, season, teamId1, teamId2, fromDate, toDate):\n",
        "  jsonFixturesH2HAux = getFixturesH2H(teamId1, teamId2, fromDate, toDate)\n",
        "  path = \"fixtures/league/\" + str(leagueId) + \"/\" + str(season) + \"/\" + str(fixtureId)\n",
        "  filename = str(leagueId) + \"_\" + str(season) + \"_\" + str(fixtureId) + \"_fixtures_h2h\"\n",
        "  saveJson(path, filename, jsonFixturesH2HAux)\n",
        "  return jsonFixturesH2HAux"
      ],
      "metadata": {
        "id": "_9HbsZCFUEw-"
      },
      "execution_count": null,
      "outputs": []
    },
    {
      "cell_type": "code",
      "source": [
        "def getAllFixturesH2H(listOfSeasonLeagueFixtures, fromDate):\n",
        "  listOfSeasonLeagueFixturesH2H = []\n",
        "  for x in listOfSeasonLeagueFixtures:\n",
        "    fixtureSeasonLeagueJson = json.loads(x) \n",
        "    if parser.parse(fixtureSeasonLeagueJson[\"date\"]).date() <= date.today():\n",
        "      jsonSeasonLeagueFixturesH2HResp = getFixturesH2HSaveJson(fixtureSeasonLeagueJson[\"fixture\"],fixtureSeasonLeagueJson[\"league\"],fixtureSeasonLeagueJson[\"season\"],fixtureSeasonLeagueJson[\"team1\"],fixtureSeasonLeagueJson[\"team2\"], fromDate, fixtureSeasonLeagueJson[\"date\"])\n",
        "      #listOfSeasonLeagueFixturesH2H.append(jsonSeasonLeagueFixturesH2HResp) #demasiadas fixtures para ficarem guardadas numa variável\n",
        "  return listOfSeasonLeagueFixtures"
      ],
      "metadata": {
        "id": "VvFpZPuUnAq4"
      },
      "execution_count": null,
      "outputs": []
    },
    {
      "cell_type": "code",
      "source": [
        "#getFixturesH2H(417,194,\"2011-12-11\",\"2011-12-11\") #as datas from e to são inclusives\n",
        "#getAllFixturesH2H(listOfSeasonLeagueFixtures,\"2000-01-01\")\n",
        "\n",
        "#lstLeagues = [2,3]\n",
        "lstSeasons = [2022] \n",
        "#lstSeasons = [2010,2011,2012,2013,2014,2015,2016,2017,2018,2019,2020,2021,2022]\n",
        "listOfSeasonLeagueFixturesFiltered = [x for x in listOfSeasonLeagueFixtures if json.loads(x)[\"season\"] in lstSeasons]\n",
        "getAllFixturesH2H(listOfSeasonLeagueFixturesFiltered,\"2000-01-01\")"
      ],
      "metadata": {
        "id": "d9gtlG1Pjppl"
      },
      "execution_count": null,
      "outputs": []
    },
    {
      "cell_type": "markdown",
      "source": [
        "## Fixtures Statistics\n",
        "\n",
        "**Update Frequency** : This endpoint is updated every minute.\n",
        "\n",
        "**Recommended Calls** : 1 call every minute for the teams or fixtures who have at least one fixture in progress otherwise 1 call per day.\n",
        "\n",
        "https://www.api-football.com/documentation-v3#tag/Fixtures/operation/get-fixtures-statistics"
      ],
      "metadata": {
        "id": "9683CLqoVriu"
      }
    },
    {
      "cell_type": "code",
      "source": [
        "def getFixturesStatistics(fixtureId):\n",
        "  fixtureRoundsStatisticsUrl = \"fixtures/statistics?fixture=\" + str(fixtureId)\n",
        "  jsonFixturesStatistics = getApiSports(fixtureRoundsStatisticsUrl)\n",
        "  return jsonFixturesStatistics\n",
        "\n",
        "def getFixturesStatisticsSaveJson(fixtureId, leagueId, season):\n",
        "  jsonFixturesStatisticsAux = getFixturesStatistics(fixtureId)\n",
        "  path = \"fixtures/league/\" + str(leagueId) + \"/\" + str(season) + \"/\" + str(fixtureId)\n",
        "  filename = str(leagueId) + \"_\" + str(season) + \"_\" + str(fixtureId) + \"_fixtures_statistics\"\n",
        "  saveJson(path, filename, jsonFixturesStatisticsAux)\n",
        "  return jsonFixturesStatisticsAux"
      ],
      "metadata": {
        "id": "s722sGbuVzw4"
      },
      "execution_count": null,
      "outputs": []
    },
    {
      "cell_type": "code",
      "source": [
        "def getAllFixturesStatistics(listOfSeasonLeagueFixtures):\n",
        "  listOfSeasonLeagueFixturesStatistics = []\n",
        "  for x in listOfSeasonLeagueFixtures:\n",
        "    fixtureSeasonLeagueJson = json.loads(x) \n",
        "    if parser.parse(fixtureSeasonLeagueJson[\"date\"]).date() <= date.today():\n",
        "      jsonSeasonLeagueFixturesStatisticsResp = getFixturesStatisticsSaveJson(fixtureSeasonLeagueJson[\"fixture\"],fixtureSeasonLeagueJson[\"league\"],fixtureSeasonLeagueJson[\"season\"])\n",
        "      #listOfSeasonLeagueFixturesStatistics.append(jsonSeasonLeagueFixturesStatisticsResp) #demasiadas fixtures para ficarem guardadas numa variável\n",
        "  return listOfSeasonLeagueFixturesStatistics"
      ],
      "metadata": {
        "id": "AzrwCOZPBjC6"
      },
      "execution_count": null,
      "outputs": []
    },
    {
      "cell_type": "code",
      "source": [
        "#lstLeagues = [2,3]\n",
        "lstSeasons = [2022] \n",
        "#lstSeasons = [2010,2011,2012,2013,2014,2015,2016,2017,2018,2019,2020,2021,2022]\n",
        "listOfSeasonLeagueFixturesFiltered = [x for x in listOfSeasonLeagueFixtures if json.loads(x)[\"season\"] in lstSeasons]\n",
        "getAllFixturesStatistics(listOfSeasonLeagueFixturesFiltered)"
      ],
      "metadata": {
        "id": "lvRPhOwvHI21",
        "colab": {
          "base_uri": "https://localhost:8080/"
        },
        "outputId": "de8170a0-9095-4ace-b3a2-d0e47c733228"
      },
      "execution_count": null,
      "outputs": [
        {
          "output_type": "execute_result",
          "data": {
            "text/plain": [
              "[]"
            ]
          },
          "metadata": {},
          "execution_count": 39
        }
      ]
    },
    {
      "cell_type": "markdown",
      "source": [
        "## Fixtures Events\n",
        "\n",
        "VAR events are available from the 2020-2021 season.\n",
        "\n",
        "**Update Frequency** : This endpoint is updated every 15 seconds.\n",
        "\n",
        "**Recommended Calls** : 1 call per minute for the fixtures in progress otherwise 1 call per day.\n",
        "\n",
        "https://www.api-football.com/documentation-v3#tag/Fixtures/operation/get-fixtures-events"
      ],
      "metadata": {
        "id": "Y_6ic73TE44S"
      }
    },
    {
      "cell_type": "code",
      "source": [
        "def getFixturesEvents(fixtureId):\n",
        "  fixtureRoundsEventsUrl = \"fixtures/events?fixture=\" + str(fixtureId)\n",
        "  jsonFixturesEvents = getApiSports(fixtureRoundsEventsUrl)\n",
        "  return jsonFixturesEvents\n",
        "\n",
        "def getFixturesEventsSaveJson(fixtureId, leagueId, season):\n",
        "  jsonFixturesEventsAux = getFixturesEvents(fixtureId)\n",
        "  path = \"fixtures/league/\" + str(leagueId) + \"/\" + str(season) + \"/\" + str(fixtureId)\n",
        "  filename = str(leagueId) + \"_\" + str(season) + \"_\" + str(fixtureId) + \"_fixtures_events\"\n",
        "  saveJson(path, filename, jsonFixturesEventsAux)\n",
        "  return jsonFixturesEventsAux"
      ],
      "metadata": {
        "id": "2B4i5n9OE44S"
      },
      "execution_count": null,
      "outputs": []
    },
    {
      "cell_type": "code",
      "source": [
        "def getAllFixturesEvents(listOfSeasonLeagueFixtures):\n",
        "  listOfSeasonLeagueFixturesEvents = []\n",
        "  for x in listOfSeasonLeagueFixtures:\n",
        "    fixtureSeasonLeagueJson = json.loads(x) \n",
        "    if parser.parse(fixtureSeasonLeagueJson[\"date\"]).date() <= date.today():\n",
        "      jsonSeasonLeagueFixturesEventsResp = getFixturesEventsSaveJson(fixtureSeasonLeagueJson[\"fixture\"],fixtureSeasonLeagueJson[\"league\"],fixtureSeasonLeagueJson[\"season\"])\n",
        "      #listOfSeasonLeagueFixturesEvents.append(jsonSeasonLeagueFixturesEventsResp) #demasiadas fixtures para ficarem guardadas numa variável\n",
        "  return listOfSeasonLeagueFixturesEvents"
      ],
      "metadata": {
        "id": "KpfydXuwE44S"
      },
      "execution_count": null,
      "outputs": []
    },
    {
      "cell_type": "code",
      "source": [
        "#lstLeagues = [78,203,848]\n",
        "lstSeasons = [2022] \n",
        "#lstSeasons = [2010,2011,2012,2013,2014,2015,2016,2017,2018,2019,2020,2021,2022]\n",
        "listOfSeasonLeagueFixturesFiltered = [x for x in listOfSeasonLeagueFixtures if json.loads(x)[\"season\"] in lstSeasons]\n",
        "getAllFixturesEvents(listOfSeasonLeagueFixturesFiltered)"
      ],
      "metadata": {
        "id": "RDN_bSqxHL9X",
        "colab": {
          "base_uri": "https://localhost:8080/"
        },
        "outputId": "36e2f7ed-163f-470f-e722-2d1ecc2ff528"
      },
      "execution_count": null,
      "outputs": [
        {
          "output_type": "execute_result",
          "data": {
            "text/plain": [
              "[]"
            ]
          },
          "metadata": {},
          "execution_count": 42
        }
      ]
    },
    {
      "cell_type": "markdown",
      "source": [
        "## Fixtures Lineups\n",
        "\n",
        "**Update Frequency** : This endpoint is updated every 15 minutes.\n",
        "\n",
        "**Recommended Calls** : 1 call every 15 minutes for the fixtures in progress otherwise 1 call per day.\n",
        "\n",
        "https://www.api-football.com/documentation-v3#tag/Fixtures/operation/get-fixtures-lineups"
      ],
      "metadata": {
        "id": "3iSYsa4pFqk7"
      }
    },
    {
      "cell_type": "code",
      "source": [
        "def getFixturesLineups(fixtureId):\n",
        "  fixtureRoundsLineupsUrl = \"fixtures/lineups?fixture=\" + str(fixtureId)\n",
        "  jsonFixturesLineups = getApiSports(fixtureRoundsLineupsUrl)\n",
        "  return jsonFixturesLineups\n",
        "\n",
        "def getFixturesLineupsSaveJson(fixtureId, leagueId, season):\n",
        "  jsonFixturesLineupsAux = getFixturesLineups(fixtureId)\n",
        "  path = \"fixtures/league/\" + str(leagueId) + \"/\" + str(season) + \"/\" + str(fixtureId)\n",
        "  filename = str(leagueId) + \"_\" + str(season) + \"_\" + str(fixtureId) + \"_fixtures_lineups\"\n",
        "  saveJson(path, filename, jsonFixturesLineupsAux)\n",
        "  return jsonFixturesLineupsAux"
      ],
      "metadata": {
        "id": "7YUzxZ9tFqlC"
      },
      "execution_count": null,
      "outputs": []
    },
    {
      "cell_type": "code",
      "source": [
        "def getAllFixturesLineups(listOfSeasonLeagueFixtures):\n",
        "  listOfSeasonLeagueFixturesLineups = []\n",
        "  for x in listOfSeasonLeagueFixtures:\n",
        "    fixtureSeasonLeagueJson = json.loads(x) \n",
        "    if parser.parse(fixtureSeasonLeagueJson[\"date\"]).date() <= date.today():\n",
        "      jsonSeasonLeagueFixturesLineupsResp = getFixturesLineupsSaveJson(fixtureSeasonLeagueJson[\"fixture\"],fixtureSeasonLeagueJson[\"league\"],fixtureSeasonLeagueJson[\"season\"])\n",
        "      #listOfSeasonLeagueFixturesLineups.append(jsonSeasonLeagueFixturesLineupsResp) #demasiadas fixtures para ficarem guardadas numa variável\n",
        "  return listOfSeasonLeagueFixturesLineups"
      ],
      "metadata": {
        "id": "3HQGqjzBFqlC"
      },
      "execution_count": null,
      "outputs": []
    },
    {
      "cell_type": "code",
      "source": [
        "#lstLeagues = [135,88]\n",
        "lstSeasons = [2022] \n",
        "#lstSeasons = [2010,2011,2012,2013,2014,2015,2016,2017,2018,2019,2020,2021,2022]\n",
        "listOfSeasonLeagueFixturesFiltered = [x for x in listOfSeasonLeagueFixtures if json.loads(x)[\"season\"] in lstSeasons]\n",
        "getAllFixturesLineups(listOfSeasonLeagueFixturesFiltered)"
      ],
      "metadata": {
        "id": "UTtF2OmpHOkz",
        "colab": {
          "base_uri": "https://localhost:8080/"
        },
        "outputId": "781cadf2-f9dc-43c9-fbc8-bd60a229e4ed"
      },
      "execution_count": null,
      "outputs": [
        {
          "output_type": "execute_result",
          "data": {
            "text/plain": [
              "[]"
            ]
          },
          "metadata": {},
          "execution_count": 45
        }
      ]
    },
    {
      "cell_type": "markdown",
      "source": [
        "## Fixtures Players Statistics\n",
        "\n",
        "Get the players statistics from one fixture.\n",
        "\n",
        "**Update Frequency** : This endpoint is updated every minute.\n",
        "\n",
        "**Recommended Calls** : 1 call every minute for the fixtures in progress otherwise 1 call per day.\n",
        "\n",
        "https://www.api-football.com/documentation-v3#tag/Fixtures/operation/get-fixtures-players"
      ],
      "metadata": {
        "id": "ks9mjtXiHRMD"
      }
    },
    {
      "cell_type": "code",
      "source": [
        "def getFixturesPlayersStatistics(fixtureId):\n",
        "  fixtureRoundsPlayersStatisticsUrl = \"fixtures/players?fixture=\" + str(fixtureId)\n",
        "  jsonFixturesPlayersStatistics = getApiSports(fixtureRoundsPlayersStatisticsUrl)\n",
        "  return jsonFixturesPlayersStatistics\n",
        "\n",
        "def getFixturesPlayersStatisticsSaveJson(fixtureId, leagueId, season):\n",
        "  jsonFixturesPlayersStatisticsAux = getFixturesPlayersStatistics(fixtureId)\n",
        "  path = \"fixtures/league/\" + str(leagueId) + \"/\" + str(season) + \"/\" + str(fixtureId)\n",
        "  filename = str(leagueId) + \"_\" + str(season) + \"_\" + str(fixtureId) + \"_fixtures_players_statistics\"\n",
        "  saveJson(path, filename, jsonFixturesPlayersStatisticsAux)\n",
        "  return jsonFixturesPlayersStatisticsAux"
      ],
      "metadata": {
        "id": "1Z3HYYTAHRMD"
      },
      "execution_count": null,
      "outputs": []
    },
    {
      "cell_type": "code",
      "source": [
        "def getAllFixturesPlayersStatistics(listOfSeasonLeagueFixtures):\n",
        "  listOfSeasonLeagueFixturesPlayersStatistics = []\n",
        "  for x in listOfSeasonLeagueFixtures:\n",
        "    fixtureSeasonLeagueJson = json.loads(x) \n",
        "    if parser.parse(fixtureSeasonLeagueJson[\"date\"]).date() <= date.today():\n",
        "      jsonSeasonLeagueFixturesPlayersStatisticsResp = getFixturesPlayersStatisticsSaveJson(fixtureSeasonLeagueJson[\"fixture\"],fixtureSeasonLeagueJson[\"league\"],fixtureSeasonLeagueJson[\"season\"])\n",
        "      #listOfSeasonLeagueFixturesPlayersStatistics.append(jsonSeasonLeagueFixturesPlayersStatisticsResp) #demasiadas fixtures para ficarem guardadas numa variável\n",
        "  return listOfSeasonLeagueFixturesPlayersStatistics"
      ],
      "metadata": {
        "id": "F5_c-ZgxHRMD"
      },
      "execution_count": null,
      "outputs": []
    },
    {
      "cell_type": "code",
      "source": [
        "#timeToSleep = 0 #esta api demora algum tempo a guardar o json logo não é necessário colocar um tempo de espera\n",
        "#lstLeagues = [88]\n",
        "lstSeasons = [2022] \n",
        "#lstSeasons = [2010,2011,2012,2013,2014,2015,2016,2017,2018,2019,2020,2021,2022]\n",
        "listOfSeasonLeagueFixturesFiltered = [x for x in listOfSeasonLeagueFixtures if json.loads(x)[\"season\"] in lstSeasons]\n",
        "getAllFixturesPlayersStatistics(listOfSeasonLeagueFixturesFiltered)"
      ],
      "metadata": {
        "id": "xqpX2_UBHRME",
        "colab": {
          "base_uri": "https://localhost:8080/"
        },
        "outputId": "88c2ea64-17dc-40ca-be5f-394e6629e92a"
      },
      "execution_count": null,
      "outputs": [
        {
          "output_type": "execute_result",
          "data": {
            "text/plain": [
              "[]"
            ]
          },
          "metadata": {},
          "execution_count": 48
        }
      ]
    },
    {
      "cell_type": "markdown",
      "source": [
        "## Fixtures Predictions\n",
        "\n",
        "**Update Frequency** : This endpoint is updated every hour.\n",
        "\n",
        "**Recommended Calls** : 1 call per hour for the fixtures in progress otherwise 1 call per day.\n",
        "\n",
        "https://www.api-football.com/documentation-v3#tag/Predictions/operation/get-predictions"
      ],
      "metadata": {
        "id": "hHIEfrGdN_I6"
      }
    },
    {
      "cell_type": "code",
      "source": [
        "def getFixturesPredictions(fixtureId):\n",
        "  fixtureRoundsPredictionsUrl = \"predictions?fixture=\" + str(fixtureId)\n",
        "  jsonFixturesPredictions = getApiSports(fixtureRoundsPredictionsUrl)\n",
        "  return jsonFixturesPredictions\n",
        "\n",
        "def getFixturesPredictionsSaveJson(fixtureId, leagueId, season):\n",
        "  jsonFixturesPredictionsAux = getFixturesPredictions(fixtureId)\n",
        "  path = \"fixtures/league/\" + str(leagueId) + \"/\" + str(season) + \"/\" + str(fixtureId)\n",
        "  filename = str(leagueId) + \"_\" + str(season) + \"_\" + str(fixtureId) + \"_fixtures_predictions\"\n",
        "  saveJson(path, filename, jsonFixturesPredictionsAux)\n",
        "  return jsonFixturesPredictionsAux"
      ],
      "metadata": {
        "id": "V0qUQkWZN_JN"
      },
      "execution_count": null,
      "outputs": []
    },
    {
      "cell_type": "code",
      "source": [
        "def getAllFixturesPredictions(listOfSeasonLeagueFixtures):\n",
        "  listOfSeasonLeagueFixturesPredictions = []\n",
        "  for x in listOfSeasonLeagueFixtures:\n",
        "    fixtureSeasonLeagueJson = json.loads(x) \n",
        "    if parser.parse(fixtureSeasonLeagueJson[\"date\"]).date() <= date.today():\n",
        "      jsonSeasonLeagueFixturesPredictionsResp = getFixturesPredictionsSaveJson(fixtureSeasonLeagueJson[\"fixture\"],fixtureSeasonLeagueJson[\"league\"],fixtureSeasonLeagueJson[\"season\"])\n",
        "      #listOfSeasonLeagueFixturesPredictions.append(jsonSeasonLeagueFixturesPredictionsResp) #demasiadas fixtures para ficarem guardadas numa variável\n",
        "  return listOfSeasonLeagueFixturesPredictions"
      ],
      "metadata": {
        "id": "qLCSiRU0N_JN"
      },
      "execution_count": null,
      "outputs": []
    },
    {
      "cell_type": "code",
      "source": [
        "#timeToSleep = 0.02 #esta api demora algum tempo a guardar o json logo não é necessário colocar um tempo de espera\n",
        "#lstLeagues = [39,135,88,94]\n",
        "lstSeasons = [2022] \n",
        "#lstSeasons = [2010,2011,2012,2013,2014,2015,2016,2017,2018,2019,2020,2021,2022]\n",
        "listOfSeasonLeagueFixturesFiltered = [x for x in listOfSeasonLeagueFixtures if json.loads(x)[\"season\"] in lstSeasons]\n",
        "getAllFixturesPredictions(listOfSeasonLeagueFixturesFiltered)"
      ],
      "metadata": {
        "id": "CF_966EDN_JO",
        "colab": {
          "base_uri": "https://localhost:8080/"
        },
        "outputId": "7dd62ef3-a6fd-4dce-ba69-3f79f3c56a75"
      },
      "execution_count": null,
      "outputs": [
        {
          "output_type": "execute_result",
          "data": {
            "text/plain": [
              "[]"
            ]
          },
          "metadata": {},
          "execution_count": 51
        }
      ]
    },
    {
      "cell_type": "markdown",
      "source": [
        "## Fixtures Injuries\n",
        "\n",
        "**This endpoint requires at least one parameter.**\n",
        "\n",
        "**Update Frequency** : This endpoint is updated every 4 hours.\n",
        "\n",
        "**Recommended Calls** : 1 call per day.\n",
        "\n",
        "https://www.api-football.com/documentation-v3#tag/Injuries/operation/get-injuries"
      ],
      "metadata": {
        "id": "yiKFBJHw_73C"
      }
    },
    {
      "cell_type": "code",
      "source": [
        "def getFixturesInjuries(fixtureId):\n",
        "  fixtureRoundsInjuriesUrl = \"injuries?fixture=\" + str(fixtureId)\n",
        "  jsonFixturesInjuries = getApiSports(fixtureRoundsInjuriesUrl)\n",
        "  return jsonFixturesInjuries\n",
        "\n",
        "def getFixturesInjuriesSaveJson(fixtureId, leagueId, season):\n",
        "  jsonFixturesInjuriesAux = getFixturesInjuries(fixtureId)\n",
        "  path = \"fixtures/league/\" + str(leagueId) + \"/\" + str(season) + \"/\" + str(fixtureId)\n",
        "  filename = str(leagueId) + \"_\" + str(season) + \"_\" + str(fixtureId) + \"_fixtures_injuries\"\n",
        "  saveJson(path, filename, jsonFixturesInjuriesAux)\n",
        "  return jsonFixturesInjuriesAux"
      ],
      "metadata": {
        "id": "Vjky_LaW_73I"
      },
      "execution_count": null,
      "outputs": []
    },
    {
      "cell_type": "code",
      "source": [
        "def getAllFixturesInjuries(listOfSeasonLeagueFixtures):\n",
        "  listOfSeasonLeagueFixturesInjuries = []\n",
        "  for x in listOfSeasonLeagueFixtures:\n",
        "    fixtureSeasonLeagueJson = json.loads(x) \n",
        "    if parser.parse(fixtureSeasonLeagueJson[\"date\"]).date() <= date.today():\n",
        "      jsonSeasonLeagueFixturesInjuriesResp = getFixturesInjuriesSaveJson(fixtureSeasonLeagueJson[\"fixture\"],fixtureSeasonLeagueJson[\"league\"],fixtureSeasonLeagueJson[\"season\"])\n",
        "      #listOfSeasonLeagueFixturesInjuries.append(jsonSeasonLeagueFixturesInjuriesResp) #demasiadas fixtures para ficarem guardadas numa variável\n",
        "  return listOfSeasonLeagueFixturesInjuries"
      ],
      "metadata": {
        "id": "g-4XVeBq_73I"
      },
      "execution_count": null,
      "outputs": []
    },
    {
      "cell_type": "code",
      "source": [
        "#timeToSleep = 0.04 #esta api demora algum tempo a guardar o json logo não é necessário colocar um tempo de espera\n",
        "#lstLeagues = [61,39,135,88,94]\n",
        "lstSeasons = [2022] \n",
        "#lstSeasons = [2010,2011,2012,2013,2014,2015,2016,2017,2018,2019,2020,2021,2022]\n",
        "listOfSeasonLeagueFixturesFiltered = [x for x in listOfSeasonLeagueFixtures if json.loads(x)[\"season\"] in lstSeasons]\n",
        "getAllFixturesInjuries(listOfSeasonLeagueFixturesFiltered)"
      ],
      "metadata": {
        "id": "zIQATOj-_73I",
        "colab": {
          "base_uri": "https://localhost:8080/"
        },
        "outputId": "8e96c2ce-fcb7-4b83-d854-9716746546e3"
      },
      "execution_count": null,
      "outputs": [
        {
          "output_type": "execute_result",
          "data": {
            "text/plain": [
              "[]"
            ]
          },
          "metadata": {},
          "execution_count": 54
        }
      ]
    },
    {
      "cell_type": "markdown",
      "source": [
        "# Coach\n",
        "\n",
        "**Update Frequency** : This endpoint is updated every day.\n",
        "\n",
        "**Recommended Calls** : 1 call per day.\n",
        "\n",
        "https://www.api-football.com/documentation-v3#tag/Coachs"
      ],
      "metadata": {
        "id": "QWqaO290WTxB"
      }
    },
    {
      "cell_type": "code",
      "source": [
        "def getCoachsToFile(leagueId,season,team):\n",
        "  coachTeamUrl = f\"coachs?team={str(team)}\"\n",
        "  jsonCoachs = getApiSports(coachTeamUrl)\n",
        "  path = f\"coachs/league/{str(leagueId)}/{str(season)}/{str(team)}\"\n",
        "  filename = f\"{str(leagueId)}_{str(season)}_{str(team)}_coachs\"\n",
        "  #jsonToCsv(\"response\", \"coachs\", \"coachs\", jsonCoachs)\n",
        "  saveJson(path, filename, jsonCoachs)\n",
        "  return jsonCoachs"
      ],
      "metadata": {
        "id": "3wfMpXzPWXfq"
      },
      "execution_count": null,
      "outputs": []
    },
    {
      "cell_type": "code",
      "source": [
        "def getAllSeasonLeagueCoachs(listOfSeasonLeagueTeams):\n",
        "  listOfSeasonLeagueCoachs = []\n",
        "  for x in listOfSeasonLeagueTeams:\n",
        "    teamSeasonJson = json.loads(x)\n",
        "    jsonLeagueSeasonCoachResp = getCoachsToFile(teamSeasonJson[\"league\"],teamSeasonJson[\"season\"],teamSeasonJson[\"team\"])\n",
        "    for y in jsonLeagueSeasonCoachResp[\"response\"]:\n",
        "      jsonLeagueSeasonCoach = \"{\\\"coach\\\":\" + str(y[\"id\"]) + \" ,\\\"league\\\": \" + str(teamSeasonJson[\"league\"]) + \" ,\\\"season\\\": \" + str(teamSeasonJson[\"season\"]) + \" ,\\\"team\\\": \" + str(teamSeasonJson[\"team\"]) + \"}\"\n",
        "      listOfSeasonLeagueCoachs.append(str(jsonLeagueSeasonCoach))\n",
        "  saveJson(\"coachs\", \"allSeasonLeagueCoachs\", listOfSeasonLeagueCoachs)\n",
        "  return listOfSeasonLeagueCoachs"
      ],
      "metadata": {
        "id": "ePClh4KSWuAm"
      },
      "execution_count": null,
      "outputs": []
    },
    {
      "cell_type": "code",
      "source": [
        "#jsonSeasonLeagueCoachs = getAllSeasonLeagueCoachs(listOfSeasonLeagueTeams)\n",
        "jsonSeasonLeagueCoachs = importJson(\"coachs/allSeasonLeagueCoachs.json\")"
      ],
      "metadata": {
        "id": "thDy5VdPfUps"
      },
      "execution_count": null,
      "outputs": []
    },
    {
      "cell_type": "code",
      "source": [
        "listCoachsIdUnique = set()\n",
        "for x in jsonSeasonLeagueCoachs:\n",
        "  seasonLeagueCoachJson = json.loads(x)\n",
        "  listCoachsIdUnique.add(str(seasonLeagueCoachJson[\"coach\"]))\n",
        "#print(len(listCoachsIdUnique))\n",
        "listCoachsIdUnique = list(listCoachsIdUnique)"
      ],
      "metadata": {
        "id": "kn4kJ7nf3UUf"
      },
      "execution_count": null,
      "outputs": []
    },
    {
      "cell_type": "markdown",
      "source": [
        "## Coach Sidelined\n",
        "\n",
        "**Update Frequency** : This endpoint is updated several times a week.\n",
        "\n",
        "**Recommended Calls** : 1 call per day.\n",
        "\n",
        "https://www.api-football.com/documentation-v3#tag/Sidelined/operation/get-sidelined"
      ],
      "metadata": {
        "id": "yC_9MPOWfdiB"
      }
    },
    {
      "cell_type": "code",
      "source": [
        "def getCoachSidelined(coach):\n",
        "  coachSidelinedUrl = f\"sidelined?coach={str(coach)}\"\n",
        "  jsonCoachs = getApiSports(coachSidelinedUrl)\n",
        "  return jsonCoachs"
      ],
      "metadata": {
        "id": "_2m1aNRcfjLh"
      },
      "execution_count": null,
      "outputs": []
    },
    {
      "cell_type": "code",
      "source": [
        "def saveAllSeasonLeagueCoachSidelined(jsonCoachs,jsonSeasonLeagueCoachs, coachId):\n",
        "  jsonSeasonLeagueCoachsFiltered = [x for x in jsonSeasonLeagueCoachs if json.loads(x)[\"coach\"] == int(coachId)]\n",
        "  for x in jsonSeasonLeagueCoachsFiltered:\n",
        "    teamSeasonJson = json.loads(x)\n",
        "    leagueId = teamSeasonJson[\"league\"]\n",
        "    season = teamSeasonJson[\"season\"]\n",
        "    team = teamSeasonJson[\"team\"]\n",
        "    path = f\"coachs/league/{str(leagueId)}/{str(season)}/{str(team)}\"\n",
        "    filename = f\"{str(leagueId)}_{str(season)}_{str(team)}_coachs_sidelined\"\n",
        "    saveJson(path, filename, jsonCoachs)"
      ],
      "metadata": {
        "id": "QGuQI6uo6mK1"
      },
      "execution_count": null,
      "outputs": []
    },
    {
      "cell_type": "code",
      "source": [
        "def getAllSeasonLeagueCoachsSidelined(listCoachsIdUnique,jsonSeasonLeagueCoachs):\n",
        "  for x in listCoachsIdUnique:\n",
        "    jsonCoachSidelined = getCoachSidelined(x)\n",
        "    saveAllSeasonLeagueCoachSidelined(jsonCoachSidelined,jsonSeasonLeagueCoachs, x)"
      ],
      "metadata": {
        "id": "fotQ7PZSfjaJ"
      },
      "execution_count": null,
      "outputs": []
    },
    {
      "cell_type": "code",
      "source": [
        "#getAllSeasonLeagueCoachsSidelined(listCoachsIdUnique,jsonSeasonLeagueCoachs)"
      ],
      "metadata": {
        "id": "ljMeoVM8fjk7"
      },
      "execution_count": null,
      "outputs": []
    },
    {
      "cell_type": "markdown",
      "source": [
        "## Coach Trophies\n",
        "\n",
        "**Update Frequency** : This endpoint is updated several times a week.\n",
        "\n",
        "**Recommended Calls** : 1 call per day.\n",
        "\n",
        "https://www.api-football.com/documentation-v3#tag/Trophies/operation/get-trophies"
      ],
      "metadata": {
        "id": "Gd-wLkqDArfy"
      }
    },
    {
      "cell_type": "code",
      "source": [
        "def getCoachTrophies(coach):\n",
        "  coachTrophiesUrl = f\"trophies?coach={str(coach)}\"\n",
        "  jsonCoachs = getApiSports(coachTrophiesUrl)\n",
        "  return jsonCoachs"
      ],
      "metadata": {
        "id": "rW7MDp0FArfy"
      },
      "execution_count": null,
      "outputs": []
    },
    {
      "cell_type": "code",
      "source": [
        "def saveAllSeasonLeagueCoachTrophies(jsonCoachs,jsonSeasonLeagueCoachs, coachId):\n",
        "  jsonSeasonLeagueCoachsFiltered = [x for x in jsonSeasonLeagueCoachs if json.loads(x)[\"coach\"] == int(coachId)]\n",
        "  for x in jsonSeasonLeagueCoachsFiltered:\n",
        "    teamSeasonJson = json.loads(x)\n",
        "    leagueId = teamSeasonJson[\"league\"]\n",
        "    season = teamSeasonJson[\"season\"]\n",
        "    team = teamSeasonJson[\"team\"]\n",
        "    path = f\"coachs/league/{str(leagueId)}/{str(season)}/{str(team)}\"\n",
        "    filename = f\"{str(leagueId)}_{str(season)}_{str(team)}_coachs_trophies\"\n",
        "    saveJson(path, filename, jsonCoachs)"
      ],
      "metadata": {
        "id": "ymLna2SGArfy"
      },
      "execution_count": null,
      "outputs": []
    },
    {
      "cell_type": "code",
      "source": [
        "def getAllSeasonLeagueCoachsTrophies(listCoachsIdUnique,jsonSeasonLeagueCoachs):\n",
        "  for x in listCoachsIdUnique:\n",
        "    jsonCoachTrophies = getCoachTrophies(x)\n",
        "    saveAllSeasonLeagueCoachTrophies(jsonCoachTrophies,jsonSeasonLeagueCoachs, x)"
      ],
      "metadata": {
        "id": "aZtES2bFArfz"
      },
      "execution_count": null,
      "outputs": []
    },
    {
      "cell_type": "code",
      "source": [
        "#getAllSeasonLeagueCoachsTrophies(listCoachsIdUnique,jsonSeasonLeagueCoachs)"
      ],
      "metadata": {
        "id": "nnZa1nqHArfz"
      },
      "execution_count": null,
      "outputs": []
    },
    {
      "cell_type": "markdown",
      "source": [
        "## Coach Transfers\n",
        "\n",
        "**Update Frequency** : This endpoint is updated several times a week.\n",
        "\n",
        "**Recommended Calls** : 1 call per day.\n",
        "\n",
        "https://www.api-football.com/documentation-v3#tag/Transfers/operation/get-transfers"
      ],
      "metadata": {
        "id": "uuz9a-P0kYC4"
      }
    },
    {
      "cell_type": "code",
      "source": [
        "def getCoachTransfers(coach):\n",
        "  coachTransfersUrl = f\"transfers?coach={str(coach)}\"\n",
        "  jsonCoachs = getApiSports(coachTransfersUrl)\n",
        "  return jsonCoachs"
      ],
      "metadata": {
        "id": "AExRkqyUkYC4"
      },
      "execution_count": null,
      "outputs": []
    },
    {
      "cell_type": "code",
      "source": [
        "def saveAllSeasonLeagueCoachTransfers(jsonCoachs,jsonSeasonLeagueCoachs, coachId):\n",
        "  jsonSeasonLeagueCoachsFiltered = [x for x in jsonSeasonLeagueCoachs if json.loads(x)[\"coach\"] == int(coachId)]\n",
        "  for x in jsonSeasonLeagueCoachsFiltered:\n",
        "    teamSeasonJson = json.loads(x)\n",
        "    leagueId = teamSeasonJson[\"league\"]\n",
        "    season = teamSeasonJson[\"season\"]\n",
        "    team = teamSeasonJson[\"team\"]\n",
        "    path = f\"coachs/league/{str(leagueId)}/{str(season)}/{str(team)}\"\n",
        "    filename = f\"{str(leagueId)}_{str(season)}_{str(team)}_coachs_transfers\"\n",
        "    saveJson(path, filename, jsonCoachs)"
      ],
      "metadata": {
        "id": "tpNuEWNFkYC4"
      },
      "execution_count": null,
      "outputs": []
    },
    {
      "cell_type": "code",
      "source": [
        "def getAllSeasonLeagueCoachsTransfers(listCoachsIdUnique,jsonSeasonLeagueCoachs):\n",
        "  for x in listCoachsIdUnique:\n",
        "    jsonCoachTransfers = getCoachTransfers(x)\n",
        "    saveAllSeasonLeagueCoachTransfers(jsonCoachTransfers,jsonSeasonLeagueCoachs, x)"
      ],
      "metadata": {
        "id": "VAMzL8ufkYC5"
      },
      "execution_count": null,
      "outputs": []
    },
    {
      "cell_type": "code",
      "source": [
        "#getAllSeasonLeagueCoachsTrophies(listCoachsIdUnique,jsonSeasonLeagueCoachs)"
      ],
      "metadata": {
        "id": "TghVuxpzkYC5"
      },
      "execution_count": null,
      "outputs": []
    },
    {
      "cell_type": "markdown",
      "source": [
        "# Player\n",
        "https://www.api-football.com/documentation-v3#tag/Players"
      ],
      "metadata": {
        "id": "f9643-Pao3NJ"
      }
    },
    {
      "cell_type": "markdown",
      "source": [
        "## Player Season ( not implemented )\n",
        "\n",
        "**Update Frequency** : This endpoint is updated every day.\n",
        "\n",
        "**Recommended Calls** : 1 call per day.\n",
        "\n",
        "https://www.api-football.com/documentation-v3#tag/Players/operation/get-players-seasons"
      ],
      "metadata": {
        "id": "mJ2uz1SMo9su"
      }
    },
    {
      "cell_type": "code",
      "source": [
        "def getSeasonPlayersToFile():\n",
        "  playerSeasonUrl = \"players/seasons\"\n",
        "  jsonPlayers = getApiSports(playerSeasonUrl)\n",
        "  path = \"players\"\n",
        "  filename = \"allSeasonPlayers\"\n",
        "  saveJson(path, filename, jsonPlayers)\n",
        "  return jsonPlayers"
      ],
      "metadata": {
        "id": "2LB-CHSso3NQ"
      },
      "execution_count": null,
      "outputs": []
    },
    {
      "cell_type": "code",
      "source": [
        "#jsonSeasonLeagueCoachs = getSeasonPlayersToFile()\n",
        "#jsonSeasonLeagueCoachs = importJson(\"coachs/allSeasonPlayers.json\")"
      ],
      "metadata": {
        "id": "CIG7kjEro3NQ"
      },
      "execution_count": null,
      "outputs": []
    },
    {
      "cell_type": "markdown",
      "source": [
        "## Player Statistics\n",
        "\n",
        "**Update Frequency** : This endpoint is updated several times a week.\n",
        "\n",
        "**Recommended Calls** : 1 call per day.\n",
        "\n",
        "https://www.api-football.com/documentation-v3#tag/Coachs"
      ],
      "metadata": {
        "id": "csXt1Lvzqdko"
      }
    },
    {
      "cell_type": "code",
      "source": [
        "def getPlayersByTeamLeagueSeasonToFile(leagueId,season,team):\n",
        "  page = 1 #first page\n",
        "  totalPages = 1 #by default\n",
        "  listJsonPlayers = []\n",
        "  while page <= totalPages:\n",
        "    playersByTeamLeagueSeasonUrl = f\"players?team={str(team)}&season={str(season)}&league={str(leagueId)}&page={page}\"\n",
        "    jsonPlayers = getApiSports(playersByTeamLeagueSeasonUrl)\n",
        "    path = f\"players/league/{str(leagueId)}/{str(season)}/{str(team)}\"\n",
        "    filename = f\"{str(leagueId)}_{str(season)}_{str(team)}_players_{str(page)}\"\n",
        "    saveJson(path, filename, jsonPlayers)\n",
        "    listJsonPlayers.append(jsonPlayers)\n",
        "    page += 1\n",
        "    totalPages = jsonPlayers[\"paging\"][\"total\"]\n",
        "  return listJsonPlayers"
      ],
      "metadata": {
        "id": "3fSELG2Rqdku"
      },
      "execution_count": null,
      "outputs": []
    },
    {
      "cell_type": "code",
      "source": [
        "def getAllPlayersByTeamLeagueSeason(listOfSeasonLeagueTeams):\n",
        "  listOfSeasonLeaguePlayers = []\n",
        "  for x in listOfSeasonLeagueTeams:\n",
        "    teamSeasonJson = json.loads(x)\n",
        "    jsonLeagueSeasonPlayerResp = getPlayersByTeamLeagueSeasonToFile(teamSeasonJson[\"league\"],teamSeasonJson[\"season\"],teamSeasonJson[\"team\"])\n",
        "    for z in jsonLeagueSeasonPlayerResp:\n",
        "      for y in z[\"response\"]:\n",
        "        jsonLeagueSeasonPlayer = \"{\\\"player\\\":\" + str(y[\"player\"][\"id\"]) + \" ,\\\"league\\\": \" + str(teamSeasonJson[\"league\"]) + \" ,\\\"season\\\": \" + str(teamSeasonJson[\"season\"]) + \" ,\\\"team\\\": \" + str(teamSeasonJson[\"team\"]) + \"}\"\n",
        "        listOfSeasonLeaguePlayers.append(str(jsonLeagueSeasonPlayer))\n",
        "  todayDatetime = datetime.now().strftime(\"%Y%m%d%H%M\") #formato YYYYMMDDhhmm\n",
        "  saveJson(\"players\", f\"allSeasonLeaguePlayers_{str(todayDatetime)}\", listOfSeasonLeaguePlayers)\n",
        "  return listOfSeasonLeaguePlayers"
      ],
      "metadata": {
        "id": "bT8vABchqdku"
      },
      "execution_count": null,
      "outputs": []
    },
    {
      "cell_type": "code",
      "source": [
        "#lstLeagues = [39]\n",
        "#lstSeasons = [2020] \n",
        "#listOfSeasonLeagueTeamsFiltered = [x for x in listOfSeasonLeagueTeams if json.loads(x)[\"league\"] in lstLeagues and json.loads(x)[\"season\"] in lstSeasons]\n",
        "#jsonSeasonLeaguePlayers = getAllPlayersByTeamLeagueSeason(listOfSeasonLeagueTeams)\n",
        "jsonSeasonLeaguePlayers = importJson(\"players/allSeasonLeaguePlayers.json\")"
      ],
      "metadata": {
        "id": "Q6bPqkVtqdku"
      },
      "execution_count": null,
      "outputs": []
    },
    {
      "cell_type": "code",
      "source": [
        "listPlayersIdUnique = set()\n",
        "for x in jsonSeasonLeaguePlayers:\n",
        "  seasonLeaguePlayerJson = json.loads(x)\n",
        "  listPlayersIdUnique.add(str(seasonLeaguePlayerJson[\"player\"]))\n",
        "#print(len(listPlayersIdUnique))\n",
        "listPlayersIdUnique = list(listPlayersIdUnique)"
      ],
      "metadata": {
        "id": "zwzrSAIs3N3y"
      },
      "execution_count": null,
      "outputs": []
    },
    {
      "cell_type": "markdown",
      "source": [
        "## Player Top Assists\n",
        "\n",
        "**Update Frequency** : This endpoint is updated several times a week.\n",
        "\n",
        "**Recommended Calls** : 1 call per day.\n",
        "\n",
        "https://www.api-football.com/documentation-v3#tag/Players/operation/get-players-topassists"
      ],
      "metadata": {
        "id": "lcyZqc9y3Fw4"
      }
    },
    {
      "cell_type": "code",
      "source": [
        "def getPlayersTopAssistsToFile(leagueId,season):\n",
        "  playersTopAssistsUrl = f\"players/topassists?season={str(season)}&league={str(leagueId)}\"\n",
        "  jsonPlayers = getApiSports(playersTopAssistsUrl)\n",
        "  path = f\"players/league/{str(leagueId)}/{str(season)}\"\n",
        "  filename = f\"{str(leagueId)}_{str(season)}_players_top_assists\"\n",
        "  saveJson(path, filename, jsonPlayers)\n",
        "  return jsonPlayers"
      ],
      "metadata": {
        "id": "78RLsq443Fw-"
      },
      "execution_count": null,
      "outputs": []
    },
    {
      "cell_type": "code",
      "source": [
        "def getAllPlayersTopAssists(listOfSeasonLeague):\n",
        "  listOfSeasonLeaguePlayers = []\n",
        "  for x in listOfSeasonLeague:\n",
        "    teamSeasonJson = json.loads(x)\n",
        "    jsonLeagueSeasonPlayerResp = getPlayersTopAssistsToFile(teamSeasonJson[\"league\"],teamSeasonJson[\"season\"])\n",
        "    for y in jsonLeagueSeasonPlayerResp[\"response\"]:\n",
        "      jsonLeagueSeasonPlayer = \"{\\\"player\\\":\" + str(y[\"player\"][\"id\"]) + \" ,\\\"league\\\": \" + str(teamSeasonJson[\"league\"]) + \" ,\\\"season\\\": \" + str(teamSeasonJson[\"season\"]) + \"}\"\n",
        "      listOfSeasonLeaguePlayers.append(str(jsonLeagueSeasonPlayer))\n",
        "  todayDatetime = datetime.now().strftime(\"%Y%m%d%H%M\") #formato YYYYMMDDhhmm\n",
        "  saveJson(\"players\", f\"allSeasonLeaguePlayersTopAssists_{str(todayDatetime)}\", listOfSeasonLeaguePlayers)\n",
        "  return listOfSeasonLeaguePlayers"
      ],
      "metadata": {
        "id": "r_PsmEro3Fw-"
      },
      "execution_count": null,
      "outputs": []
    },
    {
      "cell_type": "code",
      "source": [
        "#jsonPlayersTopAssists = getAllPlayersTopAssists(listOfSeasonLeague)\n",
        "jsonPlayersTopAssists = importJson(\"players/allSeasonLeaguePlayersTopAssists.json\")"
      ],
      "metadata": {
        "id": "orEOmK-v3Fw-"
      },
      "execution_count": null,
      "outputs": []
    },
    {
      "cell_type": "markdown",
      "source": [
        "## Player Top Scorers\n",
        "\n",
        "**Update Frequency** : This endpoint is updated several times a week.\n",
        "\n",
        "**Recommended Calls** : 1 call per day.\n",
        "\n",
        "https://www.api-football.com/documentation-v3#tag/Players/operation/get-players-topscorers"
      ],
      "metadata": {
        "id": "hfdsh4P_MHaJ"
      }
    },
    {
      "cell_type": "code",
      "source": [
        "def getPlayersTopScoresToFile(leagueId,season):\n",
        "  playersTopScoresUrl = f\"players/topscorers?season={str(season)}&league={str(leagueId)}\"\n",
        "  jsonPlayers = getApiSports(playersTopScoresUrl)\n",
        "  path = f\"players/league/{str(leagueId)}/{str(season)}\"\n",
        "  filename = f\"{str(leagueId)}_{str(season)}_players_top_scores\"\n",
        "  saveJson(path, filename, jsonPlayers)\n",
        "  return jsonPlayers"
      ],
      "metadata": {
        "id": "HQg-fiZVMHaP"
      },
      "execution_count": null,
      "outputs": []
    },
    {
      "cell_type": "code",
      "source": [
        "def getAllPlayersTopScores(listOfSeasonLeague):\n",
        "  listOfSeasonLeaguePlayers = []\n",
        "  for x in listOfSeasonLeague:\n",
        "    teamSeasonJson = json.loads(x)\n",
        "    jsonLeagueSeasonPlayerResp = getPlayersTopScoresToFile(teamSeasonJson[\"league\"],teamSeasonJson[\"season\"])\n",
        "    for y in jsonLeagueSeasonPlayerResp[\"response\"]:\n",
        "      jsonLeagueSeasonPlayer = \"{\\\"player\\\":\" + str(y[\"player\"][\"id\"]) + \" ,\\\"league\\\": \" + str(teamSeasonJson[\"league\"]) + \" ,\\\"season\\\": \" + str(teamSeasonJson[\"season\"]) + \"}\"\n",
        "      listOfSeasonLeaguePlayers.append(str(jsonLeagueSeasonPlayer))\n",
        "  todayDatetime = datetime.now().strftime(\"%Y%m%d%H%M\") #formato YYYYMMDDhhmm\n",
        "  saveJson(\"players\", f\"allSeasonLeaguePlayersTopScores_{(todayDatetime)}\", listOfSeasonLeaguePlayers)\n",
        "  return listOfSeasonLeaguePlayers"
      ],
      "metadata": {
        "id": "mV8qGn5sMHaQ"
      },
      "execution_count": null,
      "outputs": []
    },
    {
      "cell_type": "code",
      "source": [
        "#jsonPlayersTopScores = getAllPlayersTopScores(listOfSeasonLeague)\n",
        "jsonPlayersTopScores = importJson(\"players/allSeasonLeaguePlayersTopScores.json\")"
      ],
      "metadata": {
        "id": "El5sGsbtMHaQ"
      },
      "execution_count": null,
      "outputs": []
    },
    {
      "cell_type": "markdown",
      "source": [
        "## Player Top Yellow Cards\n",
        "\n",
        "**Update Frequency** : This endpoint is updated several times a week.\n",
        "\n",
        "**Recommended Calls** : 1 call per day.\n",
        "\n",
        "https://www.api-football.com/documentation-v3#tag/Players/operation/get-players-topyellowcards"
      ],
      "metadata": {
        "id": "6w39H8m-MubZ"
      }
    },
    {
      "cell_type": "code",
      "source": [
        "def getPlayersTopYellowCardsToFile(leagueId,season):\n",
        "  playersTopYellowCardsUrl = f\"players/topyellowcards?season={str(season)}&league={str(leagueId)}\"\n",
        "  jsonPlayers = getApiSports(playersTopYellowCardsUrl)\n",
        "  path = f\"players/league/{str(leagueId)}/{str(season)}\"\n",
        "  filename = f\"{str(leagueId)}_{str(season)}_players_top_yellow_cards\"\n",
        "  saveJson(path, filename, jsonPlayers)\n",
        "  return jsonPlayers"
      ],
      "metadata": {
        "id": "LVu5Qe5pMuba"
      },
      "execution_count": null,
      "outputs": []
    },
    {
      "cell_type": "code",
      "source": [
        "def getAllPlayersTopYellowCards(listOfSeasonLeague):\n",
        "  listOfSeasonLeaguePlayers = []\n",
        "  for x in listOfSeasonLeague:\n",
        "    teamSeasonJson = json.loads(x)\n",
        "    jsonLeagueSeasonPlayerResp = getPlayersTopYellowCardsToFile(teamSeasonJson[\"league\"],teamSeasonJson[\"season\"])\n",
        "    for y in jsonLeagueSeasonPlayerResp[\"response\"]:\n",
        "      jsonLeagueSeasonPlayer = \"{\\\"player\\\":\" + str(y[\"player\"][\"id\"]) + \" ,\\\"league\\\": \" + str(teamSeasonJson[\"league\"]) + \" ,\\\"season\\\": \" + str(teamSeasonJson[\"season\"]) + \"}\"\n",
        "      listOfSeasonLeaguePlayers.append(str(jsonLeagueSeasonPlayer))\n",
        "  todayDatetime = datetime.now().strftime(\"%Y%m%d%H%M\") #formato YYYYMMDDhhmm\n",
        "  saveJson(\"players\", f\"allSeasonLeaguePlayersTopYellowCards_{(todayDatetime)}\", listOfSeasonLeaguePlayers)\n",
        "  return listOfSeasonLeaguePlayers"
      ],
      "metadata": {
        "id": "PQcnHiqvMuba"
      },
      "execution_count": null,
      "outputs": []
    },
    {
      "cell_type": "code",
      "source": [
        "#jsonPlayersTopYellowCards = getAllPlayersTopYellowCards(listOfSeasonLeague)\n",
        "jsonPlayersTopYellowCards = importJson(\"players/allSeasonLeaguePlayersTopYellowCards.json\")"
      ],
      "metadata": {
        "id": "_E4jOnb0Muba"
      },
      "execution_count": null,
      "outputs": []
    },
    {
      "cell_type": "markdown",
      "source": [
        "## Player Top Ref Cards\n",
        "\n",
        "**Update Frequency** : This endpoint is updated several times a week.\n",
        "\n",
        "**Recommended Calls** : 1 call per day.\n",
        "\n",
        "https://www.api-football.com/documentation-v3#tag/Players/operation/get-players-topredcards"
      ],
      "metadata": {
        "id": "flHrV7HCNFr6"
      }
    },
    {
      "cell_type": "code",
      "source": [
        "def getPlayersTopRedCardsToFile(leagueId,season):\n",
        "  playersTopRedCardsUrl = f\"players/topredcards?season={str(season)}&league={str(leagueId)}\"\n",
        "  jsonPlayers = getApiSports(playersTopRedCardsUrl)\n",
        "  path = f\"players/league/{str(leagueId)}/{str(season)}\"\n",
        "  filename = f\"{str(leagueId)}_{str(season)}_players_top_red_cards\"\n",
        "  saveJson(path, filename, jsonPlayers)\n",
        "  return jsonPlayers"
      ],
      "metadata": {
        "id": "4f7nMS9lNFsA"
      },
      "execution_count": null,
      "outputs": []
    },
    {
      "cell_type": "code",
      "source": [
        "def getAllPlayersTopRedCards(listOfSeasonLeague):\n",
        "  listOfSeasonLeaguePlayers = []\n",
        "  for x in listOfSeasonLeague:\n",
        "    teamSeasonJson = json.loads(x)\n",
        "    jsonLeagueSeasonPlayerResp = getPlayersTopRedCardsToFile(teamSeasonJson[\"league\"],teamSeasonJson[\"season\"])\n",
        "    for y in jsonLeagueSeasonPlayerResp[\"response\"]:\n",
        "      jsonLeagueSeasonPlayer = \"{\\\"player\\\":\" + str(y[\"player\"][\"id\"]) + \" ,\\\"league\\\": \" + str(teamSeasonJson[\"league\"]) + \" ,\\\"season\\\": \" + str(teamSeasonJson[\"season\"]) + \"}\"\n",
        "      listOfSeasonLeaguePlayers.append(str(jsonLeagueSeasonPlayer))\n",
        "  todayDatetime = datetime.now().strftime(\"%Y%m%d%H%M\") #formato YYYYMMDDhhmm\n",
        "  saveJson(\"players\", f\"allSeasonLeaguePlayersTopRedCards_{(todayDatetime)}\", listOfSeasonLeaguePlayers)\n",
        "  return listOfSeasonLeaguePlayers"
      ],
      "metadata": {
        "id": "fZl54v9RNFsA"
      },
      "execution_count": null,
      "outputs": []
    },
    {
      "cell_type": "code",
      "source": [
        "#jsonPlayersTopRedCards = getAllPlayersTopRedCards(listOfSeasonLeague)\n",
        "jsonPlayersTopRedCards = importJson(\"players/allSeasonLeaguePlayersTopRedCards.json\")"
      ],
      "metadata": {
        "id": "TsDxwb2DNFsB"
      },
      "execution_count": null,
      "outputs": []
    },
    {
      "cell_type": "markdown",
      "source": [
        "## Player Sidelined\n",
        "\n",
        "**Update Frequency** : This endpoint is updated several times a week.\n",
        "\n",
        "**Recommended Calls** : 1 call per day.\n",
        "\n",
        "https://www.api-football.com/documentation-v3#tag/Sidelined/operation/get-sidelined"
      ],
      "metadata": {
        "id": "MRjjjCL9gy8T"
      }
    },
    {
      "cell_type": "code",
      "source": [
        "def getPlayerSidelined(player):\n",
        "  playerSidelinedUrl = f\"sidelined?player={str(player)}\"\n",
        "  jsonPlayerSidelined = getApiSports(playerSidelinedUrl)\n",
        "  return jsonPlayerSidelined"
      ],
      "metadata": {
        "id": "UC39clt5gy8Z"
      },
      "execution_count": null,
      "outputs": []
    },
    {
      "cell_type": "code",
      "source": [
        "def saveAllSeasonLeaguePlayerSidelined(jsonPlayers,jsonSeasonLeaguePlayers, playerId):\n",
        "  jsonSeasonLeaguePlayersFiltered = [x for x in jsonSeasonLeaguePlayers if json.loads(x)[\"player\"] == int(playerId)]\n",
        "  for x in jsonSeasonLeaguePlayersFiltered:\n",
        "    teamSeasonJson = json.loads(x)\n",
        "    leagueId = teamSeasonJson[\"league\"]\n",
        "    season = teamSeasonJson[\"season\"]\n",
        "    team = teamSeasonJson[\"team\"]\n",
        "    path = f\"players/league/{str(leagueId)}/{str(season)}/{str(team)}\"\n",
        "    filename = f\"{str(leagueId)}_{str(season)}_{str(team)}_{str(playerId)}_players_sidelined\"\n",
        "    saveJson(path, filename, jsonPlayers)"
      ],
      "metadata": {
        "id": "oiDRI98h_YPz"
      },
      "execution_count": null,
      "outputs": []
    },
    {
      "cell_type": "code",
      "source": [
        "def getAllSeasonLeaguePlayersSidelined(listPlayersIdUnique,jsonSeasonLeaguePlayers):\n",
        "  listPlayersIdUniqueFiltered = [x for x in listPlayersIdUnique if json.loads(x)[\"season\"] == 2022]\n",
        "  for x in listPlayersIdUniqueFiltered:\n",
        "    jsonPlayerSidelined = getPlayerSidelined(x)\n",
        "    saveAllSeasonLeaguePlayerSidelined(jsonPlayerSidelined,jsonSeasonLeaguePlayers, x)"
      ],
      "metadata": {
        "id": "JL2yDlgMgy8Z"
      },
      "execution_count": null,
      "outputs": []
    },
    {
      "cell_type": "code",
      "source": [
        "getAllSeasonLeaguePlayersSidelined(listPlayersIdUnique,jsonSeasonLeaguePlayers)"
      ],
      "metadata": {
        "id": "_rZjG_dYgy8a",
        "colab": {
          "base_uri": "https://localhost:8080/",
          "height": 323
        },
        "outputId": "43d5561e-3ede-4306-e634-d92cae756e86"
      },
      "execution_count": null,
      "outputs": [
        {
          "output_type": "error",
          "ename": "TypeError",
          "evalue": "ignored",
          "traceback": [
            "\u001b[0;31m---------------------------------------------------------------------------\u001b[0m",
            "\u001b[0;31mTypeError\u001b[0m                                 Traceback (most recent call last)",
            "\u001b[0;32m<ipython-input-92-c5523de335d2>\u001b[0m in \u001b[0;36m<module>\u001b[0;34m\u001b[0m\n\u001b[0;32m----> 1\u001b[0;31m \u001b[0mgetAllSeasonLeaguePlayersSidelined\u001b[0m\u001b[0;34m(\u001b[0m\u001b[0mlistPlayersIdUnique\u001b[0m\u001b[0;34m,\u001b[0m\u001b[0mjsonSeasonLeaguePlayers\u001b[0m\u001b[0;34m)\u001b[0m\u001b[0;34m\u001b[0m\u001b[0;34m\u001b[0m\u001b[0m\n\u001b[0m",
            "\u001b[0;32m<ipython-input-91-3e62de2511f2>\u001b[0m in \u001b[0;36mgetAllSeasonLeaguePlayersSidelined\u001b[0;34m(listPlayersIdUnique, jsonSeasonLeaguePlayers)\u001b[0m\n\u001b[1;32m      1\u001b[0m \u001b[0;32mdef\u001b[0m \u001b[0mgetAllSeasonLeaguePlayersSidelined\u001b[0m\u001b[0;34m(\u001b[0m\u001b[0mlistPlayersIdUnique\u001b[0m\u001b[0;34m,\u001b[0m\u001b[0mjsonSeasonLeaguePlayers\u001b[0m\u001b[0;34m)\u001b[0m\u001b[0;34m:\u001b[0m\u001b[0;34m\u001b[0m\u001b[0;34m\u001b[0m\u001b[0m\n\u001b[0;32m----> 2\u001b[0;31m   \u001b[0mlistPlayersIdUniqueFiltered\u001b[0m \u001b[0;34m=\u001b[0m \u001b[0;34m[\u001b[0m\u001b[0mx\u001b[0m \u001b[0;32mfor\u001b[0m \u001b[0mx\u001b[0m \u001b[0;32min\u001b[0m \u001b[0mlistPlayersIdUnique\u001b[0m \u001b[0;32mif\u001b[0m \u001b[0mjson\u001b[0m\u001b[0;34m.\u001b[0m\u001b[0mloads\u001b[0m\u001b[0;34m(\u001b[0m\u001b[0mx\u001b[0m\u001b[0;34m)\u001b[0m\u001b[0;34m[\u001b[0m\u001b[0;34m\"season\"\u001b[0m\u001b[0;34m]\u001b[0m \u001b[0;34m==\u001b[0m \u001b[0;36m2022\u001b[0m\u001b[0;34m]\u001b[0m\u001b[0;34m\u001b[0m\u001b[0;34m\u001b[0m\u001b[0m\n\u001b[0m\u001b[1;32m      3\u001b[0m   \u001b[0;32mfor\u001b[0m \u001b[0mx\u001b[0m \u001b[0;32min\u001b[0m \u001b[0mlistPlayersIdUniqueFiltered\u001b[0m\u001b[0;34m:\u001b[0m\u001b[0;34m\u001b[0m\u001b[0;34m\u001b[0m\u001b[0m\n\u001b[1;32m      4\u001b[0m     \u001b[0mjsonPlayerSidelined\u001b[0m \u001b[0;34m=\u001b[0m \u001b[0mgetPlayerSidelined\u001b[0m\u001b[0;34m(\u001b[0m\u001b[0mx\u001b[0m\u001b[0;34m)\u001b[0m\u001b[0;34m\u001b[0m\u001b[0;34m\u001b[0m\u001b[0m\n\u001b[1;32m      5\u001b[0m     \u001b[0msaveAllSeasonLeaguePlayerSidelined\u001b[0m\u001b[0;34m(\u001b[0m\u001b[0mjsonPlayerSidelined\u001b[0m\u001b[0;34m,\u001b[0m\u001b[0mjsonSeasonLeaguePlayers\u001b[0m\u001b[0;34m,\u001b[0m \u001b[0mx\u001b[0m\u001b[0;34m)\u001b[0m\u001b[0;34m\u001b[0m\u001b[0;34m\u001b[0m\u001b[0m\n",
            "\u001b[0;32m<ipython-input-91-3e62de2511f2>\u001b[0m in \u001b[0;36m<listcomp>\u001b[0;34m(.0)\u001b[0m\n\u001b[1;32m      1\u001b[0m \u001b[0;32mdef\u001b[0m \u001b[0mgetAllSeasonLeaguePlayersSidelined\u001b[0m\u001b[0;34m(\u001b[0m\u001b[0mlistPlayersIdUnique\u001b[0m\u001b[0;34m,\u001b[0m\u001b[0mjsonSeasonLeaguePlayers\u001b[0m\u001b[0;34m)\u001b[0m\u001b[0;34m:\u001b[0m\u001b[0;34m\u001b[0m\u001b[0;34m\u001b[0m\u001b[0m\n\u001b[0;32m----> 2\u001b[0;31m   \u001b[0mlistPlayersIdUniqueFiltered\u001b[0m \u001b[0;34m=\u001b[0m \u001b[0;34m[\u001b[0m\u001b[0mx\u001b[0m \u001b[0;32mfor\u001b[0m \u001b[0mx\u001b[0m \u001b[0;32min\u001b[0m \u001b[0mlistPlayersIdUnique\u001b[0m \u001b[0;32mif\u001b[0m \u001b[0mjson\u001b[0m\u001b[0;34m.\u001b[0m\u001b[0mloads\u001b[0m\u001b[0;34m(\u001b[0m\u001b[0mx\u001b[0m\u001b[0;34m)\u001b[0m\u001b[0;34m[\u001b[0m\u001b[0;34m\"season\"\u001b[0m\u001b[0;34m]\u001b[0m \u001b[0;34m==\u001b[0m \u001b[0;36m2022\u001b[0m\u001b[0;34m]\u001b[0m\u001b[0;34m\u001b[0m\u001b[0;34m\u001b[0m\u001b[0m\n\u001b[0m\u001b[1;32m      3\u001b[0m   \u001b[0;32mfor\u001b[0m \u001b[0mx\u001b[0m \u001b[0;32min\u001b[0m \u001b[0mlistPlayersIdUniqueFiltered\u001b[0m\u001b[0;34m:\u001b[0m\u001b[0;34m\u001b[0m\u001b[0;34m\u001b[0m\u001b[0m\n\u001b[1;32m      4\u001b[0m     \u001b[0mjsonPlayerSidelined\u001b[0m \u001b[0;34m=\u001b[0m \u001b[0mgetPlayerSidelined\u001b[0m\u001b[0;34m(\u001b[0m\u001b[0mx\u001b[0m\u001b[0;34m)\u001b[0m\u001b[0;34m\u001b[0m\u001b[0;34m\u001b[0m\u001b[0m\n\u001b[1;32m      5\u001b[0m     \u001b[0msaveAllSeasonLeaguePlayerSidelined\u001b[0m\u001b[0;34m(\u001b[0m\u001b[0mjsonPlayerSidelined\u001b[0m\u001b[0;34m,\u001b[0m\u001b[0mjsonSeasonLeaguePlayers\u001b[0m\u001b[0;34m,\u001b[0m \u001b[0mx\u001b[0m\u001b[0;34m)\u001b[0m\u001b[0;34m\u001b[0m\u001b[0;34m\u001b[0m\u001b[0m\n",
            "\u001b[0;31mTypeError\u001b[0m: 'int' object is not subscriptable"
          ]
        }
      ]
    },
    {
      "cell_type": "markdown",
      "source": [
        "## Player Trophies\n",
        "\n",
        "**Update Frequency** : This endpoint is updated several times a week.\n",
        "\n",
        "**Recommended Calls** : 1 call per day.\n",
        "\n",
        "https://www.api-football.com/documentation-v3#tag/Sidelined/operation/get-sidelined"
      ],
      "metadata": {
        "id": "_zSTPn6fA_Se"
      }
    },
    {
      "cell_type": "code",
      "source": [
        "def getPlayerTrophies(player):\n",
        "  playerTrophiesUrl = f\"trophies?player={str(player)}\"\n",
        "  jsonPlayerTrophies = getApiSports(playerTrophiesUrl)\n",
        "  return jsonPlayerTrophies"
      ],
      "metadata": {
        "id": "a5M59dtDA_Se"
      },
      "execution_count": null,
      "outputs": []
    },
    {
      "cell_type": "code",
      "source": [
        "def saveAllSeasonLeaguePlayerTrophies(jsonPlayers,jsonSeasonLeaguePlayers, playerId):\n",
        "  jsonSeasonLeaguePlayersFiltered = [x for x in jsonSeasonLeaguePlayers if json.loads(x)[\"player\"] == int(playerId)]\n",
        "  for x in jsonSeasonLeaguePlayersFiltered:\n",
        "    teamSeasonJson = json.loads(x)\n",
        "    leagueId = teamSeasonJson[\"league\"]\n",
        "    season = teamSeasonJson[\"season\"]\n",
        "    team = teamSeasonJson[\"team\"]\n",
        "    path = f\"players/league/{str(leagueId)}/{str(season)}/{str(team)}\"\n",
        "    filename = f\"{str(leagueId)}_{str(season)}_{str(team)}_{str(playerId)}_players_trophies\"\n",
        "    saveJson(path, filename, jsonPlayers)"
      ],
      "metadata": {
        "id": "9zzYpUJkA_Se"
      },
      "execution_count": null,
      "outputs": []
    },
    {
      "cell_type": "code",
      "source": [
        "def getAllSeasonLeaguePlayersTrophies(listPlayersIdUnique,jsonSeasonLeaguePlayers):\n",
        "  for x in listPlayersIdUnique:\n",
        "    jsonPlayerTrophies = getPlayerTrophies(x)\n",
        "    saveAllSeasonLeaguePlayerTrophies(jsonPlayerTrophies,jsonSeasonLeaguePlayers, x)"
      ],
      "metadata": {
        "id": "wnr2qG_UA_Sf"
      },
      "execution_count": null,
      "outputs": []
    },
    {
      "cell_type": "code",
      "source": [
        "getAllSeasonLeaguePlayersTrophies(listPlayersIdUnique,jsonSeasonLeaguePlayers)\n",
        "for x in jsonSeasonLeaguePlayers:\n",
        "  teamSeasonJson = json.loads(x)\n",
        "  leagueId = teamSeasonJson[\"league\"]\n",
        "  season = teamSeasonJson[\"season\"]\n",
        "  team = teamSeasonJson[\"team\"]\n",
        "  player = teamSeasonJson[\"player\"]\n",
        "  path = f\"players/league/{str(leagueId)}/{str(season)}/{str(team)}\"\n",
        "  filename = f\"{str(leagueId)}_{str(season)}_{str(team)}_{str(player)}_players_trophies.json\"\n",
        "  fullPath = f\"{filePath}/{path}/{filename}\"\n",
        "  if season == 2022:\n",
        "  #if os.path.exists(fullPath) == False:\n",
        "    print(player)\n",
        "    listPlayersIdUniqueAux = [x for x in listPlayersIdUnique if x == str(player)]\n",
        "    getAllSeasonLeaguePlayersTrophies(listPlayersIdUniqueAux,jsonSeasonLeaguePlayers)"
      ],
      "metadata": {
        "id": "ZThPeZRUA_Sf"
      },
      "execution_count": null,
      "outputs": []
    },
    {
      "cell_type": "markdown",
      "source": [
        "## Player Transfers\n",
        "\n",
        "**Update Frequency** : This endpoint is updated several times a week.\n",
        "\n",
        "**Recommended Calls** : 1 call per day.\n",
        "\n",
        "https://www.api-football.com/documentation-v3#tag/Transfers/operation/get-transfers"
      ],
      "metadata": {
        "id": "BZxz7sCakvIz"
      }
    },
    {
      "cell_type": "code",
      "source": [
        "def getPlayerTransfers(player):\n",
        "  playerTransfersUrl = f\"transfers?player={str(player)}\"\n",
        "  jsonPlayers = getApiSports(playerTransfersUrl)\n",
        "  return jsonPlayers"
      ],
      "metadata": {
        "id": "XfsTzvE8kvI6"
      },
      "execution_count": null,
      "outputs": []
    },
    {
      "cell_type": "code",
      "source": [
        "def saveAllSeasonLeaguePlayerTransfers(jsonPlayers,jsonSeasonLeaguePlayers, player):\n",
        "  jsonSeasonLeaguePlayersFiltered = [x for x in jsonSeasonLeaguePlayers if json.loads(x)[\"player\"] == int(player)]\n",
        "  for x in jsonSeasonLeaguePlayersFiltered:\n",
        "    teamSeasonJson = json.loads(x)\n",
        "    leagueId = teamSeasonJson[\"league\"]\n",
        "    season = teamSeasonJson[\"season\"]\n",
        "    team = teamSeasonJson[\"team\"]\n",
        "    path = f\"players/league/{str(leagueId)}/{str(season)}/{str(team)}\"\n",
        "    filename = f\"{str(leagueId)}_{str(season)}_{str(team)}_{str(player)}_players_transfers\"\n",
        "    saveJson(path, filename, jsonPlayers)"
      ],
      "metadata": {
        "id": "gK2wX-6HkvI6"
      },
      "execution_count": null,
      "outputs": []
    },
    {
      "cell_type": "code",
      "source": [
        "def getAllSeasonLeaguePlayersTransfers(listPlayersIdUnique,jsonSeasonLeaguePlayers):\n",
        "  for x in listPlayersIdUnique:\n",
        "    jsonPlayerTransfers = getPlayerTransfers(x)\n",
        "    saveAllSeasonLeaguePlayerTransfers(jsonPlayerTransfers,jsonSeasonLeaguePlayers, x)"
      ],
      "metadata": {
        "id": "43IUPg2JkvI6"
      },
      "execution_count": null,
      "outputs": []
    },
    {
      "cell_type": "code",
      "source": [
        "getAllSeasonLeaguePlayersTransfers(listPlayersIdUnique,jsonSeasonLeaguePlayers)\n",
        "for x in jsonSeasonLeaguePlayers:\n",
        "  teamSeasonJson = json.loads(x)\n",
        "  leagueId = teamSeasonJson[\"league\"]\n",
        "  season = teamSeasonJson[\"season\"]\n",
        "  team = teamSeasonJson[\"team\"]\n",
        "  player = teamSeasonJson[\"player\"]\n",
        "  path = f\"players/league/{str(leagueId)}/{str(season)}/{str(team)}\"\n",
        "  filename = f\"{str(leagueId)}_{str(season)}_{str(team)}_{str(player)}_players_transfers.json\"\n",
        "  fullPath = f\"{filePath}/{path}/{filename}\"\n",
        "  if season == 2022:\n",
        "  #if os.path.exists(fullPath) == False:\n",
        "    print(player)\n",
        "    listPlayersIdUniqueAux = [x for x in listPlayersIdUnique if x == str(player)]\n",
        "    getAllSeasonLeaguePlayersTransfers(listPlayersIdUniqueAux,jsonSeasonLeaguePlayers)"
      ],
      "metadata": {
        "id": "fdePDrNhl_fw"
      },
      "execution_count": null,
      "outputs": []
    },
    {
      "cell_type": "markdown",
      "source": [
        "# Odds Pre Match\n",
        "\n",
        "**Update Frequency** : This endpoint is updated every day.\n",
        "\n",
        "**Recommended Calls** : 1 call per day.\n",
        "\n",
        "https://www.api-football.com/documentation-v3#tag/Odds-(Pre-Match)"
      ],
      "metadata": {
        "id": "Zs5UROjM5G8W"
      }
    },
    {
      "cell_type": "markdown",
      "source": [
        "## Odds Mapping\n",
        "\n",
        "**Update Frequency** : This endpoint is updated every day.\n",
        "\n",
        "**Recommended Calls** : 1 call per day.\n",
        "\n",
        "https://www.api-football.com/documentation-v3#tag/Odds-(Pre-Match)/operation/get-odds-mapping"
      ],
      "metadata": {
        "id": "f81Ua0F95eDt"
      }
    },
    {
      "cell_type": "code",
      "source": [
        "def getAllOddsMappingToFile():\n",
        "  page = 1 #first page\n",
        "  totalPages = 1 #by default\n",
        "  listJsonOddsMappingFixture = []\n",
        "  while page <= totalPages:\n",
        "    oddsMappingUrl = f\"odds/mapping?page={page}\"\n",
        "    jsonOddsMapping = getApiSports(oddsMappingUrl)\n",
        "    today = date.today().strftime(\"%Y%m%d\") #formato YYYYMMDD\n",
        "    path = f\"odds/mapping/{str(today)}\"\n",
        "    filename = f\"odds_mapping_{str(today)}_{str(page)}\"\n",
        "    saveJson(path, filename, jsonOddsMapping)\n",
        "    for y in jsonOddsMapping[\"response\"]:\n",
        "      jsonOddsMappingFixture = \"{\\\"fixture\\\":\" + str(y[\"fixture\"][\"id\"]) + \"}\"\n",
        "      listJsonOddsMappingFixture.append(str(jsonOddsMappingFixture))\n",
        "    page += 1\n",
        "    totalPages = jsonOddsMapping[\"paging\"][\"total\"]\n",
        "\n",
        "  saveJson(f\"odds/mapping/{str(today)}\", f\"odds_mapping_{str(today)}_fixtures\", listJsonOddsMappingFixture)\n",
        "  return listJsonOddsMappingFixture"
      ],
      "metadata": {
        "id": "YWQDXy0q5mEb"
      },
      "execution_count": null,
      "outputs": []
    },
    {
      "cell_type": "markdown",
      "source": [
        "## Odds Pre Match\n",
        "\n",
        "We keep a 7-days history (The availability of odds may vary according to the leagues, seasons, fixtures and bookmakers)\n",
        "\n",
        "\n",
        "**Update Frequency** : This endpoint is updated every day.\n",
        "\n",
        "**Recommended Calls** : 1 call per day.\n",
        "\n",
        "https://www.api-football.com/documentation-v3#tag/Odds-(Pre-Match)/operation/get-odds"
      ],
      "metadata": {
        "id": "5Cbh8-ZcB7DF"
      }
    },
    {
      "cell_type": "code",
      "source": [
        "def getOddsByFixtureToFile(fixture):\n",
        "  page = 1 #first page\n",
        "  totalPages = 1 #by default\n",
        "  listJsonOddsMapping = []\n",
        "  while page <= totalPages:\n",
        "    oddsMappingUrl = f\"odds?fixture={str(fixture)}&page={page}\"\n",
        "    jsonOddsMapping = getApiSports(oddsMappingUrl)\n",
        "    today = date.today().strftime(\"%Y%m%d\") #formato YYYYMMDD\n",
        "    path = f\"odds/mapping/{str(today)}/{str(fixture)}\"\n",
        "    filename = f\"odds_mapping_{str(today)}_{str(fixture)}_{str(page)}\"\n",
        "    saveJson(path, filename, jsonOddsMapping)\n",
        "    page += 1\n",
        "    totalPages = jsonOddsMapping[\"paging\"][\"total\"]"
      ],
      "metadata": {
        "id": "Dg3XHErcB7DF"
      },
      "execution_count": null,
      "outputs": []
    },
    {
      "cell_type": "code",
      "source": [
        "def getAllOddsAvailableToFile(listJsonOddsPreMacthMappingFixture):\n",
        "  for x in listJsonOddsPreMacthMappingFixture:\n",
        "    fixture = json.loads(x)\n",
        "    getOddsByFixtureToFile(str(fixture[\"fixture\"]))"
      ],
      "metadata": {
        "id": "ZSE_-7TEB7DG"
      },
      "execution_count": null,
      "outputs": []
    },
    {
      "cell_type": "code",
      "source": [
        "listJsonOddsPreMacthMappingFixture = getAllOddsMappingToFile()\n",
        "getAllOddsAvailableToFile(listJsonOddsPreMacthMappingFixture)"
      ],
      "metadata": {
        "id": "jtV1j3JyDNr6"
      },
      "execution_count": null,
      "outputs": []
    },
    {
      "cell_type": "markdown",
      "source": [
        "## Odds Bookmakers\n",
        "\n",
        "Get all available bookmakers.\n",
        "\n",
        "All bookmakers *id* can be used in endpoint odds as filters.\n",
        "\n",
        "**Update Frequency** : This endpoint is updated several times a week.\n",
        "\n",
        "**Recommended Calls** : 1 call per day.\n",
        "\n",
        "https://www.api-football.com/documentation-v3#tag/Odds-(Pre-Match)/operation/get-bookmakers"
      ],
      "metadata": {
        "id": "NyYMIONCHzdN"
      }
    },
    {
      "cell_type": "code",
      "source": [
        "def getBookmakersToFile():\n",
        "  jsonBookmaker = getApiSports(\"odds/bookmakers\")\n",
        "  today = date.today().strftime(\"%Y%m%d\") #formato YYYYMMDD\n",
        "  path = f\"odds/bookmakers/{str(today)}\"\n",
        "  filename = f\"odds_bookmakers_{str(today)}\"\n",
        "  saveJson(path, filename, jsonBookmaker)\n",
        "  return jsonBookmaker"
      ],
      "metadata": {
        "id": "gM1NEDpkH-Sg"
      },
      "execution_count": null,
      "outputs": []
    },
    {
      "cell_type": "markdown",
      "source": [
        "## Odds Bets\n",
        "\n",
        "Get all available bets for pre-match odds.\n",
        "\n",
        "All bets *id* can be used in endpoint odds as filters, but are not compatible with endpoint odds/live for in-play odds.\n",
        "\n",
        "**Update Frequency** : This endpoint is updated several times a week.\n",
        "\n",
        "**Recommended Calls** : 1 call per day.\n",
        "\n",
        "https://www.api-football.com/documentation-v3#tag/Odds-(Pre-Match)/operation/get-bets"
      ],
      "metadata": {
        "id": "WOr9m3UuIV0-"
      }
    },
    {
      "cell_type": "code",
      "source": [
        "def getBetsToFile():\n",
        "  jsonBookmaker = getApiSports(\"odds/bets\")\n",
        "  today = date.today().strftime(\"%Y%m%d\") #formato YYYYMMDD\n",
        "  path = f\"odds/bets/{str(today)}\"\n",
        "  filename = f\"odds_bets_{str(today)}\"\n",
        "  saveJson(path, filename, jsonBookmaker)\n",
        "  return jsonBookmaker"
      ],
      "metadata": {
        "id": "xPp8mfzSIV0-"
      },
      "execution_count": null,
      "outputs": []
    },
    {
      "cell_type": "code",
      "source": [
        "getBookmakersToFile()\n",
        "getBetsToFile()"
      ],
      "metadata": {
        "id": "l7XudMegiuzp"
      },
      "execution_count": null,
      "outputs": []
    },
    {
      "cell_type": "markdown",
      "source": [
        "# Odds Live\n",
        "\n",
        "**Update Frequency** : This endpoint is updated every day.\n",
        "\n",
        "**Recommended Calls** : 1 call per day.\n",
        "\n",
        "https://www.api-football.com/documentation-v3#tag/Odds-(In-Play)"
      ],
      "metadata": {
        "id": "VaPgJcaKZETQ"
      }
    },
    {
      "cell_type": "markdown",
      "source": [
        "## Odds Live Bets\n",
        "\n",
        "Get all available bets for in-play odds.\n",
        "\n",
        "All bets *id* can be used in endpoint odds/live as filters, but are not compatible with endpoint odds for pre-match odds.\n",
        "\n",
        "**Update Frequency** : This endpoint is updated every 60 seconds.\n",
        "\n",
        "https://www.api-football.com/documentation-v3#tag/Odds-(In-Play)/operation/get-bets"
      ],
      "metadata": {
        "id": "5OCk2XzmZABV"
      }
    },
    {
      "cell_type": "code",
      "source": [
        "def getLiveBetsToFile():\n",
        "  jsonBookmaker = getApiSports(\"odds/live/bets\")\n",
        "  today = date.today().strftime(\"%Y%m%d\") #formato YYYYMMDD\n",
        "  todayDatetime = datetime.now().strftime(\"%Y%m%d%H%M\") #formato YYYYMMDDhhmm\n",
        "  path = f\"odds/live/bets/{str(today)}\"\n",
        "  filename = f\"odds_live_bets_{str(todayDatetime)}\"\n",
        "  saveJson(path, filename, jsonBookmaker)\n",
        "  return jsonBookmaker"
      ],
      "metadata": {
        "id": "QnqGWWrtZABW"
      },
      "execution_count": null,
      "outputs": []
    },
    {
      "cell_type": "code",
      "source": [
        "#getLiveBetsToFile()"
      ],
      "metadata": {
        "id": "PK7gDHneZABW"
      },
      "execution_count": null,
      "outputs": []
    },
    {
      "cell_type": "markdown",
      "source": [
        "## Odds In-play Fixtures\n",
        "\n",
        "This endpoint returns in-play odds for fixtures in progress.\n",
        "\n",
        "**Update Frequency** : This endpoint is updated every 5 seconds.*\n",
        "\n",
        "https://www.api-football.com/documentation-v3#tag/Odds-(In-Play)/operation/get-odds-live"
      ],
      "metadata": {
        "id": "yuHgTwQWblQq"
      }
    },
    {
      "cell_type": "code",
      "source": [
        "def getLiveOddsLeagueToFile(league):\n",
        "  results = 0\n",
        "  firstNoneResult = 0\n",
        "  while(firstNoneResult < 2):\n",
        "    jsonBookmaker = getApiSports(f\"odds/live?league={str(league)}\")\n",
        "    today = date.today().strftime(\"%Y%m%d\") #formato YYYYMMDD\n",
        "    todayDatetime = datetime.now().strftime(\"%Y%m%d%H%M%S\") #formato YYYYMMDDhhmm\n",
        "    path = f\"odds/live/inplay/{str(today)}/{str(league)}\"\n",
        "    filename = f\"odds_live_bets_inplay_{str(todayDatetime)}\"\n",
        "    saveJson(path, filename, jsonBookmaker)\n",
        "    results = jsonBookmaker[\"results\"]\n",
        "    time.sleep(10)\n",
        "    if results == 0:\n",
        "      firstNoneResult += 1\n",
        "    else:\n",
        "      firstNoneResult = 0"
      ],
      "metadata": {
        "id": "Ez4TxMZjblQq"
      },
      "execution_count": null,
      "outputs": []
    },
    {
      "cell_type": "code",
      "source": [
        "#getLiveOddsLeagueToFile(274)"
      ],
      "metadata": {
        "id": "oXskwkBIblQq"
      },
      "execution_count": null,
      "outputs": []
    },
    {
      "cell_type": "code",
      "source": [
        "#from multiprocessing import Process\n",
        "#\n",
        "#processlist = []\n",
        "#\n",
        "#processlist.append(Process(target=getLiveOddsLeagueToFile(274)))\n",
        "#processlist.append(Process(target=getLiveOddsLeagueToFile(61)))\n",
        "#processlist.append(Process(target=getLiveOddsLeagueToFile(39)))\n",
        "#\n",
        "#for t in processlist:\n",
        "#  t.start()\n",
        "#\n",
        "#for t in processlist:\n",
        "#  t.join()"
      ],
      "metadata": {
        "id": "-dY-dJO_dDYP"
      },
      "execution_count": null,
      "outputs": []
    }
  ]
}